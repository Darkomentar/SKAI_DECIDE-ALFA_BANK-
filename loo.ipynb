{
 "cells": [
  {
   "cell_type": "markdown",
   "id": "8b7bef09-9e86-4b19-bbb7-e0ccb7515328",
   "metadata": {
    "execution": {
     "iopub.execute_input": "2024-02-14T22:50:38.627643Z",
     "iopub.status.busy": "2024-02-14T22:50:38.627255Z",
     "iopub.status.idle": "2024-02-14T22:50:39.496067Z",
     "shell.execute_reply": "2024-02-14T22:50:39.495215Z",
     "shell.execute_reply.started": "2024-02-14T22:50:38.627616Z"
    },
    "tags": [],
    "id": "8b7bef09-9e86-4b19-bbb7-e0ccb7515328"
   },
   "source": [
    "# Baseline"
   ]
  },
  {
   "cell_type": "code",
   "execution_count": 53,
   "id": "e0ddb399-18f4-4051-86c0-39f1c623eef5",
   "metadata": {
    "execution": {
     "iopub.execute_input": "2024-02-15T11:34:39.109032Z",
     "iopub.status.busy": "2024-02-15T11:34:39.108624Z",
     "iopub.status.idle": "2024-02-15T11:34:39.955360Z",
     "shell.execute_reply": "2024-02-15T11:34:39.954584Z",
     "shell.execute_reply.started": "2024-02-15T11:34:39.109007Z"
    },
    "tags": [],
    "id": "e0ddb399-18f4-4051-86c0-39f1c623eef5",
    "ExecuteTime": {
     "end_time": "2024-03-09T21:42:13.199607600Z",
     "start_time": "2024-03-09T21:42:13.151991600Z"
    }
   },
   "outputs": [],
   "source": [
    "import numpy as np\n",
    "import pandas as pd\n",
    "from lightgbm import LGBMClassifier\n",
    "from sklearn.metrics import roc_auc_score\n",
    "from sklearn.model_selection import train_test_split, cross_validate, StratifiedGroupKFold, KFold"
   ]
  },
  {
   "cell_type": "code",
   "source": [
    "!pip freeze | grep \"numpy\\|pandas\\|lightgbm\\|scikit-learn\""
   ],
   "metadata": {
    "colab": {
     "base_uri": "https://localhost:8080/"
    },
    "id": "WremRMspEMJA",
    "outputId": "6842e845-8079-4b49-d71e-01a31d47b1e8",
    "ExecuteTime": {
     "end_time": "2024-03-09T21:42:14.872739600Z",
     "start_time": "2024-03-09T21:42:13.156510100Z"
    }
   },
   "id": "WremRMspEMJA",
   "execution_count": 54,
   "outputs": [
    {
     "name": "stdout",
     "output_type": "stream",
     "text": [
      "lightgbm==4.3.0\n",
      "numpy @ file:///C:/b/abs_c1ywpu18ar/croot/numpy_and_numpy_base_1708638681471/work/dist/numpy-1.26.4-cp311-cp311-win_amd64.whl#sha256=5dfd3e04dc1c2826d3f404fdc7f93c097901f5da9b91f4f394f79d4e038ed81d\n",
      "numpydoc @ file:///C:/ci_311/numpydoc_1676453412027/work\n",
      "pandas @ file:///C:/b/abs_fej9bi0gew/croot/pandas_1702318041921/work/dist/pandas-2.1.4-cp311-cp311-win_amd64.whl#sha256=d3609b7cc3e3c4d99ad640a4b8e710ba93ccf967ab8e5245b91033e0200f9286\n",
      "scikit-learn @ file:///C:/b/abs_38k7ridbgr/croot/scikit-learn_1684954723009/work\n"
     ]
    }
   ]
  },
  {
   "cell_type": "markdown",
   "id": "cbcf3aae-5417-42a3-9ed2-818b9aef0f2f",
   "metadata": {
    "id": "cbcf3aae-5417-42a3-9ed2-818b9aef0f2f"
   },
   "source": [
    "## Загрузка данных"
   ]
  },
  {
   "cell_type": "code",
   "execution_count": 55,
   "id": "32c8b1b0-f95e-4cb5-bbc1-c0edb76568c1",
   "metadata": {
    "execution": {
     "iopub.execute_input": "2024-02-15T11:34:44.750723Z",
     "iopub.status.busy": "2024-02-15T11:34:44.750145Z",
     "iopub.status.idle": "2024-02-15T11:34:46.098228Z",
     "shell.execute_reply": "2024-02-15T11:34:46.097494Z",
     "shell.execute_reply.started": "2024-02-15T11:34:44.750694Z"
    },
    "tags": [],
    "id": "32c8b1b0-f95e-4cb5-bbc1-c0edb76568c1",
    "ExecuteTime": {
     "end_time": "2024-03-09T21:42:15.603926200Z",
     "start_time": "2024-03-09T21:42:14.875758300Z"
    }
   },
   "outputs": [],
   "source": [
    "train_df = pd.read_parquet(\"train_data.pqt\")\n",
    "test_df = pd.read_parquet(\"test_data.pqt\")"
   ]
  },
  {
   "cell_type": "code",
   "execution_count": 56,
   "id": "8caad423-0805-4b57-9d02-8ae203be2e65",
   "metadata": {
    "execution": {
     "iopub.execute_input": "2024-02-14T23:09:54.192532Z",
     "iopub.status.busy": "2024-02-14T23:09:54.192285Z",
     "iopub.status.idle": "2024-02-14T23:09:54.214362Z",
     "shell.execute_reply": "2024-02-14T23:09:54.213854Z",
     "shell.execute_reply.started": "2024-02-14T23:09:54.192509Z"
    },
    "tags": [],
    "colab": {
     "base_uri": "https://localhost:8080/",
     "height": 193
    },
    "id": "8caad423-0805-4b57-9d02-8ae203be2e65",
    "outputId": "824bb6af-08be-4561-881b-3c3572e6bcdb",
    "ExecuteTime": {
     "end_time": "2024-03-09T21:42:15.670540100Z",
     "start_time": "2024-03-09T21:42:15.605934300Z"
    }
   },
   "outputs": [
    {
     "data": {
      "text/plain": "    id     date  balance_amt_avg  balance_amt_max  balance_amt_min  \\\n0    0  month_1         0.744845         0.705492         1.287207   \n1    0  month_2         1.049605         0.831916         2.458609   \n2    0  month_3         0.692653         0.740253         0.430042   \n3    1  month_1        -0.081586        -0.091860        -0.114040   \n4    1  month_2        -0.094962        -0.100504        -0.119302   \n5    1  month_3        -0.090605        -0.114275        -0.114119   \n6    2  month_1        -0.154685        -0.186795        -0.122805   \n7    2  month_2        -0.152784        -0.193686        -0.122805   \n8    2  month_3        -0.148737        -0.187003        -0.112416   \n9    3  month_1        -0.156643        -0.204861        -0.125660   \n10   3  month_2        -0.156666        -0.204790        -0.125995   \n11   3  month_3        -0.156522        -0.204718        -0.125759   \n12   4  month_1        -0.138847        -0.182486        -0.125630   \n13   4  month_2        -0.129233        -0.162965        -0.108713   \n14   4  month_3        -0.141798        -0.170262        -0.125672   \n15   5  month_1              NaN              NaN              NaN   \n16   5  month_2              NaN              NaN              NaN   \n17   5  month_3              NaN              NaN              NaN   \n18   6  month_1        -0.012978         0.167324        -0.105271   \n19   6  month_2         0.166101         0.166826         0.102481   \n20   6  month_3        -0.126878        -0.116844        -0.124882   \n21   7  month_1        -0.156437        -0.204698        -0.125176   \n22   7  month_2        -0.156426        -0.204698        -0.125119   \n23   7  month_3        -0.156215        -0.204464        -0.125995   \n24   8  month_1        -0.146542        -0.193037        -0.121922   \n25   8  month_2        -0.143509        -0.187596        -0.125143   \n26   8  month_3        -0.152684        -0.197020        -0.125995   \n27   9  month_1        -0.156411        -0.204687        -0.125084   \n28   9  month_2        -0.156411        -0.204687        -0.125084   \n29   9  month_3        -0.156411        -0.204687        -0.125084   \n\n    balance_amt_day_avg     channel_code       city      city_type  \\\n0              0.748101   channel_code_5    city_23    city_type_0   \n1              1.053805   channel_code_5    city_23    city_type_0   \n2              0.695747   channel_code_5    city_23    city_type_0   \n3             -0.080890   channel_code_2    city_14    city_type_0   \n4             -0.094307   channel_code_2    city_14    city_type_0   \n5             -0.089937   channel_code_2    city_14    city_type_0   \n6             -0.154215  channel_code_12   city_613  city_type_306   \n7             -0.152308  channel_code_12   city_613  city_type_306   \n8             -0.148249  channel_code_12   city_613  city_type_306   \n9             -0.156179  channel_code_14    city_21    city_type_0   \n10            -0.156202  channel_code_14    city_21    city_type_0   \n11            -0.156058  channel_code_14    city_21    city_type_0   \n12            -0.138328   channel_code_8    city_21    city_type_0   \n13            -0.128684   channel_code_8    city_21    city_type_0   \n14            -0.141289   channel_code_8    city_21    city_type_0   \n15                  NaN             None       None           None   \n16                  NaN             None       None           None   \n17                  NaN  channel_code_21       None           None   \n18            -0.012069   channel_code_5    city_25    city_type_0   \n19             0.167564   channel_code_5    city_25    city_type_0   \n20            -0.126322   channel_code_5    city_25    city_type_0   \n21            -0.155972  channel_code_31    city_39    city_type_0   \n22            -0.155961  channel_code_31    city_39    city_type_0   \n23            -0.155954  channel_code_31    city_39    city_type_0   \n24            -0.146047   channel_code_8    city_65    city_type_0   \n25            -0.143004   channel_code_8    city_65    city_type_0   \n26            -0.152208   channel_code_8    city_65    city_type_0   \n27            -0.155947   channel_code_4  city_1081  city_type_639   \n28            -0.155947   channel_code_4  city_1081  city_type_639   \n29            -0.155947   channel_code_4  city_1081  city_type_639   \n\n       index_city_code  ...  cnt_cred_g_oper_3m  cnt_days_cred_g_oper_3m  \\\n0   index_city_code_39  ...            0.951166                 0.568681   \n1   index_city_code_39  ...            0.948812                 0.499716   \n2   index_city_code_39  ...            0.946458                 0.442244   \n3                 None  ...            0.945281                 0.407762   \n4                 None  ...            0.946066                 0.430750   \n5                 None  ...            0.948027                 0.488221   \n6                 None  ...            0.944497                 0.384773   \n7                 None  ...            0.944497                 0.384773   \n8                 None  ...            0.944497                 0.384773   \n9   index_city_code_46  ...            0.944497                 0.384773   \n10  index_city_code_46  ...            0.944497                 0.384773   \n11  index_city_code_46  ...            0.944497                 0.384773   \n12                None  ...            0.957443                 0.672129   \n13                None  ...            0.958620                 0.683624   \n14                None  ...            0.957051                 0.637647   \n15                None  ...                 NaN                      NaN   \n16                None  ...                 NaN                      NaN   \n17   index_city_code_5  ...                 NaN                      NaN   \n18  index_city_code_30  ...            0.944889                 0.396267   \n19  index_city_code_30  ...            0.944497                 0.384773   \n20  index_city_code_30  ...            0.944497                 0.384773   \n21  index_city_code_11  ...            0.944497                 0.384773   \n22  index_city_code_11  ...            0.944497                 0.384773   \n23  index_city_code_11  ...            0.944497                 0.384773   \n24  index_city_code_56  ...            0.944497                 0.384773   \n25  index_city_code_56  ...            0.944497                 0.384773   \n26  index_city_code_56  ...            0.944497                 0.384773   \n27  index_city_code_91  ...                 NaN                      NaN   \n28  index_city_code_91  ...                 NaN                      NaN   \n29  index_city_code_91  ...                 NaN                      NaN   \n\n   sum_deb_h_oper_3m cnt_deb_h_oper_3m  cnt_days_deb_h_oper_3m  \\\n0           0.897565          0.553624                0.774354   \n1           0.785029          0.551904                0.696576   \n2           0.877050          0.551044                0.663243   \n3           0.369318          0.567093                0.785465   \n4           0.067275          0.559928                0.696576   \n5           0.043221          0.560788                0.707687   \n6          -0.165588          0.546889                0.407687   \n7          -0.165588          0.546889                0.407687   \n8          -0.165588          0.546889                0.407687   \n9          -0.165588          0.546889                0.407687   \n10         -0.165588          0.546889                0.407687   \n11         -0.165588          0.546889                0.407687   \n12         -0.078233          0.558209                0.707687   \n13         -0.078363          0.557779                0.641020   \n14         -0.078297          0.556919                0.641020   \n15         -0.165588               NaN                     NaN   \n16         -0.165588               NaN                     NaN   \n17         -0.165588               NaN                     NaN   \n18          0.941555          0.567952                0.929909   \n19          0.944451          0.570961                0.974354   \n20          0.879821          0.568239                0.952131   \n21         -0.165588          0.546889                0.407687   \n22         -0.165588          0.546889                0.407687   \n23         -0.165588          0.546889                0.407687   \n24         -0.158619          0.548609                0.518798   \n25         -0.164109          0.547749                0.463243   \n26         -0.164504          0.547462                0.441020   \n27         -0.165588               NaN                     NaN   \n28         -0.165588               NaN                     NaN   \n29         -0.165588               NaN                     NaN   \n\n    sum_cred_h_oper_3m  cnt_cred_h_oper_3m  cnt_days_cred_h_oper_3m  \\\n0             0.936506            0.295984                 0.967947   \n1             0.990157            0.298873                 0.945969   \n2             0.810065            0.294829                 0.956958   \n3            -0.184002            0.253523                 0.462452   \n4            -0.183854            0.255545                 0.495419   \n5            -0.167905            0.259011                 0.605309   \n6            -0.178674            0.252657                 0.440474   \n7            -0.177854            0.252657                 0.440474   \n8            -0.176302            0.252368                 0.429485   \n9            -0.201123            0.250924                 0.374540   \n10           -0.201123            0.250924                 0.374540   \n11           -0.201123            0.250924                 0.374540   \n12           -0.178408            0.252946                 0.440474   \n13           -0.176923            0.253234                 0.451463   \n14           -0.172533            0.253523                 0.462452   \n15           -0.201123                 NaN                      NaN   \n16           -0.201123                 NaN                      NaN   \n17           -0.201123                 NaN                      NaN   \n18            0.154326            0.252657                 0.440474   \n19            0.032227            0.252368                 0.429485   \n20           -0.033173            0.251790                 0.407507   \n21           -0.200301            0.251212                 0.385529   \n22           -0.200301            0.251212                 0.385529   \n23           -0.200301            0.251212                 0.385529   \n24           -0.163534            0.274032                 0.539375   \n25           -0.176061            0.256412                 0.484430   \n26           -0.177143            0.253523                 0.440474   \n27           -0.201123                 NaN                      NaN   \n28           -0.201123                 NaN                      NaN   \n29           -0.201123                 NaN                      NaN   \n\n   start_cluster end_cluster  \n0         {α, γ}     {other}  \n1         {α, γ}     {other}  \n2         {α, γ}     {other}  \n3        {other}     {other}  \n4        {other}     {other}  \n5        {other}     {other}  \n6            {α}         {α}  \n7            {α}         {α}  \n8            {α}         {α}  \n9            {α}         {α}  \n10           {α}      {α, γ}  \n11           {α}      {α, γ}  \n12           {α}         {α}  \n13           {α}         {α}  \n14           {α}         {α}  \n15            {}         {α}  \n16            {}         {α}  \n17           {α}         {α}  \n18        {α, γ}      {α, γ}  \n19        {α, γ}      {α, γ}  \n20        {α, γ}      {α, γ}  \n21           {α}         {α}  \n22           {α}         {α}  \n23           {α}         {α}  \n24        {α, γ}         {α}  \n25        {α, γ}         {α}  \n26        {α, γ}         {α}  \n27           {α}         {α}  \n28           {α}         {α}  \n29           {α}          {}  \n\n[30 rows x 93 columns]",
      "text/html": "<div>\n<style scoped>\n    .dataframe tbody tr th:only-of-type {\n        vertical-align: middle;\n    }\n\n    .dataframe tbody tr th {\n        vertical-align: top;\n    }\n\n    .dataframe thead th {\n        text-align: right;\n    }\n</style>\n<table border=\"1\" class=\"dataframe\">\n  <thead>\n    <tr style=\"text-align: right;\">\n      <th></th>\n      <th>id</th>\n      <th>date</th>\n      <th>balance_amt_avg</th>\n      <th>balance_amt_max</th>\n      <th>balance_amt_min</th>\n      <th>balance_amt_day_avg</th>\n      <th>channel_code</th>\n      <th>city</th>\n      <th>city_type</th>\n      <th>index_city_code</th>\n      <th>...</th>\n      <th>cnt_cred_g_oper_3m</th>\n      <th>cnt_days_cred_g_oper_3m</th>\n      <th>sum_deb_h_oper_3m</th>\n      <th>cnt_deb_h_oper_3m</th>\n      <th>cnt_days_deb_h_oper_3m</th>\n      <th>sum_cred_h_oper_3m</th>\n      <th>cnt_cred_h_oper_3m</th>\n      <th>cnt_days_cred_h_oper_3m</th>\n      <th>start_cluster</th>\n      <th>end_cluster</th>\n    </tr>\n  </thead>\n  <tbody>\n    <tr>\n      <th>0</th>\n      <td>0</td>\n      <td>month_1</td>\n      <td>0.744845</td>\n      <td>0.705492</td>\n      <td>1.287207</td>\n      <td>0.748101</td>\n      <td>channel_code_5</td>\n      <td>city_23</td>\n      <td>city_type_0</td>\n      <td>index_city_code_39</td>\n      <td>...</td>\n      <td>0.951166</td>\n      <td>0.568681</td>\n      <td>0.897565</td>\n      <td>0.553624</td>\n      <td>0.774354</td>\n      <td>0.936506</td>\n      <td>0.295984</td>\n      <td>0.967947</td>\n      <td>{α, γ}</td>\n      <td>{other}</td>\n    </tr>\n    <tr>\n      <th>1</th>\n      <td>0</td>\n      <td>month_2</td>\n      <td>1.049605</td>\n      <td>0.831916</td>\n      <td>2.458609</td>\n      <td>1.053805</td>\n      <td>channel_code_5</td>\n      <td>city_23</td>\n      <td>city_type_0</td>\n      <td>index_city_code_39</td>\n      <td>...</td>\n      <td>0.948812</td>\n      <td>0.499716</td>\n      <td>0.785029</td>\n      <td>0.551904</td>\n      <td>0.696576</td>\n      <td>0.990157</td>\n      <td>0.298873</td>\n      <td>0.945969</td>\n      <td>{α, γ}</td>\n      <td>{other}</td>\n    </tr>\n    <tr>\n      <th>2</th>\n      <td>0</td>\n      <td>month_3</td>\n      <td>0.692653</td>\n      <td>0.740253</td>\n      <td>0.430042</td>\n      <td>0.695747</td>\n      <td>channel_code_5</td>\n      <td>city_23</td>\n      <td>city_type_0</td>\n      <td>index_city_code_39</td>\n      <td>...</td>\n      <td>0.946458</td>\n      <td>0.442244</td>\n      <td>0.877050</td>\n      <td>0.551044</td>\n      <td>0.663243</td>\n      <td>0.810065</td>\n      <td>0.294829</td>\n      <td>0.956958</td>\n      <td>{α, γ}</td>\n      <td>{other}</td>\n    </tr>\n    <tr>\n      <th>3</th>\n      <td>1</td>\n      <td>month_1</td>\n      <td>-0.081586</td>\n      <td>-0.091860</td>\n      <td>-0.114040</td>\n      <td>-0.080890</td>\n      <td>channel_code_2</td>\n      <td>city_14</td>\n      <td>city_type_0</td>\n      <td>None</td>\n      <td>...</td>\n      <td>0.945281</td>\n      <td>0.407762</td>\n      <td>0.369318</td>\n      <td>0.567093</td>\n      <td>0.785465</td>\n      <td>-0.184002</td>\n      <td>0.253523</td>\n      <td>0.462452</td>\n      <td>{other}</td>\n      <td>{other}</td>\n    </tr>\n    <tr>\n      <th>4</th>\n      <td>1</td>\n      <td>month_2</td>\n      <td>-0.094962</td>\n      <td>-0.100504</td>\n      <td>-0.119302</td>\n      <td>-0.094307</td>\n      <td>channel_code_2</td>\n      <td>city_14</td>\n      <td>city_type_0</td>\n      <td>None</td>\n      <td>...</td>\n      <td>0.946066</td>\n      <td>0.430750</td>\n      <td>0.067275</td>\n      <td>0.559928</td>\n      <td>0.696576</td>\n      <td>-0.183854</td>\n      <td>0.255545</td>\n      <td>0.495419</td>\n      <td>{other}</td>\n      <td>{other}</td>\n    </tr>\n    <tr>\n      <th>5</th>\n      <td>1</td>\n      <td>month_3</td>\n      <td>-0.090605</td>\n      <td>-0.114275</td>\n      <td>-0.114119</td>\n      <td>-0.089937</td>\n      <td>channel_code_2</td>\n      <td>city_14</td>\n      <td>city_type_0</td>\n      <td>None</td>\n      <td>...</td>\n      <td>0.948027</td>\n      <td>0.488221</td>\n      <td>0.043221</td>\n      <td>0.560788</td>\n      <td>0.707687</td>\n      <td>-0.167905</td>\n      <td>0.259011</td>\n      <td>0.605309</td>\n      <td>{other}</td>\n      <td>{other}</td>\n    </tr>\n    <tr>\n      <th>6</th>\n      <td>2</td>\n      <td>month_1</td>\n      <td>-0.154685</td>\n      <td>-0.186795</td>\n      <td>-0.122805</td>\n      <td>-0.154215</td>\n      <td>channel_code_12</td>\n      <td>city_613</td>\n      <td>city_type_306</td>\n      <td>None</td>\n      <td>...</td>\n      <td>0.944497</td>\n      <td>0.384773</td>\n      <td>-0.165588</td>\n      <td>0.546889</td>\n      <td>0.407687</td>\n      <td>-0.178674</td>\n      <td>0.252657</td>\n      <td>0.440474</td>\n      <td>{α}</td>\n      <td>{α}</td>\n    </tr>\n    <tr>\n      <th>7</th>\n      <td>2</td>\n      <td>month_2</td>\n      <td>-0.152784</td>\n      <td>-0.193686</td>\n      <td>-0.122805</td>\n      <td>-0.152308</td>\n      <td>channel_code_12</td>\n      <td>city_613</td>\n      <td>city_type_306</td>\n      <td>None</td>\n      <td>...</td>\n      <td>0.944497</td>\n      <td>0.384773</td>\n      <td>-0.165588</td>\n      <td>0.546889</td>\n      <td>0.407687</td>\n      <td>-0.177854</td>\n      <td>0.252657</td>\n      <td>0.440474</td>\n      <td>{α}</td>\n      <td>{α}</td>\n    </tr>\n    <tr>\n      <th>8</th>\n      <td>2</td>\n      <td>month_3</td>\n      <td>-0.148737</td>\n      <td>-0.187003</td>\n      <td>-0.112416</td>\n      <td>-0.148249</td>\n      <td>channel_code_12</td>\n      <td>city_613</td>\n      <td>city_type_306</td>\n      <td>None</td>\n      <td>...</td>\n      <td>0.944497</td>\n      <td>0.384773</td>\n      <td>-0.165588</td>\n      <td>0.546889</td>\n      <td>0.407687</td>\n      <td>-0.176302</td>\n      <td>0.252368</td>\n      <td>0.429485</td>\n      <td>{α}</td>\n      <td>{α}</td>\n    </tr>\n    <tr>\n      <th>9</th>\n      <td>3</td>\n      <td>month_1</td>\n      <td>-0.156643</td>\n      <td>-0.204861</td>\n      <td>-0.125660</td>\n      <td>-0.156179</td>\n      <td>channel_code_14</td>\n      <td>city_21</td>\n      <td>city_type_0</td>\n      <td>index_city_code_46</td>\n      <td>...</td>\n      <td>0.944497</td>\n      <td>0.384773</td>\n      <td>-0.165588</td>\n      <td>0.546889</td>\n      <td>0.407687</td>\n      <td>-0.201123</td>\n      <td>0.250924</td>\n      <td>0.374540</td>\n      <td>{α}</td>\n      <td>{α}</td>\n    </tr>\n    <tr>\n      <th>10</th>\n      <td>3</td>\n      <td>month_2</td>\n      <td>-0.156666</td>\n      <td>-0.204790</td>\n      <td>-0.125995</td>\n      <td>-0.156202</td>\n      <td>channel_code_14</td>\n      <td>city_21</td>\n      <td>city_type_0</td>\n      <td>index_city_code_46</td>\n      <td>...</td>\n      <td>0.944497</td>\n      <td>0.384773</td>\n      <td>-0.165588</td>\n      <td>0.546889</td>\n      <td>0.407687</td>\n      <td>-0.201123</td>\n      <td>0.250924</td>\n      <td>0.374540</td>\n      <td>{α}</td>\n      <td>{α, γ}</td>\n    </tr>\n    <tr>\n      <th>11</th>\n      <td>3</td>\n      <td>month_3</td>\n      <td>-0.156522</td>\n      <td>-0.204718</td>\n      <td>-0.125759</td>\n      <td>-0.156058</td>\n      <td>channel_code_14</td>\n      <td>city_21</td>\n      <td>city_type_0</td>\n      <td>index_city_code_46</td>\n      <td>...</td>\n      <td>0.944497</td>\n      <td>0.384773</td>\n      <td>-0.165588</td>\n      <td>0.546889</td>\n      <td>0.407687</td>\n      <td>-0.201123</td>\n      <td>0.250924</td>\n      <td>0.374540</td>\n      <td>{α}</td>\n      <td>{α, γ}</td>\n    </tr>\n    <tr>\n      <th>12</th>\n      <td>4</td>\n      <td>month_1</td>\n      <td>-0.138847</td>\n      <td>-0.182486</td>\n      <td>-0.125630</td>\n      <td>-0.138328</td>\n      <td>channel_code_8</td>\n      <td>city_21</td>\n      <td>city_type_0</td>\n      <td>None</td>\n      <td>...</td>\n      <td>0.957443</td>\n      <td>0.672129</td>\n      <td>-0.078233</td>\n      <td>0.558209</td>\n      <td>0.707687</td>\n      <td>-0.178408</td>\n      <td>0.252946</td>\n      <td>0.440474</td>\n      <td>{α}</td>\n      <td>{α}</td>\n    </tr>\n    <tr>\n      <th>13</th>\n      <td>4</td>\n      <td>month_2</td>\n      <td>-0.129233</td>\n      <td>-0.162965</td>\n      <td>-0.108713</td>\n      <td>-0.128684</td>\n      <td>channel_code_8</td>\n      <td>city_21</td>\n      <td>city_type_0</td>\n      <td>None</td>\n      <td>...</td>\n      <td>0.958620</td>\n      <td>0.683624</td>\n      <td>-0.078363</td>\n      <td>0.557779</td>\n      <td>0.641020</td>\n      <td>-0.176923</td>\n      <td>0.253234</td>\n      <td>0.451463</td>\n      <td>{α}</td>\n      <td>{α}</td>\n    </tr>\n    <tr>\n      <th>14</th>\n      <td>4</td>\n      <td>month_3</td>\n      <td>-0.141798</td>\n      <td>-0.170262</td>\n      <td>-0.125672</td>\n      <td>-0.141289</td>\n      <td>channel_code_8</td>\n      <td>city_21</td>\n      <td>city_type_0</td>\n      <td>None</td>\n      <td>...</td>\n      <td>0.957051</td>\n      <td>0.637647</td>\n      <td>-0.078297</td>\n      <td>0.556919</td>\n      <td>0.641020</td>\n      <td>-0.172533</td>\n      <td>0.253523</td>\n      <td>0.462452</td>\n      <td>{α}</td>\n      <td>{α}</td>\n    </tr>\n    <tr>\n      <th>15</th>\n      <td>5</td>\n      <td>month_1</td>\n      <td>NaN</td>\n      <td>NaN</td>\n      <td>NaN</td>\n      <td>NaN</td>\n      <td>None</td>\n      <td>None</td>\n      <td>None</td>\n      <td>None</td>\n      <td>...</td>\n      <td>NaN</td>\n      <td>NaN</td>\n      <td>-0.165588</td>\n      <td>NaN</td>\n      <td>NaN</td>\n      <td>-0.201123</td>\n      <td>NaN</td>\n      <td>NaN</td>\n      <td>{}</td>\n      <td>{α}</td>\n    </tr>\n    <tr>\n      <th>16</th>\n      <td>5</td>\n      <td>month_2</td>\n      <td>NaN</td>\n      <td>NaN</td>\n      <td>NaN</td>\n      <td>NaN</td>\n      <td>None</td>\n      <td>None</td>\n      <td>None</td>\n      <td>None</td>\n      <td>...</td>\n      <td>NaN</td>\n      <td>NaN</td>\n      <td>-0.165588</td>\n      <td>NaN</td>\n      <td>NaN</td>\n      <td>-0.201123</td>\n      <td>NaN</td>\n      <td>NaN</td>\n      <td>{}</td>\n      <td>{α}</td>\n    </tr>\n    <tr>\n      <th>17</th>\n      <td>5</td>\n      <td>month_3</td>\n      <td>NaN</td>\n      <td>NaN</td>\n      <td>NaN</td>\n      <td>NaN</td>\n      <td>channel_code_21</td>\n      <td>None</td>\n      <td>None</td>\n      <td>index_city_code_5</td>\n      <td>...</td>\n      <td>NaN</td>\n      <td>NaN</td>\n      <td>-0.165588</td>\n      <td>NaN</td>\n      <td>NaN</td>\n      <td>-0.201123</td>\n      <td>NaN</td>\n      <td>NaN</td>\n      <td>{α}</td>\n      <td>{α}</td>\n    </tr>\n    <tr>\n      <th>18</th>\n      <td>6</td>\n      <td>month_1</td>\n      <td>-0.012978</td>\n      <td>0.167324</td>\n      <td>-0.105271</td>\n      <td>-0.012069</td>\n      <td>channel_code_5</td>\n      <td>city_25</td>\n      <td>city_type_0</td>\n      <td>index_city_code_30</td>\n      <td>...</td>\n      <td>0.944889</td>\n      <td>0.396267</td>\n      <td>0.941555</td>\n      <td>0.567952</td>\n      <td>0.929909</td>\n      <td>0.154326</td>\n      <td>0.252657</td>\n      <td>0.440474</td>\n      <td>{α, γ}</td>\n      <td>{α, γ}</td>\n    </tr>\n    <tr>\n      <th>19</th>\n      <td>6</td>\n      <td>month_2</td>\n      <td>0.166101</td>\n      <td>0.166826</td>\n      <td>0.102481</td>\n      <td>0.167564</td>\n      <td>channel_code_5</td>\n      <td>city_25</td>\n      <td>city_type_0</td>\n      <td>index_city_code_30</td>\n      <td>...</td>\n      <td>0.944497</td>\n      <td>0.384773</td>\n      <td>0.944451</td>\n      <td>0.570961</td>\n      <td>0.974354</td>\n      <td>0.032227</td>\n      <td>0.252368</td>\n      <td>0.429485</td>\n      <td>{α, γ}</td>\n      <td>{α, γ}</td>\n    </tr>\n    <tr>\n      <th>20</th>\n      <td>6</td>\n      <td>month_3</td>\n      <td>-0.126878</td>\n      <td>-0.116844</td>\n      <td>-0.124882</td>\n      <td>-0.126322</td>\n      <td>channel_code_5</td>\n      <td>city_25</td>\n      <td>city_type_0</td>\n      <td>index_city_code_30</td>\n      <td>...</td>\n      <td>0.944497</td>\n      <td>0.384773</td>\n      <td>0.879821</td>\n      <td>0.568239</td>\n      <td>0.952131</td>\n      <td>-0.033173</td>\n      <td>0.251790</td>\n      <td>0.407507</td>\n      <td>{α, γ}</td>\n      <td>{α, γ}</td>\n    </tr>\n    <tr>\n      <th>21</th>\n      <td>7</td>\n      <td>month_1</td>\n      <td>-0.156437</td>\n      <td>-0.204698</td>\n      <td>-0.125176</td>\n      <td>-0.155972</td>\n      <td>channel_code_31</td>\n      <td>city_39</td>\n      <td>city_type_0</td>\n      <td>index_city_code_11</td>\n      <td>...</td>\n      <td>0.944497</td>\n      <td>0.384773</td>\n      <td>-0.165588</td>\n      <td>0.546889</td>\n      <td>0.407687</td>\n      <td>-0.200301</td>\n      <td>0.251212</td>\n      <td>0.385529</td>\n      <td>{α}</td>\n      <td>{α}</td>\n    </tr>\n    <tr>\n      <th>22</th>\n      <td>7</td>\n      <td>month_2</td>\n      <td>-0.156426</td>\n      <td>-0.204698</td>\n      <td>-0.125119</td>\n      <td>-0.155961</td>\n      <td>channel_code_31</td>\n      <td>city_39</td>\n      <td>city_type_0</td>\n      <td>index_city_code_11</td>\n      <td>...</td>\n      <td>0.944497</td>\n      <td>0.384773</td>\n      <td>-0.165588</td>\n      <td>0.546889</td>\n      <td>0.407687</td>\n      <td>-0.200301</td>\n      <td>0.251212</td>\n      <td>0.385529</td>\n      <td>{α}</td>\n      <td>{α}</td>\n    </tr>\n    <tr>\n      <th>23</th>\n      <td>7</td>\n      <td>month_3</td>\n      <td>-0.156215</td>\n      <td>-0.204464</td>\n      <td>-0.125995</td>\n      <td>-0.155954</td>\n      <td>channel_code_31</td>\n      <td>city_39</td>\n      <td>city_type_0</td>\n      <td>index_city_code_11</td>\n      <td>...</td>\n      <td>0.944497</td>\n      <td>0.384773</td>\n      <td>-0.165588</td>\n      <td>0.546889</td>\n      <td>0.407687</td>\n      <td>-0.200301</td>\n      <td>0.251212</td>\n      <td>0.385529</td>\n      <td>{α}</td>\n      <td>{α}</td>\n    </tr>\n    <tr>\n      <th>24</th>\n      <td>8</td>\n      <td>month_1</td>\n      <td>-0.146542</td>\n      <td>-0.193037</td>\n      <td>-0.121922</td>\n      <td>-0.146047</td>\n      <td>channel_code_8</td>\n      <td>city_65</td>\n      <td>city_type_0</td>\n      <td>index_city_code_56</td>\n      <td>...</td>\n      <td>0.944497</td>\n      <td>0.384773</td>\n      <td>-0.158619</td>\n      <td>0.548609</td>\n      <td>0.518798</td>\n      <td>-0.163534</td>\n      <td>0.274032</td>\n      <td>0.539375</td>\n      <td>{α, γ}</td>\n      <td>{α}</td>\n    </tr>\n    <tr>\n      <th>25</th>\n      <td>8</td>\n      <td>month_2</td>\n      <td>-0.143509</td>\n      <td>-0.187596</td>\n      <td>-0.125143</td>\n      <td>-0.143004</td>\n      <td>channel_code_8</td>\n      <td>city_65</td>\n      <td>city_type_0</td>\n      <td>index_city_code_56</td>\n      <td>...</td>\n      <td>0.944497</td>\n      <td>0.384773</td>\n      <td>-0.164109</td>\n      <td>0.547749</td>\n      <td>0.463243</td>\n      <td>-0.176061</td>\n      <td>0.256412</td>\n      <td>0.484430</td>\n      <td>{α, γ}</td>\n      <td>{α}</td>\n    </tr>\n    <tr>\n      <th>26</th>\n      <td>8</td>\n      <td>month_3</td>\n      <td>-0.152684</td>\n      <td>-0.197020</td>\n      <td>-0.125995</td>\n      <td>-0.152208</td>\n      <td>channel_code_8</td>\n      <td>city_65</td>\n      <td>city_type_0</td>\n      <td>index_city_code_56</td>\n      <td>...</td>\n      <td>0.944497</td>\n      <td>0.384773</td>\n      <td>-0.164504</td>\n      <td>0.547462</td>\n      <td>0.441020</td>\n      <td>-0.177143</td>\n      <td>0.253523</td>\n      <td>0.440474</td>\n      <td>{α, γ}</td>\n      <td>{α}</td>\n    </tr>\n    <tr>\n      <th>27</th>\n      <td>9</td>\n      <td>month_1</td>\n      <td>-0.156411</td>\n      <td>-0.204687</td>\n      <td>-0.125084</td>\n      <td>-0.155947</td>\n      <td>channel_code_4</td>\n      <td>city_1081</td>\n      <td>city_type_639</td>\n      <td>index_city_code_91</td>\n      <td>...</td>\n      <td>NaN</td>\n      <td>NaN</td>\n      <td>-0.165588</td>\n      <td>NaN</td>\n      <td>NaN</td>\n      <td>-0.201123</td>\n      <td>NaN</td>\n      <td>NaN</td>\n      <td>{α}</td>\n      <td>{α}</td>\n    </tr>\n    <tr>\n      <th>28</th>\n      <td>9</td>\n      <td>month_2</td>\n      <td>-0.156411</td>\n      <td>-0.204687</td>\n      <td>-0.125084</td>\n      <td>-0.155947</td>\n      <td>channel_code_4</td>\n      <td>city_1081</td>\n      <td>city_type_639</td>\n      <td>index_city_code_91</td>\n      <td>...</td>\n      <td>NaN</td>\n      <td>NaN</td>\n      <td>-0.165588</td>\n      <td>NaN</td>\n      <td>NaN</td>\n      <td>-0.201123</td>\n      <td>NaN</td>\n      <td>NaN</td>\n      <td>{α}</td>\n      <td>{α}</td>\n    </tr>\n    <tr>\n      <th>29</th>\n      <td>9</td>\n      <td>month_3</td>\n      <td>-0.156411</td>\n      <td>-0.204687</td>\n      <td>-0.125084</td>\n      <td>-0.155947</td>\n      <td>channel_code_4</td>\n      <td>city_1081</td>\n      <td>city_type_639</td>\n      <td>index_city_code_91</td>\n      <td>...</td>\n      <td>NaN</td>\n      <td>NaN</td>\n      <td>-0.165588</td>\n      <td>NaN</td>\n      <td>NaN</td>\n      <td>-0.201123</td>\n      <td>NaN</td>\n      <td>NaN</td>\n      <td>{α}</td>\n      <td>{}</td>\n    </tr>\n  </tbody>\n</table>\n<p>30 rows × 93 columns</p>\n</div>"
     },
     "execution_count": 56,
     "metadata": {},
     "output_type": "execute_result"
    }
   ],
   "source": [
    "train_df.head(30)"
   ]
  },
  {
   "cell_type": "code",
   "execution_count": 57,
   "id": "97d5280f-33cc-4966-a1cd-c80c7022d1aa",
   "metadata": {
    "execution": {
     "iopub.execute_input": "2024-02-14T23:09:54.216152Z",
     "iopub.status.busy": "2024-02-14T23:09:54.215898Z",
     "iopub.status.idle": "2024-02-14T23:09:54.231329Z",
     "shell.execute_reply": "2024-02-14T23:09:54.230822Z",
     "shell.execute_reply.started": "2024-02-14T23:09:54.216133Z"
    },
    "tags": [],
    "colab": {
     "base_uri": "https://localhost:8080/",
     "height": 193
    },
    "id": "97d5280f-33cc-4966-a1cd-c80c7022d1aa",
    "outputId": "03a6b076-ac01-45fe-cfbb-492ab97a1755",
    "ExecuteTime": {
     "end_time": "2024-03-09T21:42:15.672045300Z",
     "start_time": "2024-03-09T21:42:15.658003700Z"
    }
   },
   "outputs": [
    {
     "data": {
      "text/plain": "       id     date  balance_amt_avg  balance_amt_max  balance_amt_min  \\\n0  200000  month_4        -0.096224         0.335496        -0.125995   \n1  200000  month_5        -0.024255        -0.059806        -0.124295   \n2  200000  month_6         0.045988         0.049418        -0.125995   \n\n   balance_amt_day_avg     channel_code     city    city_type index_city_code  \\\n0            -0.095578  channel_code_12  city_14  city_type_0            None   \n1            -0.023381  channel_code_12  city_14  city_type_0            None   \n2             0.047079  channel_code_12  city_14  city_type_0            None   \n\n   ...  sum_cred_g_oper_3m  cnt_cred_g_oper_3m cnt_days_cred_g_oper_3m  \\\n0  ...            0.010952            0.946066                0.407762   \n1  ...            0.006812            0.945281                0.396267   \n2  ...            0.006812            0.945281                0.396267   \n\n  sum_deb_h_oper_3m  cnt_deb_h_oper_3m  cnt_days_deb_h_oper_3m  \\\n0         -0.153950           0.548895                0.541020   \n1         -0.150505           0.549468                0.552131   \n2         -0.152800           0.549468                0.541020   \n\n   sum_cred_h_oper_3m  cnt_cred_h_oper_3m cnt_days_cred_h_oper_3m  \\\n0            0.031742            0.257278                0.561353   \n1            0.237817            0.264211                0.715199   \n2            0.387566            0.268543                0.836079   \n\n  start_cluster  \n0           {α}  \n1           {α}  \n2          None  \n\n[3 rows x 92 columns]",
      "text/html": "<div>\n<style scoped>\n    .dataframe tbody tr th:only-of-type {\n        vertical-align: middle;\n    }\n\n    .dataframe tbody tr th {\n        vertical-align: top;\n    }\n\n    .dataframe thead th {\n        text-align: right;\n    }\n</style>\n<table border=\"1\" class=\"dataframe\">\n  <thead>\n    <tr style=\"text-align: right;\">\n      <th></th>\n      <th>id</th>\n      <th>date</th>\n      <th>balance_amt_avg</th>\n      <th>balance_amt_max</th>\n      <th>balance_amt_min</th>\n      <th>balance_amt_day_avg</th>\n      <th>channel_code</th>\n      <th>city</th>\n      <th>city_type</th>\n      <th>index_city_code</th>\n      <th>...</th>\n      <th>sum_cred_g_oper_3m</th>\n      <th>cnt_cred_g_oper_3m</th>\n      <th>cnt_days_cred_g_oper_3m</th>\n      <th>sum_deb_h_oper_3m</th>\n      <th>cnt_deb_h_oper_3m</th>\n      <th>cnt_days_deb_h_oper_3m</th>\n      <th>sum_cred_h_oper_3m</th>\n      <th>cnt_cred_h_oper_3m</th>\n      <th>cnt_days_cred_h_oper_3m</th>\n      <th>start_cluster</th>\n    </tr>\n  </thead>\n  <tbody>\n    <tr>\n      <th>0</th>\n      <td>200000</td>\n      <td>month_4</td>\n      <td>-0.096224</td>\n      <td>0.335496</td>\n      <td>-0.125995</td>\n      <td>-0.095578</td>\n      <td>channel_code_12</td>\n      <td>city_14</td>\n      <td>city_type_0</td>\n      <td>None</td>\n      <td>...</td>\n      <td>0.010952</td>\n      <td>0.946066</td>\n      <td>0.407762</td>\n      <td>-0.153950</td>\n      <td>0.548895</td>\n      <td>0.541020</td>\n      <td>0.031742</td>\n      <td>0.257278</td>\n      <td>0.561353</td>\n      <td>{α}</td>\n    </tr>\n    <tr>\n      <th>1</th>\n      <td>200000</td>\n      <td>month_5</td>\n      <td>-0.024255</td>\n      <td>-0.059806</td>\n      <td>-0.124295</td>\n      <td>-0.023381</td>\n      <td>channel_code_12</td>\n      <td>city_14</td>\n      <td>city_type_0</td>\n      <td>None</td>\n      <td>...</td>\n      <td>0.006812</td>\n      <td>0.945281</td>\n      <td>0.396267</td>\n      <td>-0.150505</td>\n      <td>0.549468</td>\n      <td>0.552131</td>\n      <td>0.237817</td>\n      <td>0.264211</td>\n      <td>0.715199</td>\n      <td>{α}</td>\n    </tr>\n    <tr>\n      <th>2</th>\n      <td>200000</td>\n      <td>month_6</td>\n      <td>0.045988</td>\n      <td>0.049418</td>\n      <td>-0.125995</td>\n      <td>0.047079</td>\n      <td>channel_code_12</td>\n      <td>city_14</td>\n      <td>city_type_0</td>\n      <td>None</td>\n      <td>...</td>\n      <td>0.006812</td>\n      <td>0.945281</td>\n      <td>0.396267</td>\n      <td>-0.152800</td>\n      <td>0.549468</td>\n      <td>0.541020</td>\n      <td>0.387566</td>\n      <td>0.268543</td>\n      <td>0.836079</td>\n      <td>None</td>\n    </tr>\n  </tbody>\n</table>\n<p>3 rows × 92 columns</p>\n</div>"
     },
     "execution_count": 57,
     "metadata": {},
     "output_type": "execute_result"
    }
   ],
   "source": [
    "test_df.head(3)"
   ]
  },
  {
   "cell_type": "code",
   "execution_count": 58,
   "id": "05a1edfe-fcca-4945-a00d-c0b1627d1718",
   "metadata": {
    "execution": {
     "iopub.execute_input": "2024-02-14T23:09:54.232295Z",
     "iopub.status.busy": "2024-02-14T23:09:54.232055Z",
     "iopub.status.idle": "2024-02-14T23:09:54.256480Z",
     "shell.execute_reply": "2024-02-14T23:09:54.255966Z",
     "shell.execute_reply.started": "2024-02-14T23:09:54.232276Z"
    },
    "tags": [],
    "id": "05a1edfe-fcca-4945-a00d-c0b1627d1718",
    "ExecuteTime": {
     "end_time": "2024-03-09T21:42:15.672045300Z",
     "start_time": "2024-03-09T21:42:15.658508700Z"
    }
   },
   "outputs": [],
   "source": [
    "cat_cols = [\n",
    "    \"channel_code\", \"city\", \"city_type\",\n",
    "    \"okved\", \"segment\", \"start_cluster\",\n",
    "    \"index_city_code\", \"ogrn_month\", \"ogrn_year\",\n",
    "]"
   ]
  },
  {
   "cell_type": "markdown",
   "source": [
    "Обозначение категориальных признаков"
   ],
   "metadata": {
    "id": "DCN4DEaNqjr2"
   },
   "id": "DCN4DEaNqjr2"
  },
  {
   "cell_type": "code",
   "execution_count": 59,
   "id": "198295f2-78b7-41a0-b0fe-490de972beaf",
   "metadata": {
    "execution": {
     "iopub.execute_input": "2024-02-14T23:09:54.257396Z",
     "iopub.status.busy": "2024-02-14T23:09:54.257163Z",
     "iopub.status.idle": "2024-02-14T23:09:54.777051Z",
     "shell.execute_reply": "2024-02-14T23:09:54.776272Z",
     "shell.execute_reply.started": "2024-02-14T23:09:54.257375Z"
    },
    "tags": [],
    "id": "198295f2-78b7-41a0-b0fe-490de972beaf",
    "ExecuteTime": {
     "end_time": "2024-03-09T21:42:16.228733600Z",
     "start_time": "2024-03-09T21:42:15.663028100Z"
    }
   },
   "outputs": [],
   "source": [
    "train_df[cat_cols] = train_df[cat_cols].astype(\"category\")\n",
    "test_df[cat_cols] = test_df[cat_cols].astype(\"category\")"
   ]
  },
  {
   "cell_type": "markdown",
   "source": [
    "Создаем выборки для валидации и обучения"
   ],
   "metadata": {
    "id": "50RNyCgPtl6n"
   },
   "id": "50RNyCgPtl6n"
  },
  {
   "cell_type": "code",
   "execution_count": 60,
   "id": "2c0edf39-d716-48ca-a66c-936871ee5918",
   "metadata": {
    "execution": {
     "iopub.execute_input": "2024-02-14T23:09:54.944960Z",
     "iopub.status.busy": "2024-02-14T23:09:54.944681Z",
     "iopub.status.idle": "2024-02-14T23:09:55.555948Z",
     "shell.execute_reply": "2024-02-14T23:09:55.554535Z",
     "shell.execute_reply.started": "2024-02-14T23:09:54.944939Z"
    },
    "tags": [],
    "id": "2c0edf39-d716-48ca-a66c-936871ee5918",
    "ExecuteTime": {
     "end_time": "2024-03-09T21:42:17.021692200Z",
     "start_time": "2024-03-09T21:42:16.231733600Z"
    }
   },
   "outputs": [],
   "source": [
    "X = train_df.drop([\"id\", \"date\", \"end_cluster\"], axis=1)\n",
    "y = train_df[\"end_cluster\"]\n",
    "\n",
    "x_train, x_val, y_train, y_val = train_test_split(X, y,\n",
    "                                                  test_size=0.2,\n",
    "                                                  random_state=42)"
   ]
  },
  {
   "cell_type": "markdown",
   "source": [
    "## Обучение модели"
   ],
   "metadata": {
    "id": "vkyL_GYgNMCL"
   },
   "id": "vkyL_GYgNMCL"
  },
  {
   "cell_type": "markdown",
   "source": [
    "В качестве базовой модели возьмем LGBM обучим на всех признаках"
   ],
   "metadata": {
    "id": "nsiLHOP3tyLs"
   },
   "id": "nsiLHOP3tyLs"
  },
  {
   "cell_type": "code",
   "execution_count": 60,
   "outputs": [],
   "source": [],
   "metadata": {
    "collapsed": false,
    "ExecuteTime": {
     "end_time": "2024-03-09T21:42:17.024100300Z",
     "start_time": "2024-03-09T21:42:17.022587400Z"
    }
   }
  },
  {
   "cell_type": "code",
   "execution_count": 61,
   "outputs": [],
   "source": [
    "params = {\n",
    "    \"boosting_type\": \"gbdt\",\n",
    "    \"objective\": \"multiclass\",\n",
    "    \"metric\": \"auc_mu\",\n",
    "    \"max_depth\": 10,\n",
    "    \"num_leaves\": 20,\n",
    "    \"min_data_in_leaf\": 10,\n",
    "    \"learning_rate\": 0.01,\n",
    "    \"feature_fraction\": 0.7,\n",
    "    \"bagging_fraction\": 0.7,\n",
    "    \"bagging_freq\": 5,\n",
    "    \"n_estimators\": 100,\n",
    "    \"min_data_in_bin\": 1,\n",
    "    \"max_bin\": 64,\n",
    "    \"verbose\": -1,\n",
    "    \"random_state\": 42,\n",
    "    \"n_jobs\": -1\n",
    "}\n",
    "\n"
   ],
   "metadata": {
    "collapsed": false,
    "ExecuteTime": {
     "end_time": "2024-03-09T21:42:17.030773200Z",
     "start_time": "2024-03-09T21:42:17.028261500Z"
    }
   }
  },
  {
   "cell_type": "code",
   "execution_count": 62,
   "id": "6badd1b7-0155-4c85-859d-f075800ede6e",
   "metadata": {
    "execution": {
     "iopub.execute_input": "2024-02-14T23:09:55.557916Z",
     "iopub.status.busy": "2024-02-14T23:09:55.557642Z",
     "iopub.status.idle": "2024-02-14T23:09:55.562656Z",
     "shell.execute_reply": "2024-02-14T23:09:55.562029Z",
     "shell.execute_reply.started": "2024-02-14T23:09:55.557878Z"
    },
    "tags": [],
    "id": "6badd1b7-0155-4c85-859d-f075800ede6e",
    "colab": {
     "base_uri": "https://localhost:8080/",
     "height": 74
    },
    "outputId": "9e5fde0f-da28-40a8-984a-f7bf1a94c82d",
    "ExecuteTime": {
     "end_time": "2024-03-09T21:42:17.041120900Z",
     "start_time": "2024-03-09T21:42:17.033288600Z"
    }
   },
   "outputs": [],
   "source": [
    "from sklearn.model_selection import StratifiedKFold, LeavePOut, LeaveOneOut, ShuffleSplit\n",
    "\n",
    "model = LGBMClassifier(**params)\n",
    "\n",
    "\n",
    "# cv = KFold(n_splits=3)\n",
    "cv = ShuffleSplit(n_splits=3, test_size=0.3, random_state=42)\n",
    "auc_scores = []  # Список для хранения показателей AUC для каждого разбиения\n"
   ]
  },
  {
   "cell_type": "code",
   "execution_count": 63,
   "outputs": [],
   "source": [
    "def weighted_roc_auc(y_true, y_pred, labels, weights_dict):\n",
    "    unnorm_weights = np.array([weights_dict[label] for label in labels])\n",
    "    weights = unnorm_weights / unnorm_weights.sum()\n",
    "    classes_roc_auc = roc_auc_score(y_true, y_pred, labels=labels,\n",
    "                                    multi_class=\"ovr\", average=None)\n",
    "    return sum(weights * classes_roc_auc)"
   ],
   "metadata": {
    "collapsed": false,
    "ExecuteTime": {
     "end_time": "2024-03-09T21:42:17.045853700Z",
     "start_time": "2024-03-09T21:42:17.044846200Z"
    }
   }
  },
  {
   "cell_type": "code",
   "execution_count": 64,
   "outputs": [],
   "source": [
    "cluster_weights = pd.read_excel(\"cluster_weights.xlsx\").set_index(\"cluster\")\n",
    "weights_dict = cluster_weights[\"unnorm_weight\"].to_dict()"
   ],
   "metadata": {
    "collapsed": false,
    "ExecuteTime": {
     "end_time": "2024-03-09T21:42:17.064890200Z",
     "start_time": "2024-03-09T21:42:17.048854400Z"
    }
   }
  },
  {
   "cell_type": "code",
   "execution_count": 77,
   "outputs": [
    {
     "name": "stdout",
     "output_type": "stream",
     "text": [
      "[     0      1      2 ... 599996 599997 599998]\n",
      "[     0      1      2 ... 599992 599997 599999]\n",
      "[     0      1      2 ... 599996 599998 599999]\n",
      "[     0      3      4 ... 599997 599998 599999]\n",
      "[     1      2      4 ... 599997 599998 599999]\n",
      "[     0      1      2 ... 599997 599998 599999]\n",
      "[     2      3      4 ... 599996 599997 599998]\n",
      "[     0      1      2 ... 599997 599998 599999]\n",
      "[     0      1      2 ... 599994 599996 599999]\n",
      "[     0      1      3 ... 599997 599998 599999]\n",
      "[     0      1      3 ... 599997 599998 599999]\n",
      "[     0      1      2 ... 599996 599997 599999]\n",
      "[     0      1      2 ... 599994 599997 599998]\n",
      "[     0      2      3 ... 599996 599998 599999]\n",
      "[     1      2      3 ... 599997 599998 599999]\n",
      "[     0      1      2 ... 599997 599998 599999]\n",
      "[     2      3      4 ... 599997 599998 599999]\n",
      "[     0      1      3 ... 599996 599997 599998]\n",
      "[     0      1      2 ... 599997 599998 599999]\n",
      "[     0      1      2 ... 599994 599996 599999]\n"
     ]
    }
   ],
   "source": [
    "\n",
    "from sklearn.model_selection import RepeatedStratifiedKFold\n",
    "\n",
    "cv = RepeatedStratifiedKFold(n_splits=5, n_repeats=4, random_state=12)\n",
    "for train_idx, val_idx in cv.split(X, y):\n",
    "    print(train_idx)"
   ],
   "metadata": {
    "collapsed": false,
    "ExecuteTime": {
     "end_time": "2024-03-10T14:37:21.664133500Z",
     "start_time": "2024-03-10T14:37:18.332057600Z"
    }
   }
  },
  {
   "cell_type": "code",
   "execution_count": 65,
   "outputs": [
    {
     "name": "stdout",
     "output_type": "stream",
     "text": [
      "Средний взвешенный ROC AUC: 0.907 ± 0.008\n"
     ]
    }
   ],
   "source": [
    "\n",
    "for train_idx, val_idx in cv.split(X, y):\n",
    "    x_train, x_val = X.iloc[train_idx], X.iloc[val_idx]\n",
    "    y_train, y_val = y.iloc[train_idx], y.iloc[val_idx]\n",
    "\n",
    "    model.fit(x_train, y_train)\n",
    "\n",
    "    y_pred_proba = model.predict_proba(x_val)\n",
    "\n",
    "    auc_score = weighted_roc_auc(y_val, y_pred_proba, model.classes_, weights_dict)\n",
    "    auc_scores.append(auc_score)\n",
    "\n",
    "mean_auc = np.mean(auc_scores)\n",
    "std_auc = np.std(auc_scores)\n",
    "print(f\"Средний взвешенный ROC AUC: {mean_auc:.3f} ± {std_auc:.3f}\")"
   ],
   "metadata": {
    "collapsed": false,
    "ExecuteTime": {
     "end_time": "2024-03-09T21:44:54.950774900Z",
     "start_time": "2024-03-09T21:42:17.066896400Z"
    }
   }
  }
 ],
 "metadata": {
  "kernelspec": {
   "display_name": "python3",
   "language": "python",
   "name": "python3"
  },
  "language_info": {
   "codemirror_mode": {
    "name": "ipython",
    "version": 3
   },
   "file_extension": ".py",
   "mimetype": "text/x-python",
   "name": "python",
   "nbconvert_exporter": "python",
   "pygments_lexer": "ipython3",
   "version": "3.7.12"
  },
  "colab": {
   "provenance": []
  }
 },
 "nbformat": 4,
 "nbformat_minor": 5
}
