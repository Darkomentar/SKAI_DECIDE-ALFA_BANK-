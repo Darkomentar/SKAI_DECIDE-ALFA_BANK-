{
 "cells": [
  {
   "cell_type": "markdown",
   "id": "8b7bef09-9e86-4b19-bbb7-e0ccb7515328",
   "metadata": {
    "execution": {
     "iopub.execute_input": "2024-02-14T22:50:38.627643Z",
     "iopub.status.busy": "2024-02-14T22:50:38.627255Z",
     "iopub.status.idle": "2024-02-14T22:50:39.496067Z",
     "shell.execute_reply": "2024-02-14T22:50:39.495215Z",
     "shell.execute_reply.started": "2024-02-14T22:50:38.627616Z"
    },
    "tags": [],
    "id": "8b7bef09-9e86-4b19-bbb7-e0ccb7515328"
   },
   "source": [
    "# Baseline"
   ]
  },
  {
   "cell_type": "code",
   "execution_count": 219,
   "id": "e0ddb399-18f4-4051-86c0-39f1c623eef5",
   "metadata": {
    "execution": {
     "iopub.execute_input": "2024-02-15T11:34:39.109032Z",
     "iopub.status.busy": "2024-02-15T11:34:39.108624Z",
     "iopub.status.idle": "2024-02-15T11:34:39.955360Z",
     "shell.execute_reply": "2024-02-15T11:34:39.954584Z",
     "shell.execute_reply.started": "2024-02-15T11:34:39.109007Z"
    },
    "tags": [],
    "id": "e0ddb399-18f4-4051-86c0-39f1c623eef5",
    "ExecuteTime": {
     "end_time": "2024-03-13T16:42:50.385941300Z",
     "start_time": "2024-03-13T16:42:50.357413200Z"
    }
   },
   "outputs": [],
   "source": [
    "import numpy as np\n",
    "import pandas as pd\n",
    "from sklearn.metrics import roc_auc_score\n",
    "from sklearn.model_selection import train_test_split, cross_validate, StratifiedGroupKFold, KFold"
   ]
  },
  {
   "cell_type": "markdown",
   "id": "cbcf3aae-5417-42a3-9ed2-818b9aef0f2f",
   "metadata": {
    "id": "cbcf3aae-5417-42a3-9ed2-818b9aef0f2f"
   },
   "source": [
    "## Загрузка данных"
   ]
  },
  {
   "cell_type": "code",
   "execution_count": 220,
   "id": "32c8b1b0-f95e-4cb5-bbc1-c0edb76568c1",
   "metadata": {
    "execution": {
     "iopub.execute_input": "2024-02-15T11:34:44.750723Z",
     "iopub.status.busy": "2024-02-15T11:34:44.750145Z",
     "iopub.status.idle": "2024-02-15T11:34:46.098228Z",
     "shell.execute_reply": "2024-02-15T11:34:46.097494Z",
     "shell.execute_reply.started": "2024-02-15T11:34:44.750694Z"
    },
    "tags": [],
    "id": "32c8b1b0-f95e-4cb5-bbc1-c0edb76568c1",
    "ExecuteTime": {
     "end_time": "2024-03-13T16:42:50.941242700Z",
     "start_time": "2024-03-13T16:42:50.363419500Z"
    }
   },
   "outputs": [],
   "source": [
    "train_df = pd.read_parquet(\"train_data.pqt\")\n",
    "test_df = pd.read_parquet(\"test_data.pqt\")"
   ]
  },
  {
   "cell_type": "code",
   "execution_count": 221,
   "outputs": [
    {
     "name": "stdout",
     "output_type": "stream",
     "text": [
      "Количество пропусков в 'city', когда 'city_type' имеет данные: 0\n",
      "Количество пропусков в 'city_type', когда 'city' имеет данные: 0\n",
      "Количество пропусков в 'city', когда 'index_city_code' имеет данные: 32836\n",
      "Количество пропусков в 'index_city_code', когда 'city' имеет данные: 279716\n"
     ]
    }
   ],
   "source": [
    "\n",
    "missing_city_when_city_type = train_df[train_df['city_type'].notna() & train_df['city'].isna()]\n",
    "missing_city_type_when_city = train_df[train_df['city'].notna() & train_df['city_type'].isna()]\n",
    "\n",
    "missing_city_when_city_type2 = train_df[train_df['index_city_code'].notna() & train_df['city'].isna()]\n",
    "missing_city_type_when_city2 = train_df[train_df['city'].notna() & train_df['index_city_code'].isna()]\n",
    "\n",
    "\n",
    "print(f\"Количество пропусков в 'city', когда 'city_type' имеет данные: {missing_city_when_city_type.shape[0]}\")\n",
    "print(f\"Количество пропусков в 'city_type', когда 'city' имеет данные: {missing_city_type_when_city.shape[0]}\")\n",
    "\n",
    "print(f\"Количество пропусков в 'city', когда 'index_city_code' имеет данные: {missing_city_when_city_type2.shape[0]}\")\n",
    "print(f\"Количество пропусков в 'index_city_code', когда 'city' имеет данные: {missing_city_type_when_city2.shape[0]}\")\n"
   ],
   "metadata": {
    "collapsed": false,
    "ExecuteTime": {
     "end_time": "2024-03-13T16:42:51.134954100Z",
     "start_time": "2024-03-13T16:42:50.943245Z"
    }
   }
  },
  {
   "cell_type": "code",
   "execution_count": 222,
   "outputs": [],
   "source": [
    "# # Заполняем пропущенные значения в 'city' значениями из 'index_city_code', если 'city' пустой\n",
    "# train_df.loc[train_df['city'].isna(), 'city'] = train_df['index_city_code']\n"
   ],
   "metadata": {
    "collapsed": false,
    "ExecuteTime": {
     "end_time": "2024-03-13T16:42:51.137806400Z",
     "start_time": "2024-03-13T16:42:51.136296Z"
    }
   }
  },
  {
   "cell_type": "code",
   "execution_count": 223,
   "outputs": [],
   "source": [
    "# missing_city_when_city_type2 = train_df[train_df['index_city_code'].notna() & train_df['city'].isna()]\n",
    "# missing_city_type_when_city2 = train_df[train_df['city'].notna() & train_df['index_city_code'].isna()]\n",
    "#\n",
    "#\n",
    "# print(f\"Количество пропусков в 'city', когда 'index_city_code' имеет данные: {missing_city_when_city_type2.shape[0]}\")\n",
    "# print(f\"Количество пропусков в 'index_city_code', когда 'city' имеет данные: {missing_city_type_when_city2.shape[0]}\")"
   ],
   "metadata": {
    "collapsed": false,
    "ExecuteTime": {
     "end_time": "2024-03-13T16:42:51.141495100Z",
     "start_time": "2024-03-13T16:42:51.139983200Z"
    }
   }
  },
  {
   "cell_type": "code",
   "execution_count": 223,
   "outputs": [],
   "source": [
    "\n"
   ],
   "metadata": {
    "collapsed": false,
    "ExecuteTime": {
     "end_time": "2024-03-13T16:42:51.146952500Z",
     "start_time": "2024-03-13T16:42:51.143695400Z"
    }
   }
  },
  {
   "cell_type": "code",
   "execution_count": 223,
   "outputs": [],
   "source": [],
   "metadata": {
    "collapsed": false,
    "ExecuteTime": {
     "end_time": "2024-03-13T16:42:51.148464200Z",
     "start_time": "2024-03-13T16:42:51.147456900Z"
    }
   }
  },
  {
   "cell_type": "code",
   "execution_count": 224,
   "outputs": [],
   "source": [
    "city_counts = train_df['city'].value_counts().to_dict()\n",
    "#city_counts\n",
    "train_df[\"city_other\"] = train_df[\"city\"].apply(lambda x: x  if city_counts.get(x, 0) > 10  else \"other\")\n",
    "train_df.drop(\"city\", axis=1, inplace=True)\n",
    "train_df.city_other.value_counts()\n",
    "\n",
    "city_to_index_mapping = train_df.dropna(subset=['city_other', 'index_city_code']).drop_duplicates('index_city_code').set_index('index_city_code')['city_other'].to_dict()\n",
    "\n",
    "\n",
    "for idx, row in train_df.iterrows():\n",
    "    if pd.isna(row['city_other']):\n",
    "        index_city_code = row['index_city_code']\n",
    "\n",
    "        if index_city_code in city_to_index_mapping:\n",
    "            train_df.at[idx, 'city_other'] = city_to_index_mapping[index_city_code]\n",
    "\n",
    "        elif not pd.isna(index_city_code):\n",
    "            train_df.at[idx, 'city_other'] = index_city_code\n",
    "\n",
    "train_df[\"city\"] = train_df[\"city_other\"]\n",
    "train_df.drop(\"city_other\", axis=1, inplace=True)"
   ],
   "metadata": {
    "collapsed": false,
    "ExecuteTime": {
     "end_time": "2024-03-13T16:43:12.529349Z",
     "start_time": "2024-03-13T16:42:51.152463700Z"
    }
   }
  },
  {
   "cell_type": "code",
   "execution_count": 225,
   "outputs": [
    {
     "data": {
      "text/plain": "            id     date  balance_amt_avg  balance_amt_max  balance_amt_min  \\\n0            0  month_1         0.744845         0.705492         1.287207   \n1            0  month_2         1.049605         0.831916         2.458609   \n2            0  month_3         0.692653         0.740253         0.430042   \n3            1  month_1        -0.081586        -0.091860        -0.114040   \n4            1  month_2        -0.094962        -0.100504        -0.119302   \n...        ...      ...              ...              ...              ...   \n599995  199998  month_2        -0.156775        -0.204960        -0.125987   \n599996  199998  month_3        -0.156776        -0.204960        -0.125995   \n599997  199999  month_1        -0.156712        -0.204913        -0.125831   \n599998  199999  month_2        -0.156712        -0.204913        -0.125831   \n599999  199999  month_3        -0.156712        -0.204913        -0.125831   \n\n        balance_amt_day_avg     channel_code    city_type  \\\n0                  0.748101   channel_code_5  city_type_0   \n1                  1.053805   channel_code_5  city_type_0   \n2                  0.695747   channel_code_5  city_type_0   \n3                 -0.080890   channel_code_2  city_type_0   \n4                 -0.094307   channel_code_2  city_type_0   \n...                     ...              ...          ...   \n599995            -0.156311   channel_code_9  city_type_0   \n599996            -0.156312   channel_code_9  city_type_0   \n599997            -0.156248  channel_code_14  city_type_0   \n599998            -0.156248  channel_code_14  city_type_0   \n599999            -0.156248  channel_code_14  city_type_0   \n\n            index_city_code  ogrn_days_end_month  ...  \\\n0        index_city_code_39            -0.488553  ...   \n1        index_city_code_39            -0.488553  ...   \n2        index_city_code_39            -0.488553  ...   \n3                      None             0.324343  ...   \n4                      None             0.324343  ...   \n...                     ...                  ...  ...   \n599995                 None             0.324343  ...   \n599996                 None             0.324343  ...   \n599997  index_city_code_195             1.717879  ...   \n599998  index_city_code_195             1.717879  ...   \n599999  index_city_code_195             1.717879  ...   \n\n        cnt_days_cred_g_oper_3m sum_deb_h_oper_3m cnt_deb_h_oper_3m  \\\n0                      0.568681          0.897565          0.553624   \n1                      0.499716          0.785029          0.551904   \n2                      0.442244          0.877050          0.551044   \n3                      0.407762          0.369318          0.567093   \n4                      0.430750          0.067275          0.559928   \n...                         ...               ...               ...   \n599995                      NaN         -0.165588               NaN   \n599996                 0.384773         -0.165588          0.546889   \n599997                      NaN         -0.165588               NaN   \n599998                      NaN         -0.165588               NaN   \n599999                      NaN         -0.165588               NaN   \n\n        cnt_days_deb_h_oper_3m  sum_cred_h_oper_3m  cnt_cred_h_oper_3m  \\\n0                     0.774354            0.936506            0.295984   \n1                     0.696576            0.990157            0.298873   \n2                     0.663243            0.810065            0.294829   \n3                     0.785465           -0.184002            0.253523   \n4                     0.696576           -0.183854            0.255545   \n...                        ...                 ...                 ...   \n599995                     NaN           -0.201123                 NaN   \n599996                0.407687           -0.201123            0.250924   \n599997                     NaN           -0.201123                 NaN   \n599998                     NaN           -0.201123                 NaN   \n599999                     NaN           -0.201123                 NaN   \n\n        cnt_days_cred_h_oper_3m start_cluster end_cluster       city  \n0                      0.967947        {α, γ}     {other}    city_23  \n1                      0.945969        {α, γ}     {other}    city_23  \n2                      0.956958        {α, γ}     {other}    city_23  \n3                      0.462452       {other}     {other}    city_14  \n4                      0.495419       {other}     {other}    city_14  \n...                         ...           ...         ...        ...  \n599995                      NaN            {}          {}    city_14  \n599996                 0.374540           {α}          {}    city_14  \n599997                      NaN            {}          {}  city_1876  \n599998                      NaN            {}          {}  city_1876  \n599999                      NaN           {α}          {}  city_1876  \n\n[600000 rows x 93 columns]",
      "text/html": "<div>\n<style scoped>\n    .dataframe tbody tr th:only-of-type {\n        vertical-align: middle;\n    }\n\n    .dataframe tbody tr th {\n        vertical-align: top;\n    }\n\n    .dataframe thead th {\n        text-align: right;\n    }\n</style>\n<table border=\"1\" class=\"dataframe\">\n  <thead>\n    <tr style=\"text-align: right;\">\n      <th></th>\n      <th>id</th>\n      <th>date</th>\n      <th>balance_amt_avg</th>\n      <th>balance_amt_max</th>\n      <th>balance_amt_min</th>\n      <th>balance_amt_day_avg</th>\n      <th>channel_code</th>\n      <th>city_type</th>\n      <th>index_city_code</th>\n      <th>ogrn_days_end_month</th>\n      <th>...</th>\n      <th>cnt_days_cred_g_oper_3m</th>\n      <th>sum_deb_h_oper_3m</th>\n      <th>cnt_deb_h_oper_3m</th>\n      <th>cnt_days_deb_h_oper_3m</th>\n      <th>sum_cred_h_oper_3m</th>\n      <th>cnt_cred_h_oper_3m</th>\n      <th>cnt_days_cred_h_oper_3m</th>\n      <th>start_cluster</th>\n      <th>end_cluster</th>\n      <th>city</th>\n    </tr>\n  </thead>\n  <tbody>\n    <tr>\n      <th>0</th>\n      <td>0</td>\n      <td>month_1</td>\n      <td>0.744845</td>\n      <td>0.705492</td>\n      <td>1.287207</td>\n      <td>0.748101</td>\n      <td>channel_code_5</td>\n      <td>city_type_0</td>\n      <td>index_city_code_39</td>\n      <td>-0.488553</td>\n      <td>...</td>\n      <td>0.568681</td>\n      <td>0.897565</td>\n      <td>0.553624</td>\n      <td>0.774354</td>\n      <td>0.936506</td>\n      <td>0.295984</td>\n      <td>0.967947</td>\n      <td>{α, γ}</td>\n      <td>{other}</td>\n      <td>city_23</td>\n    </tr>\n    <tr>\n      <th>1</th>\n      <td>0</td>\n      <td>month_2</td>\n      <td>1.049605</td>\n      <td>0.831916</td>\n      <td>2.458609</td>\n      <td>1.053805</td>\n      <td>channel_code_5</td>\n      <td>city_type_0</td>\n      <td>index_city_code_39</td>\n      <td>-0.488553</td>\n      <td>...</td>\n      <td>0.499716</td>\n      <td>0.785029</td>\n      <td>0.551904</td>\n      <td>0.696576</td>\n      <td>0.990157</td>\n      <td>0.298873</td>\n      <td>0.945969</td>\n      <td>{α, γ}</td>\n      <td>{other}</td>\n      <td>city_23</td>\n    </tr>\n    <tr>\n      <th>2</th>\n      <td>0</td>\n      <td>month_3</td>\n      <td>0.692653</td>\n      <td>0.740253</td>\n      <td>0.430042</td>\n      <td>0.695747</td>\n      <td>channel_code_5</td>\n      <td>city_type_0</td>\n      <td>index_city_code_39</td>\n      <td>-0.488553</td>\n      <td>...</td>\n      <td>0.442244</td>\n      <td>0.877050</td>\n      <td>0.551044</td>\n      <td>0.663243</td>\n      <td>0.810065</td>\n      <td>0.294829</td>\n      <td>0.956958</td>\n      <td>{α, γ}</td>\n      <td>{other}</td>\n      <td>city_23</td>\n    </tr>\n    <tr>\n      <th>3</th>\n      <td>1</td>\n      <td>month_1</td>\n      <td>-0.081586</td>\n      <td>-0.091860</td>\n      <td>-0.114040</td>\n      <td>-0.080890</td>\n      <td>channel_code_2</td>\n      <td>city_type_0</td>\n      <td>None</td>\n      <td>0.324343</td>\n      <td>...</td>\n      <td>0.407762</td>\n      <td>0.369318</td>\n      <td>0.567093</td>\n      <td>0.785465</td>\n      <td>-0.184002</td>\n      <td>0.253523</td>\n      <td>0.462452</td>\n      <td>{other}</td>\n      <td>{other}</td>\n      <td>city_14</td>\n    </tr>\n    <tr>\n      <th>4</th>\n      <td>1</td>\n      <td>month_2</td>\n      <td>-0.094962</td>\n      <td>-0.100504</td>\n      <td>-0.119302</td>\n      <td>-0.094307</td>\n      <td>channel_code_2</td>\n      <td>city_type_0</td>\n      <td>None</td>\n      <td>0.324343</td>\n      <td>...</td>\n      <td>0.430750</td>\n      <td>0.067275</td>\n      <td>0.559928</td>\n      <td>0.696576</td>\n      <td>-0.183854</td>\n      <td>0.255545</td>\n      <td>0.495419</td>\n      <td>{other}</td>\n      <td>{other}</td>\n      <td>city_14</td>\n    </tr>\n    <tr>\n      <th>...</th>\n      <td>...</td>\n      <td>...</td>\n      <td>...</td>\n      <td>...</td>\n      <td>...</td>\n      <td>...</td>\n      <td>...</td>\n      <td>...</td>\n      <td>...</td>\n      <td>...</td>\n      <td>...</td>\n      <td>...</td>\n      <td>...</td>\n      <td>...</td>\n      <td>...</td>\n      <td>...</td>\n      <td>...</td>\n      <td>...</td>\n      <td>...</td>\n      <td>...</td>\n      <td>...</td>\n    </tr>\n    <tr>\n      <th>599995</th>\n      <td>199998</td>\n      <td>month_2</td>\n      <td>-0.156775</td>\n      <td>-0.204960</td>\n      <td>-0.125987</td>\n      <td>-0.156311</td>\n      <td>channel_code_9</td>\n      <td>city_type_0</td>\n      <td>None</td>\n      <td>0.324343</td>\n      <td>...</td>\n      <td>NaN</td>\n      <td>-0.165588</td>\n      <td>NaN</td>\n      <td>NaN</td>\n      <td>-0.201123</td>\n      <td>NaN</td>\n      <td>NaN</td>\n      <td>{}</td>\n      <td>{}</td>\n      <td>city_14</td>\n    </tr>\n    <tr>\n      <th>599996</th>\n      <td>199998</td>\n      <td>month_3</td>\n      <td>-0.156776</td>\n      <td>-0.204960</td>\n      <td>-0.125995</td>\n      <td>-0.156312</td>\n      <td>channel_code_9</td>\n      <td>city_type_0</td>\n      <td>None</td>\n      <td>0.324343</td>\n      <td>...</td>\n      <td>0.384773</td>\n      <td>-0.165588</td>\n      <td>0.546889</td>\n      <td>0.407687</td>\n      <td>-0.201123</td>\n      <td>0.250924</td>\n      <td>0.374540</td>\n      <td>{α}</td>\n      <td>{}</td>\n      <td>city_14</td>\n    </tr>\n    <tr>\n      <th>599997</th>\n      <td>199999</td>\n      <td>month_1</td>\n      <td>-0.156712</td>\n      <td>-0.204913</td>\n      <td>-0.125831</td>\n      <td>-0.156248</td>\n      <td>channel_code_14</td>\n      <td>city_type_0</td>\n      <td>index_city_code_195</td>\n      <td>1.717879</td>\n      <td>...</td>\n      <td>NaN</td>\n      <td>-0.165588</td>\n      <td>NaN</td>\n      <td>NaN</td>\n      <td>-0.201123</td>\n      <td>NaN</td>\n      <td>NaN</td>\n      <td>{}</td>\n      <td>{}</td>\n      <td>city_1876</td>\n    </tr>\n    <tr>\n      <th>599998</th>\n      <td>199999</td>\n      <td>month_2</td>\n      <td>-0.156712</td>\n      <td>-0.204913</td>\n      <td>-0.125831</td>\n      <td>-0.156248</td>\n      <td>channel_code_14</td>\n      <td>city_type_0</td>\n      <td>index_city_code_195</td>\n      <td>1.717879</td>\n      <td>...</td>\n      <td>NaN</td>\n      <td>-0.165588</td>\n      <td>NaN</td>\n      <td>NaN</td>\n      <td>-0.201123</td>\n      <td>NaN</td>\n      <td>NaN</td>\n      <td>{}</td>\n      <td>{}</td>\n      <td>city_1876</td>\n    </tr>\n    <tr>\n      <th>599999</th>\n      <td>199999</td>\n      <td>month_3</td>\n      <td>-0.156712</td>\n      <td>-0.204913</td>\n      <td>-0.125831</td>\n      <td>-0.156248</td>\n      <td>channel_code_14</td>\n      <td>city_type_0</td>\n      <td>index_city_code_195</td>\n      <td>1.717879</td>\n      <td>...</td>\n      <td>NaN</td>\n      <td>-0.165588</td>\n      <td>NaN</td>\n      <td>NaN</td>\n      <td>-0.201123</td>\n      <td>NaN</td>\n      <td>NaN</td>\n      <td>{α}</td>\n      <td>{}</td>\n      <td>city_1876</td>\n    </tr>\n  </tbody>\n</table>\n<p>600000 rows × 93 columns</p>\n</div>"
     },
     "execution_count": 225,
     "metadata": {},
     "output_type": "execute_result"
    }
   ],
   "source": [
    "train_df"
   ],
   "metadata": {
    "collapsed": false,
    "ExecuteTime": {
     "end_time": "2024-03-13T16:43:12.698936300Z",
     "start_time": "2024-03-13T16:43:12.530348300Z"
    }
   }
  },
  {
   "cell_type": "code",
   "execution_count": 226,
   "id": "8caad423-0805-4b57-9d02-8ae203be2e65",
   "metadata": {
    "execution": {
     "iopub.execute_input": "2024-02-14T23:09:54.192532Z",
     "iopub.status.busy": "2024-02-14T23:09:54.192285Z",
     "iopub.status.idle": "2024-02-14T23:09:54.214362Z",
     "shell.execute_reply": "2024-02-14T23:09:54.213854Z",
     "shell.execute_reply.started": "2024-02-14T23:09:54.192509Z"
    },
    "tags": [],
    "colab": {
     "base_uri": "https://localhost:8080/",
     "height": 193
    },
    "id": "8caad423-0805-4b57-9d02-8ae203be2e65",
    "outputId": "824bb6af-08be-4561-881b-3c3572e6bcdb",
    "ExecuteTime": {
     "end_time": "2024-03-13T16:43:12.730462900Z",
     "start_time": "2024-03-13T16:43:12.700938300Z"
    }
   },
   "outputs": [
    {
     "data": {
      "text/plain": "    id     date  balance_amt_avg  balance_amt_max  balance_amt_min  \\\n0    0  month_1         0.744845         0.705492         1.287207   \n1    0  month_2         1.049605         0.831916         2.458609   \n2    0  month_3         0.692653         0.740253         0.430042   \n3    1  month_1        -0.081586        -0.091860        -0.114040   \n4    1  month_2        -0.094962        -0.100504        -0.119302   \n5    1  month_3        -0.090605        -0.114275        -0.114119   \n6    2  month_1        -0.154685        -0.186795        -0.122805   \n7    2  month_2        -0.152784        -0.193686        -0.122805   \n8    2  month_3        -0.148737        -0.187003        -0.112416   \n9    3  month_1        -0.156643        -0.204861        -0.125660   \n10   3  month_2        -0.156666        -0.204790        -0.125995   \n11   3  month_3        -0.156522        -0.204718        -0.125759   \n12   4  month_1        -0.138847        -0.182486        -0.125630   \n13   4  month_2        -0.129233        -0.162965        -0.108713   \n14   4  month_3        -0.141798        -0.170262        -0.125672   \n15   5  month_1              NaN              NaN              NaN   \n16   5  month_2              NaN              NaN              NaN   \n17   5  month_3              NaN              NaN              NaN   \n18   6  month_1        -0.012978         0.167324        -0.105271   \n19   6  month_2         0.166101         0.166826         0.102481   \n20   6  month_3        -0.126878        -0.116844        -0.124882   \n21   7  month_1        -0.156437        -0.204698        -0.125176   \n22   7  month_2        -0.156426        -0.204698        -0.125119   \n23   7  month_3        -0.156215        -0.204464        -0.125995   \n24   8  month_1        -0.146542        -0.193037        -0.121922   \n25   8  month_2        -0.143509        -0.187596        -0.125143   \n26   8  month_3        -0.152684        -0.197020        -0.125995   \n27   9  month_1        -0.156411        -0.204687        -0.125084   \n28   9  month_2        -0.156411        -0.204687        -0.125084   \n29   9  month_3        -0.156411        -0.204687        -0.125084   \n\n    balance_amt_day_avg     channel_code      city_type     index_city_code  \\\n0              0.748101   channel_code_5    city_type_0  index_city_code_39   \n1              1.053805   channel_code_5    city_type_0  index_city_code_39   \n2              0.695747   channel_code_5    city_type_0  index_city_code_39   \n3             -0.080890   channel_code_2    city_type_0                None   \n4             -0.094307   channel_code_2    city_type_0                None   \n5             -0.089937   channel_code_2    city_type_0                None   \n6             -0.154215  channel_code_12  city_type_306                None   \n7             -0.152308  channel_code_12  city_type_306                None   \n8             -0.148249  channel_code_12  city_type_306                None   \n9             -0.156179  channel_code_14    city_type_0  index_city_code_46   \n10            -0.156202  channel_code_14    city_type_0  index_city_code_46   \n11            -0.156058  channel_code_14    city_type_0  index_city_code_46   \n12            -0.138328   channel_code_8    city_type_0                None   \n13            -0.128684   channel_code_8    city_type_0                None   \n14            -0.141289   channel_code_8    city_type_0                None   \n15                  NaN             None           None                None   \n16                  NaN             None           None                None   \n17                  NaN  channel_code_21           None   index_city_code_5   \n18            -0.012069   channel_code_5    city_type_0  index_city_code_30   \n19             0.167564   channel_code_5    city_type_0  index_city_code_30   \n20            -0.126322   channel_code_5    city_type_0  index_city_code_30   \n21            -0.155972  channel_code_31    city_type_0  index_city_code_11   \n22            -0.155961  channel_code_31    city_type_0  index_city_code_11   \n23            -0.155954  channel_code_31    city_type_0  index_city_code_11   \n24            -0.146047   channel_code_8    city_type_0  index_city_code_56   \n25            -0.143004   channel_code_8    city_type_0  index_city_code_56   \n26            -0.152208   channel_code_8    city_type_0  index_city_code_56   \n27            -0.155947   channel_code_4  city_type_639  index_city_code_91   \n28            -0.155947   channel_code_4  city_type_639  index_city_code_91   \n29            -0.155947   channel_code_4  city_type_639  index_city_code_91   \n\n    ogrn_days_end_month  ...  cnt_days_cred_g_oper_3m sum_deb_h_oper_3m  \\\n0             -0.488553  ...                 0.568681          0.897565   \n1             -0.488553  ...                 0.499716          0.785029   \n2             -0.488553  ...                 0.442244          0.877050   \n3              0.324343  ...                 0.407762          0.369318   \n4              0.324343  ...                 0.430750          0.067275   \n5              0.324343  ...                 0.488221          0.043221   \n6             -0.256297  ...                 0.384773         -0.165588   \n7             -0.256297  ...                 0.384773         -0.165588   \n8             -0.256297  ...                 0.384773         -0.165588   \n9             -1.185321  ...                 0.384773         -0.165588   \n10            -1.185321  ...                 0.384773         -0.165588   \n11            -1.185321  ...                 0.384773         -0.165588   \n12            -1.417577  ...                 0.672129         -0.078233   \n13            -1.417577  ...                 0.683624         -0.078363   \n14            -1.417577  ...                 0.637647         -0.078297   \n15                  NaN  ...                      NaN         -0.165588   \n16                  NaN  ...                      NaN         -0.165588   \n17             0.556599  ...                      NaN         -0.165588   \n18            -0.372425  ...                 0.396267          0.941555   \n19            -0.372425  ...                 0.384773          0.944451   \n20            -0.372425  ...                 0.384773          0.879821   \n21             1.253367  ...                 0.384773         -0.165588   \n22             1.253367  ...                 0.384773         -0.165588   \n23             1.253367  ...                 0.384773         -0.165588   \n24             0.672727  ...                 0.384773         -0.158619   \n25             0.672727  ...                 0.384773         -0.164109   \n26             0.672727  ...                 0.384773         -0.164504   \n27             1.253367  ...                      NaN         -0.165588   \n28             1.253367  ...                      NaN         -0.165588   \n29             1.253367  ...                      NaN         -0.165588   \n\n   cnt_deb_h_oper_3m  cnt_days_deb_h_oper_3m  sum_cred_h_oper_3m  \\\n0           0.553624                0.774354            0.936506   \n1           0.551904                0.696576            0.990157   \n2           0.551044                0.663243            0.810065   \n3           0.567093                0.785465           -0.184002   \n4           0.559928                0.696576           -0.183854   \n5           0.560788                0.707687           -0.167905   \n6           0.546889                0.407687           -0.178674   \n7           0.546889                0.407687           -0.177854   \n8           0.546889                0.407687           -0.176302   \n9           0.546889                0.407687           -0.201123   \n10          0.546889                0.407687           -0.201123   \n11          0.546889                0.407687           -0.201123   \n12          0.558209                0.707687           -0.178408   \n13          0.557779                0.641020           -0.176923   \n14          0.556919                0.641020           -0.172533   \n15               NaN                     NaN           -0.201123   \n16               NaN                     NaN           -0.201123   \n17               NaN                     NaN           -0.201123   \n18          0.567952                0.929909            0.154326   \n19          0.570961                0.974354            0.032227   \n20          0.568239                0.952131           -0.033173   \n21          0.546889                0.407687           -0.200301   \n22          0.546889                0.407687           -0.200301   \n23          0.546889                0.407687           -0.200301   \n24          0.548609                0.518798           -0.163534   \n25          0.547749                0.463243           -0.176061   \n26          0.547462                0.441020           -0.177143   \n27               NaN                     NaN           -0.201123   \n28               NaN                     NaN           -0.201123   \n29               NaN                     NaN           -0.201123   \n\n    cnt_cred_h_oper_3m  cnt_days_cred_h_oper_3m start_cluster end_cluster  \\\n0             0.295984                 0.967947        {α, γ}     {other}   \n1             0.298873                 0.945969        {α, γ}     {other}   \n2             0.294829                 0.956958        {α, γ}     {other}   \n3             0.253523                 0.462452       {other}     {other}   \n4             0.255545                 0.495419       {other}     {other}   \n5             0.259011                 0.605309       {other}     {other}   \n6             0.252657                 0.440474           {α}         {α}   \n7             0.252657                 0.440474           {α}         {α}   \n8             0.252368                 0.429485           {α}         {α}   \n9             0.250924                 0.374540           {α}         {α}   \n10            0.250924                 0.374540           {α}      {α, γ}   \n11            0.250924                 0.374540           {α}      {α, γ}   \n12            0.252946                 0.440474           {α}         {α}   \n13            0.253234                 0.451463           {α}         {α}   \n14            0.253523                 0.462452           {α}         {α}   \n15                 NaN                      NaN            {}         {α}   \n16                 NaN                      NaN            {}         {α}   \n17                 NaN                      NaN           {α}         {α}   \n18            0.252657                 0.440474        {α, γ}      {α, γ}   \n19            0.252368                 0.429485        {α, γ}      {α, γ}   \n20            0.251790                 0.407507        {α, γ}      {α, γ}   \n21            0.251212                 0.385529           {α}         {α}   \n22            0.251212                 0.385529           {α}         {α}   \n23            0.251212                 0.385529           {α}         {α}   \n24            0.274032                 0.539375        {α, γ}         {α}   \n25            0.256412                 0.484430        {α, γ}         {α}   \n26            0.253523                 0.440474        {α, γ}         {α}   \n27                 NaN                      NaN           {α}         {α}   \n28                 NaN                      NaN           {α}         {α}   \n29                 NaN                      NaN           {α}          {}   \n\n         city  \n0     city_23  \n1     city_23  \n2     city_23  \n3     city_14  \n4     city_14  \n5     city_14  \n6    city_613  \n7    city_613  \n8    city_613  \n9     city_21  \n10    city_21  \n11    city_21  \n12    city_21  \n13    city_21  \n14    city_21  \n15      other  \n16      other  \n17      other  \n18    city_25  \n19    city_25  \n20    city_25  \n21    city_39  \n22    city_39  \n23    city_39  \n24    city_65  \n25    city_65  \n26    city_65  \n27  city_1081  \n28  city_1081  \n29  city_1081  \n\n[30 rows x 93 columns]",
      "text/html": "<div>\n<style scoped>\n    .dataframe tbody tr th:only-of-type {\n        vertical-align: middle;\n    }\n\n    .dataframe tbody tr th {\n        vertical-align: top;\n    }\n\n    .dataframe thead th {\n        text-align: right;\n    }\n</style>\n<table border=\"1\" class=\"dataframe\">\n  <thead>\n    <tr style=\"text-align: right;\">\n      <th></th>\n      <th>id</th>\n      <th>date</th>\n      <th>balance_amt_avg</th>\n      <th>balance_amt_max</th>\n      <th>balance_amt_min</th>\n      <th>balance_amt_day_avg</th>\n      <th>channel_code</th>\n      <th>city_type</th>\n      <th>index_city_code</th>\n      <th>ogrn_days_end_month</th>\n      <th>...</th>\n      <th>cnt_days_cred_g_oper_3m</th>\n      <th>sum_deb_h_oper_3m</th>\n      <th>cnt_deb_h_oper_3m</th>\n      <th>cnt_days_deb_h_oper_3m</th>\n      <th>sum_cred_h_oper_3m</th>\n      <th>cnt_cred_h_oper_3m</th>\n      <th>cnt_days_cred_h_oper_3m</th>\n      <th>start_cluster</th>\n      <th>end_cluster</th>\n      <th>city</th>\n    </tr>\n  </thead>\n  <tbody>\n    <tr>\n      <th>0</th>\n      <td>0</td>\n      <td>month_1</td>\n      <td>0.744845</td>\n      <td>0.705492</td>\n      <td>1.287207</td>\n      <td>0.748101</td>\n      <td>channel_code_5</td>\n      <td>city_type_0</td>\n      <td>index_city_code_39</td>\n      <td>-0.488553</td>\n      <td>...</td>\n      <td>0.568681</td>\n      <td>0.897565</td>\n      <td>0.553624</td>\n      <td>0.774354</td>\n      <td>0.936506</td>\n      <td>0.295984</td>\n      <td>0.967947</td>\n      <td>{α, γ}</td>\n      <td>{other}</td>\n      <td>city_23</td>\n    </tr>\n    <tr>\n      <th>1</th>\n      <td>0</td>\n      <td>month_2</td>\n      <td>1.049605</td>\n      <td>0.831916</td>\n      <td>2.458609</td>\n      <td>1.053805</td>\n      <td>channel_code_5</td>\n      <td>city_type_0</td>\n      <td>index_city_code_39</td>\n      <td>-0.488553</td>\n      <td>...</td>\n      <td>0.499716</td>\n      <td>0.785029</td>\n      <td>0.551904</td>\n      <td>0.696576</td>\n      <td>0.990157</td>\n      <td>0.298873</td>\n      <td>0.945969</td>\n      <td>{α, γ}</td>\n      <td>{other}</td>\n      <td>city_23</td>\n    </tr>\n    <tr>\n      <th>2</th>\n      <td>0</td>\n      <td>month_3</td>\n      <td>0.692653</td>\n      <td>0.740253</td>\n      <td>0.430042</td>\n      <td>0.695747</td>\n      <td>channel_code_5</td>\n      <td>city_type_0</td>\n      <td>index_city_code_39</td>\n      <td>-0.488553</td>\n      <td>...</td>\n      <td>0.442244</td>\n      <td>0.877050</td>\n      <td>0.551044</td>\n      <td>0.663243</td>\n      <td>0.810065</td>\n      <td>0.294829</td>\n      <td>0.956958</td>\n      <td>{α, γ}</td>\n      <td>{other}</td>\n      <td>city_23</td>\n    </tr>\n    <tr>\n      <th>3</th>\n      <td>1</td>\n      <td>month_1</td>\n      <td>-0.081586</td>\n      <td>-0.091860</td>\n      <td>-0.114040</td>\n      <td>-0.080890</td>\n      <td>channel_code_2</td>\n      <td>city_type_0</td>\n      <td>None</td>\n      <td>0.324343</td>\n      <td>...</td>\n      <td>0.407762</td>\n      <td>0.369318</td>\n      <td>0.567093</td>\n      <td>0.785465</td>\n      <td>-0.184002</td>\n      <td>0.253523</td>\n      <td>0.462452</td>\n      <td>{other}</td>\n      <td>{other}</td>\n      <td>city_14</td>\n    </tr>\n    <tr>\n      <th>4</th>\n      <td>1</td>\n      <td>month_2</td>\n      <td>-0.094962</td>\n      <td>-0.100504</td>\n      <td>-0.119302</td>\n      <td>-0.094307</td>\n      <td>channel_code_2</td>\n      <td>city_type_0</td>\n      <td>None</td>\n      <td>0.324343</td>\n      <td>...</td>\n      <td>0.430750</td>\n      <td>0.067275</td>\n      <td>0.559928</td>\n      <td>0.696576</td>\n      <td>-0.183854</td>\n      <td>0.255545</td>\n      <td>0.495419</td>\n      <td>{other}</td>\n      <td>{other}</td>\n      <td>city_14</td>\n    </tr>\n    <tr>\n      <th>5</th>\n      <td>1</td>\n      <td>month_3</td>\n      <td>-0.090605</td>\n      <td>-0.114275</td>\n      <td>-0.114119</td>\n      <td>-0.089937</td>\n      <td>channel_code_2</td>\n      <td>city_type_0</td>\n      <td>None</td>\n      <td>0.324343</td>\n      <td>...</td>\n      <td>0.488221</td>\n      <td>0.043221</td>\n      <td>0.560788</td>\n      <td>0.707687</td>\n      <td>-0.167905</td>\n      <td>0.259011</td>\n      <td>0.605309</td>\n      <td>{other}</td>\n      <td>{other}</td>\n      <td>city_14</td>\n    </tr>\n    <tr>\n      <th>6</th>\n      <td>2</td>\n      <td>month_1</td>\n      <td>-0.154685</td>\n      <td>-0.186795</td>\n      <td>-0.122805</td>\n      <td>-0.154215</td>\n      <td>channel_code_12</td>\n      <td>city_type_306</td>\n      <td>None</td>\n      <td>-0.256297</td>\n      <td>...</td>\n      <td>0.384773</td>\n      <td>-0.165588</td>\n      <td>0.546889</td>\n      <td>0.407687</td>\n      <td>-0.178674</td>\n      <td>0.252657</td>\n      <td>0.440474</td>\n      <td>{α}</td>\n      <td>{α}</td>\n      <td>city_613</td>\n    </tr>\n    <tr>\n      <th>7</th>\n      <td>2</td>\n      <td>month_2</td>\n      <td>-0.152784</td>\n      <td>-0.193686</td>\n      <td>-0.122805</td>\n      <td>-0.152308</td>\n      <td>channel_code_12</td>\n      <td>city_type_306</td>\n      <td>None</td>\n      <td>-0.256297</td>\n      <td>...</td>\n      <td>0.384773</td>\n      <td>-0.165588</td>\n      <td>0.546889</td>\n      <td>0.407687</td>\n      <td>-0.177854</td>\n      <td>0.252657</td>\n      <td>0.440474</td>\n      <td>{α}</td>\n      <td>{α}</td>\n      <td>city_613</td>\n    </tr>\n    <tr>\n      <th>8</th>\n      <td>2</td>\n      <td>month_3</td>\n      <td>-0.148737</td>\n      <td>-0.187003</td>\n      <td>-0.112416</td>\n      <td>-0.148249</td>\n      <td>channel_code_12</td>\n      <td>city_type_306</td>\n      <td>None</td>\n      <td>-0.256297</td>\n      <td>...</td>\n      <td>0.384773</td>\n      <td>-0.165588</td>\n      <td>0.546889</td>\n      <td>0.407687</td>\n      <td>-0.176302</td>\n      <td>0.252368</td>\n      <td>0.429485</td>\n      <td>{α}</td>\n      <td>{α}</td>\n      <td>city_613</td>\n    </tr>\n    <tr>\n      <th>9</th>\n      <td>3</td>\n      <td>month_1</td>\n      <td>-0.156643</td>\n      <td>-0.204861</td>\n      <td>-0.125660</td>\n      <td>-0.156179</td>\n      <td>channel_code_14</td>\n      <td>city_type_0</td>\n      <td>index_city_code_46</td>\n      <td>-1.185321</td>\n      <td>...</td>\n      <td>0.384773</td>\n      <td>-0.165588</td>\n      <td>0.546889</td>\n      <td>0.407687</td>\n      <td>-0.201123</td>\n      <td>0.250924</td>\n      <td>0.374540</td>\n      <td>{α}</td>\n      <td>{α}</td>\n      <td>city_21</td>\n    </tr>\n    <tr>\n      <th>10</th>\n      <td>3</td>\n      <td>month_2</td>\n      <td>-0.156666</td>\n      <td>-0.204790</td>\n      <td>-0.125995</td>\n      <td>-0.156202</td>\n      <td>channel_code_14</td>\n      <td>city_type_0</td>\n      <td>index_city_code_46</td>\n      <td>-1.185321</td>\n      <td>...</td>\n      <td>0.384773</td>\n      <td>-0.165588</td>\n      <td>0.546889</td>\n      <td>0.407687</td>\n      <td>-0.201123</td>\n      <td>0.250924</td>\n      <td>0.374540</td>\n      <td>{α}</td>\n      <td>{α, γ}</td>\n      <td>city_21</td>\n    </tr>\n    <tr>\n      <th>11</th>\n      <td>3</td>\n      <td>month_3</td>\n      <td>-0.156522</td>\n      <td>-0.204718</td>\n      <td>-0.125759</td>\n      <td>-0.156058</td>\n      <td>channel_code_14</td>\n      <td>city_type_0</td>\n      <td>index_city_code_46</td>\n      <td>-1.185321</td>\n      <td>...</td>\n      <td>0.384773</td>\n      <td>-0.165588</td>\n      <td>0.546889</td>\n      <td>0.407687</td>\n      <td>-0.201123</td>\n      <td>0.250924</td>\n      <td>0.374540</td>\n      <td>{α}</td>\n      <td>{α, γ}</td>\n      <td>city_21</td>\n    </tr>\n    <tr>\n      <th>12</th>\n      <td>4</td>\n      <td>month_1</td>\n      <td>-0.138847</td>\n      <td>-0.182486</td>\n      <td>-0.125630</td>\n      <td>-0.138328</td>\n      <td>channel_code_8</td>\n      <td>city_type_0</td>\n      <td>None</td>\n      <td>-1.417577</td>\n      <td>...</td>\n      <td>0.672129</td>\n      <td>-0.078233</td>\n      <td>0.558209</td>\n      <td>0.707687</td>\n      <td>-0.178408</td>\n      <td>0.252946</td>\n      <td>0.440474</td>\n      <td>{α}</td>\n      <td>{α}</td>\n      <td>city_21</td>\n    </tr>\n    <tr>\n      <th>13</th>\n      <td>4</td>\n      <td>month_2</td>\n      <td>-0.129233</td>\n      <td>-0.162965</td>\n      <td>-0.108713</td>\n      <td>-0.128684</td>\n      <td>channel_code_8</td>\n      <td>city_type_0</td>\n      <td>None</td>\n      <td>-1.417577</td>\n      <td>...</td>\n      <td>0.683624</td>\n      <td>-0.078363</td>\n      <td>0.557779</td>\n      <td>0.641020</td>\n      <td>-0.176923</td>\n      <td>0.253234</td>\n      <td>0.451463</td>\n      <td>{α}</td>\n      <td>{α}</td>\n      <td>city_21</td>\n    </tr>\n    <tr>\n      <th>14</th>\n      <td>4</td>\n      <td>month_3</td>\n      <td>-0.141798</td>\n      <td>-0.170262</td>\n      <td>-0.125672</td>\n      <td>-0.141289</td>\n      <td>channel_code_8</td>\n      <td>city_type_0</td>\n      <td>None</td>\n      <td>-1.417577</td>\n      <td>...</td>\n      <td>0.637647</td>\n      <td>-0.078297</td>\n      <td>0.556919</td>\n      <td>0.641020</td>\n      <td>-0.172533</td>\n      <td>0.253523</td>\n      <td>0.462452</td>\n      <td>{α}</td>\n      <td>{α}</td>\n      <td>city_21</td>\n    </tr>\n    <tr>\n      <th>15</th>\n      <td>5</td>\n      <td>month_1</td>\n      <td>NaN</td>\n      <td>NaN</td>\n      <td>NaN</td>\n      <td>NaN</td>\n      <td>None</td>\n      <td>None</td>\n      <td>None</td>\n      <td>NaN</td>\n      <td>...</td>\n      <td>NaN</td>\n      <td>-0.165588</td>\n      <td>NaN</td>\n      <td>NaN</td>\n      <td>-0.201123</td>\n      <td>NaN</td>\n      <td>NaN</td>\n      <td>{}</td>\n      <td>{α}</td>\n      <td>other</td>\n    </tr>\n    <tr>\n      <th>16</th>\n      <td>5</td>\n      <td>month_2</td>\n      <td>NaN</td>\n      <td>NaN</td>\n      <td>NaN</td>\n      <td>NaN</td>\n      <td>None</td>\n      <td>None</td>\n      <td>None</td>\n      <td>NaN</td>\n      <td>...</td>\n      <td>NaN</td>\n      <td>-0.165588</td>\n      <td>NaN</td>\n      <td>NaN</td>\n      <td>-0.201123</td>\n      <td>NaN</td>\n      <td>NaN</td>\n      <td>{}</td>\n      <td>{α}</td>\n      <td>other</td>\n    </tr>\n    <tr>\n      <th>17</th>\n      <td>5</td>\n      <td>month_3</td>\n      <td>NaN</td>\n      <td>NaN</td>\n      <td>NaN</td>\n      <td>NaN</td>\n      <td>channel_code_21</td>\n      <td>None</td>\n      <td>index_city_code_5</td>\n      <td>0.556599</td>\n      <td>...</td>\n      <td>NaN</td>\n      <td>-0.165588</td>\n      <td>NaN</td>\n      <td>NaN</td>\n      <td>-0.201123</td>\n      <td>NaN</td>\n      <td>NaN</td>\n      <td>{α}</td>\n      <td>{α}</td>\n      <td>other</td>\n    </tr>\n    <tr>\n      <th>18</th>\n      <td>6</td>\n      <td>month_1</td>\n      <td>-0.012978</td>\n      <td>0.167324</td>\n      <td>-0.105271</td>\n      <td>-0.012069</td>\n      <td>channel_code_5</td>\n      <td>city_type_0</td>\n      <td>index_city_code_30</td>\n      <td>-0.372425</td>\n      <td>...</td>\n      <td>0.396267</td>\n      <td>0.941555</td>\n      <td>0.567952</td>\n      <td>0.929909</td>\n      <td>0.154326</td>\n      <td>0.252657</td>\n      <td>0.440474</td>\n      <td>{α, γ}</td>\n      <td>{α, γ}</td>\n      <td>city_25</td>\n    </tr>\n    <tr>\n      <th>19</th>\n      <td>6</td>\n      <td>month_2</td>\n      <td>0.166101</td>\n      <td>0.166826</td>\n      <td>0.102481</td>\n      <td>0.167564</td>\n      <td>channel_code_5</td>\n      <td>city_type_0</td>\n      <td>index_city_code_30</td>\n      <td>-0.372425</td>\n      <td>...</td>\n      <td>0.384773</td>\n      <td>0.944451</td>\n      <td>0.570961</td>\n      <td>0.974354</td>\n      <td>0.032227</td>\n      <td>0.252368</td>\n      <td>0.429485</td>\n      <td>{α, γ}</td>\n      <td>{α, γ}</td>\n      <td>city_25</td>\n    </tr>\n    <tr>\n      <th>20</th>\n      <td>6</td>\n      <td>month_3</td>\n      <td>-0.126878</td>\n      <td>-0.116844</td>\n      <td>-0.124882</td>\n      <td>-0.126322</td>\n      <td>channel_code_5</td>\n      <td>city_type_0</td>\n      <td>index_city_code_30</td>\n      <td>-0.372425</td>\n      <td>...</td>\n      <td>0.384773</td>\n      <td>0.879821</td>\n      <td>0.568239</td>\n      <td>0.952131</td>\n      <td>-0.033173</td>\n      <td>0.251790</td>\n      <td>0.407507</td>\n      <td>{α, γ}</td>\n      <td>{α, γ}</td>\n      <td>city_25</td>\n    </tr>\n    <tr>\n      <th>21</th>\n      <td>7</td>\n      <td>month_1</td>\n      <td>-0.156437</td>\n      <td>-0.204698</td>\n      <td>-0.125176</td>\n      <td>-0.155972</td>\n      <td>channel_code_31</td>\n      <td>city_type_0</td>\n      <td>index_city_code_11</td>\n      <td>1.253367</td>\n      <td>...</td>\n      <td>0.384773</td>\n      <td>-0.165588</td>\n      <td>0.546889</td>\n      <td>0.407687</td>\n      <td>-0.200301</td>\n      <td>0.251212</td>\n      <td>0.385529</td>\n      <td>{α}</td>\n      <td>{α}</td>\n      <td>city_39</td>\n    </tr>\n    <tr>\n      <th>22</th>\n      <td>7</td>\n      <td>month_2</td>\n      <td>-0.156426</td>\n      <td>-0.204698</td>\n      <td>-0.125119</td>\n      <td>-0.155961</td>\n      <td>channel_code_31</td>\n      <td>city_type_0</td>\n      <td>index_city_code_11</td>\n      <td>1.253367</td>\n      <td>...</td>\n      <td>0.384773</td>\n      <td>-0.165588</td>\n      <td>0.546889</td>\n      <td>0.407687</td>\n      <td>-0.200301</td>\n      <td>0.251212</td>\n      <td>0.385529</td>\n      <td>{α}</td>\n      <td>{α}</td>\n      <td>city_39</td>\n    </tr>\n    <tr>\n      <th>23</th>\n      <td>7</td>\n      <td>month_3</td>\n      <td>-0.156215</td>\n      <td>-0.204464</td>\n      <td>-0.125995</td>\n      <td>-0.155954</td>\n      <td>channel_code_31</td>\n      <td>city_type_0</td>\n      <td>index_city_code_11</td>\n      <td>1.253367</td>\n      <td>...</td>\n      <td>0.384773</td>\n      <td>-0.165588</td>\n      <td>0.546889</td>\n      <td>0.407687</td>\n      <td>-0.200301</td>\n      <td>0.251212</td>\n      <td>0.385529</td>\n      <td>{α}</td>\n      <td>{α}</td>\n      <td>city_39</td>\n    </tr>\n    <tr>\n      <th>24</th>\n      <td>8</td>\n      <td>month_1</td>\n      <td>-0.146542</td>\n      <td>-0.193037</td>\n      <td>-0.121922</td>\n      <td>-0.146047</td>\n      <td>channel_code_8</td>\n      <td>city_type_0</td>\n      <td>index_city_code_56</td>\n      <td>0.672727</td>\n      <td>...</td>\n      <td>0.384773</td>\n      <td>-0.158619</td>\n      <td>0.548609</td>\n      <td>0.518798</td>\n      <td>-0.163534</td>\n      <td>0.274032</td>\n      <td>0.539375</td>\n      <td>{α, γ}</td>\n      <td>{α}</td>\n      <td>city_65</td>\n    </tr>\n    <tr>\n      <th>25</th>\n      <td>8</td>\n      <td>month_2</td>\n      <td>-0.143509</td>\n      <td>-0.187596</td>\n      <td>-0.125143</td>\n      <td>-0.143004</td>\n      <td>channel_code_8</td>\n      <td>city_type_0</td>\n      <td>index_city_code_56</td>\n      <td>0.672727</td>\n      <td>...</td>\n      <td>0.384773</td>\n      <td>-0.164109</td>\n      <td>0.547749</td>\n      <td>0.463243</td>\n      <td>-0.176061</td>\n      <td>0.256412</td>\n      <td>0.484430</td>\n      <td>{α, γ}</td>\n      <td>{α}</td>\n      <td>city_65</td>\n    </tr>\n    <tr>\n      <th>26</th>\n      <td>8</td>\n      <td>month_3</td>\n      <td>-0.152684</td>\n      <td>-0.197020</td>\n      <td>-0.125995</td>\n      <td>-0.152208</td>\n      <td>channel_code_8</td>\n      <td>city_type_0</td>\n      <td>index_city_code_56</td>\n      <td>0.672727</td>\n      <td>...</td>\n      <td>0.384773</td>\n      <td>-0.164504</td>\n      <td>0.547462</td>\n      <td>0.441020</td>\n      <td>-0.177143</td>\n      <td>0.253523</td>\n      <td>0.440474</td>\n      <td>{α, γ}</td>\n      <td>{α}</td>\n      <td>city_65</td>\n    </tr>\n    <tr>\n      <th>27</th>\n      <td>9</td>\n      <td>month_1</td>\n      <td>-0.156411</td>\n      <td>-0.204687</td>\n      <td>-0.125084</td>\n      <td>-0.155947</td>\n      <td>channel_code_4</td>\n      <td>city_type_639</td>\n      <td>index_city_code_91</td>\n      <td>1.253367</td>\n      <td>...</td>\n      <td>NaN</td>\n      <td>-0.165588</td>\n      <td>NaN</td>\n      <td>NaN</td>\n      <td>-0.201123</td>\n      <td>NaN</td>\n      <td>NaN</td>\n      <td>{α}</td>\n      <td>{α}</td>\n      <td>city_1081</td>\n    </tr>\n    <tr>\n      <th>28</th>\n      <td>9</td>\n      <td>month_2</td>\n      <td>-0.156411</td>\n      <td>-0.204687</td>\n      <td>-0.125084</td>\n      <td>-0.155947</td>\n      <td>channel_code_4</td>\n      <td>city_type_639</td>\n      <td>index_city_code_91</td>\n      <td>1.253367</td>\n      <td>...</td>\n      <td>NaN</td>\n      <td>-0.165588</td>\n      <td>NaN</td>\n      <td>NaN</td>\n      <td>-0.201123</td>\n      <td>NaN</td>\n      <td>NaN</td>\n      <td>{α}</td>\n      <td>{α}</td>\n      <td>city_1081</td>\n    </tr>\n    <tr>\n      <th>29</th>\n      <td>9</td>\n      <td>month_3</td>\n      <td>-0.156411</td>\n      <td>-0.204687</td>\n      <td>-0.125084</td>\n      <td>-0.155947</td>\n      <td>channel_code_4</td>\n      <td>city_type_639</td>\n      <td>index_city_code_91</td>\n      <td>1.253367</td>\n      <td>...</td>\n      <td>NaN</td>\n      <td>-0.165588</td>\n      <td>NaN</td>\n      <td>NaN</td>\n      <td>-0.201123</td>\n      <td>NaN</td>\n      <td>NaN</td>\n      <td>{α}</td>\n      <td>{}</td>\n      <td>city_1081</td>\n    </tr>\n  </tbody>\n</table>\n<p>30 rows × 93 columns</p>\n</div>"
     },
     "execution_count": 226,
     "metadata": {},
     "output_type": "execute_result"
    }
   ],
   "source": [
    "train_df.head(30)"
   ]
  },
  {
   "cell_type": "code",
   "execution_count": 227,
   "outputs": [
    {
     "data": {
      "text/plain": "            id     date  balance_amt_avg  balance_amt_max  balance_amt_min  \\\n0            0  month_1         0.744845         0.705492         1.287207   \n1            0  month_2         1.049605         0.831916         2.458609   \n2            0  month_3         0.692653         0.740253         0.430042   \n3            1  month_1        -0.081586        -0.091860        -0.114040   \n4            1  month_2        -0.094962        -0.100504        -0.119302   \n...        ...      ...              ...              ...              ...   \n599995  199998  month_2        -0.156775        -0.204960        -0.125987   \n599996  199998  month_3        -0.156776        -0.204960        -0.125995   \n599997  199999  month_1        -0.156712        -0.204913        -0.125831   \n599998  199999  month_2        -0.156712        -0.204913        -0.125831   \n599999  199999  month_3        -0.156712        -0.204913        -0.125831   \n\n        balance_amt_day_avg     channel_code    city_type  \\\n0                  0.748101   channel_code_5  city_type_0   \n1                  1.053805   channel_code_5  city_type_0   \n2                  0.695747   channel_code_5  city_type_0   \n3                 -0.080890   channel_code_2  city_type_0   \n4                 -0.094307   channel_code_2  city_type_0   \n...                     ...              ...          ...   \n599995            -0.156311   channel_code_9  city_type_0   \n599996            -0.156312   channel_code_9  city_type_0   \n599997            -0.156248  channel_code_14  city_type_0   \n599998            -0.156248  channel_code_14  city_type_0   \n599999            -0.156248  channel_code_14  city_type_0   \n\n            index_city_code  ogrn_days_end_month  ...  sum_deb_h_oper_3m  \\\n0        index_city_code_39            -0.488553  ...           0.897565   \n1        index_city_code_39            -0.488553  ...           0.785029   \n2        index_city_code_39            -0.488553  ...           0.877050   \n3                      None             0.324343  ...           0.369318   \n4                      None             0.324343  ...           0.067275   \n...                     ...                  ...  ...                ...   \n599995                 None             0.324343  ...          -0.165588   \n599996                 None             0.324343  ...          -0.165588   \n599997  index_city_code_195             1.717879  ...          -0.165588   \n599998  index_city_code_195             1.717879  ...          -0.165588   \n599999  index_city_code_195             1.717879  ...          -0.165588   \n\n       cnt_deb_h_oper_3m cnt_days_deb_h_oper_3m  sum_cred_h_oper_3m  \\\n0               0.553624               0.774354            0.936506   \n1               0.551904               0.696576            0.990157   \n2               0.551044               0.663243            0.810065   \n3               0.567093               0.785465           -0.184002   \n4               0.559928               0.696576           -0.183854   \n...                  ...                    ...                 ...   \n599995               NaN                    NaN           -0.201123   \n599996          0.546889               0.407687           -0.201123   \n599997               NaN                    NaN           -0.201123   \n599998               NaN                    NaN           -0.201123   \n599999               NaN                    NaN           -0.201123   \n\n        cnt_cred_h_oper_3m  cnt_days_cred_h_oper_3m  start_cluster  \\\n0                 0.295984                 0.967947         {α, γ}   \n1                 0.298873                 0.945969         {α, γ}   \n2                 0.294829                 0.956958         {α, γ}   \n3                 0.253523                 0.462452        {other}   \n4                 0.255545                 0.495419        {other}   \n...                    ...                      ...            ...   \n599995                 NaN                      NaN             {}   \n599996            0.250924                 0.374540            {α}   \n599997                 NaN                      NaN             {}   \n599998                 NaN                      NaN             {}   \n599999                 NaN                      NaN            {α}   \n\n       end_cluster       city  month_number  \n0          {other}    city_23             1  \n1          {other}    city_23             2  \n2          {other}    city_23             3  \n3          {other}    city_14             1  \n4          {other}    city_14             2  \n...            ...        ...           ...  \n599995          {}    city_14             2  \n599996          {}    city_14             3  \n599997          {}  city_1876             1  \n599998          {}  city_1876             2  \n599999          {}  city_1876             3  \n\n[600000 rows x 94 columns]",
      "text/html": "<div>\n<style scoped>\n    .dataframe tbody tr th:only-of-type {\n        vertical-align: middle;\n    }\n\n    .dataframe tbody tr th {\n        vertical-align: top;\n    }\n\n    .dataframe thead th {\n        text-align: right;\n    }\n</style>\n<table border=\"1\" class=\"dataframe\">\n  <thead>\n    <tr style=\"text-align: right;\">\n      <th></th>\n      <th>id</th>\n      <th>date</th>\n      <th>balance_amt_avg</th>\n      <th>balance_amt_max</th>\n      <th>balance_amt_min</th>\n      <th>balance_amt_day_avg</th>\n      <th>channel_code</th>\n      <th>city_type</th>\n      <th>index_city_code</th>\n      <th>ogrn_days_end_month</th>\n      <th>...</th>\n      <th>sum_deb_h_oper_3m</th>\n      <th>cnt_deb_h_oper_3m</th>\n      <th>cnt_days_deb_h_oper_3m</th>\n      <th>sum_cred_h_oper_3m</th>\n      <th>cnt_cred_h_oper_3m</th>\n      <th>cnt_days_cred_h_oper_3m</th>\n      <th>start_cluster</th>\n      <th>end_cluster</th>\n      <th>city</th>\n      <th>month_number</th>\n    </tr>\n  </thead>\n  <tbody>\n    <tr>\n      <th>0</th>\n      <td>0</td>\n      <td>month_1</td>\n      <td>0.744845</td>\n      <td>0.705492</td>\n      <td>1.287207</td>\n      <td>0.748101</td>\n      <td>channel_code_5</td>\n      <td>city_type_0</td>\n      <td>index_city_code_39</td>\n      <td>-0.488553</td>\n      <td>...</td>\n      <td>0.897565</td>\n      <td>0.553624</td>\n      <td>0.774354</td>\n      <td>0.936506</td>\n      <td>0.295984</td>\n      <td>0.967947</td>\n      <td>{α, γ}</td>\n      <td>{other}</td>\n      <td>city_23</td>\n      <td>1</td>\n    </tr>\n    <tr>\n      <th>1</th>\n      <td>0</td>\n      <td>month_2</td>\n      <td>1.049605</td>\n      <td>0.831916</td>\n      <td>2.458609</td>\n      <td>1.053805</td>\n      <td>channel_code_5</td>\n      <td>city_type_0</td>\n      <td>index_city_code_39</td>\n      <td>-0.488553</td>\n      <td>...</td>\n      <td>0.785029</td>\n      <td>0.551904</td>\n      <td>0.696576</td>\n      <td>0.990157</td>\n      <td>0.298873</td>\n      <td>0.945969</td>\n      <td>{α, γ}</td>\n      <td>{other}</td>\n      <td>city_23</td>\n      <td>2</td>\n    </tr>\n    <tr>\n      <th>2</th>\n      <td>0</td>\n      <td>month_3</td>\n      <td>0.692653</td>\n      <td>0.740253</td>\n      <td>0.430042</td>\n      <td>0.695747</td>\n      <td>channel_code_5</td>\n      <td>city_type_0</td>\n      <td>index_city_code_39</td>\n      <td>-0.488553</td>\n      <td>...</td>\n      <td>0.877050</td>\n      <td>0.551044</td>\n      <td>0.663243</td>\n      <td>0.810065</td>\n      <td>0.294829</td>\n      <td>0.956958</td>\n      <td>{α, γ}</td>\n      <td>{other}</td>\n      <td>city_23</td>\n      <td>3</td>\n    </tr>\n    <tr>\n      <th>3</th>\n      <td>1</td>\n      <td>month_1</td>\n      <td>-0.081586</td>\n      <td>-0.091860</td>\n      <td>-0.114040</td>\n      <td>-0.080890</td>\n      <td>channel_code_2</td>\n      <td>city_type_0</td>\n      <td>None</td>\n      <td>0.324343</td>\n      <td>...</td>\n      <td>0.369318</td>\n      <td>0.567093</td>\n      <td>0.785465</td>\n      <td>-0.184002</td>\n      <td>0.253523</td>\n      <td>0.462452</td>\n      <td>{other}</td>\n      <td>{other}</td>\n      <td>city_14</td>\n      <td>1</td>\n    </tr>\n    <tr>\n      <th>4</th>\n      <td>1</td>\n      <td>month_2</td>\n      <td>-0.094962</td>\n      <td>-0.100504</td>\n      <td>-0.119302</td>\n      <td>-0.094307</td>\n      <td>channel_code_2</td>\n      <td>city_type_0</td>\n      <td>None</td>\n      <td>0.324343</td>\n      <td>...</td>\n      <td>0.067275</td>\n      <td>0.559928</td>\n      <td>0.696576</td>\n      <td>-0.183854</td>\n      <td>0.255545</td>\n      <td>0.495419</td>\n      <td>{other}</td>\n      <td>{other}</td>\n      <td>city_14</td>\n      <td>2</td>\n    </tr>\n    <tr>\n      <th>...</th>\n      <td>...</td>\n      <td>...</td>\n      <td>...</td>\n      <td>...</td>\n      <td>...</td>\n      <td>...</td>\n      <td>...</td>\n      <td>...</td>\n      <td>...</td>\n      <td>...</td>\n      <td>...</td>\n      <td>...</td>\n      <td>...</td>\n      <td>...</td>\n      <td>...</td>\n      <td>...</td>\n      <td>...</td>\n      <td>...</td>\n      <td>...</td>\n      <td>...</td>\n      <td>...</td>\n    </tr>\n    <tr>\n      <th>599995</th>\n      <td>199998</td>\n      <td>month_2</td>\n      <td>-0.156775</td>\n      <td>-0.204960</td>\n      <td>-0.125987</td>\n      <td>-0.156311</td>\n      <td>channel_code_9</td>\n      <td>city_type_0</td>\n      <td>None</td>\n      <td>0.324343</td>\n      <td>...</td>\n      <td>-0.165588</td>\n      <td>NaN</td>\n      <td>NaN</td>\n      <td>-0.201123</td>\n      <td>NaN</td>\n      <td>NaN</td>\n      <td>{}</td>\n      <td>{}</td>\n      <td>city_14</td>\n      <td>2</td>\n    </tr>\n    <tr>\n      <th>599996</th>\n      <td>199998</td>\n      <td>month_3</td>\n      <td>-0.156776</td>\n      <td>-0.204960</td>\n      <td>-0.125995</td>\n      <td>-0.156312</td>\n      <td>channel_code_9</td>\n      <td>city_type_0</td>\n      <td>None</td>\n      <td>0.324343</td>\n      <td>...</td>\n      <td>-0.165588</td>\n      <td>0.546889</td>\n      <td>0.407687</td>\n      <td>-0.201123</td>\n      <td>0.250924</td>\n      <td>0.374540</td>\n      <td>{α}</td>\n      <td>{}</td>\n      <td>city_14</td>\n      <td>3</td>\n    </tr>\n    <tr>\n      <th>599997</th>\n      <td>199999</td>\n      <td>month_1</td>\n      <td>-0.156712</td>\n      <td>-0.204913</td>\n      <td>-0.125831</td>\n      <td>-0.156248</td>\n      <td>channel_code_14</td>\n      <td>city_type_0</td>\n      <td>index_city_code_195</td>\n      <td>1.717879</td>\n      <td>...</td>\n      <td>-0.165588</td>\n      <td>NaN</td>\n      <td>NaN</td>\n      <td>-0.201123</td>\n      <td>NaN</td>\n      <td>NaN</td>\n      <td>{}</td>\n      <td>{}</td>\n      <td>city_1876</td>\n      <td>1</td>\n    </tr>\n    <tr>\n      <th>599998</th>\n      <td>199999</td>\n      <td>month_2</td>\n      <td>-0.156712</td>\n      <td>-0.204913</td>\n      <td>-0.125831</td>\n      <td>-0.156248</td>\n      <td>channel_code_14</td>\n      <td>city_type_0</td>\n      <td>index_city_code_195</td>\n      <td>1.717879</td>\n      <td>...</td>\n      <td>-0.165588</td>\n      <td>NaN</td>\n      <td>NaN</td>\n      <td>-0.201123</td>\n      <td>NaN</td>\n      <td>NaN</td>\n      <td>{}</td>\n      <td>{}</td>\n      <td>city_1876</td>\n      <td>2</td>\n    </tr>\n    <tr>\n      <th>599999</th>\n      <td>199999</td>\n      <td>month_3</td>\n      <td>-0.156712</td>\n      <td>-0.204913</td>\n      <td>-0.125831</td>\n      <td>-0.156248</td>\n      <td>channel_code_14</td>\n      <td>city_type_0</td>\n      <td>index_city_code_195</td>\n      <td>1.717879</td>\n      <td>...</td>\n      <td>-0.165588</td>\n      <td>NaN</td>\n      <td>NaN</td>\n      <td>-0.201123</td>\n      <td>NaN</td>\n      <td>NaN</td>\n      <td>{α}</td>\n      <td>{}</td>\n      <td>city_1876</td>\n      <td>3</td>\n    </tr>\n  </tbody>\n</table>\n<p>600000 rows × 94 columns</p>\n</div>"
     },
     "execution_count": 227,
     "metadata": {},
     "output_type": "execute_result"
    }
   ],
   "source": [
    "\n",
    "train_df['month_number'] = train_df.groupby('id').cumcount() + 1\n",
    "\n",
    "\n",
    "train_df"
   ],
   "metadata": {
    "collapsed": false,
    "ExecuteTime": {
     "end_time": "2024-03-13T16:43:12.927414800Z",
     "start_time": "2024-03-13T16:43:12.730462900Z"
    }
   }
  },
  {
   "cell_type": "code",
   "execution_count": 228,
   "outputs": [
    {
     "name": "stdout",
     "output_type": "stream",
     "text": [
      "<class 'pandas.core.frame.DataFrame'>\n",
      "RangeIndex: 600000 entries, 0 to 599999\n",
      "Data columns (total 94 columns):\n",
      " #   Column                   Non-Null Count   Dtype  \n",
      "---  ------                   --------------   -----  \n",
      " 0   id                       600000 non-null  int64  \n",
      " 1   date                     600000 non-null  object \n",
      " 2   balance_amt_avg          534423 non-null  float64\n",
      " 3   balance_amt_max          534423 non-null  float64\n",
      " 4   balance_amt_min          534423 non-null  float64\n",
      " 5   balance_amt_day_avg      534423 non-null  float64\n",
      " 6   channel_code             557150 non-null  object \n",
      " 7   city_type                521656 non-null  object \n",
      " 8   index_city_code          274776 non-null  object \n",
      " 9   ogrn_days_end_month      568527 non-null  float64\n",
      " 10  ogrn_days_end_quarter    568527 non-null  float64\n",
      " 11  ogrn_month               568527 non-null  object \n",
      " 12  ogrn_year                568527 non-null  object \n",
      " 13  ft_registration_date     568640 non-null  float64\n",
      " 14  max_founderpres          264408 non-null  float64\n",
      " 15  min_founderpres          264408 non-null  float64\n",
      " 16  ogrn_exist_months        568527 non-null  float64\n",
      " 17  okved                    568107 non-null  object \n",
      " 18  segment                  569849 non-null  object \n",
      " 19  sum_of_paym_2m           451116 non-null  float64\n",
      " 20  sum_of_paym_6m           451116 non-null  float64\n",
      " 21  sum_of_paym_1y           451116 non-null  float64\n",
      " 22  sum_a_oper_1m            600000 non-null  float64\n",
      " 23  cnt_a_oper_1m            403819 non-null  float64\n",
      " 24  sum_b_oper_1m            600000 non-null  float64\n",
      " 25  cnt_b_oper_1m            403819 non-null  float64\n",
      " 26  sum_c_oper_1m            600000 non-null  float64\n",
      " 27  cnt_c_oper_1m            403819 non-null  float64\n",
      " 28  sum_deb_d_oper_1m        600000 non-null  float64\n",
      " 29  cnt_deb_d_oper_1m        403819 non-null  float64\n",
      " 30  sum_cred_d_oper_1m       600000 non-null  float64\n",
      " 31  cnt_cred_d_oper_1m       403819 non-null  float64\n",
      " 32  sum_deb_e_oper_1m        600000 non-null  float64\n",
      " 33  cnt_deb_e_oper_1m        403819 non-null  float64\n",
      " 34  cnt_days_deb_e_oper_1m   403819 non-null  float64\n",
      " 35  sum_cred_e_oper_1m       600000 non-null  float64\n",
      " 36  cnt_cred_e_oper_1m       403819 non-null  float64\n",
      " 37  cnt_days_cred_e_oper_1m  403819 non-null  float64\n",
      " 38  sum_deb_f_oper_1m        600000 non-null  float64\n",
      " 39  cnt_deb_f_oper_1m        403819 non-null  float64\n",
      " 40  cnt_days_deb_f_oper_1m   403819 non-null  float64\n",
      " 41  sum_cred_f_oper_1m       600000 non-null  float64\n",
      " 42  cnt_cred_f_oper_1m       403819 non-null  float64\n",
      " 43  cnt_days_cred_f_oper_1m  403819 non-null  float64\n",
      " 44  sum_deb_g_oper_1m        600000 non-null  float64\n",
      " 45  cnt_deb_g_oper_1m        403819 non-null  float64\n",
      " 46  cnt_days_deb_g_oper_1m   403819 non-null  float64\n",
      " 47  sum_cred_g_oper_1m       600000 non-null  float64\n",
      " 48  cnt_cred_g_oper_1m       403819 non-null  float64\n",
      " 49  cnt_days_cred_g_oper_1m  403819 non-null  float64\n",
      " 50  sum_deb_h_oper_1m        600000 non-null  float64\n",
      " 51  cnt_deb_h_oper_1m        403819 non-null  float64\n",
      " 52  cnt_days_deb_h_oper_1m   403819 non-null  float64\n",
      " 53  sum_cred_h_oper_1m       600000 non-null  float64\n",
      " 54  cnt_cred_h_oper_1m       403819 non-null  float64\n",
      " 55  cnt_days_cred_h_oper_1m  403819 non-null  float64\n",
      " 56  sum_a_oper_3m            600000 non-null  float64\n",
      " 57  cnt_a_oper_3m            434748 non-null  float64\n",
      " 58  sum_b_oper_3m            600000 non-null  float64\n",
      " 59  cnt_b_oper_3m            434748 non-null  float64\n",
      " 60  sum_c_oper_3m            600000 non-null  float64\n",
      " 61  cnt_c_oper_3m            434748 non-null  float64\n",
      " 62  sum_deb_d_oper_3m        600000 non-null  float64\n",
      " 63  cnt_deb_d_oper_3m        434748 non-null  float64\n",
      " 64  sum_cred_d_oper_3m       600000 non-null  float64\n",
      " 65  cnt_cred_d_oper_3m       434748 non-null  float64\n",
      " 66  sum_deb_e_oper_3m        600000 non-null  float64\n",
      " 67  cnt_deb_e_oper_3m        434748 non-null  float64\n",
      " 68  cnt_days_deb_e_oper_3m   434748 non-null  float64\n",
      " 69  sum_cred_e_oper_3m       600000 non-null  float64\n",
      " 70  cnt_cred_e_oper_3m       434748 non-null  float64\n",
      " 71  cnt_days_cred_e_oper_3m  434748 non-null  float64\n",
      " 72  sum_deb_f_oper_3m        600000 non-null  float64\n",
      " 73  cnt_deb_f_oper_3m        434748 non-null  float64\n",
      " 74  cnt_days_deb_f_oper_3m   434748 non-null  float64\n",
      " 75  sum_cred_f_oper_3m       600000 non-null  float64\n",
      " 76  cnt_cred_f_oper_3m       434748 non-null  float64\n",
      " 77  cnt_days_cred_f_oper_3m  434748 non-null  float64\n",
      " 78  sum_deb_g_oper_3m        600000 non-null  float64\n",
      " 79  cnt_deb_g_oper_3m        434748 non-null  float64\n",
      " 80  cnt_days_deb_g_oper_3m   434748 non-null  float64\n",
      " 81  sum_cred_g_oper_3m       600000 non-null  float64\n",
      " 82  cnt_cred_g_oper_3m       434748 non-null  float64\n",
      " 83  cnt_days_cred_g_oper_3m  434748 non-null  float64\n",
      " 84  sum_deb_h_oper_3m        600000 non-null  float64\n",
      " 85  cnt_deb_h_oper_3m        434748 non-null  float64\n",
      " 86  cnt_days_deb_h_oper_3m   434748 non-null  float64\n",
      " 87  sum_cred_h_oper_3m       600000 non-null  float64\n",
      " 88  cnt_cred_h_oper_3m       434748 non-null  float64\n",
      " 89  cnt_days_cred_h_oper_3m  434748 non-null  float64\n",
      " 90  start_cluster            600000 non-null  object \n",
      " 91  end_cluster              600000 non-null  object \n",
      " 92  city                     600000 non-null  object \n",
      " 93  month_number             600000 non-null  int64  \n",
      "dtypes: float64(81), int64(2), object(11)\n",
      "memory usage: 430.3+ MB\n"
     ]
    }
   ],
   "source": [
    "train_df.info()"
   ],
   "metadata": {
    "collapsed": false,
    "ExecuteTime": {
     "end_time": "2024-03-13T16:43:13.102086700Z",
     "start_time": "2024-03-13T16:43:12.929421200Z"
    }
   }
  },
  {
   "cell_type": "code",
   "execution_count": 229,
   "outputs": [
    {
     "name": "stderr",
     "output_type": "stream",
     "text": [
      "\n",
      "KeyboardInterrupt\n",
      "\n"
     ]
    }
   ],
   "source": [
    "pivot_columns = [col for col in train_df.columns if col not in ['id', 'date', 'month_number']]\n",
    "\n",
    "df_pivoted = train_df.pivot_table(index='id', columns='month_number', values=pivot_columns, aggfunc='first')\n",
    "\n",
    "# Теперь, когда мы сформировали сводную таблицу, преобразуем MultiIndex столбцы в единый уровень\n",
    "df_pivoted.columns = [f'{col[0]}_{col[1]}month' for col in df_pivoted.columns]\n",
    "\n",
    "# Переименовываем индекс обратно в столбец 'id', если он стал индексом\n",
    "df_pivoted.reset_index(inplace=True)\n",
    "\n",
    "df_pivoted.head()\n",
    "\n"
   ],
   "metadata": {
    "collapsed": false,
    "ExecuteTime": {
     "end_time": "2024-03-13T16:43:14.453313Z",
     "start_time": "2024-03-13T16:43:13.104087Z"
    }
   }
  },
  {
   "cell_type": "code",
   "execution_count": null,
   "outputs": [],
   "source": [
    "df_pivoted.info()"
   ],
   "metadata": {
    "collapsed": false,
    "ExecuteTime": {
     "start_time": "2024-03-13T16:43:14.453313Z"
    }
   }
  },
  {
   "cell_type": "code",
   "execution_count": null,
   "outputs": [],
   "source": [],
   "metadata": {
    "collapsed": false,
    "ExecuteTime": {
     "start_time": "2024-03-13T16:43:14.453313Z"
    }
   }
  },
  {
   "cell_type": "code",
   "execution_count": null,
   "outputs": [],
   "source": [
    "float_cols = df_pivoted.select_dtypes(include=['float64', 'float32'])\n",
    "\n",
    "std_devs = float_cols.std()\n",
    "srted = std_devs.sort_values()\n",
    "\n",
    "srted.head(20)\n"
   ],
   "metadata": {
    "collapsed": false
   }
  },
  {
   "cell_type": "code",
   "execution_count": null,
   "outputs": [],
   "source": [
    "float_cols = df_pivoted.select_dtypes(include=['float64', 'float32'])\n",
    "\n",
    "means = float_cols.mean()\n",
    "\n",
    "std_devs = float_cols.std()\n",
    "\n",
    "cv_percent = (std_devs / abs(means)) * 100\n",
    "\n",
    "sorted_cv_percent = cv_percent.sort_values()\n",
    "\n",
    "print(sorted_cv_percent.iloc[0:50])\n",
    "print(sorted_cv_percent.iloc[50:20])\n"
   ],
   "metadata": {
    "collapsed": false
   }
  },
  {
   "cell_type": "code",
   "execution_count": null,
   "outputs": [],
   "source": [
    "# float_columns = df_pivoted.select_dtypes(include=['float64']).columns\n",
    "# df_pivoted[float_columns] = df_pivoted[float_columns].astype('float32')"
   ],
   "metadata": {
    "collapsed": false
   }
  },
  {
   "cell_type": "code",
   "execution_count": null,
   "id": "2c0edf39-d716-48ca-a66c-936871ee5918",
   "metadata": {
    "execution": {
     "iopub.execute_input": "2024-02-14T23:09:54.944960Z",
     "iopub.status.busy": "2024-02-14T23:09:54.944681Z",
     "iopub.status.idle": "2024-02-14T23:09:55.555948Z",
     "shell.execute_reply": "2024-02-14T23:09:55.554535Z",
     "shell.execute_reply.started": "2024-02-14T23:09:54.944939Z"
    },
    "tags": [],
    "id": "2c0edf39-d716-48ca-a66c-936871ee5918"
   },
   "outputs": [],
   "source": [
    "\n",
    "X = df_pivoted.drop([\n",
    "\"cnt_a_oper_1m_1month\", \"cnt_a_oper_1m_2month\", \"cnt_a_oper_1m_3month\",\n",
    "\"cnt_b_oper_1m_1month\", \"cnt_b_oper_1m_2month\", \"cnt_b_oper_1m_3month\",\n",
    "\"cnt_c_oper_1m_1month\", \"cnt_c_oper_1m_2month\", \"cnt_c_oper_1m_3month\",\n",
    "\"cnt_deb_d_oper_1m_1month\", \"cnt_deb_d_oper_1m_2month\", \"cnt_deb_d_oper_1m_3month\",\n",
    "\"cnt_cred_d_oper_1m_1month\", \"cnt_cred_d_oper_1m_2month\", \"cnt_cred_d_oper_1m_3month\",\n",
    "\"cnt_deb_e_oper_1m_1month\", \"cnt_deb_e_oper_1m_2month\", \"cnt_deb_e_oper_1m_3month\",\n",
    "\"cnt_cred_e_oper_1m_1month\", \"cnt_cred_e_oper_1m_2month\", \"cnt_cred_e_oper_1m_3month\",\n",
    "\"cnt_deb_f_oper_1m_1month\", \"cnt_deb_f_oper_1m_2month\", \"cnt_deb_f_oper_1m_3month\",\n",
    "\"cnt_cred_f_oper_1m_1month\", \"cnt_cred_f_oper_1m_2month\", \"cnt_cred_f_oper_1m_3month\",\n",
    "\"cnt_deb_g_oper_1m_1month\", \"cnt_deb_g_oper_1m_2month\", \"cnt_deb_g_oper_1m_3month\",\n",
    "\"cnt_cred_g_oper_1m_1month\", \"cnt_cred_g_oper_1m_2month\", \"cnt_cred_g_oper_1m_3month\",\n",
    "\"cnt_deb_h_oper_1m_1month\", \"cnt_deb_h_oper_1m_2month\", \"cnt_deb_h_oper_1m_3month\",\n",
    "\"cnt_cred_h_oper_1m_1month\", \"cnt_cred_h_oper_1m_2month\", \"cnt_cred_h_oper_1m_3month\",\n",
    "\"cnt_a_oper_3m_1month\", \"cnt_a_oper_3m_2month\", \"cnt_a_oper_3m_3month\",\n",
    "\"cnt_b_oper_3m_1month\", \"cnt_b_oper_3m_2month\", \"cnt_b_oper_3m_3month\",\n",
    "\"cnt_c_oper_3m_1month\", \"cnt_c_oper_3m_2month\", \"cnt_c_oper_3m_3month\",\n",
    "\"cnt_deb_d_oper_3m_1month\", \"cnt_deb_d_oper_3m_2month\", \"cnt_deb_d_oper_3m_3month\",\n",
    "\"cnt_cred_d_oper_3m_1month\", \"cnt_cred_d_oper_3m_2month\", \"cnt_cred_d_oper_3m_3month\",\n",
    "\"cnt_deb_e_oper_3m_1month\", \"cnt_deb_e_oper_3m_2month\", \"cnt_deb_e_oper_3m_3month\",\n",
    "\"cnt_cred_e_oper_3m_1month\", \"cnt_cred_e_oper_3m_2month\", \"cnt_cred_e_oper_3m_3month\",\n",
    "\"cnt_deb_f_oper_3m_1month\", \"cnt_deb_f_oper_3m_2month\", \"cnt_deb_f_oper_3m_3month\",\n",
    "\"cnt_cred_f_oper_3m_1month\", \"cnt_cred_f_oper_3m_2month\", \"cnt_cred_f_oper_3m_3month\",\n",
    "\"cnt_deb_g_oper_3m_1month\", \"cnt_deb_g_oper_3m_2month\", \"cnt_deb_g_oper_3m_3month\",\n",
    "\"cnt_cred_g_oper_3m_1month\", \"cnt_cred_g_oper_3m_2month\", \"cnt_cred_g_oper_3m_3month\",\n",
    "\"cnt_deb_h_oper_3m_1month\", \"cnt_deb_h_oper_3m_2month\", \"cnt_deb_h_oper_3m_3month\",\n",
    "\"cnt_cred_h_oper_3m_1month\", \"cnt_cred_h_oper_3m_2month\", \"cnt_cred_h_oper_3m_3month\",\n",
    "\n",
    "\"city_type_1month\",\n",
    "\"city_type_2month\",\n",
    "\"city_type_3month\",\n",
    "\"index_city_code_1month\",\n",
    "\"index_city_code_2month\",\n",
    "\"index_city_code_3month\",\n",
    "\n",
    "\"start_cluster_3month\",\n",
    "\"id\",\"end_cluster_3month\", \"end_cluster_2month\", \"end_cluster_1month\"\n",
    "], axis=1)\n",
    "y = df_pivoted[\"end_cluster_3month\"]\n",
    "\n",
    "x_train, x_val, y_train, y_val = train_test_split(X, y, test_size=0.2, random_state=42)"
   ]
  },
  {
   "cell_type": "markdown",
   "source": [],
   "metadata": {
    "id": "vkyL_GYgNMCL"
   },
   "id": "vkyL_GYgNMCL"
  },
  {
   "cell_type": "code",
   "execution_count": null,
   "outputs": [],
   "source": [],
   "metadata": {
    "collapsed": false
   }
  },
  {
   "cell_type": "markdown",
   "source": [
    "В качестве базовой модели возьмем LGBM обучим на всех признаках"
   ],
   "metadata": {
    "id": "nsiLHOP3tyLs"
   },
   "id": "nsiLHOP3tyLs"
  },
  {
   "cell_type": "code",
   "execution_count": null,
   "outputs": [],
   "source": [],
   "metadata": {
    "collapsed": false
   }
  },
  {
   "cell_type": "code",
   "execution_count": null,
   "outputs": [],
   "source": [
    "params_cat = {\n",
    "    \"iterations\":1000,\n",
    "    # \"depth\":9,\n",
    "    \"learning_rate\":0.1,\n",
    "    \"eval_metric\":'AUC',\n",
    "    \"random_seed\":1,\n",
    "    \"bootstrap_type\":'Bayesian',\n",
    "    \"bagging_temperature\":1,\n",
    "    \"od_type\":'Iter',\n",
    "    \"od_wait\":100,\n",
    "    \"task_type\":'GPU'\n",
    "}"
   ],
   "metadata": {
    "collapsed": false
   }
  },
  {
   "cell_type": "code",
   "execution_count": null,
   "id": "6badd1b7-0155-4c85-859d-f075800ede6e",
   "metadata": {
    "execution": {
     "iopub.execute_input": "2024-02-14T23:09:55.557916Z",
     "iopub.status.busy": "2024-02-14T23:09:55.557642Z",
     "iopub.status.idle": "2024-02-14T23:09:55.562656Z",
     "shell.execute_reply": "2024-02-14T23:09:55.562029Z",
     "shell.execute_reply.started": "2024-02-14T23:09:55.557878Z"
    },
    "tags": [],
    "id": "6badd1b7-0155-4c85-859d-f075800ede6e",
    "colab": {
     "base_uri": "https://localhost:8080/",
     "height": 74
    },
    "outputId": "9e5fde0f-da28-40a8-984a-f7bf1a94c82d"
   },
   "outputs": [],
   "source": [
    "from sklearn.model_selection import StratifiedKFold, LeavePOut, RepeatedStratifiedKFold\n",
    "from catboost import  CatBoostClassifier\n",
    "\n",
    "\n",
    "cat_model = CatBoostClassifier(**params_cat)\n",
    "\n",
    "\n",
    "# cv = KFold(n_splits=7)\n",
    "cv = RepeatedStratifiedKFold(n_splits=5, n_repeats=3, random_state=12)\n",
    "\n",
    "# cv = StratifiedKFold(n_splits=6, shuffle=True, random_state=42)\n",
    "auc_scores = []  # Список для хранения показателей AUC для каждого разбиения\n"
   ]
  },
  {
   "cell_type": "code",
   "execution_count": null,
   "outputs": [],
   "source": [
    "def weighted_roc_auc(y_true, y_pred, labels, weights_dict):\n",
    "    unnorm_weights = np.array([weights_dict[label] for label in labels])\n",
    "    weights = unnorm_weights / unnorm_weights.sum()\n",
    "    classes_roc_auc = roc_auc_score(y_true, y_pred, labels=labels,\n",
    "                                    multi_class=\"ovr\", average=None)\n",
    "    return sum(weights * classes_roc_auc)"
   ],
   "metadata": {
    "collapsed": false
   }
  },
  {
   "cell_type": "code",
   "execution_count": null,
   "outputs": [],
   "source": [
    "cluster_weights = pd.read_excel(\"cluster_weights.xlsx\").set_index(\"cluster\")\n",
    "weights_dict = cluster_weights[\"unnorm_weight\"].to_dict()"
   ],
   "metadata": {
    "collapsed": false
   }
  },
  {
   "cell_type": "code",
   "execution_count": null,
   "outputs": [],
   "source": [
    "# weights_dict"
   ],
   "metadata": {
    "collapsed": false
   }
  },
  {
   "cell_type": "code",
   "execution_count": null,
   "outputs": [],
   "source": [
    "cat_features = [col for col in X.columns if X[col].dtype.name == 'category' or X[col].dtype.name == 'object']\n",
    "for col in cat_features:\n",
    "    X[col] = X[col].astype('category')\n",
    "    #test_df[col] = test_df[col].astype('category')\n",
    "\n"
   ],
   "metadata": {
    "collapsed": false
   }
  },
  {
   "cell_type": "code",
   "execution_count": null,
   "outputs": [],
   "source": [
    "y = y.astype('category')\n",
    "# y = y.cat.add_categories('Missing').fillna('Missing')"
   ],
   "metadata": {
    "collapsed": false
   }
  },
  {
   "cell_type": "code",
   "execution_count": null,
   "outputs": [],
   "source": [
    "cat_features = [col for col in X.columns if X[col].dtype.name == 'category' or X[col].dtype.name == 'object']\n",
    "for col in cat_features:\n",
    "    X[col] = X[col].cat.add_categories('Missing').fillna('Missing')\n",
    "cat_features"
   ],
   "metadata": {
    "collapsed": false
   }
  },
  {
   "cell_type": "code",
   "execution_count": null,
   "outputs": [],
   "source": [],
   "metadata": {
    "collapsed": false
   }
  },
  {
   "cell_type": "code",
   "execution_count": null,
   "outputs": [],
   "source": [
    "cat_features = [col for col in X.columns if X[col].dtype.name == 'category' or X[col].dtype.name == 'object']\n",
    "cat_features"
   ],
   "metadata": {
    "collapsed": false
   }
  },
  {
   "cell_type": "code",
   "execution_count": null,
   "outputs": [],
   "source": [
    "X"
   ],
   "metadata": {
    "collapsed": false
   }
  },
  {
   "cell_type": "code",
   "execution_count": null,
   "outputs": [],
   "source": [
    "y_val.info()"
   ],
   "metadata": {
    "collapsed": false
   }
  },
  {
   "cell_type": "code",
   "execution_count": null,
   "outputs": [],
   "source": [
    "i=0\n",
    "for train_idx, val_idx in cv.split(X, y):\n",
    "    if((i==7) or (i==12) or (i==14) or (i==4)):\n",
    "        print(f\"\\n\\ni: {i} \")\n",
    "        x_train, x_val = X.iloc[train_idx], X.iloc[val_idx]\n",
    "        y_train, y_val = y.iloc[train_idx], y.iloc[val_idx]\n",
    "        cat_model.fit(\n",
    "            x_train, y_train,\n",
    "            eval_set=(x_val, y_val),\n",
    "            cat_features=cat_features,\n",
    "            use_best_model=True,\n",
    "            verbose=True\n",
    "         )\n",
    "\n",
    "        y_pred_proba = cat_model.predict_proba(x_val)\n",
    "        cat_model.save_model(f'meth4+city_other/model_{i}.cbm')\n",
    "        #i+=1\n",
    "\n",
    "        auc_score = weighted_roc_auc(y_val, y_pred_proba, cat_model.classes_, weights_dict)\n",
    "        auc_scores.append(auc_score)\n",
    "    i+=1\n",
    "\n",
    "mean_auc = np.mean(auc_scores)\n",
    "std_auc = np.std(auc_scores)\n",
    "print(f\"Средний взвешенный ROC AUC: {mean_auc:.3f} ± {std_auc:.3f}\")\n"
   ],
   "metadata": {
    "collapsed": false
   }
  }
 ],
 "metadata": {
  "kernelspec": {
   "display_name": "python3",
   "language": "python",
   "name": "python3"
  },
  "language_info": {
   "codemirror_mode": {
    "name": "ipython",
    "version": 3
   },
   "file_extension": ".py",
   "mimetype": "text/x-python",
   "name": "python",
   "nbconvert_exporter": "python",
   "pygments_lexer": "ipython3",
   "version": "3.7.12"
  },
  "colab": {
   "provenance": []
  }
 },
 "nbformat": 4,
 "nbformat_minor": 5
}
