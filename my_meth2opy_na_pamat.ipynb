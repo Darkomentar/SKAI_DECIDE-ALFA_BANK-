{
 "cells": [
  {
   "cell_type": "markdown",
   "id": "8b7bef09-9e86-4b19-bbb7-e0ccb7515328",
   "metadata": {
    "execution": {
     "iopub.execute_input": "2024-02-14T22:50:38.627643Z",
     "iopub.status.busy": "2024-02-14T22:50:38.627255Z",
     "iopub.status.idle": "2024-02-14T22:50:39.496067Z",
     "shell.execute_reply": "2024-02-14T22:50:39.495215Z",
     "shell.execute_reply.started": "2024-02-14T22:50:38.627616Z"
    },
    "tags": [],
    "id": "8b7bef09-9e86-4b19-bbb7-e0ccb7515328"
   },
   "source": [
    "# Baseline"
   ]
  },
  {
   "cell_type": "code",
   "execution_count": 23,
   "id": "e0ddb399-18f4-4051-86c0-39f1c623eef5",
   "metadata": {
    "execution": {
     "iopub.execute_input": "2024-02-15T11:34:39.109032Z",
     "iopub.status.busy": "2024-02-15T11:34:39.108624Z",
     "iopub.status.idle": "2024-02-15T11:34:39.955360Z",
     "shell.execute_reply": "2024-02-15T11:34:39.954584Z",
     "shell.execute_reply.started": "2024-02-15T11:34:39.109007Z"
    },
    "tags": [],
    "id": "e0ddb399-18f4-4051-86c0-39f1c623eef5",
    "ExecuteTime": {
     "end_time": "2024-03-12T12:16:57.483664800Z",
     "start_time": "2024-03-12T12:16:57.394491300Z"
    }
   },
   "outputs": [],
   "source": [
    "import numpy as np\n",
    "import pandas as pd\n",
    "from lightgbm import LGBMClassifier\n",
    "from sklearn.metrics import roc_auc_score\n",
    "from sklearn.model_selection import train_test_split, cross_validate, StratifiedGroupKFold, KFold"
   ]
  },
  {
   "cell_type": "markdown",
   "id": "cbcf3aae-5417-42a3-9ed2-818b9aef0f2f",
   "metadata": {
    "id": "cbcf3aae-5417-42a3-9ed2-818b9aef0f2f"
   },
   "source": [
    "## Загрузка данных"
   ]
  },
  {
   "cell_type": "code",
   "execution_count": 24,
   "id": "32c8b1b0-f95e-4cb5-bbc1-c0edb76568c1",
   "metadata": {
    "execution": {
     "iopub.execute_input": "2024-02-15T11:34:44.750723Z",
     "iopub.status.busy": "2024-02-15T11:34:44.750145Z",
     "iopub.status.idle": "2024-02-15T11:34:46.098228Z",
     "shell.execute_reply": "2024-02-15T11:34:46.097494Z",
     "shell.execute_reply.started": "2024-02-15T11:34:44.750694Z"
    },
    "tags": [],
    "id": "32c8b1b0-f95e-4cb5-bbc1-c0edb76568c1",
    "ExecuteTime": {
     "end_time": "2024-03-12T12:16:57.990395200Z",
     "start_time": "2024-03-12T12:16:57.405587200Z"
    }
   },
   "outputs": [],
   "source": [
    "train_df = pd.read_parquet(\"train_data.pqt\")\n",
    "test_df = pd.read_parquet(\"test_data.pqt\")"
   ]
  },
  {
   "cell_type": "code",
   "execution_count": 25,
   "outputs": [
    {
     "data": {
      "text/plain": "            id     date  balance_amt_avg  balance_amt_max  balance_amt_min  \\\n0            0  month_1         0.744845         0.705492         1.287207   \n1            0  month_2         1.049605         0.831916         2.458609   \n2            0  month_3         0.692653         0.740253         0.430042   \n3            1  month_1        -0.081586        -0.091860        -0.114040   \n4            1  month_2        -0.094962        -0.100504        -0.119302   \n...        ...      ...              ...              ...              ...   \n599995  199998  month_2        -0.156775        -0.204960        -0.125987   \n599996  199998  month_3        -0.156776        -0.204960        -0.125995   \n599997  199999  month_1        -0.156712        -0.204913        -0.125831   \n599998  199999  month_2        -0.156712        -0.204913        -0.125831   \n599999  199999  month_3        -0.156712        -0.204913        -0.125831   \n\n        balance_amt_day_avg     channel_code       city    city_type  \\\n0                  0.748101   channel_code_5    city_23  city_type_0   \n1                  1.053805   channel_code_5    city_23  city_type_0   \n2                  0.695747   channel_code_5    city_23  city_type_0   \n3                 -0.080890   channel_code_2    city_14  city_type_0   \n4                 -0.094307   channel_code_2    city_14  city_type_0   \n...                     ...              ...        ...          ...   \n599995            -0.156311   channel_code_9    city_14  city_type_0   \n599996            -0.156312   channel_code_9    city_14  city_type_0   \n599997            -0.156248  channel_code_14  city_1876  city_type_0   \n599998            -0.156248  channel_code_14  city_1876  city_type_0   \n599999            -0.156248  channel_code_14  city_1876  city_type_0   \n\n            index_city_code  ...  cnt_cred_g_oper_3m  cnt_days_cred_g_oper_3m  \\\n0        index_city_code_39  ...            0.951166                 0.568681   \n1        index_city_code_39  ...            0.948812                 0.499716   \n2        index_city_code_39  ...            0.946458                 0.442244   \n3                      None  ...            0.945281                 0.407762   \n4                      None  ...            0.946066                 0.430750   \n...                     ...  ...                 ...                      ...   \n599995                 None  ...                 NaN                      NaN   \n599996                 None  ...            0.944497                 0.384773   \n599997  index_city_code_195  ...                 NaN                      NaN   \n599998  index_city_code_195  ...                 NaN                      NaN   \n599999  index_city_code_195  ...                 NaN                      NaN   \n\n       sum_deb_h_oper_3m cnt_deb_h_oper_3m  cnt_days_deb_h_oper_3m  \\\n0               0.897565          0.553624                0.774354   \n1               0.785029          0.551904                0.696576   \n2               0.877050          0.551044                0.663243   \n3               0.369318          0.567093                0.785465   \n4               0.067275          0.559928                0.696576   \n...                  ...               ...                     ...   \n599995         -0.165588               NaN                     NaN   \n599996         -0.165588          0.546889                0.407687   \n599997         -0.165588               NaN                     NaN   \n599998         -0.165588               NaN                     NaN   \n599999         -0.165588               NaN                     NaN   \n\n        sum_cred_h_oper_3m  cnt_cred_h_oper_3m  cnt_days_cred_h_oper_3m  \\\n0                 0.936506            0.295984                 0.967947   \n1                 0.990157            0.298873                 0.945969   \n2                 0.810065            0.294829                 0.956958   \n3                -0.184002            0.253523                 0.462452   \n4                -0.183854            0.255545                 0.495419   \n...                    ...                 ...                      ...   \n599995           -0.201123                 NaN                      NaN   \n599996           -0.201123            0.250924                 0.374540   \n599997           -0.201123                 NaN                      NaN   \n599998           -0.201123                 NaN                      NaN   \n599999           -0.201123                 NaN                      NaN   \n\n       start_cluster end_cluster  \n0             {α, γ}     {other}  \n1             {α, γ}     {other}  \n2             {α, γ}     {other}  \n3            {other}     {other}  \n4            {other}     {other}  \n...              ...         ...  \n599995            {}          {}  \n599996           {α}          {}  \n599997            {}          {}  \n599998            {}          {}  \n599999           {α}          {}  \n\n[600000 rows x 93 columns]",
      "text/html": "<div>\n<style scoped>\n    .dataframe tbody tr th:only-of-type {\n        vertical-align: middle;\n    }\n\n    .dataframe tbody tr th {\n        vertical-align: top;\n    }\n\n    .dataframe thead th {\n        text-align: right;\n    }\n</style>\n<table border=\"1\" class=\"dataframe\">\n  <thead>\n    <tr style=\"text-align: right;\">\n      <th></th>\n      <th>id</th>\n      <th>date</th>\n      <th>balance_amt_avg</th>\n      <th>balance_amt_max</th>\n      <th>balance_amt_min</th>\n      <th>balance_amt_day_avg</th>\n      <th>channel_code</th>\n      <th>city</th>\n      <th>city_type</th>\n      <th>index_city_code</th>\n      <th>...</th>\n      <th>cnt_cred_g_oper_3m</th>\n      <th>cnt_days_cred_g_oper_3m</th>\n      <th>sum_deb_h_oper_3m</th>\n      <th>cnt_deb_h_oper_3m</th>\n      <th>cnt_days_deb_h_oper_3m</th>\n      <th>sum_cred_h_oper_3m</th>\n      <th>cnt_cred_h_oper_3m</th>\n      <th>cnt_days_cred_h_oper_3m</th>\n      <th>start_cluster</th>\n      <th>end_cluster</th>\n    </tr>\n  </thead>\n  <tbody>\n    <tr>\n      <th>0</th>\n      <td>0</td>\n      <td>month_1</td>\n      <td>0.744845</td>\n      <td>0.705492</td>\n      <td>1.287207</td>\n      <td>0.748101</td>\n      <td>channel_code_5</td>\n      <td>city_23</td>\n      <td>city_type_0</td>\n      <td>index_city_code_39</td>\n      <td>...</td>\n      <td>0.951166</td>\n      <td>0.568681</td>\n      <td>0.897565</td>\n      <td>0.553624</td>\n      <td>0.774354</td>\n      <td>0.936506</td>\n      <td>0.295984</td>\n      <td>0.967947</td>\n      <td>{α, γ}</td>\n      <td>{other}</td>\n    </tr>\n    <tr>\n      <th>1</th>\n      <td>0</td>\n      <td>month_2</td>\n      <td>1.049605</td>\n      <td>0.831916</td>\n      <td>2.458609</td>\n      <td>1.053805</td>\n      <td>channel_code_5</td>\n      <td>city_23</td>\n      <td>city_type_0</td>\n      <td>index_city_code_39</td>\n      <td>...</td>\n      <td>0.948812</td>\n      <td>0.499716</td>\n      <td>0.785029</td>\n      <td>0.551904</td>\n      <td>0.696576</td>\n      <td>0.990157</td>\n      <td>0.298873</td>\n      <td>0.945969</td>\n      <td>{α, γ}</td>\n      <td>{other}</td>\n    </tr>\n    <tr>\n      <th>2</th>\n      <td>0</td>\n      <td>month_3</td>\n      <td>0.692653</td>\n      <td>0.740253</td>\n      <td>0.430042</td>\n      <td>0.695747</td>\n      <td>channel_code_5</td>\n      <td>city_23</td>\n      <td>city_type_0</td>\n      <td>index_city_code_39</td>\n      <td>...</td>\n      <td>0.946458</td>\n      <td>0.442244</td>\n      <td>0.877050</td>\n      <td>0.551044</td>\n      <td>0.663243</td>\n      <td>0.810065</td>\n      <td>0.294829</td>\n      <td>0.956958</td>\n      <td>{α, γ}</td>\n      <td>{other}</td>\n    </tr>\n    <tr>\n      <th>3</th>\n      <td>1</td>\n      <td>month_1</td>\n      <td>-0.081586</td>\n      <td>-0.091860</td>\n      <td>-0.114040</td>\n      <td>-0.080890</td>\n      <td>channel_code_2</td>\n      <td>city_14</td>\n      <td>city_type_0</td>\n      <td>None</td>\n      <td>...</td>\n      <td>0.945281</td>\n      <td>0.407762</td>\n      <td>0.369318</td>\n      <td>0.567093</td>\n      <td>0.785465</td>\n      <td>-0.184002</td>\n      <td>0.253523</td>\n      <td>0.462452</td>\n      <td>{other}</td>\n      <td>{other}</td>\n    </tr>\n    <tr>\n      <th>4</th>\n      <td>1</td>\n      <td>month_2</td>\n      <td>-0.094962</td>\n      <td>-0.100504</td>\n      <td>-0.119302</td>\n      <td>-0.094307</td>\n      <td>channel_code_2</td>\n      <td>city_14</td>\n      <td>city_type_0</td>\n      <td>None</td>\n      <td>...</td>\n      <td>0.946066</td>\n      <td>0.430750</td>\n      <td>0.067275</td>\n      <td>0.559928</td>\n      <td>0.696576</td>\n      <td>-0.183854</td>\n      <td>0.255545</td>\n      <td>0.495419</td>\n      <td>{other}</td>\n      <td>{other}</td>\n    </tr>\n    <tr>\n      <th>...</th>\n      <td>...</td>\n      <td>...</td>\n      <td>...</td>\n      <td>...</td>\n      <td>...</td>\n      <td>...</td>\n      <td>...</td>\n      <td>...</td>\n      <td>...</td>\n      <td>...</td>\n      <td>...</td>\n      <td>...</td>\n      <td>...</td>\n      <td>...</td>\n      <td>...</td>\n      <td>...</td>\n      <td>...</td>\n      <td>...</td>\n      <td>...</td>\n      <td>...</td>\n      <td>...</td>\n    </tr>\n    <tr>\n      <th>599995</th>\n      <td>199998</td>\n      <td>month_2</td>\n      <td>-0.156775</td>\n      <td>-0.204960</td>\n      <td>-0.125987</td>\n      <td>-0.156311</td>\n      <td>channel_code_9</td>\n      <td>city_14</td>\n      <td>city_type_0</td>\n      <td>None</td>\n      <td>...</td>\n      <td>NaN</td>\n      <td>NaN</td>\n      <td>-0.165588</td>\n      <td>NaN</td>\n      <td>NaN</td>\n      <td>-0.201123</td>\n      <td>NaN</td>\n      <td>NaN</td>\n      <td>{}</td>\n      <td>{}</td>\n    </tr>\n    <tr>\n      <th>599996</th>\n      <td>199998</td>\n      <td>month_3</td>\n      <td>-0.156776</td>\n      <td>-0.204960</td>\n      <td>-0.125995</td>\n      <td>-0.156312</td>\n      <td>channel_code_9</td>\n      <td>city_14</td>\n      <td>city_type_0</td>\n      <td>None</td>\n      <td>...</td>\n      <td>0.944497</td>\n      <td>0.384773</td>\n      <td>-0.165588</td>\n      <td>0.546889</td>\n      <td>0.407687</td>\n      <td>-0.201123</td>\n      <td>0.250924</td>\n      <td>0.374540</td>\n      <td>{α}</td>\n      <td>{}</td>\n    </tr>\n    <tr>\n      <th>599997</th>\n      <td>199999</td>\n      <td>month_1</td>\n      <td>-0.156712</td>\n      <td>-0.204913</td>\n      <td>-0.125831</td>\n      <td>-0.156248</td>\n      <td>channel_code_14</td>\n      <td>city_1876</td>\n      <td>city_type_0</td>\n      <td>index_city_code_195</td>\n      <td>...</td>\n      <td>NaN</td>\n      <td>NaN</td>\n      <td>-0.165588</td>\n      <td>NaN</td>\n      <td>NaN</td>\n      <td>-0.201123</td>\n      <td>NaN</td>\n      <td>NaN</td>\n      <td>{}</td>\n      <td>{}</td>\n    </tr>\n    <tr>\n      <th>599998</th>\n      <td>199999</td>\n      <td>month_2</td>\n      <td>-0.156712</td>\n      <td>-0.204913</td>\n      <td>-0.125831</td>\n      <td>-0.156248</td>\n      <td>channel_code_14</td>\n      <td>city_1876</td>\n      <td>city_type_0</td>\n      <td>index_city_code_195</td>\n      <td>...</td>\n      <td>NaN</td>\n      <td>NaN</td>\n      <td>-0.165588</td>\n      <td>NaN</td>\n      <td>NaN</td>\n      <td>-0.201123</td>\n      <td>NaN</td>\n      <td>NaN</td>\n      <td>{}</td>\n      <td>{}</td>\n    </tr>\n    <tr>\n      <th>599999</th>\n      <td>199999</td>\n      <td>month_3</td>\n      <td>-0.156712</td>\n      <td>-0.204913</td>\n      <td>-0.125831</td>\n      <td>-0.156248</td>\n      <td>channel_code_14</td>\n      <td>city_1876</td>\n      <td>city_type_0</td>\n      <td>index_city_code_195</td>\n      <td>...</td>\n      <td>NaN</td>\n      <td>NaN</td>\n      <td>-0.165588</td>\n      <td>NaN</td>\n      <td>NaN</td>\n      <td>-0.201123</td>\n      <td>NaN</td>\n      <td>NaN</td>\n      <td>{α}</td>\n      <td>{}</td>\n    </tr>\n  </tbody>\n</table>\n<p>600000 rows × 93 columns</p>\n</div>"
     },
     "execution_count": 25,
     "metadata": {},
     "output_type": "execute_result"
    }
   ],
   "source": [
    "train_df"
   ],
   "metadata": {
    "collapsed": false,
    "ExecuteTime": {
     "end_time": "2024-03-12T12:16:58.149573700Z",
     "start_time": "2024-03-12T12:16:57.991396Z"
    }
   }
  },
  {
   "cell_type": "code",
   "execution_count": 26,
   "id": "8caad423-0805-4b57-9d02-8ae203be2e65",
   "metadata": {
    "execution": {
     "iopub.execute_input": "2024-02-14T23:09:54.192532Z",
     "iopub.status.busy": "2024-02-14T23:09:54.192285Z",
     "iopub.status.idle": "2024-02-14T23:09:54.214362Z",
     "shell.execute_reply": "2024-02-14T23:09:54.213854Z",
     "shell.execute_reply.started": "2024-02-14T23:09:54.192509Z"
    },
    "tags": [],
    "colab": {
     "base_uri": "https://localhost:8080/",
     "height": 193
    },
    "id": "8caad423-0805-4b57-9d02-8ae203be2e65",
    "outputId": "824bb6af-08be-4561-881b-3c3572e6bcdb",
    "ExecuteTime": {
     "end_time": "2024-03-12T12:16:58.229203800Z",
     "start_time": "2024-03-12T12:16:58.151567900Z"
    }
   },
   "outputs": [
    {
     "data": {
      "text/plain": "    id     date  balance_amt_avg  balance_amt_max  balance_amt_min  \\\n0    0  month_1         0.744845         0.705492         1.287207   \n1    0  month_2         1.049605         0.831916         2.458609   \n2    0  month_3         0.692653         0.740253         0.430042   \n3    1  month_1        -0.081586        -0.091860        -0.114040   \n4    1  month_2        -0.094962        -0.100504        -0.119302   \n5    1  month_3        -0.090605        -0.114275        -0.114119   \n6    2  month_1        -0.154685        -0.186795        -0.122805   \n7    2  month_2        -0.152784        -0.193686        -0.122805   \n8    2  month_3        -0.148737        -0.187003        -0.112416   \n9    3  month_1        -0.156643        -0.204861        -0.125660   \n10   3  month_2        -0.156666        -0.204790        -0.125995   \n11   3  month_3        -0.156522        -0.204718        -0.125759   \n12   4  month_1        -0.138847        -0.182486        -0.125630   \n13   4  month_2        -0.129233        -0.162965        -0.108713   \n14   4  month_3        -0.141798        -0.170262        -0.125672   \n15   5  month_1              NaN              NaN              NaN   \n16   5  month_2              NaN              NaN              NaN   \n17   5  month_3              NaN              NaN              NaN   \n18   6  month_1        -0.012978         0.167324        -0.105271   \n19   6  month_2         0.166101         0.166826         0.102481   \n20   6  month_3        -0.126878        -0.116844        -0.124882   \n21   7  month_1        -0.156437        -0.204698        -0.125176   \n22   7  month_2        -0.156426        -0.204698        -0.125119   \n23   7  month_3        -0.156215        -0.204464        -0.125995   \n24   8  month_1        -0.146542        -0.193037        -0.121922   \n25   8  month_2        -0.143509        -0.187596        -0.125143   \n26   8  month_3        -0.152684        -0.197020        -0.125995   \n27   9  month_1        -0.156411        -0.204687        -0.125084   \n28   9  month_2        -0.156411        -0.204687        -0.125084   \n29   9  month_3        -0.156411        -0.204687        -0.125084   \n\n    balance_amt_day_avg     channel_code       city      city_type  \\\n0              0.748101   channel_code_5    city_23    city_type_0   \n1              1.053805   channel_code_5    city_23    city_type_0   \n2              0.695747   channel_code_5    city_23    city_type_0   \n3             -0.080890   channel_code_2    city_14    city_type_0   \n4             -0.094307   channel_code_2    city_14    city_type_0   \n5             -0.089937   channel_code_2    city_14    city_type_0   \n6             -0.154215  channel_code_12   city_613  city_type_306   \n7             -0.152308  channel_code_12   city_613  city_type_306   \n8             -0.148249  channel_code_12   city_613  city_type_306   \n9             -0.156179  channel_code_14    city_21    city_type_0   \n10            -0.156202  channel_code_14    city_21    city_type_0   \n11            -0.156058  channel_code_14    city_21    city_type_0   \n12            -0.138328   channel_code_8    city_21    city_type_0   \n13            -0.128684   channel_code_8    city_21    city_type_0   \n14            -0.141289   channel_code_8    city_21    city_type_0   \n15                  NaN             None       None           None   \n16                  NaN             None       None           None   \n17                  NaN  channel_code_21       None           None   \n18            -0.012069   channel_code_5    city_25    city_type_0   \n19             0.167564   channel_code_5    city_25    city_type_0   \n20            -0.126322   channel_code_5    city_25    city_type_0   \n21            -0.155972  channel_code_31    city_39    city_type_0   \n22            -0.155961  channel_code_31    city_39    city_type_0   \n23            -0.155954  channel_code_31    city_39    city_type_0   \n24            -0.146047   channel_code_8    city_65    city_type_0   \n25            -0.143004   channel_code_8    city_65    city_type_0   \n26            -0.152208   channel_code_8    city_65    city_type_0   \n27            -0.155947   channel_code_4  city_1081  city_type_639   \n28            -0.155947   channel_code_4  city_1081  city_type_639   \n29            -0.155947   channel_code_4  city_1081  city_type_639   \n\n       index_city_code  ...  cnt_cred_g_oper_3m  cnt_days_cred_g_oper_3m  \\\n0   index_city_code_39  ...            0.951166                 0.568681   \n1   index_city_code_39  ...            0.948812                 0.499716   \n2   index_city_code_39  ...            0.946458                 0.442244   \n3                 None  ...            0.945281                 0.407762   \n4                 None  ...            0.946066                 0.430750   \n5                 None  ...            0.948027                 0.488221   \n6                 None  ...            0.944497                 0.384773   \n7                 None  ...            0.944497                 0.384773   \n8                 None  ...            0.944497                 0.384773   \n9   index_city_code_46  ...            0.944497                 0.384773   \n10  index_city_code_46  ...            0.944497                 0.384773   \n11  index_city_code_46  ...            0.944497                 0.384773   \n12                None  ...            0.957443                 0.672129   \n13                None  ...            0.958620                 0.683624   \n14                None  ...            0.957051                 0.637647   \n15                None  ...                 NaN                      NaN   \n16                None  ...                 NaN                      NaN   \n17   index_city_code_5  ...                 NaN                      NaN   \n18  index_city_code_30  ...            0.944889                 0.396267   \n19  index_city_code_30  ...            0.944497                 0.384773   \n20  index_city_code_30  ...            0.944497                 0.384773   \n21  index_city_code_11  ...            0.944497                 0.384773   \n22  index_city_code_11  ...            0.944497                 0.384773   \n23  index_city_code_11  ...            0.944497                 0.384773   \n24  index_city_code_56  ...            0.944497                 0.384773   \n25  index_city_code_56  ...            0.944497                 0.384773   \n26  index_city_code_56  ...            0.944497                 0.384773   \n27  index_city_code_91  ...                 NaN                      NaN   \n28  index_city_code_91  ...                 NaN                      NaN   \n29  index_city_code_91  ...                 NaN                      NaN   \n\n   sum_deb_h_oper_3m cnt_deb_h_oper_3m  cnt_days_deb_h_oper_3m  \\\n0           0.897565          0.553624                0.774354   \n1           0.785029          0.551904                0.696576   \n2           0.877050          0.551044                0.663243   \n3           0.369318          0.567093                0.785465   \n4           0.067275          0.559928                0.696576   \n5           0.043221          0.560788                0.707687   \n6          -0.165588          0.546889                0.407687   \n7          -0.165588          0.546889                0.407687   \n8          -0.165588          0.546889                0.407687   \n9          -0.165588          0.546889                0.407687   \n10         -0.165588          0.546889                0.407687   \n11         -0.165588          0.546889                0.407687   \n12         -0.078233          0.558209                0.707687   \n13         -0.078363          0.557779                0.641020   \n14         -0.078297          0.556919                0.641020   \n15         -0.165588               NaN                     NaN   \n16         -0.165588               NaN                     NaN   \n17         -0.165588               NaN                     NaN   \n18          0.941555          0.567952                0.929909   \n19          0.944451          0.570961                0.974354   \n20          0.879821          0.568239                0.952131   \n21         -0.165588          0.546889                0.407687   \n22         -0.165588          0.546889                0.407687   \n23         -0.165588          0.546889                0.407687   \n24         -0.158619          0.548609                0.518798   \n25         -0.164109          0.547749                0.463243   \n26         -0.164504          0.547462                0.441020   \n27         -0.165588               NaN                     NaN   \n28         -0.165588               NaN                     NaN   \n29         -0.165588               NaN                     NaN   \n\n    sum_cred_h_oper_3m  cnt_cred_h_oper_3m  cnt_days_cred_h_oper_3m  \\\n0             0.936506            0.295984                 0.967947   \n1             0.990157            0.298873                 0.945969   \n2             0.810065            0.294829                 0.956958   \n3            -0.184002            0.253523                 0.462452   \n4            -0.183854            0.255545                 0.495419   \n5            -0.167905            0.259011                 0.605309   \n6            -0.178674            0.252657                 0.440474   \n7            -0.177854            0.252657                 0.440474   \n8            -0.176302            0.252368                 0.429485   \n9            -0.201123            0.250924                 0.374540   \n10           -0.201123            0.250924                 0.374540   \n11           -0.201123            0.250924                 0.374540   \n12           -0.178408            0.252946                 0.440474   \n13           -0.176923            0.253234                 0.451463   \n14           -0.172533            0.253523                 0.462452   \n15           -0.201123                 NaN                      NaN   \n16           -0.201123                 NaN                      NaN   \n17           -0.201123                 NaN                      NaN   \n18            0.154326            0.252657                 0.440474   \n19            0.032227            0.252368                 0.429485   \n20           -0.033173            0.251790                 0.407507   \n21           -0.200301            0.251212                 0.385529   \n22           -0.200301            0.251212                 0.385529   \n23           -0.200301            0.251212                 0.385529   \n24           -0.163534            0.274032                 0.539375   \n25           -0.176061            0.256412                 0.484430   \n26           -0.177143            0.253523                 0.440474   \n27           -0.201123                 NaN                      NaN   \n28           -0.201123                 NaN                      NaN   \n29           -0.201123                 NaN                      NaN   \n\n   start_cluster end_cluster  \n0         {α, γ}     {other}  \n1         {α, γ}     {other}  \n2         {α, γ}     {other}  \n3        {other}     {other}  \n4        {other}     {other}  \n5        {other}     {other}  \n6            {α}         {α}  \n7            {α}         {α}  \n8            {α}         {α}  \n9            {α}         {α}  \n10           {α}      {α, γ}  \n11           {α}      {α, γ}  \n12           {α}         {α}  \n13           {α}         {α}  \n14           {α}         {α}  \n15            {}         {α}  \n16            {}         {α}  \n17           {α}         {α}  \n18        {α, γ}      {α, γ}  \n19        {α, γ}      {α, γ}  \n20        {α, γ}      {α, γ}  \n21           {α}         {α}  \n22           {α}         {α}  \n23           {α}         {α}  \n24        {α, γ}         {α}  \n25        {α, γ}         {α}  \n26        {α, γ}         {α}  \n27           {α}         {α}  \n28           {α}         {α}  \n29           {α}          {}  \n\n[30 rows x 93 columns]",
      "text/html": "<div>\n<style scoped>\n    .dataframe tbody tr th:only-of-type {\n        vertical-align: middle;\n    }\n\n    .dataframe tbody tr th {\n        vertical-align: top;\n    }\n\n    .dataframe thead th {\n        text-align: right;\n    }\n</style>\n<table border=\"1\" class=\"dataframe\">\n  <thead>\n    <tr style=\"text-align: right;\">\n      <th></th>\n      <th>id</th>\n      <th>date</th>\n      <th>balance_amt_avg</th>\n      <th>balance_amt_max</th>\n      <th>balance_amt_min</th>\n      <th>balance_amt_day_avg</th>\n      <th>channel_code</th>\n      <th>city</th>\n      <th>city_type</th>\n      <th>index_city_code</th>\n      <th>...</th>\n      <th>cnt_cred_g_oper_3m</th>\n      <th>cnt_days_cred_g_oper_3m</th>\n      <th>sum_deb_h_oper_3m</th>\n      <th>cnt_deb_h_oper_3m</th>\n      <th>cnt_days_deb_h_oper_3m</th>\n      <th>sum_cred_h_oper_3m</th>\n      <th>cnt_cred_h_oper_3m</th>\n      <th>cnt_days_cred_h_oper_3m</th>\n      <th>start_cluster</th>\n      <th>end_cluster</th>\n    </tr>\n  </thead>\n  <tbody>\n    <tr>\n      <th>0</th>\n      <td>0</td>\n      <td>month_1</td>\n      <td>0.744845</td>\n      <td>0.705492</td>\n      <td>1.287207</td>\n      <td>0.748101</td>\n      <td>channel_code_5</td>\n      <td>city_23</td>\n      <td>city_type_0</td>\n      <td>index_city_code_39</td>\n      <td>...</td>\n      <td>0.951166</td>\n      <td>0.568681</td>\n      <td>0.897565</td>\n      <td>0.553624</td>\n      <td>0.774354</td>\n      <td>0.936506</td>\n      <td>0.295984</td>\n      <td>0.967947</td>\n      <td>{α, γ}</td>\n      <td>{other}</td>\n    </tr>\n    <tr>\n      <th>1</th>\n      <td>0</td>\n      <td>month_2</td>\n      <td>1.049605</td>\n      <td>0.831916</td>\n      <td>2.458609</td>\n      <td>1.053805</td>\n      <td>channel_code_5</td>\n      <td>city_23</td>\n      <td>city_type_0</td>\n      <td>index_city_code_39</td>\n      <td>...</td>\n      <td>0.948812</td>\n      <td>0.499716</td>\n      <td>0.785029</td>\n      <td>0.551904</td>\n      <td>0.696576</td>\n      <td>0.990157</td>\n      <td>0.298873</td>\n      <td>0.945969</td>\n      <td>{α, γ}</td>\n      <td>{other}</td>\n    </tr>\n    <tr>\n      <th>2</th>\n      <td>0</td>\n      <td>month_3</td>\n      <td>0.692653</td>\n      <td>0.740253</td>\n      <td>0.430042</td>\n      <td>0.695747</td>\n      <td>channel_code_5</td>\n      <td>city_23</td>\n      <td>city_type_0</td>\n      <td>index_city_code_39</td>\n      <td>...</td>\n      <td>0.946458</td>\n      <td>0.442244</td>\n      <td>0.877050</td>\n      <td>0.551044</td>\n      <td>0.663243</td>\n      <td>0.810065</td>\n      <td>0.294829</td>\n      <td>0.956958</td>\n      <td>{α, γ}</td>\n      <td>{other}</td>\n    </tr>\n    <tr>\n      <th>3</th>\n      <td>1</td>\n      <td>month_1</td>\n      <td>-0.081586</td>\n      <td>-0.091860</td>\n      <td>-0.114040</td>\n      <td>-0.080890</td>\n      <td>channel_code_2</td>\n      <td>city_14</td>\n      <td>city_type_0</td>\n      <td>None</td>\n      <td>...</td>\n      <td>0.945281</td>\n      <td>0.407762</td>\n      <td>0.369318</td>\n      <td>0.567093</td>\n      <td>0.785465</td>\n      <td>-0.184002</td>\n      <td>0.253523</td>\n      <td>0.462452</td>\n      <td>{other}</td>\n      <td>{other}</td>\n    </tr>\n    <tr>\n      <th>4</th>\n      <td>1</td>\n      <td>month_2</td>\n      <td>-0.094962</td>\n      <td>-0.100504</td>\n      <td>-0.119302</td>\n      <td>-0.094307</td>\n      <td>channel_code_2</td>\n      <td>city_14</td>\n      <td>city_type_0</td>\n      <td>None</td>\n      <td>...</td>\n      <td>0.946066</td>\n      <td>0.430750</td>\n      <td>0.067275</td>\n      <td>0.559928</td>\n      <td>0.696576</td>\n      <td>-0.183854</td>\n      <td>0.255545</td>\n      <td>0.495419</td>\n      <td>{other}</td>\n      <td>{other}</td>\n    </tr>\n    <tr>\n      <th>5</th>\n      <td>1</td>\n      <td>month_3</td>\n      <td>-0.090605</td>\n      <td>-0.114275</td>\n      <td>-0.114119</td>\n      <td>-0.089937</td>\n      <td>channel_code_2</td>\n      <td>city_14</td>\n      <td>city_type_0</td>\n      <td>None</td>\n      <td>...</td>\n      <td>0.948027</td>\n      <td>0.488221</td>\n      <td>0.043221</td>\n      <td>0.560788</td>\n      <td>0.707687</td>\n      <td>-0.167905</td>\n      <td>0.259011</td>\n      <td>0.605309</td>\n      <td>{other}</td>\n      <td>{other}</td>\n    </tr>\n    <tr>\n      <th>6</th>\n      <td>2</td>\n      <td>month_1</td>\n      <td>-0.154685</td>\n      <td>-0.186795</td>\n      <td>-0.122805</td>\n      <td>-0.154215</td>\n      <td>channel_code_12</td>\n      <td>city_613</td>\n      <td>city_type_306</td>\n      <td>None</td>\n      <td>...</td>\n      <td>0.944497</td>\n      <td>0.384773</td>\n      <td>-0.165588</td>\n      <td>0.546889</td>\n      <td>0.407687</td>\n      <td>-0.178674</td>\n      <td>0.252657</td>\n      <td>0.440474</td>\n      <td>{α}</td>\n      <td>{α}</td>\n    </tr>\n    <tr>\n      <th>7</th>\n      <td>2</td>\n      <td>month_2</td>\n      <td>-0.152784</td>\n      <td>-0.193686</td>\n      <td>-0.122805</td>\n      <td>-0.152308</td>\n      <td>channel_code_12</td>\n      <td>city_613</td>\n      <td>city_type_306</td>\n      <td>None</td>\n      <td>...</td>\n      <td>0.944497</td>\n      <td>0.384773</td>\n      <td>-0.165588</td>\n      <td>0.546889</td>\n      <td>0.407687</td>\n      <td>-0.177854</td>\n      <td>0.252657</td>\n      <td>0.440474</td>\n      <td>{α}</td>\n      <td>{α}</td>\n    </tr>\n    <tr>\n      <th>8</th>\n      <td>2</td>\n      <td>month_3</td>\n      <td>-0.148737</td>\n      <td>-0.187003</td>\n      <td>-0.112416</td>\n      <td>-0.148249</td>\n      <td>channel_code_12</td>\n      <td>city_613</td>\n      <td>city_type_306</td>\n      <td>None</td>\n      <td>...</td>\n      <td>0.944497</td>\n      <td>0.384773</td>\n      <td>-0.165588</td>\n      <td>0.546889</td>\n      <td>0.407687</td>\n      <td>-0.176302</td>\n      <td>0.252368</td>\n      <td>0.429485</td>\n      <td>{α}</td>\n      <td>{α}</td>\n    </tr>\n    <tr>\n      <th>9</th>\n      <td>3</td>\n      <td>month_1</td>\n      <td>-0.156643</td>\n      <td>-0.204861</td>\n      <td>-0.125660</td>\n      <td>-0.156179</td>\n      <td>channel_code_14</td>\n      <td>city_21</td>\n      <td>city_type_0</td>\n      <td>index_city_code_46</td>\n      <td>...</td>\n      <td>0.944497</td>\n      <td>0.384773</td>\n      <td>-0.165588</td>\n      <td>0.546889</td>\n      <td>0.407687</td>\n      <td>-0.201123</td>\n      <td>0.250924</td>\n      <td>0.374540</td>\n      <td>{α}</td>\n      <td>{α}</td>\n    </tr>\n    <tr>\n      <th>10</th>\n      <td>3</td>\n      <td>month_2</td>\n      <td>-0.156666</td>\n      <td>-0.204790</td>\n      <td>-0.125995</td>\n      <td>-0.156202</td>\n      <td>channel_code_14</td>\n      <td>city_21</td>\n      <td>city_type_0</td>\n      <td>index_city_code_46</td>\n      <td>...</td>\n      <td>0.944497</td>\n      <td>0.384773</td>\n      <td>-0.165588</td>\n      <td>0.546889</td>\n      <td>0.407687</td>\n      <td>-0.201123</td>\n      <td>0.250924</td>\n      <td>0.374540</td>\n      <td>{α}</td>\n      <td>{α, γ}</td>\n    </tr>\n    <tr>\n      <th>11</th>\n      <td>3</td>\n      <td>month_3</td>\n      <td>-0.156522</td>\n      <td>-0.204718</td>\n      <td>-0.125759</td>\n      <td>-0.156058</td>\n      <td>channel_code_14</td>\n      <td>city_21</td>\n      <td>city_type_0</td>\n      <td>index_city_code_46</td>\n      <td>...</td>\n      <td>0.944497</td>\n      <td>0.384773</td>\n      <td>-0.165588</td>\n      <td>0.546889</td>\n      <td>0.407687</td>\n      <td>-0.201123</td>\n      <td>0.250924</td>\n      <td>0.374540</td>\n      <td>{α}</td>\n      <td>{α, γ}</td>\n    </tr>\n    <tr>\n      <th>12</th>\n      <td>4</td>\n      <td>month_1</td>\n      <td>-0.138847</td>\n      <td>-0.182486</td>\n      <td>-0.125630</td>\n      <td>-0.138328</td>\n      <td>channel_code_8</td>\n      <td>city_21</td>\n      <td>city_type_0</td>\n      <td>None</td>\n      <td>...</td>\n      <td>0.957443</td>\n      <td>0.672129</td>\n      <td>-0.078233</td>\n      <td>0.558209</td>\n      <td>0.707687</td>\n      <td>-0.178408</td>\n      <td>0.252946</td>\n      <td>0.440474</td>\n      <td>{α}</td>\n      <td>{α}</td>\n    </tr>\n    <tr>\n      <th>13</th>\n      <td>4</td>\n      <td>month_2</td>\n      <td>-0.129233</td>\n      <td>-0.162965</td>\n      <td>-0.108713</td>\n      <td>-0.128684</td>\n      <td>channel_code_8</td>\n      <td>city_21</td>\n      <td>city_type_0</td>\n      <td>None</td>\n      <td>...</td>\n      <td>0.958620</td>\n      <td>0.683624</td>\n      <td>-0.078363</td>\n      <td>0.557779</td>\n      <td>0.641020</td>\n      <td>-0.176923</td>\n      <td>0.253234</td>\n      <td>0.451463</td>\n      <td>{α}</td>\n      <td>{α}</td>\n    </tr>\n    <tr>\n      <th>14</th>\n      <td>4</td>\n      <td>month_3</td>\n      <td>-0.141798</td>\n      <td>-0.170262</td>\n      <td>-0.125672</td>\n      <td>-0.141289</td>\n      <td>channel_code_8</td>\n      <td>city_21</td>\n      <td>city_type_0</td>\n      <td>None</td>\n      <td>...</td>\n      <td>0.957051</td>\n      <td>0.637647</td>\n      <td>-0.078297</td>\n      <td>0.556919</td>\n      <td>0.641020</td>\n      <td>-0.172533</td>\n      <td>0.253523</td>\n      <td>0.462452</td>\n      <td>{α}</td>\n      <td>{α}</td>\n    </tr>\n    <tr>\n      <th>15</th>\n      <td>5</td>\n      <td>month_1</td>\n      <td>NaN</td>\n      <td>NaN</td>\n      <td>NaN</td>\n      <td>NaN</td>\n      <td>None</td>\n      <td>None</td>\n      <td>None</td>\n      <td>None</td>\n      <td>...</td>\n      <td>NaN</td>\n      <td>NaN</td>\n      <td>-0.165588</td>\n      <td>NaN</td>\n      <td>NaN</td>\n      <td>-0.201123</td>\n      <td>NaN</td>\n      <td>NaN</td>\n      <td>{}</td>\n      <td>{α}</td>\n    </tr>\n    <tr>\n      <th>16</th>\n      <td>5</td>\n      <td>month_2</td>\n      <td>NaN</td>\n      <td>NaN</td>\n      <td>NaN</td>\n      <td>NaN</td>\n      <td>None</td>\n      <td>None</td>\n      <td>None</td>\n      <td>None</td>\n      <td>...</td>\n      <td>NaN</td>\n      <td>NaN</td>\n      <td>-0.165588</td>\n      <td>NaN</td>\n      <td>NaN</td>\n      <td>-0.201123</td>\n      <td>NaN</td>\n      <td>NaN</td>\n      <td>{}</td>\n      <td>{α}</td>\n    </tr>\n    <tr>\n      <th>17</th>\n      <td>5</td>\n      <td>month_3</td>\n      <td>NaN</td>\n      <td>NaN</td>\n      <td>NaN</td>\n      <td>NaN</td>\n      <td>channel_code_21</td>\n      <td>None</td>\n      <td>None</td>\n      <td>index_city_code_5</td>\n      <td>...</td>\n      <td>NaN</td>\n      <td>NaN</td>\n      <td>-0.165588</td>\n      <td>NaN</td>\n      <td>NaN</td>\n      <td>-0.201123</td>\n      <td>NaN</td>\n      <td>NaN</td>\n      <td>{α}</td>\n      <td>{α}</td>\n    </tr>\n    <tr>\n      <th>18</th>\n      <td>6</td>\n      <td>month_1</td>\n      <td>-0.012978</td>\n      <td>0.167324</td>\n      <td>-0.105271</td>\n      <td>-0.012069</td>\n      <td>channel_code_5</td>\n      <td>city_25</td>\n      <td>city_type_0</td>\n      <td>index_city_code_30</td>\n      <td>...</td>\n      <td>0.944889</td>\n      <td>0.396267</td>\n      <td>0.941555</td>\n      <td>0.567952</td>\n      <td>0.929909</td>\n      <td>0.154326</td>\n      <td>0.252657</td>\n      <td>0.440474</td>\n      <td>{α, γ}</td>\n      <td>{α, γ}</td>\n    </tr>\n    <tr>\n      <th>19</th>\n      <td>6</td>\n      <td>month_2</td>\n      <td>0.166101</td>\n      <td>0.166826</td>\n      <td>0.102481</td>\n      <td>0.167564</td>\n      <td>channel_code_5</td>\n      <td>city_25</td>\n      <td>city_type_0</td>\n      <td>index_city_code_30</td>\n      <td>...</td>\n      <td>0.944497</td>\n      <td>0.384773</td>\n      <td>0.944451</td>\n      <td>0.570961</td>\n      <td>0.974354</td>\n      <td>0.032227</td>\n      <td>0.252368</td>\n      <td>0.429485</td>\n      <td>{α, γ}</td>\n      <td>{α, γ}</td>\n    </tr>\n    <tr>\n      <th>20</th>\n      <td>6</td>\n      <td>month_3</td>\n      <td>-0.126878</td>\n      <td>-0.116844</td>\n      <td>-0.124882</td>\n      <td>-0.126322</td>\n      <td>channel_code_5</td>\n      <td>city_25</td>\n      <td>city_type_0</td>\n      <td>index_city_code_30</td>\n      <td>...</td>\n      <td>0.944497</td>\n      <td>0.384773</td>\n      <td>0.879821</td>\n      <td>0.568239</td>\n      <td>0.952131</td>\n      <td>-0.033173</td>\n      <td>0.251790</td>\n      <td>0.407507</td>\n      <td>{α, γ}</td>\n      <td>{α, γ}</td>\n    </tr>\n    <tr>\n      <th>21</th>\n      <td>7</td>\n      <td>month_1</td>\n      <td>-0.156437</td>\n      <td>-0.204698</td>\n      <td>-0.125176</td>\n      <td>-0.155972</td>\n      <td>channel_code_31</td>\n      <td>city_39</td>\n      <td>city_type_0</td>\n      <td>index_city_code_11</td>\n      <td>...</td>\n      <td>0.944497</td>\n      <td>0.384773</td>\n      <td>-0.165588</td>\n      <td>0.546889</td>\n      <td>0.407687</td>\n      <td>-0.200301</td>\n      <td>0.251212</td>\n      <td>0.385529</td>\n      <td>{α}</td>\n      <td>{α}</td>\n    </tr>\n    <tr>\n      <th>22</th>\n      <td>7</td>\n      <td>month_2</td>\n      <td>-0.156426</td>\n      <td>-0.204698</td>\n      <td>-0.125119</td>\n      <td>-0.155961</td>\n      <td>channel_code_31</td>\n      <td>city_39</td>\n      <td>city_type_0</td>\n      <td>index_city_code_11</td>\n      <td>...</td>\n      <td>0.944497</td>\n      <td>0.384773</td>\n      <td>-0.165588</td>\n      <td>0.546889</td>\n      <td>0.407687</td>\n      <td>-0.200301</td>\n      <td>0.251212</td>\n      <td>0.385529</td>\n      <td>{α}</td>\n      <td>{α}</td>\n    </tr>\n    <tr>\n      <th>23</th>\n      <td>7</td>\n      <td>month_3</td>\n      <td>-0.156215</td>\n      <td>-0.204464</td>\n      <td>-0.125995</td>\n      <td>-0.155954</td>\n      <td>channel_code_31</td>\n      <td>city_39</td>\n      <td>city_type_0</td>\n      <td>index_city_code_11</td>\n      <td>...</td>\n      <td>0.944497</td>\n      <td>0.384773</td>\n      <td>-0.165588</td>\n      <td>0.546889</td>\n      <td>0.407687</td>\n      <td>-0.200301</td>\n      <td>0.251212</td>\n      <td>0.385529</td>\n      <td>{α}</td>\n      <td>{α}</td>\n    </tr>\n    <tr>\n      <th>24</th>\n      <td>8</td>\n      <td>month_1</td>\n      <td>-0.146542</td>\n      <td>-0.193037</td>\n      <td>-0.121922</td>\n      <td>-0.146047</td>\n      <td>channel_code_8</td>\n      <td>city_65</td>\n      <td>city_type_0</td>\n      <td>index_city_code_56</td>\n      <td>...</td>\n      <td>0.944497</td>\n      <td>0.384773</td>\n      <td>-0.158619</td>\n      <td>0.548609</td>\n      <td>0.518798</td>\n      <td>-0.163534</td>\n      <td>0.274032</td>\n      <td>0.539375</td>\n      <td>{α, γ}</td>\n      <td>{α}</td>\n    </tr>\n    <tr>\n      <th>25</th>\n      <td>8</td>\n      <td>month_2</td>\n      <td>-0.143509</td>\n      <td>-0.187596</td>\n      <td>-0.125143</td>\n      <td>-0.143004</td>\n      <td>channel_code_8</td>\n      <td>city_65</td>\n      <td>city_type_0</td>\n      <td>index_city_code_56</td>\n      <td>...</td>\n      <td>0.944497</td>\n      <td>0.384773</td>\n      <td>-0.164109</td>\n      <td>0.547749</td>\n      <td>0.463243</td>\n      <td>-0.176061</td>\n      <td>0.256412</td>\n      <td>0.484430</td>\n      <td>{α, γ}</td>\n      <td>{α}</td>\n    </tr>\n    <tr>\n      <th>26</th>\n      <td>8</td>\n      <td>month_3</td>\n      <td>-0.152684</td>\n      <td>-0.197020</td>\n      <td>-0.125995</td>\n      <td>-0.152208</td>\n      <td>channel_code_8</td>\n      <td>city_65</td>\n      <td>city_type_0</td>\n      <td>index_city_code_56</td>\n      <td>...</td>\n      <td>0.944497</td>\n      <td>0.384773</td>\n      <td>-0.164504</td>\n      <td>0.547462</td>\n      <td>0.441020</td>\n      <td>-0.177143</td>\n      <td>0.253523</td>\n      <td>0.440474</td>\n      <td>{α, γ}</td>\n      <td>{α}</td>\n    </tr>\n    <tr>\n      <th>27</th>\n      <td>9</td>\n      <td>month_1</td>\n      <td>-0.156411</td>\n      <td>-0.204687</td>\n      <td>-0.125084</td>\n      <td>-0.155947</td>\n      <td>channel_code_4</td>\n      <td>city_1081</td>\n      <td>city_type_639</td>\n      <td>index_city_code_91</td>\n      <td>...</td>\n      <td>NaN</td>\n      <td>NaN</td>\n      <td>-0.165588</td>\n      <td>NaN</td>\n      <td>NaN</td>\n      <td>-0.201123</td>\n      <td>NaN</td>\n      <td>NaN</td>\n      <td>{α}</td>\n      <td>{α}</td>\n    </tr>\n    <tr>\n      <th>28</th>\n      <td>9</td>\n      <td>month_2</td>\n      <td>-0.156411</td>\n      <td>-0.204687</td>\n      <td>-0.125084</td>\n      <td>-0.155947</td>\n      <td>channel_code_4</td>\n      <td>city_1081</td>\n      <td>city_type_639</td>\n      <td>index_city_code_91</td>\n      <td>...</td>\n      <td>NaN</td>\n      <td>NaN</td>\n      <td>-0.165588</td>\n      <td>NaN</td>\n      <td>NaN</td>\n      <td>-0.201123</td>\n      <td>NaN</td>\n      <td>NaN</td>\n      <td>{α}</td>\n      <td>{α}</td>\n    </tr>\n    <tr>\n      <th>29</th>\n      <td>9</td>\n      <td>month_3</td>\n      <td>-0.156411</td>\n      <td>-0.204687</td>\n      <td>-0.125084</td>\n      <td>-0.155947</td>\n      <td>channel_code_4</td>\n      <td>city_1081</td>\n      <td>city_type_639</td>\n      <td>index_city_code_91</td>\n      <td>...</td>\n      <td>NaN</td>\n      <td>NaN</td>\n      <td>-0.165588</td>\n      <td>NaN</td>\n      <td>NaN</td>\n      <td>-0.201123</td>\n      <td>NaN</td>\n      <td>NaN</td>\n      <td>{α}</td>\n      <td>{}</td>\n    </tr>\n  </tbody>\n</table>\n<p>30 rows × 93 columns</p>\n</div>"
     },
     "execution_count": 26,
     "metadata": {},
     "output_type": "execute_result"
    }
   ],
   "source": [
    "train_df.head(30)"
   ]
  },
  {
   "cell_type": "code",
   "execution_count": 27,
   "outputs": [
    {
     "data": {
      "text/plain": "            id     date  balance_amt_avg  balance_amt_max  balance_amt_min  \\\n0            0  month_1         0.744845         0.705492         1.287207   \n1            0  month_2         1.049605         0.831916         2.458609   \n2            0  month_3         0.692653         0.740253         0.430042   \n3            1  month_1        -0.081586        -0.091860        -0.114040   \n4            1  month_2        -0.094962        -0.100504        -0.119302   \n...        ...      ...              ...              ...              ...   \n599995  199998  month_2        -0.156775        -0.204960        -0.125987   \n599996  199998  month_3        -0.156776        -0.204960        -0.125995   \n599997  199999  month_1        -0.156712        -0.204913        -0.125831   \n599998  199999  month_2        -0.156712        -0.204913        -0.125831   \n599999  199999  month_3        -0.156712        -0.204913        -0.125831   \n\n        balance_amt_day_avg     channel_code       city    city_type  \\\n0                  0.748101   channel_code_5    city_23  city_type_0   \n1                  1.053805   channel_code_5    city_23  city_type_0   \n2                  0.695747   channel_code_5    city_23  city_type_0   \n3                 -0.080890   channel_code_2    city_14  city_type_0   \n4                 -0.094307   channel_code_2    city_14  city_type_0   \n...                     ...              ...        ...          ...   \n599995            -0.156311   channel_code_9    city_14  city_type_0   \n599996            -0.156312   channel_code_9    city_14  city_type_0   \n599997            -0.156248  channel_code_14  city_1876  city_type_0   \n599998            -0.156248  channel_code_14  city_1876  city_type_0   \n599999            -0.156248  channel_code_14  city_1876  city_type_0   \n\n            index_city_code  ...  cnt_days_cred_g_oper_3m  sum_deb_h_oper_3m  \\\n0        index_city_code_39  ...                 0.568681           0.897565   \n1        index_city_code_39  ...                 0.499716           0.785029   \n2        index_city_code_39  ...                 0.442244           0.877050   \n3                      None  ...                 0.407762           0.369318   \n4                      None  ...                 0.430750           0.067275   \n...                     ...  ...                      ...                ...   \n599995                 None  ...                      NaN          -0.165588   \n599996                 None  ...                 0.384773          -0.165588   \n599997  index_city_code_195  ...                      NaN          -0.165588   \n599998  index_city_code_195  ...                      NaN          -0.165588   \n599999  index_city_code_195  ...                      NaN          -0.165588   \n\n       cnt_deb_h_oper_3m cnt_days_deb_h_oper_3m  sum_cred_h_oper_3m  \\\n0               0.553624               0.774354            0.936506   \n1               0.551904               0.696576            0.990157   \n2               0.551044               0.663243            0.810065   \n3               0.567093               0.785465           -0.184002   \n4               0.559928               0.696576           -0.183854   \n...                  ...                    ...                 ...   \n599995               NaN                    NaN           -0.201123   \n599996          0.546889               0.407687           -0.201123   \n599997               NaN                    NaN           -0.201123   \n599998               NaN                    NaN           -0.201123   \n599999               NaN                    NaN           -0.201123   \n\n        cnt_cred_h_oper_3m  cnt_days_cred_h_oper_3m  start_cluster  \\\n0                 0.295984                 0.967947         {α, γ}   \n1                 0.298873                 0.945969         {α, γ}   \n2                 0.294829                 0.956958         {α, γ}   \n3                 0.253523                 0.462452        {other}   \n4                 0.255545                 0.495419        {other}   \n...                    ...                      ...            ...   \n599995                 NaN                      NaN             {}   \n599996            0.250924                 0.374540            {α}   \n599997                 NaN                      NaN             {}   \n599998                 NaN                      NaN             {}   \n599999                 NaN                      NaN            {α}   \n\n       end_cluster month_number  \n0          {other}            1  \n1          {other}            2  \n2          {other}            3  \n3          {other}            1  \n4          {other}            2  \n...            ...          ...  \n599995          {}            2  \n599996          {}            3  \n599997          {}            1  \n599998          {}            2  \n599999          {}            3  \n\n[600000 rows x 94 columns]",
      "text/html": "<div>\n<style scoped>\n    .dataframe tbody tr th:only-of-type {\n        vertical-align: middle;\n    }\n\n    .dataframe tbody tr th {\n        vertical-align: top;\n    }\n\n    .dataframe thead th {\n        text-align: right;\n    }\n</style>\n<table border=\"1\" class=\"dataframe\">\n  <thead>\n    <tr style=\"text-align: right;\">\n      <th></th>\n      <th>id</th>\n      <th>date</th>\n      <th>balance_amt_avg</th>\n      <th>balance_amt_max</th>\n      <th>balance_amt_min</th>\n      <th>balance_amt_day_avg</th>\n      <th>channel_code</th>\n      <th>city</th>\n      <th>city_type</th>\n      <th>index_city_code</th>\n      <th>...</th>\n      <th>cnt_days_cred_g_oper_3m</th>\n      <th>sum_deb_h_oper_3m</th>\n      <th>cnt_deb_h_oper_3m</th>\n      <th>cnt_days_deb_h_oper_3m</th>\n      <th>sum_cred_h_oper_3m</th>\n      <th>cnt_cred_h_oper_3m</th>\n      <th>cnt_days_cred_h_oper_3m</th>\n      <th>start_cluster</th>\n      <th>end_cluster</th>\n      <th>month_number</th>\n    </tr>\n  </thead>\n  <tbody>\n    <tr>\n      <th>0</th>\n      <td>0</td>\n      <td>month_1</td>\n      <td>0.744845</td>\n      <td>0.705492</td>\n      <td>1.287207</td>\n      <td>0.748101</td>\n      <td>channel_code_5</td>\n      <td>city_23</td>\n      <td>city_type_0</td>\n      <td>index_city_code_39</td>\n      <td>...</td>\n      <td>0.568681</td>\n      <td>0.897565</td>\n      <td>0.553624</td>\n      <td>0.774354</td>\n      <td>0.936506</td>\n      <td>0.295984</td>\n      <td>0.967947</td>\n      <td>{α, γ}</td>\n      <td>{other}</td>\n      <td>1</td>\n    </tr>\n    <tr>\n      <th>1</th>\n      <td>0</td>\n      <td>month_2</td>\n      <td>1.049605</td>\n      <td>0.831916</td>\n      <td>2.458609</td>\n      <td>1.053805</td>\n      <td>channel_code_5</td>\n      <td>city_23</td>\n      <td>city_type_0</td>\n      <td>index_city_code_39</td>\n      <td>...</td>\n      <td>0.499716</td>\n      <td>0.785029</td>\n      <td>0.551904</td>\n      <td>0.696576</td>\n      <td>0.990157</td>\n      <td>0.298873</td>\n      <td>0.945969</td>\n      <td>{α, γ}</td>\n      <td>{other}</td>\n      <td>2</td>\n    </tr>\n    <tr>\n      <th>2</th>\n      <td>0</td>\n      <td>month_3</td>\n      <td>0.692653</td>\n      <td>0.740253</td>\n      <td>0.430042</td>\n      <td>0.695747</td>\n      <td>channel_code_5</td>\n      <td>city_23</td>\n      <td>city_type_0</td>\n      <td>index_city_code_39</td>\n      <td>...</td>\n      <td>0.442244</td>\n      <td>0.877050</td>\n      <td>0.551044</td>\n      <td>0.663243</td>\n      <td>0.810065</td>\n      <td>0.294829</td>\n      <td>0.956958</td>\n      <td>{α, γ}</td>\n      <td>{other}</td>\n      <td>3</td>\n    </tr>\n    <tr>\n      <th>3</th>\n      <td>1</td>\n      <td>month_1</td>\n      <td>-0.081586</td>\n      <td>-0.091860</td>\n      <td>-0.114040</td>\n      <td>-0.080890</td>\n      <td>channel_code_2</td>\n      <td>city_14</td>\n      <td>city_type_0</td>\n      <td>None</td>\n      <td>...</td>\n      <td>0.407762</td>\n      <td>0.369318</td>\n      <td>0.567093</td>\n      <td>0.785465</td>\n      <td>-0.184002</td>\n      <td>0.253523</td>\n      <td>0.462452</td>\n      <td>{other}</td>\n      <td>{other}</td>\n      <td>1</td>\n    </tr>\n    <tr>\n      <th>4</th>\n      <td>1</td>\n      <td>month_2</td>\n      <td>-0.094962</td>\n      <td>-0.100504</td>\n      <td>-0.119302</td>\n      <td>-0.094307</td>\n      <td>channel_code_2</td>\n      <td>city_14</td>\n      <td>city_type_0</td>\n      <td>None</td>\n      <td>...</td>\n      <td>0.430750</td>\n      <td>0.067275</td>\n      <td>0.559928</td>\n      <td>0.696576</td>\n      <td>-0.183854</td>\n      <td>0.255545</td>\n      <td>0.495419</td>\n      <td>{other}</td>\n      <td>{other}</td>\n      <td>2</td>\n    </tr>\n    <tr>\n      <th>...</th>\n      <td>...</td>\n      <td>...</td>\n      <td>...</td>\n      <td>...</td>\n      <td>...</td>\n      <td>...</td>\n      <td>...</td>\n      <td>...</td>\n      <td>...</td>\n      <td>...</td>\n      <td>...</td>\n      <td>...</td>\n      <td>...</td>\n      <td>...</td>\n      <td>...</td>\n      <td>...</td>\n      <td>...</td>\n      <td>...</td>\n      <td>...</td>\n      <td>...</td>\n      <td>...</td>\n    </tr>\n    <tr>\n      <th>599995</th>\n      <td>199998</td>\n      <td>month_2</td>\n      <td>-0.156775</td>\n      <td>-0.204960</td>\n      <td>-0.125987</td>\n      <td>-0.156311</td>\n      <td>channel_code_9</td>\n      <td>city_14</td>\n      <td>city_type_0</td>\n      <td>None</td>\n      <td>...</td>\n      <td>NaN</td>\n      <td>-0.165588</td>\n      <td>NaN</td>\n      <td>NaN</td>\n      <td>-0.201123</td>\n      <td>NaN</td>\n      <td>NaN</td>\n      <td>{}</td>\n      <td>{}</td>\n      <td>2</td>\n    </tr>\n    <tr>\n      <th>599996</th>\n      <td>199998</td>\n      <td>month_3</td>\n      <td>-0.156776</td>\n      <td>-0.204960</td>\n      <td>-0.125995</td>\n      <td>-0.156312</td>\n      <td>channel_code_9</td>\n      <td>city_14</td>\n      <td>city_type_0</td>\n      <td>None</td>\n      <td>...</td>\n      <td>0.384773</td>\n      <td>-0.165588</td>\n      <td>0.546889</td>\n      <td>0.407687</td>\n      <td>-0.201123</td>\n      <td>0.250924</td>\n      <td>0.374540</td>\n      <td>{α}</td>\n      <td>{}</td>\n      <td>3</td>\n    </tr>\n    <tr>\n      <th>599997</th>\n      <td>199999</td>\n      <td>month_1</td>\n      <td>-0.156712</td>\n      <td>-0.204913</td>\n      <td>-0.125831</td>\n      <td>-0.156248</td>\n      <td>channel_code_14</td>\n      <td>city_1876</td>\n      <td>city_type_0</td>\n      <td>index_city_code_195</td>\n      <td>...</td>\n      <td>NaN</td>\n      <td>-0.165588</td>\n      <td>NaN</td>\n      <td>NaN</td>\n      <td>-0.201123</td>\n      <td>NaN</td>\n      <td>NaN</td>\n      <td>{}</td>\n      <td>{}</td>\n      <td>1</td>\n    </tr>\n    <tr>\n      <th>599998</th>\n      <td>199999</td>\n      <td>month_2</td>\n      <td>-0.156712</td>\n      <td>-0.204913</td>\n      <td>-0.125831</td>\n      <td>-0.156248</td>\n      <td>channel_code_14</td>\n      <td>city_1876</td>\n      <td>city_type_0</td>\n      <td>index_city_code_195</td>\n      <td>...</td>\n      <td>NaN</td>\n      <td>-0.165588</td>\n      <td>NaN</td>\n      <td>NaN</td>\n      <td>-0.201123</td>\n      <td>NaN</td>\n      <td>NaN</td>\n      <td>{}</td>\n      <td>{}</td>\n      <td>2</td>\n    </tr>\n    <tr>\n      <th>599999</th>\n      <td>199999</td>\n      <td>month_3</td>\n      <td>-0.156712</td>\n      <td>-0.204913</td>\n      <td>-0.125831</td>\n      <td>-0.156248</td>\n      <td>channel_code_14</td>\n      <td>city_1876</td>\n      <td>city_type_0</td>\n      <td>index_city_code_195</td>\n      <td>...</td>\n      <td>NaN</td>\n      <td>-0.165588</td>\n      <td>NaN</td>\n      <td>NaN</td>\n      <td>-0.201123</td>\n      <td>NaN</td>\n      <td>NaN</td>\n      <td>{α}</td>\n      <td>{}</td>\n      <td>3</td>\n    </tr>\n  </tbody>\n</table>\n<p>600000 rows × 94 columns</p>\n</div>"
     },
     "execution_count": 27,
     "metadata": {},
     "output_type": "execute_result"
    }
   ],
   "source": [
    "\n",
    "train_df['month_number'] = train_df.groupby('id').cumcount() + 1\n",
    "\n",
    "\n",
    "train_df"
   ],
   "metadata": {
    "collapsed": false,
    "ExecuteTime": {
     "end_time": "2024-03-12T12:16:58.401740Z",
     "start_time": "2024-03-12T12:16:58.188122800Z"
    }
   }
  },
  {
   "cell_type": "code",
   "execution_count": 28,
   "outputs": [
    {
     "name": "stdout",
     "output_type": "stream",
     "text": [
      "<class 'pandas.core.frame.DataFrame'>\n",
      "RangeIndex: 600000 entries, 0 to 599999\n",
      "Data columns (total 94 columns):\n",
      " #   Column                   Non-Null Count   Dtype  \n",
      "---  ------                   --------------   -----  \n",
      " 0   id                       600000 non-null  int64  \n",
      " 1   date                     600000 non-null  object \n",
      " 2   balance_amt_avg          534423 non-null  float64\n",
      " 3   balance_amt_max          534423 non-null  float64\n",
      " 4   balance_amt_min          534423 non-null  float64\n",
      " 5   balance_amt_day_avg      534423 non-null  float64\n",
      " 6   channel_code             557150 non-null  object \n",
      " 7   city                     521656 non-null  object \n",
      " 8   city_type                521656 non-null  object \n",
      " 9   index_city_code          274776 non-null  object \n",
      " 10  ogrn_days_end_month      568527 non-null  float64\n",
      " 11  ogrn_days_end_quarter    568527 non-null  float64\n",
      " 12  ogrn_month               568527 non-null  object \n",
      " 13  ogrn_year                568527 non-null  object \n",
      " 14  ft_registration_date     568640 non-null  float64\n",
      " 15  max_founderpres          264408 non-null  float64\n",
      " 16  min_founderpres          264408 non-null  float64\n",
      " 17  ogrn_exist_months        568527 non-null  float64\n",
      " 18  okved                    568107 non-null  object \n",
      " 19  segment                  569849 non-null  object \n",
      " 20  sum_of_paym_2m           451116 non-null  float64\n",
      " 21  sum_of_paym_6m           451116 non-null  float64\n",
      " 22  sum_of_paym_1y           451116 non-null  float64\n",
      " 23  sum_a_oper_1m            600000 non-null  float64\n",
      " 24  cnt_a_oper_1m            403819 non-null  float64\n",
      " 25  sum_b_oper_1m            600000 non-null  float64\n",
      " 26  cnt_b_oper_1m            403819 non-null  float64\n",
      " 27  sum_c_oper_1m            600000 non-null  float64\n",
      " 28  cnt_c_oper_1m            403819 non-null  float64\n",
      " 29  sum_deb_d_oper_1m        600000 non-null  float64\n",
      " 30  cnt_deb_d_oper_1m        403819 non-null  float64\n",
      " 31  sum_cred_d_oper_1m       600000 non-null  float64\n",
      " 32  cnt_cred_d_oper_1m       403819 non-null  float64\n",
      " 33  sum_deb_e_oper_1m        600000 non-null  float64\n",
      " 34  cnt_deb_e_oper_1m        403819 non-null  float64\n",
      " 35  cnt_days_deb_e_oper_1m   403819 non-null  float64\n",
      " 36  sum_cred_e_oper_1m       600000 non-null  float64\n",
      " 37  cnt_cred_e_oper_1m       403819 non-null  float64\n",
      " 38  cnt_days_cred_e_oper_1m  403819 non-null  float64\n",
      " 39  sum_deb_f_oper_1m        600000 non-null  float64\n",
      " 40  cnt_deb_f_oper_1m        403819 non-null  float64\n",
      " 41  cnt_days_deb_f_oper_1m   403819 non-null  float64\n",
      " 42  sum_cred_f_oper_1m       600000 non-null  float64\n",
      " 43  cnt_cred_f_oper_1m       403819 non-null  float64\n",
      " 44  cnt_days_cred_f_oper_1m  403819 non-null  float64\n",
      " 45  sum_deb_g_oper_1m        600000 non-null  float64\n",
      " 46  cnt_deb_g_oper_1m        403819 non-null  float64\n",
      " 47  cnt_days_deb_g_oper_1m   403819 non-null  float64\n",
      " 48  sum_cred_g_oper_1m       600000 non-null  float64\n",
      " 49  cnt_cred_g_oper_1m       403819 non-null  float64\n",
      " 50  cnt_days_cred_g_oper_1m  403819 non-null  float64\n",
      " 51  sum_deb_h_oper_1m        600000 non-null  float64\n",
      " 52  cnt_deb_h_oper_1m        403819 non-null  float64\n",
      " 53  cnt_days_deb_h_oper_1m   403819 non-null  float64\n",
      " 54  sum_cred_h_oper_1m       600000 non-null  float64\n",
      " 55  cnt_cred_h_oper_1m       403819 non-null  float64\n",
      " 56  cnt_days_cred_h_oper_1m  403819 non-null  float64\n",
      " 57  sum_a_oper_3m            600000 non-null  float64\n",
      " 58  cnt_a_oper_3m            434748 non-null  float64\n",
      " 59  sum_b_oper_3m            600000 non-null  float64\n",
      " 60  cnt_b_oper_3m            434748 non-null  float64\n",
      " 61  sum_c_oper_3m            600000 non-null  float64\n",
      " 62  cnt_c_oper_3m            434748 non-null  float64\n",
      " 63  sum_deb_d_oper_3m        600000 non-null  float64\n",
      " 64  cnt_deb_d_oper_3m        434748 non-null  float64\n",
      " 65  sum_cred_d_oper_3m       600000 non-null  float64\n",
      " 66  cnt_cred_d_oper_3m       434748 non-null  float64\n",
      " 67  sum_deb_e_oper_3m        600000 non-null  float64\n",
      " 68  cnt_deb_e_oper_3m        434748 non-null  float64\n",
      " 69  cnt_days_deb_e_oper_3m   434748 non-null  float64\n",
      " 70  sum_cred_e_oper_3m       600000 non-null  float64\n",
      " 71  cnt_cred_e_oper_3m       434748 non-null  float64\n",
      " 72  cnt_days_cred_e_oper_3m  434748 non-null  float64\n",
      " 73  sum_deb_f_oper_3m        600000 non-null  float64\n",
      " 74  cnt_deb_f_oper_3m        434748 non-null  float64\n",
      " 75  cnt_days_deb_f_oper_3m   434748 non-null  float64\n",
      " 76  sum_cred_f_oper_3m       600000 non-null  float64\n",
      " 77  cnt_cred_f_oper_3m       434748 non-null  float64\n",
      " 78  cnt_days_cred_f_oper_3m  434748 non-null  float64\n",
      " 79  sum_deb_g_oper_3m        600000 non-null  float64\n",
      " 80  cnt_deb_g_oper_3m        434748 non-null  float64\n",
      " 81  cnt_days_deb_g_oper_3m   434748 non-null  float64\n",
      " 82  sum_cred_g_oper_3m       600000 non-null  float64\n",
      " 83  cnt_cred_g_oper_3m       434748 non-null  float64\n",
      " 84  cnt_days_cred_g_oper_3m  434748 non-null  float64\n",
      " 85  sum_deb_h_oper_3m        600000 non-null  float64\n",
      " 86  cnt_deb_h_oper_3m        434748 non-null  float64\n",
      " 87  cnt_days_deb_h_oper_3m   434748 non-null  float64\n",
      " 88  sum_cred_h_oper_3m       600000 non-null  float64\n",
      " 89  cnt_cred_h_oper_3m       434748 non-null  float64\n",
      " 90  cnt_days_cred_h_oper_3m  434748 non-null  float64\n",
      " 91  start_cluster            600000 non-null  object \n",
      " 92  end_cluster              600000 non-null  object \n",
      " 93  month_number             600000 non-null  int64  \n",
      "dtypes: float64(81), int64(2), object(11)\n",
      "memory usage: 430.3+ MB\n"
     ]
    }
   ],
   "source": [
    "train_df.info()"
   ],
   "metadata": {
    "collapsed": false,
    "ExecuteTime": {
     "end_time": "2024-03-12T12:16:58.582438700Z",
     "start_time": "2024-03-12T12:16:58.403746300Z"
    }
   }
  },
  {
   "cell_type": "code",
   "execution_count": 29,
   "outputs": [
    {
     "data": {
      "text/plain": "   id  balance_amt_avg_1month  balance_amt_avg_2month  balance_amt_avg_3month  \\\n0   0                0.744845                1.049605                0.692653   \n1   1               -0.081586               -0.094962               -0.090605   \n2   2               -0.154685               -0.152784               -0.148737   \n3   3               -0.156643               -0.156666               -0.156522   \n4   4               -0.138847               -0.129233               -0.141798   \n\n   balance_amt_day_avg_1month  balance_amt_day_avg_2month  \\\n0                    0.748101                    1.053805   \n1                   -0.080890                   -0.094307   \n2                   -0.154215                   -0.152308   \n3                   -0.156179                   -0.156202   \n4                   -0.138328                   -0.128684   \n\n   balance_amt_day_avg_3month  balance_amt_max_1month  balance_amt_max_2month  \\\n0                    0.695747                0.705492                0.831916   \n1                   -0.089937               -0.091860               -0.100504   \n2                   -0.148249               -0.186795               -0.193686   \n3                   -0.156058               -0.204861               -0.204790   \n4                   -0.141289               -0.182486               -0.162965   \n\n   balance_amt_max_3month  ...  sum_deb_h_oper_3m_3month  \\\n0                0.740253  ...                  0.877050   \n1               -0.114275  ...                  0.043221   \n2               -0.187003  ...                 -0.165588   \n3               -0.204718  ...                 -0.165588   \n4               -0.170262  ...                 -0.078297   \n\n   sum_of_paym_1y_1month  sum_of_paym_1y_2month sum_of_paym_1y_3month  \\\n0               0.511490               0.486425              0.480547   \n1               0.052041               0.033554              0.039472   \n2              -0.291924              -0.290712             -0.288318   \n3              -0.242793              -0.262878             -0.273303   \n4              -0.124641              -0.121939             -0.128903   \n\n  sum_of_paym_2m_1month sum_of_paym_2m_2month sum_of_paym_2m_3month  \\\n0              0.942275              0.645704              0.403604   \n1              0.014051             -0.057593             -0.092059   \n2             -0.255837             -0.267913             -0.255946   \n3             -0.273969             -0.273969             -0.273969   \n4             -0.103807             -0.134192             -0.166740   \n\n  sum_of_paym_6m_1month sum_of_paym_6m_2month sum_of_paym_6m_3month  \n0              0.536013              0.536378              0.613167  \n1              0.043800              0.035027              0.025233  \n2             -0.287121             -0.284955             -0.280676  \n3             -0.268832             -0.294398             -0.294447  \n4             -0.130025             -0.134049             -0.142831  \n\n[5 rows x 274 columns]",
      "text/html": "<div>\n<style scoped>\n    .dataframe tbody tr th:only-of-type {\n        vertical-align: middle;\n    }\n\n    .dataframe tbody tr th {\n        vertical-align: top;\n    }\n\n    .dataframe thead th {\n        text-align: right;\n    }\n</style>\n<table border=\"1\" class=\"dataframe\">\n  <thead>\n    <tr style=\"text-align: right;\">\n      <th></th>\n      <th>id</th>\n      <th>balance_amt_avg_1month</th>\n      <th>balance_amt_avg_2month</th>\n      <th>balance_amt_avg_3month</th>\n      <th>balance_amt_day_avg_1month</th>\n      <th>balance_amt_day_avg_2month</th>\n      <th>balance_amt_day_avg_3month</th>\n      <th>balance_amt_max_1month</th>\n      <th>balance_amt_max_2month</th>\n      <th>balance_amt_max_3month</th>\n      <th>...</th>\n      <th>sum_deb_h_oper_3m_3month</th>\n      <th>sum_of_paym_1y_1month</th>\n      <th>sum_of_paym_1y_2month</th>\n      <th>sum_of_paym_1y_3month</th>\n      <th>sum_of_paym_2m_1month</th>\n      <th>sum_of_paym_2m_2month</th>\n      <th>sum_of_paym_2m_3month</th>\n      <th>sum_of_paym_6m_1month</th>\n      <th>sum_of_paym_6m_2month</th>\n      <th>sum_of_paym_6m_3month</th>\n    </tr>\n  </thead>\n  <tbody>\n    <tr>\n      <th>0</th>\n      <td>0</td>\n      <td>0.744845</td>\n      <td>1.049605</td>\n      <td>0.692653</td>\n      <td>0.748101</td>\n      <td>1.053805</td>\n      <td>0.695747</td>\n      <td>0.705492</td>\n      <td>0.831916</td>\n      <td>0.740253</td>\n      <td>...</td>\n      <td>0.877050</td>\n      <td>0.511490</td>\n      <td>0.486425</td>\n      <td>0.480547</td>\n      <td>0.942275</td>\n      <td>0.645704</td>\n      <td>0.403604</td>\n      <td>0.536013</td>\n      <td>0.536378</td>\n      <td>0.613167</td>\n    </tr>\n    <tr>\n      <th>1</th>\n      <td>1</td>\n      <td>-0.081586</td>\n      <td>-0.094962</td>\n      <td>-0.090605</td>\n      <td>-0.080890</td>\n      <td>-0.094307</td>\n      <td>-0.089937</td>\n      <td>-0.091860</td>\n      <td>-0.100504</td>\n      <td>-0.114275</td>\n      <td>...</td>\n      <td>0.043221</td>\n      <td>0.052041</td>\n      <td>0.033554</td>\n      <td>0.039472</td>\n      <td>0.014051</td>\n      <td>-0.057593</td>\n      <td>-0.092059</td>\n      <td>0.043800</td>\n      <td>0.035027</td>\n      <td>0.025233</td>\n    </tr>\n    <tr>\n      <th>2</th>\n      <td>2</td>\n      <td>-0.154685</td>\n      <td>-0.152784</td>\n      <td>-0.148737</td>\n      <td>-0.154215</td>\n      <td>-0.152308</td>\n      <td>-0.148249</td>\n      <td>-0.186795</td>\n      <td>-0.193686</td>\n      <td>-0.187003</td>\n      <td>...</td>\n      <td>-0.165588</td>\n      <td>-0.291924</td>\n      <td>-0.290712</td>\n      <td>-0.288318</td>\n      <td>-0.255837</td>\n      <td>-0.267913</td>\n      <td>-0.255946</td>\n      <td>-0.287121</td>\n      <td>-0.284955</td>\n      <td>-0.280676</td>\n    </tr>\n    <tr>\n      <th>3</th>\n      <td>3</td>\n      <td>-0.156643</td>\n      <td>-0.156666</td>\n      <td>-0.156522</td>\n      <td>-0.156179</td>\n      <td>-0.156202</td>\n      <td>-0.156058</td>\n      <td>-0.204861</td>\n      <td>-0.204790</td>\n      <td>-0.204718</td>\n      <td>...</td>\n      <td>-0.165588</td>\n      <td>-0.242793</td>\n      <td>-0.262878</td>\n      <td>-0.273303</td>\n      <td>-0.273969</td>\n      <td>-0.273969</td>\n      <td>-0.273969</td>\n      <td>-0.268832</td>\n      <td>-0.294398</td>\n      <td>-0.294447</td>\n    </tr>\n    <tr>\n      <th>4</th>\n      <td>4</td>\n      <td>-0.138847</td>\n      <td>-0.129233</td>\n      <td>-0.141798</td>\n      <td>-0.138328</td>\n      <td>-0.128684</td>\n      <td>-0.141289</td>\n      <td>-0.182486</td>\n      <td>-0.162965</td>\n      <td>-0.170262</td>\n      <td>...</td>\n      <td>-0.078297</td>\n      <td>-0.124641</td>\n      <td>-0.121939</td>\n      <td>-0.128903</td>\n      <td>-0.103807</td>\n      <td>-0.134192</td>\n      <td>-0.166740</td>\n      <td>-0.130025</td>\n      <td>-0.134049</td>\n      <td>-0.142831</td>\n    </tr>\n  </tbody>\n</table>\n<p>5 rows × 274 columns</p>\n</div>"
     },
     "execution_count": 29,
     "metadata": {},
     "output_type": "execute_result"
    }
   ],
   "source": [
    "pivot_columns = [col for col in train_df.columns if col not in ['id', 'date', 'month_number']]\n",
    "\n",
    "df_pivoted = train_df.pivot_table(index='id', columns='month_number', values=pivot_columns, aggfunc='first')\n",
    "\n",
    "# Теперь, когда мы сформировали сводную таблицу, преобразуем MultiIndex столбцы в единый уровень\n",
    "df_pivoted.columns = [f'{col[0]}_{col[1]}month' for col in df_pivoted.columns]\n",
    "\n",
    "# Переименовываем индекс обратно в столбец 'id', если он стал индексом\n",
    "df_pivoted.reset_index(inplace=True)\n",
    "\n",
    "df_pivoted.head()\n",
    "\n"
   ],
   "metadata": {
    "collapsed": false,
    "ExecuteTime": {
     "end_time": "2024-03-12T12:17:01.722854300Z",
     "start_time": "2024-03-12T12:16:58.584435800Z"
    }
   }
  },
  {
   "cell_type": "code",
   "execution_count": 30,
   "outputs": [
    {
     "name": "stdout",
     "output_type": "stream",
     "text": [
      "<class 'pandas.core.frame.DataFrame'>\n",
      "RangeIndex: 200000 entries, 0 to 199999\n",
      "Columns: 274 entries, id to sum_of_paym_6m_3month\n",
      "dtypes: float64(243), int64(1), object(30)\n",
      "memory usage: 418.1+ MB\n"
     ]
    }
   ],
   "source": [
    "df_pivoted.info()"
   ],
   "metadata": {
    "collapsed": false,
    "ExecuteTime": {
     "end_time": "2024-03-12T12:17:01.955749100Z",
     "start_time": "2024-03-12T12:17:01.721849900Z"
    }
   }
  },
  {
   "cell_type": "code",
   "execution_count": 30,
   "outputs": [],
   "source": [],
   "metadata": {
    "collapsed": false,
    "ExecuteTime": {
     "end_time": "2024-03-12T12:17:01.960620800Z",
     "start_time": "2024-03-12T12:17:01.956756200Z"
    }
   }
  },
  {
   "cell_type": "code",
   "execution_count": 31,
   "id": "05a1edfe-fcca-4945-a00d-c0b1627d1718",
   "metadata": {
    "execution": {
     "iopub.execute_input": "2024-02-14T23:09:54.232295Z",
     "iopub.status.busy": "2024-02-14T23:09:54.232055Z",
     "iopub.status.idle": "2024-02-14T23:09:54.256480Z",
     "shell.execute_reply": "2024-02-14T23:09:54.255966Z",
     "shell.execute_reply.started": "2024-02-14T23:09:54.232276Z"
    },
    "tags": [],
    "id": "05a1edfe-fcca-4945-a00d-c0b1627d1718",
    "ExecuteTime": {
     "end_time": "2024-03-12T12:17:01.968470900Z",
     "start_time": "2024-03-12T12:17:01.964620300Z"
    }
   },
   "outputs": [],
   "source": [
    "cat_cols = [\n",
    "    \"channel_code_2month\", \"city_2month\", \"city_type_2month\",\n",
    "    \"okved_2month\", \"segment_2month\", \"start_cluster_2month\",\n",
    "    \"index_city_code_2month\", \"ogrn_month_2month\", \"ogrn_year_2month\",\n",
    "    \"channel_code_1month\", \"city_1month\", \"city_type_1month\",\n",
    "    \"okved_1month\", \"segment_1month\", \"start_cluster_1month\",\n",
    "    \"index_city_code_1month\", \"ogrn_month_1month\", \"ogrn_year_1month\",\n",
    "    \"channel_code_3month\", \"city_3month\", \"city_type_3month\",\n",
    "    \"okved_3month\", \"segment_3month\", \"start_cluster_3month\",\n",
    "    \"index_city_code_3month\", \"ogrn_month_3month\", \"ogrn_year_3month\",\n",
    "]"
   ]
  },
  {
   "cell_type": "markdown",
   "source": [
    "Обозначение категориальных признаков"
   ],
   "metadata": {
    "id": "DCN4DEaNqjr2"
   },
   "id": "DCN4DEaNqjr2"
  },
  {
   "cell_type": "code",
   "execution_count": 31,
   "id": "198295f2-78b7-41a0-b0fe-490de972beaf",
   "metadata": {
    "execution": {
     "iopub.execute_input": "2024-02-14T23:09:54.257396Z",
     "iopub.status.busy": "2024-02-14T23:09:54.257163Z",
     "iopub.status.idle": "2024-02-14T23:09:54.777051Z",
     "shell.execute_reply": "2024-02-14T23:09:54.776272Z",
     "shell.execute_reply.started": "2024-02-14T23:09:54.257375Z"
    },
    "tags": [],
    "id": "198295f2-78b7-41a0-b0fe-490de972beaf",
    "ExecuteTime": {
     "end_time": "2024-03-12T12:17:01.971428400Z",
     "start_time": "2024-03-12T12:17:01.969918800Z"
    }
   },
   "outputs": [],
   "source": [
    "\n"
   ]
  },
  {
   "cell_type": "markdown",
   "source": [
    "Создаем выборки для валидации и обучения"
   ],
   "metadata": {
    "id": "50RNyCgPtl6n"
   },
   "id": "50RNyCgPtl6n"
  },
  {
   "cell_type": "code",
   "execution_count": 32,
   "id": "2c0edf39-d716-48ca-a66c-936871ee5918",
   "metadata": {
    "execution": {
     "iopub.execute_input": "2024-02-14T23:09:54.944960Z",
     "iopub.status.busy": "2024-02-14T23:09:54.944681Z",
     "iopub.status.idle": "2024-02-14T23:09:55.555948Z",
     "shell.execute_reply": "2024-02-14T23:09:55.554535Z",
     "shell.execute_reply.started": "2024-02-14T23:09:54.944939Z"
    },
    "tags": [],
    "id": "2c0edf39-d716-48ca-a66c-936871ee5918",
    "ExecuteTime": {
     "end_time": "2024-03-12T12:17:02.655646900Z",
     "start_time": "2024-03-12T12:17:01.973429900Z"
    }
   },
   "outputs": [],
   "source": [
    "X = df_pivoted.drop([\"id\",\"end_cluster_3month\", \"end_cluster_2month\", \"end_cluster_1month\"], axis=1)\n",
    "y = df_pivoted[\"end_cluster_3month\"]\n",
    "\n",
    "x_train, x_val, y_train, y_val = train_test_split(X, y,\n",
    "                                                  test_size=0.2,\n",
    "                                                  random_state=42)"
   ]
  },
  {
   "cell_type": "markdown",
   "source": [
    "## Обучение модели"
   ],
   "metadata": {
    "id": "vkyL_GYgNMCL"
   },
   "id": "vkyL_GYgNMCL"
  },
  {
   "cell_type": "markdown",
   "source": [
    "В качестве базовой модели возьмем LGBM обучим на всех признаках"
   ],
   "metadata": {
    "id": "nsiLHOP3tyLs"
   },
   "id": "nsiLHOP3tyLs"
  },
  {
   "cell_type": "code",
   "execution_count": 32,
   "outputs": [],
   "source": [],
   "metadata": {
    "collapsed": false,
    "ExecuteTime": {
     "end_time": "2024-03-12T12:17:02.657185Z",
     "start_time": "2024-03-12T12:17:02.655646900Z"
    }
   }
  },
  {
   "cell_type": "code",
   "execution_count": 33,
   "outputs": [],
   "source": [
    "params_cat = {\n",
    "    \"iterations\":1000,\n",
    "    \"depth\":12,\n",
    "    #\"learning_rate\":0.01,\n",
    "    \"eval_metric\":'AUC',\n",
    "    \"random_seed\":1,\n",
    "    \"bootstrap_type\":'Bayesian',\n",
    "    \"bagging_temperature\":1,\n",
    "    \"od_type\":'Iter',\n",
    "    \"od_wait\":50,\n",
    "    \"task_type\":'GPU'\n",
    "}"
   ],
   "metadata": {
    "collapsed": false,
    "ExecuteTime": {
     "end_time": "2024-03-12T12:17:02.657185Z",
     "start_time": "2024-03-12T12:17:02.655646900Z"
    }
   }
  },
  {
   "cell_type": "code",
   "execution_count": 34,
   "id": "6badd1b7-0155-4c85-859d-f075800ede6e",
   "metadata": {
    "execution": {
     "iopub.execute_input": "2024-02-14T23:09:55.557916Z",
     "iopub.status.busy": "2024-02-14T23:09:55.557642Z",
     "iopub.status.idle": "2024-02-14T23:09:55.562656Z",
     "shell.execute_reply": "2024-02-14T23:09:55.562029Z",
     "shell.execute_reply.started": "2024-02-14T23:09:55.557878Z"
    },
    "tags": [],
    "id": "6badd1b7-0155-4c85-859d-f075800ede6e",
    "colab": {
     "base_uri": "https://localhost:8080/",
     "height": 74
    },
    "outputId": "9e5fde0f-da28-40a8-984a-f7bf1a94c82d",
    "ExecuteTime": {
     "end_time": "2024-03-12T12:17:02.657185Z",
     "start_time": "2024-03-12T12:17:02.655646900Z"
    }
   },
   "outputs": [],
   "source": [
    "from sklearn.model_selection import StratifiedKFold, LeavePOut, RepeatedStratifiedKFold\n",
    "from catboost import  CatBoostClassifier\n",
    "\n",
    "\n",
    "cat_model = CatBoostClassifier(**params_cat)\n",
    "\n",
    "\n",
    "# cv = KFold(n_splits=3)\n",
    "# cv = RepeatedStratifiedKFold(n_splits=8, n_repeats=3, random_state=12)\n",
    "\n",
    "cv = StratifiedKFold(n_splits=5, shuffle=True, random_state=42)\n",
    "auc_scores = []  # Список для хранения показателей AUC для каждого разбиения\n"
   ]
  },
  {
   "cell_type": "code",
   "execution_count": 35,
   "outputs": [],
   "source": [
    "def weighted_roc_auc(y_true, y_pred, labels, weights_dict):\n",
    "    unnorm_weights = np.array([weights_dict[label] for label in labels])\n",
    "    weights = unnorm_weights / unnorm_weights.sum()\n",
    "    classes_roc_auc = roc_auc_score(y_true, y_pred, labels=labels,\n",
    "                                    multi_class=\"ovr\", average=None)\n",
    "    return sum(weights * classes_roc_auc)"
   ],
   "metadata": {
    "collapsed": false,
    "ExecuteTime": {
     "end_time": "2024-03-12T12:17:02.657185Z",
     "start_time": "2024-03-12T12:17:02.655646900Z"
    }
   }
  },
  {
   "cell_type": "code",
   "execution_count": 36,
   "outputs": [],
   "source": [
    "cluster_weights = pd.read_excel(\"cluster_weights.xlsx\").set_index(\"cluster\")\n",
    "weights_dict = cluster_weights[\"unnorm_weight\"].to_dict()"
   ],
   "metadata": {
    "collapsed": false,
    "ExecuteTime": {
     "end_time": "2024-03-12T12:17:02.659191400Z",
     "start_time": "2024-03-12T12:17:02.656646700Z"
    }
   }
  },
  {
   "cell_type": "code",
   "execution_count": 37,
   "outputs": [],
   "source": [
    "# weights_dict"
   ],
   "metadata": {
    "collapsed": false,
    "ExecuteTime": {
     "end_time": "2024-03-12T12:17:02.661502700Z",
     "start_time": "2024-03-12T12:17:02.659989300Z"
    }
   }
  },
  {
   "cell_type": "code",
   "execution_count": 38,
   "outputs": [],
   "source": [
    "cat_features = [col for col in X.columns if X[col].dtype.name == 'category' or X[col].dtype.name == 'object']\n",
    "for col in cat_features:\n",
    "    X[col] = X[col].astype('category')\n",
    "    #test_df[col] = test_df[col].astype('category')\n",
    "\n"
   ],
   "metadata": {
    "collapsed": false,
    "ExecuteTime": {
     "end_time": "2024-03-12T12:17:02.901004600Z",
     "start_time": "2024-03-12T12:17:02.663503900Z"
    }
   }
  },
  {
   "cell_type": "code",
   "execution_count": 39,
   "outputs": [],
   "source": [
    "y = y.astype('category')\n",
    "# y = y.cat.add_categories('Missing').fillna('Missing')"
   ],
   "metadata": {
    "collapsed": false,
    "ExecuteTime": {
     "end_time": "2024-03-12T12:17:02.912663900Z",
     "start_time": "2024-03-12T12:17:02.902006800Z"
    }
   }
  },
  {
   "cell_type": "code",
   "execution_count": 40,
   "outputs": [
    {
     "data": {
      "text/plain": "['channel_code_1month',\n 'channel_code_2month',\n 'channel_code_3month',\n 'city_1month',\n 'city_2month',\n 'city_3month',\n 'city_type_1month',\n 'city_type_2month',\n 'city_type_3month',\n 'index_city_code_1month',\n 'index_city_code_2month',\n 'index_city_code_3month',\n 'ogrn_month_1month',\n 'ogrn_month_2month',\n 'ogrn_month_3month',\n 'ogrn_year_1month',\n 'ogrn_year_2month',\n 'ogrn_year_3month',\n 'okved_1month',\n 'okved_2month',\n 'okved_3month',\n 'segment_1month',\n 'segment_2month',\n 'segment_3month',\n 'start_cluster_1month',\n 'start_cluster_2month',\n 'start_cluster_3month']"
     },
     "execution_count": 40,
     "metadata": {},
     "output_type": "execute_result"
    }
   ],
   "source": [
    "cat_features = [col for col in X.columns if X[col].dtype.name == 'category' or X[col].dtype.name == 'object']\n",
    "for col in cat_features:\n",
    "    X[col] = X[col].cat.add_categories('Missing').fillna('Missing')\n",
    "cat_features"
   ],
   "metadata": {
    "collapsed": false,
    "ExecuteTime": {
     "end_time": "2024-03-12T12:17:02.951353200Z",
     "start_time": "2024-03-12T12:17:02.913667600Z"
    }
   }
  },
  {
   "cell_type": "code",
   "execution_count": 40,
   "outputs": [],
   "source": [],
   "metadata": {
    "collapsed": false,
    "ExecuteTime": {
     "end_time": "2024-03-12T12:17:02.954210800Z",
     "start_time": "2024-03-12T12:17:02.952350600Z"
    }
   }
  },
  {
   "cell_type": "code",
   "execution_count": 41,
   "outputs": [
    {
     "data": {
      "text/plain": "['channel_code_1month',\n 'channel_code_2month',\n 'channel_code_3month',\n 'city_1month',\n 'city_2month',\n 'city_3month',\n 'city_type_1month',\n 'city_type_2month',\n 'city_type_3month',\n 'index_city_code_1month',\n 'index_city_code_2month',\n 'index_city_code_3month',\n 'ogrn_month_1month',\n 'ogrn_month_2month',\n 'ogrn_month_3month',\n 'ogrn_year_1month',\n 'ogrn_year_2month',\n 'ogrn_year_3month',\n 'okved_1month',\n 'okved_2month',\n 'okved_3month',\n 'segment_1month',\n 'segment_2month',\n 'segment_3month',\n 'start_cluster_1month',\n 'start_cluster_2month',\n 'start_cluster_3month']"
     },
     "execution_count": 41,
     "metadata": {},
     "output_type": "execute_result"
    }
   ],
   "source": [
    "cat_features = [col for col in X.columns if X[col].dtype.name == 'category' or X[col].dtype.name == 'object']\n",
    "cat_features"
   ],
   "metadata": {
    "collapsed": false,
    "ExecuteTime": {
     "end_time": "2024-03-12T12:17:02.966012100Z",
     "start_time": "2024-03-12T12:17:02.955212800Z"
    }
   }
  },
  {
   "cell_type": "code",
   "execution_count": 42,
   "outputs": [
    {
     "data": {
      "text/plain": "        balance_amt_avg_1month  balance_amt_avg_2month  \\\n0                     0.744845                1.049605   \n1                    -0.081586               -0.094962   \n2                    -0.154685               -0.152784   \n3                    -0.156643               -0.156666   \n4                    -0.138847               -0.129233   \n...                        ...                     ...   \n199995               -0.067129               -0.004851   \n199996                0.543173                0.413435   \n199997               -0.082159               -0.111169   \n199998               -0.156775               -0.156775   \n199999               -0.156712               -0.156712   \n\n        balance_amt_avg_3month  balance_amt_day_avg_1month  \\\n0                     0.692653                    0.748101   \n1                    -0.090605                   -0.080890   \n2                    -0.148737                   -0.154215   \n3                    -0.156522                   -0.156179   \n4                    -0.141798                   -0.138328   \n...                        ...                         ...   \n199995               -0.039281                   -0.066388   \n199996                0.293117                    0.545804   \n199997                0.032941                   -0.081465   \n199998               -0.156776                   -0.156311   \n199999               -0.156712                   -0.156248   \n\n        balance_amt_day_avg_2month  balance_amt_day_avg_3month  \\\n0                         1.053805                    0.695747   \n1                        -0.094307                   -0.089937   \n2                        -0.152308                   -0.148249   \n3                        -0.156202                   -0.156058   \n4                        -0.128684                   -0.141289   \n...                            ...                         ...   \n199995                   -0.003917                   -0.038454   \n199996                    0.415664                    0.294974   \n199997                   -0.110564                    0.033992   \n199998                   -0.156311                   -0.156312   \n199999                   -0.156248                   -0.156248   \n\n        balance_amt_max_1month  balance_amt_max_2month  \\\n0                     0.705492                0.831916   \n1                    -0.091860               -0.100504   \n2                    -0.186795               -0.193686   \n3                    -0.204861               -0.204790   \n4                    -0.182486               -0.162965   \n...                        ...                     ...   \n199995               -0.108082               -0.053838   \n199996                0.382148                0.281704   \n199997               -0.028263               -0.041417   \n199998               -0.204960               -0.204960   \n199999               -0.204913               -0.204913   \n\n        balance_amt_max_3month  balance_amt_min_1month  ...  \\\n0                     0.740253                1.287207  ...   \n1                    -0.114275               -0.114040  ...   \n2                    -0.187003               -0.122805  ...   \n3                    -0.204718               -0.125660  ...   \n4                    -0.170262               -0.125630  ...   \n...                        ...                     ...  ...   \n199995               -0.053694               -0.031401  ...   \n199996                0.189316                1.484547  ...   \n199997                0.140726               -0.120011  ...   \n199998               -0.204960               -0.125987  ...   \n199999               -0.204913               -0.125831  ...   \n\n        sum_deb_h_oper_3m_3month  sum_of_paym_1y_1month sum_of_paym_1y_2month  \\\n0                       0.877050               0.511490              0.486425   \n1                       0.043221               0.052041              0.033554   \n2                      -0.165588              -0.291924             -0.290712   \n3                      -0.165588              -0.242793             -0.262878   \n4                      -0.078297              -0.124641             -0.121939   \n...                          ...                    ...                   ...   \n199995                 -0.078382              -0.295238             -0.290994   \n199996                 -0.153030              -0.125855             -0.126250   \n199997                  0.680322               1.732060              1.662368   \n199998                 -0.165588                    NaN                   NaN   \n199999                 -0.165588                    NaN                   NaN   \n\n       sum_of_paym_1y_3month sum_of_paym_2m_1month sum_of_paym_2m_2month  \\\n0                   0.480547              0.942275              0.645704   \n1                   0.039472              0.014051             -0.057593   \n2                  -0.288318             -0.255837             -0.267913   \n3                  -0.273303             -0.273969             -0.273969   \n4                  -0.128903             -0.103807             -0.134192   \n...                      ...                   ...                   ...   \n199995             -0.283410             -0.269524             -0.248313   \n199996             -0.126344             -0.221403             -0.222278   \n199997              1.694414              0.661477              0.127654   \n199998                   NaN                   NaN                   NaN   \n199999                   NaN                   NaN                   NaN   \n\n       sum_of_paym_2m_3month sum_of_paym_6m_1month sum_of_paym_6m_2month  \\\n0                   0.403604              0.536013              0.536378   \n1                  -0.092059              0.043800              0.035027   \n2                  -0.255946             -0.287121             -0.284955   \n3                  -0.273969             -0.268832             -0.294398   \n4                  -0.166740             -0.130025             -0.134049   \n...                      ...                   ...                   ...   \n199995             -0.214854             -0.293044             -0.285459   \n199996             -0.225526             -0.136274             -0.178142   \n199997              0.751383              1.658004              1.251180   \n199998                   NaN                   NaN                   NaN   \n199999                   NaN                   NaN                   NaN   \n\n       sum_of_paym_6m_3month  \n0                   0.613167  \n1                   0.025233  \n2                  -0.280676  \n3                  -0.294447  \n4                  -0.142831  \n...                      ...  \n199995             -0.271905  \n199996             -0.194693  \n199997              1.126610  \n199998                   NaN  \n199999                   NaN  \n\n[200000 rows x 270 columns]",
      "text/html": "<div>\n<style scoped>\n    .dataframe tbody tr th:only-of-type {\n        vertical-align: middle;\n    }\n\n    .dataframe tbody tr th {\n        vertical-align: top;\n    }\n\n    .dataframe thead th {\n        text-align: right;\n    }\n</style>\n<table border=\"1\" class=\"dataframe\">\n  <thead>\n    <tr style=\"text-align: right;\">\n      <th></th>\n      <th>balance_amt_avg_1month</th>\n      <th>balance_amt_avg_2month</th>\n      <th>balance_amt_avg_3month</th>\n      <th>balance_amt_day_avg_1month</th>\n      <th>balance_amt_day_avg_2month</th>\n      <th>balance_amt_day_avg_3month</th>\n      <th>balance_amt_max_1month</th>\n      <th>balance_amt_max_2month</th>\n      <th>balance_amt_max_3month</th>\n      <th>balance_amt_min_1month</th>\n      <th>...</th>\n      <th>sum_deb_h_oper_3m_3month</th>\n      <th>sum_of_paym_1y_1month</th>\n      <th>sum_of_paym_1y_2month</th>\n      <th>sum_of_paym_1y_3month</th>\n      <th>sum_of_paym_2m_1month</th>\n      <th>sum_of_paym_2m_2month</th>\n      <th>sum_of_paym_2m_3month</th>\n      <th>sum_of_paym_6m_1month</th>\n      <th>sum_of_paym_6m_2month</th>\n      <th>sum_of_paym_6m_3month</th>\n    </tr>\n  </thead>\n  <tbody>\n    <tr>\n      <th>0</th>\n      <td>0.744845</td>\n      <td>1.049605</td>\n      <td>0.692653</td>\n      <td>0.748101</td>\n      <td>1.053805</td>\n      <td>0.695747</td>\n      <td>0.705492</td>\n      <td>0.831916</td>\n      <td>0.740253</td>\n      <td>1.287207</td>\n      <td>...</td>\n      <td>0.877050</td>\n      <td>0.511490</td>\n      <td>0.486425</td>\n      <td>0.480547</td>\n      <td>0.942275</td>\n      <td>0.645704</td>\n      <td>0.403604</td>\n      <td>0.536013</td>\n      <td>0.536378</td>\n      <td>0.613167</td>\n    </tr>\n    <tr>\n      <th>1</th>\n      <td>-0.081586</td>\n      <td>-0.094962</td>\n      <td>-0.090605</td>\n      <td>-0.080890</td>\n      <td>-0.094307</td>\n      <td>-0.089937</td>\n      <td>-0.091860</td>\n      <td>-0.100504</td>\n      <td>-0.114275</td>\n      <td>-0.114040</td>\n      <td>...</td>\n      <td>0.043221</td>\n      <td>0.052041</td>\n      <td>0.033554</td>\n      <td>0.039472</td>\n      <td>0.014051</td>\n      <td>-0.057593</td>\n      <td>-0.092059</td>\n      <td>0.043800</td>\n      <td>0.035027</td>\n      <td>0.025233</td>\n    </tr>\n    <tr>\n      <th>2</th>\n      <td>-0.154685</td>\n      <td>-0.152784</td>\n      <td>-0.148737</td>\n      <td>-0.154215</td>\n      <td>-0.152308</td>\n      <td>-0.148249</td>\n      <td>-0.186795</td>\n      <td>-0.193686</td>\n      <td>-0.187003</td>\n      <td>-0.122805</td>\n      <td>...</td>\n      <td>-0.165588</td>\n      <td>-0.291924</td>\n      <td>-0.290712</td>\n      <td>-0.288318</td>\n      <td>-0.255837</td>\n      <td>-0.267913</td>\n      <td>-0.255946</td>\n      <td>-0.287121</td>\n      <td>-0.284955</td>\n      <td>-0.280676</td>\n    </tr>\n    <tr>\n      <th>3</th>\n      <td>-0.156643</td>\n      <td>-0.156666</td>\n      <td>-0.156522</td>\n      <td>-0.156179</td>\n      <td>-0.156202</td>\n      <td>-0.156058</td>\n      <td>-0.204861</td>\n      <td>-0.204790</td>\n      <td>-0.204718</td>\n      <td>-0.125660</td>\n      <td>...</td>\n      <td>-0.165588</td>\n      <td>-0.242793</td>\n      <td>-0.262878</td>\n      <td>-0.273303</td>\n      <td>-0.273969</td>\n      <td>-0.273969</td>\n      <td>-0.273969</td>\n      <td>-0.268832</td>\n      <td>-0.294398</td>\n      <td>-0.294447</td>\n    </tr>\n    <tr>\n      <th>4</th>\n      <td>-0.138847</td>\n      <td>-0.129233</td>\n      <td>-0.141798</td>\n      <td>-0.138328</td>\n      <td>-0.128684</td>\n      <td>-0.141289</td>\n      <td>-0.182486</td>\n      <td>-0.162965</td>\n      <td>-0.170262</td>\n      <td>-0.125630</td>\n      <td>...</td>\n      <td>-0.078297</td>\n      <td>-0.124641</td>\n      <td>-0.121939</td>\n      <td>-0.128903</td>\n      <td>-0.103807</td>\n      <td>-0.134192</td>\n      <td>-0.166740</td>\n      <td>-0.130025</td>\n      <td>-0.134049</td>\n      <td>-0.142831</td>\n    </tr>\n    <tr>\n      <th>...</th>\n      <td>...</td>\n      <td>...</td>\n      <td>...</td>\n      <td>...</td>\n      <td>...</td>\n      <td>...</td>\n      <td>...</td>\n      <td>...</td>\n      <td>...</td>\n      <td>...</td>\n      <td>...</td>\n      <td>...</td>\n      <td>...</td>\n      <td>...</td>\n      <td>...</td>\n      <td>...</td>\n      <td>...</td>\n      <td>...</td>\n      <td>...</td>\n      <td>...</td>\n      <td>...</td>\n    </tr>\n    <tr>\n      <th>199995</th>\n      <td>-0.067129</td>\n      <td>-0.004851</td>\n      <td>-0.039281</td>\n      <td>-0.066388</td>\n      <td>-0.003917</td>\n      <td>-0.038454</td>\n      <td>-0.108082</td>\n      <td>-0.053838</td>\n      <td>-0.053694</td>\n      <td>-0.031401</td>\n      <td>...</td>\n      <td>-0.078382</td>\n      <td>-0.295238</td>\n      <td>-0.290994</td>\n      <td>-0.283410</td>\n      <td>-0.269524</td>\n      <td>-0.248313</td>\n      <td>-0.214854</td>\n      <td>-0.293044</td>\n      <td>-0.285459</td>\n      <td>-0.271905</td>\n    </tr>\n    <tr>\n      <th>199996</th>\n      <td>0.543173</td>\n      <td>0.413435</td>\n      <td>0.293117</td>\n      <td>0.545804</td>\n      <td>0.415664</td>\n      <td>0.294974</td>\n      <td>0.382148</td>\n      <td>0.281704</td>\n      <td>0.189316</td>\n      <td>1.484547</td>\n      <td>...</td>\n      <td>-0.153030</td>\n      <td>-0.125855</td>\n      <td>-0.126250</td>\n      <td>-0.126344</td>\n      <td>-0.221403</td>\n      <td>-0.222278</td>\n      <td>-0.225526</td>\n      <td>-0.136274</td>\n      <td>-0.178142</td>\n      <td>-0.194693</td>\n    </tr>\n    <tr>\n      <th>199997</th>\n      <td>-0.082159</td>\n      <td>-0.111169</td>\n      <td>0.032941</td>\n      <td>-0.081465</td>\n      <td>-0.110564</td>\n      <td>0.033992</td>\n      <td>-0.028263</td>\n      <td>-0.041417</td>\n      <td>0.140726</td>\n      <td>-0.120011</td>\n      <td>...</td>\n      <td>0.680322</td>\n      <td>1.732060</td>\n      <td>1.662368</td>\n      <td>1.694414</td>\n      <td>0.661477</td>\n      <td>0.127654</td>\n      <td>0.751383</td>\n      <td>1.658004</td>\n      <td>1.251180</td>\n      <td>1.126610</td>\n    </tr>\n    <tr>\n      <th>199998</th>\n      <td>-0.156775</td>\n      <td>-0.156775</td>\n      <td>-0.156776</td>\n      <td>-0.156311</td>\n      <td>-0.156311</td>\n      <td>-0.156312</td>\n      <td>-0.204960</td>\n      <td>-0.204960</td>\n      <td>-0.204960</td>\n      <td>-0.125987</td>\n      <td>...</td>\n      <td>-0.165588</td>\n      <td>NaN</td>\n      <td>NaN</td>\n      <td>NaN</td>\n      <td>NaN</td>\n      <td>NaN</td>\n      <td>NaN</td>\n      <td>NaN</td>\n      <td>NaN</td>\n      <td>NaN</td>\n    </tr>\n    <tr>\n      <th>199999</th>\n      <td>-0.156712</td>\n      <td>-0.156712</td>\n      <td>-0.156712</td>\n      <td>-0.156248</td>\n      <td>-0.156248</td>\n      <td>-0.156248</td>\n      <td>-0.204913</td>\n      <td>-0.204913</td>\n      <td>-0.204913</td>\n      <td>-0.125831</td>\n      <td>...</td>\n      <td>-0.165588</td>\n      <td>NaN</td>\n      <td>NaN</td>\n      <td>NaN</td>\n      <td>NaN</td>\n      <td>NaN</td>\n      <td>NaN</td>\n      <td>NaN</td>\n      <td>NaN</td>\n      <td>NaN</td>\n    </tr>\n  </tbody>\n</table>\n<p>200000 rows × 270 columns</p>\n</div>"
     },
     "execution_count": 42,
     "metadata": {},
     "output_type": "execute_result"
    }
   ],
   "source": [
    "X"
   ],
   "metadata": {
    "collapsed": false,
    "ExecuteTime": {
     "end_time": "2024-03-12T12:17:03.007525500Z",
     "start_time": "2024-03-12T12:17:02.967011700Z"
    }
   }
  },
  {
   "cell_type": "code",
   "execution_count": 43,
   "outputs": [
    {
     "name": "stdout",
     "output_type": "stream",
     "text": [
      "<class 'pandas.core.series.Series'>\n",
      "Index: 40000 entries, 119737 to 6584\n",
      "Series name: end_cluster_3month\n",
      "Non-Null Count  Dtype \n",
      "--------------  ----- \n",
      "40000 non-null  object\n",
      "dtypes: object(1)\n",
      "memory usage: 625.0+ KB\n"
     ]
    }
   ],
   "source": [
    "y_val.info()"
   ],
   "metadata": {
    "collapsed": false,
    "ExecuteTime": {
     "end_time": "2024-03-12T12:17:03.013774600Z",
     "start_time": "2024-03-12T12:17:03.008525200Z"
    }
   }
  },
  {
   "cell_type": "code",
   "execution_count": null,
   "outputs": [],
   "source": [
    "i=0\n",
    "for train_idx, val_idx in cv.split(X, y):\n",
    "    x_train, x_val = X.iloc[train_idx], X.iloc[val_idx]\n",
    "    y_train, y_val = y.iloc[train_idx], y.iloc[val_idx]\n",
    "    cat_model.fit(\n",
    "        x_train, y_train,\n",
    "        eval_set=(x_val, y_val),\n",
    "        cat_features=cat_features,\n",
    "        use_best_model=True,\n",
    "        verbose=True\n",
    "     )\n",
    "\n",
    "    y_pred_proba = cat_model.predict_proba(x_val)\n",
    "    cat_model.save_model(f'my_meth/model_{i}.cbm')\n",
    "    i+=1\n",
    "    print('y_val')\n",
    "    print(y_val)\n",
    "    print('y_pred_proba')\n",
    "    print(y_pred_proba)\n",
    "    print('cat_model.classes_')\n",
    "    print(cat_model.classes_)\n",
    "    print('weights_dict')\n",
    "    print(weights_dict)\n",
    "    auc_score = weighted_roc_auc(y_val, y_pred_proba, cat_model.classes_, weights_dict)\n",
    "    auc_scores.append(auc_score)\n",
    "\n",
    "mean_auc = np.mean(auc_scores)\n",
    "std_auc = np.std(auc_scores)\n",
    "print(f\"Средний взвешенный ROC AUC: {mean_auc:.3f} ± {std_auc:.3f}\")\n"
   ],
   "metadata": {
    "collapsed": false,
    "is_executing": true,
    "ExecuteTime": {
     "start_time": "2024-03-12T12:17:03.016778800Z"
    }
   }
  }
 ],
 "metadata": {
  "kernelspec": {
   "display_name": "python3",
   "language": "python",
   "name": "python3"
  },
  "language_info": {
   "codemirror_mode": {
    "name": "ipython",
    "version": 3
   },
   "file_extension": ".py",
   "mimetype": "text/x-python",
   "name": "python",
   "nbconvert_exporter": "python",
   "pygments_lexer": "ipython3",
   "version": "3.7.12"
  },
  "colab": {
   "provenance": []
  }
 },
 "nbformat": 4,
 "nbformat_minor": 5
}
