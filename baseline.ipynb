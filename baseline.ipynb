{
 "cells": [
  {
   "cell_type": "markdown",
   "id": "8b7bef09-9e86-4b19-bbb7-e0ccb7515328",
   "metadata": {
    "execution": {
     "iopub.execute_input": "2024-02-14T22:50:38.627643Z",
     "iopub.status.busy": "2024-02-14T22:50:38.627255Z",
     "iopub.status.idle": "2024-02-14T22:50:39.496067Z",
     "shell.execute_reply": "2024-02-14T22:50:39.495215Z",
     "shell.execute_reply.started": "2024-02-14T22:50:38.627616Z"
    },
    "tags": [],
    "id": "8b7bef09-9e86-4b19-bbb7-e0ccb7515328"
   },
   "source": [
    "# Baseline"
   ]
  },
  {
   "cell_type": "code",
   "execution_count": 1,
   "id": "e0ddb399-18f4-4051-86c0-39f1c623eef5",
   "metadata": {
    "execution": {
     "iopub.execute_input": "2024-02-15T11:34:39.109032Z",
     "iopub.status.busy": "2024-02-15T11:34:39.108624Z",
     "iopub.status.idle": "2024-02-15T11:34:39.955360Z",
     "shell.execute_reply": "2024-02-15T11:34:39.954584Z",
     "shell.execute_reply.started": "2024-02-15T11:34:39.109007Z"
    },
    "tags": [],
    "id": "e0ddb399-18f4-4051-86c0-39f1c623eef5",
    "ExecuteTime": {
     "end_time": "2024-03-12T15:04:15.613690500Z",
     "start_time": "2024-03-12T15:04:14.925355500Z"
    }
   },
   "outputs": [],
   "source": [
    "import numpy as np\n",
    "import pandas as pd\n",
    "from lightgbm import LGBMClassifier\n",
    "from sklearn.metrics import roc_auc_score\n",
    "from sklearn.model_selection import train_test_split"
   ]
  },
  {
   "cell_type": "code",
   "source": [
    "!pip freeze | grep \"numpy\\|pandas\\|lightgbm\\|scikit-learn\""
   ],
   "metadata": {
    "colab": {
     "base_uri": "https://localhost:8080/"
    },
    "id": "WremRMspEMJA",
    "outputId": "6842e845-8079-4b49-d71e-01a31d47b1e8",
    "ExecuteTime": {
     "end_time": "2024-03-12T15:04:17.181270200Z",
     "start_time": "2024-03-12T15:04:15.615693100Z"
    }
   },
   "id": "WremRMspEMJA",
   "execution_count": 2,
   "outputs": [
    {
     "name": "stdout",
     "output_type": "stream",
     "text": [
      "lightgbm==4.3.0\n",
      "numpy @ file:///C:/b/abs_c1ywpu18ar/croot/numpy_and_numpy_base_1708638681471/work/dist/numpy-1.26.4-cp311-cp311-win_amd64.whl#sha256=5dfd3e04dc1c2826d3f404fdc7f93c097901f5da9b91f4f394f79d4e038ed81d\n",
      "numpydoc @ file:///C:/ci_311/numpydoc_1676453412027/work\n",
      "pandas @ file:///C:/b/abs_fej9bi0gew/croot/pandas_1702318041921/work/dist/pandas-2.1.4-cp311-cp311-win_amd64.whl#sha256=d3609b7cc3e3c4d99ad640a4b8e710ba93ccf967ab8e5245b91033e0200f9286\n",
      "scikit-learn @ file:///C:/b/abs_38k7ridbgr/croot/scikit-learn_1684954723009/work\n"
     ]
    }
   ]
  },
  {
   "cell_type": "markdown",
   "id": "cbcf3aae-5417-42a3-9ed2-818b9aef0f2f",
   "metadata": {
    "id": "cbcf3aae-5417-42a3-9ed2-818b9aef0f2f"
   },
   "source": [
    "## Загрузка данных"
   ]
  },
  {
   "cell_type": "code",
   "execution_count": 3,
   "id": "32c8b1b0-f95e-4cb5-bbc1-c0edb76568c1",
   "metadata": {
    "execution": {
     "iopub.execute_input": "2024-02-15T11:34:44.750723Z",
     "iopub.status.busy": "2024-02-15T11:34:44.750145Z",
     "iopub.status.idle": "2024-02-15T11:34:46.098228Z",
     "shell.execute_reply": "2024-02-15T11:34:46.097494Z",
     "shell.execute_reply.started": "2024-02-15T11:34:44.750694Z"
    },
    "tags": [],
    "id": "32c8b1b0-f95e-4cb5-bbc1-c0edb76568c1",
    "ExecuteTime": {
     "end_time": "2024-03-12T15:04:17.794302900Z",
     "start_time": "2024-03-12T15:04:17.184277700Z"
    }
   },
   "outputs": [],
   "source": [
    "train_df = pd.read_parquet(\"train_data.pqt\")\n",
    "test_df = pd.read_parquet(\"test_data.pqt\")"
   ]
  },
  {
   "cell_type": "code",
   "execution_count": 4,
   "id": "8caad423-0805-4b57-9d02-8ae203be2e65",
   "metadata": {
    "execution": {
     "iopub.execute_input": "2024-02-14T23:09:54.192532Z",
     "iopub.status.busy": "2024-02-14T23:09:54.192285Z",
     "iopub.status.idle": "2024-02-14T23:09:54.214362Z",
     "shell.execute_reply": "2024-02-14T23:09:54.213854Z",
     "shell.execute_reply.started": "2024-02-14T23:09:54.192509Z"
    },
    "tags": [],
    "colab": {
     "base_uri": "https://localhost:8080/",
     "height": 193
    },
    "id": "8caad423-0805-4b57-9d02-8ae203be2e65",
    "outputId": "824bb6af-08be-4561-881b-3c3572e6bcdb",
    "ExecuteTime": {
     "end_time": "2024-03-12T15:04:17.811820400Z",
     "start_time": "2024-03-12T15:04:17.795310100Z"
    }
   },
   "outputs": [
    {
     "data": {
      "text/plain": "   id     date  balance_amt_avg  balance_amt_max  balance_amt_min  \\\n0   0  month_1         0.744845         0.705492         1.287207   \n1   0  month_2         1.049605         0.831916         2.458609   \n2   0  month_3         0.692653         0.740253         0.430042   \n\n   balance_amt_day_avg    channel_code     city    city_type  \\\n0             0.748101  channel_code_5  city_23  city_type_0   \n1             1.053805  channel_code_5  city_23  city_type_0   \n2             0.695747  channel_code_5  city_23  city_type_0   \n\n      index_city_code  ...  cnt_cred_g_oper_3m  cnt_days_cred_g_oper_3m  \\\n0  index_city_code_39  ...            0.951166                 0.568681   \n1  index_city_code_39  ...            0.948812                 0.499716   \n2  index_city_code_39  ...            0.946458                 0.442244   \n\n  sum_deb_h_oper_3m cnt_deb_h_oper_3m  cnt_days_deb_h_oper_3m  \\\n0          0.897565          0.553624                0.774354   \n1          0.785029          0.551904                0.696576   \n2          0.877050          0.551044                0.663243   \n\n   sum_cred_h_oper_3m  cnt_cred_h_oper_3m  cnt_days_cred_h_oper_3m  \\\n0            0.936506            0.295984                 0.967947   \n1            0.990157            0.298873                 0.945969   \n2            0.810065            0.294829                 0.956958   \n\n  start_cluster end_cluster  \n0        {α, γ}     {other}  \n1        {α, γ}     {other}  \n2        {α, γ}     {other}  \n\n[3 rows x 93 columns]",
      "text/html": "<div>\n<style scoped>\n    .dataframe tbody tr th:only-of-type {\n        vertical-align: middle;\n    }\n\n    .dataframe tbody tr th {\n        vertical-align: top;\n    }\n\n    .dataframe thead th {\n        text-align: right;\n    }\n</style>\n<table border=\"1\" class=\"dataframe\">\n  <thead>\n    <tr style=\"text-align: right;\">\n      <th></th>\n      <th>id</th>\n      <th>date</th>\n      <th>balance_amt_avg</th>\n      <th>balance_amt_max</th>\n      <th>balance_amt_min</th>\n      <th>balance_amt_day_avg</th>\n      <th>channel_code</th>\n      <th>city</th>\n      <th>city_type</th>\n      <th>index_city_code</th>\n      <th>...</th>\n      <th>cnt_cred_g_oper_3m</th>\n      <th>cnt_days_cred_g_oper_3m</th>\n      <th>sum_deb_h_oper_3m</th>\n      <th>cnt_deb_h_oper_3m</th>\n      <th>cnt_days_deb_h_oper_3m</th>\n      <th>sum_cred_h_oper_3m</th>\n      <th>cnt_cred_h_oper_3m</th>\n      <th>cnt_days_cred_h_oper_3m</th>\n      <th>start_cluster</th>\n      <th>end_cluster</th>\n    </tr>\n  </thead>\n  <tbody>\n    <tr>\n      <th>0</th>\n      <td>0</td>\n      <td>month_1</td>\n      <td>0.744845</td>\n      <td>0.705492</td>\n      <td>1.287207</td>\n      <td>0.748101</td>\n      <td>channel_code_5</td>\n      <td>city_23</td>\n      <td>city_type_0</td>\n      <td>index_city_code_39</td>\n      <td>...</td>\n      <td>0.951166</td>\n      <td>0.568681</td>\n      <td>0.897565</td>\n      <td>0.553624</td>\n      <td>0.774354</td>\n      <td>0.936506</td>\n      <td>0.295984</td>\n      <td>0.967947</td>\n      <td>{α, γ}</td>\n      <td>{other}</td>\n    </tr>\n    <tr>\n      <th>1</th>\n      <td>0</td>\n      <td>month_2</td>\n      <td>1.049605</td>\n      <td>0.831916</td>\n      <td>2.458609</td>\n      <td>1.053805</td>\n      <td>channel_code_5</td>\n      <td>city_23</td>\n      <td>city_type_0</td>\n      <td>index_city_code_39</td>\n      <td>...</td>\n      <td>0.948812</td>\n      <td>0.499716</td>\n      <td>0.785029</td>\n      <td>0.551904</td>\n      <td>0.696576</td>\n      <td>0.990157</td>\n      <td>0.298873</td>\n      <td>0.945969</td>\n      <td>{α, γ}</td>\n      <td>{other}</td>\n    </tr>\n    <tr>\n      <th>2</th>\n      <td>0</td>\n      <td>month_3</td>\n      <td>0.692653</td>\n      <td>0.740253</td>\n      <td>0.430042</td>\n      <td>0.695747</td>\n      <td>channel_code_5</td>\n      <td>city_23</td>\n      <td>city_type_0</td>\n      <td>index_city_code_39</td>\n      <td>...</td>\n      <td>0.946458</td>\n      <td>0.442244</td>\n      <td>0.877050</td>\n      <td>0.551044</td>\n      <td>0.663243</td>\n      <td>0.810065</td>\n      <td>0.294829</td>\n      <td>0.956958</td>\n      <td>{α, γ}</td>\n      <td>{other}</td>\n    </tr>\n  </tbody>\n</table>\n<p>3 rows × 93 columns</p>\n</div>"
     },
     "execution_count": 4,
     "metadata": {},
     "output_type": "execute_result"
    }
   ],
   "source": [
    "train_df.head(3)"
   ]
  },
  {
   "cell_type": "code",
   "execution_count": 5,
   "id": "97d5280f-33cc-4966-a1cd-c80c7022d1aa",
   "metadata": {
    "execution": {
     "iopub.execute_input": "2024-02-14T23:09:54.216152Z",
     "iopub.status.busy": "2024-02-14T23:09:54.215898Z",
     "iopub.status.idle": "2024-02-14T23:09:54.231329Z",
     "shell.execute_reply": "2024-02-14T23:09:54.230822Z",
     "shell.execute_reply.started": "2024-02-14T23:09:54.216133Z"
    },
    "tags": [],
    "colab": {
     "base_uri": "https://localhost:8080/",
     "height": 193
    },
    "id": "97d5280f-33cc-4966-a1cd-c80c7022d1aa",
    "outputId": "03a6b076-ac01-45fe-cfbb-492ab97a1755",
    "ExecuteTime": {
     "end_time": "2024-03-12T15:04:17.832336200Z",
     "start_time": "2024-03-12T15:04:17.812820900Z"
    }
   },
   "outputs": [
    {
     "data": {
      "text/plain": "       id     date  balance_amt_avg  balance_amt_max  balance_amt_min  \\\n0  200000  month_4        -0.096224         0.335496        -0.125995   \n1  200000  month_5        -0.024255        -0.059806        -0.124295   \n2  200000  month_6         0.045988         0.049418        -0.125995   \n\n   balance_amt_day_avg     channel_code     city    city_type index_city_code  \\\n0            -0.095578  channel_code_12  city_14  city_type_0            None   \n1            -0.023381  channel_code_12  city_14  city_type_0            None   \n2             0.047079  channel_code_12  city_14  city_type_0            None   \n\n   ...  sum_cred_g_oper_3m  cnt_cred_g_oper_3m cnt_days_cred_g_oper_3m  \\\n0  ...            0.010952            0.946066                0.407762   \n1  ...            0.006812            0.945281                0.396267   \n2  ...            0.006812            0.945281                0.396267   \n\n  sum_deb_h_oper_3m  cnt_deb_h_oper_3m  cnt_days_deb_h_oper_3m  \\\n0         -0.153950           0.548895                0.541020   \n1         -0.150505           0.549468                0.552131   \n2         -0.152800           0.549468                0.541020   \n\n   sum_cred_h_oper_3m  cnt_cred_h_oper_3m cnt_days_cred_h_oper_3m  \\\n0            0.031742            0.257278                0.561353   \n1            0.237817            0.264211                0.715199   \n2            0.387566            0.268543                0.836079   \n\n  start_cluster  \n0           {α}  \n1           {α}  \n2          None  \n\n[3 rows x 92 columns]",
      "text/html": "<div>\n<style scoped>\n    .dataframe tbody tr th:only-of-type {\n        vertical-align: middle;\n    }\n\n    .dataframe tbody tr th {\n        vertical-align: top;\n    }\n\n    .dataframe thead th {\n        text-align: right;\n    }\n</style>\n<table border=\"1\" class=\"dataframe\">\n  <thead>\n    <tr style=\"text-align: right;\">\n      <th></th>\n      <th>id</th>\n      <th>date</th>\n      <th>balance_amt_avg</th>\n      <th>balance_amt_max</th>\n      <th>balance_amt_min</th>\n      <th>balance_amt_day_avg</th>\n      <th>channel_code</th>\n      <th>city</th>\n      <th>city_type</th>\n      <th>index_city_code</th>\n      <th>...</th>\n      <th>sum_cred_g_oper_3m</th>\n      <th>cnt_cred_g_oper_3m</th>\n      <th>cnt_days_cred_g_oper_3m</th>\n      <th>sum_deb_h_oper_3m</th>\n      <th>cnt_deb_h_oper_3m</th>\n      <th>cnt_days_deb_h_oper_3m</th>\n      <th>sum_cred_h_oper_3m</th>\n      <th>cnt_cred_h_oper_3m</th>\n      <th>cnt_days_cred_h_oper_3m</th>\n      <th>start_cluster</th>\n    </tr>\n  </thead>\n  <tbody>\n    <tr>\n      <th>0</th>\n      <td>200000</td>\n      <td>month_4</td>\n      <td>-0.096224</td>\n      <td>0.335496</td>\n      <td>-0.125995</td>\n      <td>-0.095578</td>\n      <td>channel_code_12</td>\n      <td>city_14</td>\n      <td>city_type_0</td>\n      <td>None</td>\n      <td>...</td>\n      <td>0.010952</td>\n      <td>0.946066</td>\n      <td>0.407762</td>\n      <td>-0.153950</td>\n      <td>0.548895</td>\n      <td>0.541020</td>\n      <td>0.031742</td>\n      <td>0.257278</td>\n      <td>0.561353</td>\n      <td>{α}</td>\n    </tr>\n    <tr>\n      <th>1</th>\n      <td>200000</td>\n      <td>month_5</td>\n      <td>-0.024255</td>\n      <td>-0.059806</td>\n      <td>-0.124295</td>\n      <td>-0.023381</td>\n      <td>channel_code_12</td>\n      <td>city_14</td>\n      <td>city_type_0</td>\n      <td>None</td>\n      <td>...</td>\n      <td>0.006812</td>\n      <td>0.945281</td>\n      <td>0.396267</td>\n      <td>-0.150505</td>\n      <td>0.549468</td>\n      <td>0.552131</td>\n      <td>0.237817</td>\n      <td>0.264211</td>\n      <td>0.715199</td>\n      <td>{α}</td>\n    </tr>\n    <tr>\n      <th>2</th>\n      <td>200000</td>\n      <td>month_6</td>\n      <td>0.045988</td>\n      <td>0.049418</td>\n      <td>-0.125995</td>\n      <td>0.047079</td>\n      <td>channel_code_12</td>\n      <td>city_14</td>\n      <td>city_type_0</td>\n      <td>None</td>\n      <td>...</td>\n      <td>0.006812</td>\n      <td>0.945281</td>\n      <td>0.396267</td>\n      <td>-0.152800</td>\n      <td>0.549468</td>\n      <td>0.541020</td>\n      <td>0.387566</td>\n      <td>0.268543</td>\n      <td>0.836079</td>\n      <td>None</td>\n    </tr>\n  </tbody>\n</table>\n<p>3 rows × 92 columns</p>\n</div>"
     },
     "execution_count": 5,
     "metadata": {},
     "output_type": "execute_result"
    }
   ],
   "source": [
    "test_df.head(3)"
   ]
  },
  {
   "cell_type": "code",
   "execution_count": 6,
   "id": "05a1edfe-fcca-4945-a00d-c0b1627d1718",
   "metadata": {
    "execution": {
     "iopub.execute_input": "2024-02-14T23:09:54.232295Z",
     "iopub.status.busy": "2024-02-14T23:09:54.232055Z",
     "iopub.status.idle": "2024-02-14T23:09:54.256480Z",
     "shell.execute_reply": "2024-02-14T23:09:54.255966Z",
     "shell.execute_reply.started": "2024-02-14T23:09:54.232276Z"
    },
    "tags": [],
    "id": "05a1edfe-fcca-4945-a00d-c0b1627d1718",
    "ExecuteTime": {
     "end_time": "2024-03-12T15:04:17.851343100Z",
     "start_time": "2024-03-12T15:04:17.828329500Z"
    }
   },
   "outputs": [],
   "source": [
    "cat_cols = [\n",
    "    \"channel_code\", \"city\", \"city_type\",\n",
    "    \"okved\", \"segment\", \"start_cluster\",\n",
    "    \"index_city_code\", \"ogrn_month\", \"ogrn_year\",\n",
    "]"
   ]
  },
  {
   "cell_type": "markdown",
   "source": [
    "Обозначение категориальных признаков"
   ],
   "metadata": {
    "id": "DCN4DEaNqjr2"
   },
   "id": "DCN4DEaNqjr2"
  },
  {
   "cell_type": "code",
   "execution_count": 7,
   "id": "198295f2-78b7-41a0-b0fe-490de972beaf",
   "metadata": {
    "execution": {
     "iopub.execute_input": "2024-02-14T23:09:54.257396Z",
     "iopub.status.busy": "2024-02-14T23:09:54.257163Z",
     "iopub.status.idle": "2024-02-14T23:09:54.777051Z",
     "shell.execute_reply": "2024-02-14T23:09:54.776272Z",
     "shell.execute_reply.started": "2024-02-14T23:09:54.257375Z"
    },
    "tags": [],
    "id": "198295f2-78b7-41a0-b0fe-490de972beaf",
    "ExecuteTime": {
     "end_time": "2024-03-12T15:04:18.163780900Z",
     "start_time": "2024-03-12T15:04:17.831337500Z"
    }
   },
   "outputs": [],
   "source": [
    "train_df[cat_cols] = train_df[cat_cols].astype(\"category\")\n",
    "test_df[cat_cols] = test_df[cat_cols].astype(\"category\")"
   ]
  },
  {
   "cell_type": "code",
   "execution_count": 8,
   "outputs": [],
   "source": [
    "# cat_features = [col for col in train_df.columns if train_df[col].dtype.name == 'category' or train_df[col].dtype.name == 'object']\n",
    "# for col in cat_features:\n",
    "#     train_df[col] = train_df[col].astype('category')\n",
    "#\n",
    "#\n",
    "#\n",
    "# cat_features = [col for col in train_df.columns if train_df[col].dtype.name == 'category' or train_df[col].dtype.name == 'object']\n",
    "# for col in cat_features:\n",
    "#     train_df[col] = train_df[col].cat.add_categories('Missing').fillna('Missing')\n",
    "#     #X_test[col] = X_test[col].cat.add_categories('Missing').fillna('Missing')\n",
    "# cat_features\n"
   ],
   "metadata": {
    "collapsed": false,
    "ExecuteTime": {
     "end_time": "2024-03-12T15:04:18.168185100Z",
     "start_time": "2024-03-12T15:04:18.165783400Z"
    }
   }
  },
  {
   "cell_type": "markdown",
   "source": [
    "Создаем выборки для валидации и обучения"
   ],
   "metadata": {
    "id": "50RNyCgPtl6n"
   },
   "id": "50RNyCgPtl6n"
  },
  {
   "cell_type": "code",
   "execution_count": 9,
   "id": "2c0edf39-d716-48ca-a66c-936871ee5918",
   "metadata": {
    "execution": {
     "iopub.execute_input": "2024-02-14T23:09:54.944960Z",
     "iopub.status.busy": "2024-02-14T23:09:54.944681Z",
     "iopub.status.idle": "2024-02-14T23:09:55.555948Z",
     "shell.execute_reply": "2024-02-14T23:09:55.554535Z",
     "shell.execute_reply.started": "2024-02-14T23:09:54.944939Z"
    },
    "tags": [],
    "id": "2c0edf39-d716-48ca-a66c-936871ee5918",
    "ExecuteTime": {
     "end_time": "2024-03-12T15:04:18.664081500Z",
     "start_time": "2024-03-12T15:04:18.169184300Z"
    }
   },
   "outputs": [],
   "source": [
    "X = train_df.drop([\"id\", \"date\", \"start_cluster\", \"end_cluster\"], axis=1)\n",
    "y = train_df[\"start_cluster\"]\n",
    "\n",
    "x_train, x_val, y_train, y_val = train_test_split(X, y,\n",
    "                                                  test_size=0.2,\n",
    "                                                  random_state=42)"
   ]
  },
  {
   "cell_type": "markdown",
   "source": [
    "## Обучение модели"
   ],
   "metadata": {
    "id": "vkyL_GYgNMCL"
   },
   "id": "vkyL_GYgNMCL"
  },
  {
   "cell_type": "markdown",
   "source": [
    "В качестве базовой модели возьмем LGBM обучим на всех признаках"
   ],
   "metadata": {
    "id": "nsiLHOP3tyLs"
   },
   "id": "nsiLHOP3tyLs"
  },
  {
   "cell_type": "code",
   "execution_count": 10,
   "id": "6badd1b7-0155-4c85-859d-f075800ede6e",
   "metadata": {
    "execution": {
     "iopub.execute_input": "2024-02-14T23:09:55.557916Z",
     "iopub.status.busy": "2024-02-14T23:09:55.557642Z",
     "iopub.status.idle": "2024-02-14T23:09:55.562656Z",
     "shell.execute_reply": "2024-02-14T23:09:55.562029Z",
     "shell.execute_reply.started": "2024-02-14T23:09:55.557878Z"
    },
    "tags": [],
    "id": "6badd1b7-0155-4c85-859d-f075800ede6e",
    "colab": {
     "base_uri": "https://localhost:8080/",
     "height": 74
    },
    "outputId": "9e5fde0f-da28-40a8-984a-f7bf1a94c82d",
    "ExecuteTime": {
     "end_time": "2024-03-12T15:04:52.911828600Z",
     "start_time": "2024-03-12T15:04:18.665081800Z"
    }
   },
   "outputs": [
    {
     "data": {
      "text/plain": "LGBMClassifier(n_jobs=-1, random_state=42, verbosity=-1)",
      "text/html": "<style>#sk-container-id-1 {color: black;background-color: white;}#sk-container-id-1 pre{padding: 0;}#sk-container-id-1 div.sk-toggleable {background-color: white;}#sk-container-id-1 label.sk-toggleable__label {cursor: pointer;display: block;width: 100%;margin-bottom: 0;padding: 0.3em;box-sizing: border-box;text-align: center;}#sk-container-id-1 label.sk-toggleable__label-arrow:before {content: \"▸\";float: left;margin-right: 0.25em;color: #696969;}#sk-container-id-1 label.sk-toggleable__label-arrow:hover:before {color: black;}#sk-container-id-1 div.sk-estimator:hover label.sk-toggleable__label-arrow:before {color: black;}#sk-container-id-1 div.sk-toggleable__content {max-height: 0;max-width: 0;overflow: hidden;text-align: left;background-color: #f0f8ff;}#sk-container-id-1 div.sk-toggleable__content pre {margin: 0.2em;color: black;border-radius: 0.25em;background-color: #f0f8ff;}#sk-container-id-1 input.sk-toggleable__control:checked~div.sk-toggleable__content {max-height: 200px;max-width: 100%;overflow: auto;}#sk-container-id-1 input.sk-toggleable__control:checked~label.sk-toggleable__label-arrow:before {content: \"▾\";}#sk-container-id-1 div.sk-estimator input.sk-toggleable__control:checked~label.sk-toggleable__label {background-color: #d4ebff;}#sk-container-id-1 div.sk-label input.sk-toggleable__control:checked~label.sk-toggleable__label {background-color: #d4ebff;}#sk-container-id-1 input.sk-hidden--visually {border: 0;clip: rect(1px 1px 1px 1px);clip: rect(1px, 1px, 1px, 1px);height: 1px;margin: -1px;overflow: hidden;padding: 0;position: absolute;width: 1px;}#sk-container-id-1 div.sk-estimator {font-family: monospace;background-color: #f0f8ff;border: 1px dotted black;border-radius: 0.25em;box-sizing: border-box;margin-bottom: 0.5em;}#sk-container-id-1 div.sk-estimator:hover {background-color: #d4ebff;}#sk-container-id-1 div.sk-parallel-item::after {content: \"\";width: 100%;border-bottom: 1px solid gray;flex-grow: 1;}#sk-container-id-1 div.sk-label:hover label.sk-toggleable__label {background-color: #d4ebff;}#sk-container-id-1 div.sk-serial::before {content: \"\";position: absolute;border-left: 1px solid gray;box-sizing: border-box;top: 0;bottom: 0;left: 50%;z-index: 0;}#sk-container-id-1 div.sk-serial {display: flex;flex-direction: column;align-items: center;background-color: white;padding-right: 0.2em;padding-left: 0.2em;position: relative;}#sk-container-id-1 div.sk-item {position: relative;z-index: 1;}#sk-container-id-1 div.sk-parallel {display: flex;align-items: stretch;justify-content: center;background-color: white;position: relative;}#sk-container-id-1 div.sk-item::before, #sk-container-id-1 div.sk-parallel-item::before {content: \"\";position: absolute;border-left: 1px solid gray;box-sizing: border-box;top: 0;bottom: 0;left: 50%;z-index: -1;}#sk-container-id-1 div.sk-parallel-item {display: flex;flex-direction: column;z-index: 1;position: relative;background-color: white;}#sk-container-id-1 div.sk-parallel-item:first-child::after {align-self: flex-end;width: 50%;}#sk-container-id-1 div.sk-parallel-item:last-child::after {align-self: flex-start;width: 50%;}#sk-container-id-1 div.sk-parallel-item:only-child::after {width: 0;}#sk-container-id-1 div.sk-dashed-wrapped {border: 1px dashed gray;margin: 0 0.4em 0.5em 0.4em;box-sizing: border-box;padding-bottom: 0.4em;background-color: white;}#sk-container-id-1 div.sk-label label {font-family: monospace;font-weight: bold;display: inline-block;line-height: 1.2em;}#sk-container-id-1 div.sk-label-container {text-align: center;}#sk-container-id-1 div.sk-container {/* jupyter's `normalize.less` sets `[hidden] { display: none; }` but bootstrap.min.css set `[hidden] { display: none !important; }` so we also need the `!important` here to be able to override the default hidden behavior on the sphinx rendered scikit-learn.org. See: https://github.com/scikit-learn/scikit-learn/issues/21755 */display: inline-block !important;position: relative;}#sk-container-id-1 div.sk-text-repr-fallback {display: none;}</style><div id=\"sk-container-id-1\" class=\"sk-top-container\"><div class=\"sk-text-repr-fallback\"><pre>LGBMClassifier(n_jobs=-1, random_state=42, verbosity=-1)</pre><b>In a Jupyter environment, please rerun this cell to show the HTML representation or trust the notebook. <br />On GitHub, the HTML representation is unable to render, please try loading this page with nbviewer.org.</b></div><div class=\"sk-container\" hidden><div class=\"sk-item\"><div class=\"sk-estimator sk-toggleable\"><input class=\"sk-toggleable__control sk-hidden--visually\" id=\"sk-estimator-id-1\" type=\"checkbox\" checked><label for=\"sk-estimator-id-1\" class=\"sk-toggleable__label sk-toggleable__label-arrow\">LGBMClassifier</label><div class=\"sk-toggleable__content\"><pre>LGBMClassifier(n_jobs=-1, random_state=42, verbosity=-1)</pre></div></div></div></div></div>"
     },
     "execution_count": 10,
     "metadata": {},
     "output_type": "execute_result"
    }
   ],
   "source": [
    "model = LGBMClassifier(verbosity=-1, random_state=42, n_jobs=-1)\n",
    "model.fit(x_train, y_train)"
   ]
  },
  {
   "cell_type": "markdown",
   "source": [
    "Зададим функцию для взвешенной метрики roc auc"
   ],
   "metadata": {
    "id": "in4jAC8SIbIk"
   },
   "id": "in4jAC8SIbIk"
  },
  {
   "cell_type": "code",
   "source": [
    "def weighted_roc_auc(y_true, y_pred, labels, weights_dict):\n",
    "    unnorm_weights = np.array([weights_dict[label] for label in labels])\n",
    "    weights = unnorm_weights / unnorm_weights.sum()\n",
    "    classes_roc_auc = roc_auc_score(y_true, y_pred, labels=labels,\n",
    "                                    multi_class=\"ovr\", average=None)\n",
    "    return sum(weights * classes_roc_auc)"
   ],
   "metadata": {
    "id": "WxsjOsocI0Kq",
    "ExecuteTime": {
     "end_time": "2024-03-12T15:04:52.911828600Z",
     "start_time": "2024-03-12T15:04:52.911828600Z"
    }
   },
   "id": "WxsjOsocI0Kq",
   "execution_count": 11,
   "outputs": []
  },
  {
   "cell_type": "code",
   "source": [
    "cluster_weights = pd.read_excel(\"cluster_weights.xlsx\").set_index(\"cluster\")\n",
    "weights_dict = cluster_weights[\"unnorm_weight\"].to_dict()"
   ],
   "metadata": {
    "id": "dNp4RlkbJmqE",
    "ExecuteTime": {
     "end_time": "2024-03-12T15:04:53.156166700Z",
     "start_time": "2024-03-12T15:04:52.911828600Z"
    }
   },
   "id": "dNp4RlkbJmqE",
   "execution_count": 12,
   "outputs": []
  },
  {
   "cell_type": "markdown",
   "source": [
    "Проверка работы модели"
   ],
   "metadata": {
    "id": "882N_MniJeLl"
   },
   "id": "882N_MniJeLl"
  },
  {
   "cell_type": "code",
   "source": [
    "y_pred_proba = model.predict_proba(x_val)\n",
    "y_pred_proba.shape"
   ],
   "metadata": {
    "id": "BAGzrwjowH8q",
    "colab": {
     "base_uri": "https://localhost:8080/"
    },
    "outputId": "214ab219-a97a-4def-9ba7-9be171908749",
    "ExecuteTime": {
     "end_time": "2024-03-12T15:04:54.888716700Z",
     "start_time": "2024-03-12T15:04:53.158169700Z"
    }
   },
   "id": "BAGzrwjowH8q",
   "execution_count": 13,
   "outputs": [
    {
     "data": {
      "text/plain": "(120000, 17)"
     },
     "execution_count": 13,
     "metadata": {},
     "output_type": "execute_result"
    }
   ]
  },
  {
   "cell_type": "code",
   "source": [
    "weighted_roc_auc(y_val, y_pred_proba, model.classes_, weights_dict)"
   ],
   "metadata": {
    "colab": {
     "base_uri": "https://localhost:8080/"
    },
    "id": "_-grylzULhLv",
    "outputId": "a5cb186c-dd42-4f6e-c796-f0e5459a0fb0",
    "ExecuteTime": {
     "end_time": "2024-03-12T15:04:55.295444700Z",
     "start_time": "2024-03-12T15:04:54.890717600Z"
    }
   },
   "id": "_-grylzULhLv",
   "execution_count": 14,
   "outputs": [
    {
     "data": {
      "text/plain": "0.7954115823721166"
     },
     "execution_count": 14,
     "metadata": {},
     "output_type": "execute_result"
    }
   ]
  },
  {
   "cell_type": "markdown",
   "source": [
    "## Прогноз на тестовой выборке"
   ],
   "metadata": {
    "id": "cfLFjyYHNTE4"
   },
   "id": "cfLFjyYHNTE4"
  },
  {
   "cell_type": "code",
   "source": [
    "test_df.pivot(index=\"id\", columns=\"date\", values=\"start_cluster\").head(3)"
   ],
   "metadata": {
    "colab": {
     "base_uri": "https://localhost:8080/",
     "height": 175
    },
    "id": "pUpqu4ueNdTO",
    "outputId": "70b06bc1-8126-4d53-9d31-2d09078d74ce",
    "ExecuteTime": {
     "end_time": "2024-03-12T15:04:55.351007400Z",
     "start_time": "2024-03-12T15:04:55.297446400Z"
    }
   },
   "id": "pUpqu4ueNdTO",
   "execution_count": 15,
   "outputs": [
    {
     "data": {
      "text/plain": "date    month_4  month_5 month_6\nid                              \n200000      {α}      {α}     NaN\n200001      {α}      {α}     NaN\n200002  {other}  {other}     NaN",
      "text/html": "<div>\n<style scoped>\n    .dataframe tbody tr th:only-of-type {\n        vertical-align: middle;\n    }\n\n    .dataframe tbody tr th {\n        vertical-align: top;\n    }\n\n    .dataframe thead th {\n        text-align: right;\n    }\n</style>\n<table border=\"1\" class=\"dataframe\">\n  <thead>\n    <tr style=\"text-align: right;\">\n      <th>date</th>\n      <th>month_4</th>\n      <th>month_5</th>\n      <th>month_6</th>\n    </tr>\n    <tr>\n      <th>id</th>\n      <th></th>\n      <th></th>\n      <th></th>\n    </tr>\n  </thead>\n  <tbody>\n    <tr>\n      <th>200000</th>\n      <td>{α}</td>\n      <td>{α}</td>\n      <td>NaN</td>\n    </tr>\n    <tr>\n      <th>200001</th>\n      <td>{α}</td>\n      <td>{α}</td>\n      <td>NaN</td>\n    </tr>\n    <tr>\n      <th>200002</th>\n      <td>{other}</td>\n      <td>{other}</td>\n      <td>NaN</td>\n    </tr>\n  </tbody>\n</table>\n</div>"
     },
     "execution_count": 15,
     "metadata": {},
     "output_type": "execute_result"
    }
   ]
  },
  {
   "cell_type": "markdown",
   "source": [
    "Для того, чтобы сделать прогноз на тестовой выборке, нужно заполнить стартовый кластер. </br>\n",
    "В качестве базового подхода заполним все стартовые кластеры, самым популярным кластером."
   ],
   "metadata": {
    "id": "D7hcKFpa042B"
   },
   "id": "D7hcKFpa042B"
  },
  {
   "cell_type": "code",
   "source": [
    "test_df[\"start_cluster\"] = train_df[\"start_cluster\"].mode()[0]\n",
    "test_df[\"start_cluster\"] = test_df[\"start_cluster\"].astype(\"category\")"
   ],
   "metadata": {
    "id": "FbOyX_FJN8k6",
    "ExecuteTime": {
     "end_time": "2024-03-12T15:04:55.369992400Z",
     "start_time": "2024-03-12T15:04:55.353006500Z"
    }
   },
   "id": "FbOyX_FJN8k6",
   "execution_count": 16,
   "outputs": []
  },
  {
   "cell_type": "code",
   "execution_count": 17,
   "id": "efc8b64a-86db-4564-af7b-be649612df82",
   "metadata": {
    "execution": {
     "iopub.execute_input": "2024-02-15T11:36:12.303553Z",
     "iopub.status.busy": "2024-02-15T11:36:12.302964Z",
     "iopub.status.idle": "2024-02-15T11:36:12.337469Z",
     "shell.execute_reply": "2024-02-15T11:36:12.336438Z",
     "shell.execute_reply.started": "2024-02-15T11:36:12.303513Z"
    },
    "tags": [],
    "id": "efc8b64a-86db-4564-af7b-be649612df82",
    "ExecuteTime": {
     "end_time": "2024-03-12T15:04:55.477012900Z",
     "start_time": "2024-03-12T15:04:55.370997800Z"
    }
   },
   "outputs": [],
   "source": [
    "sample_submission_df = pd.read_csv(\"sample_submission.csv\")"
   ]
  },
  {
   "cell_type": "code",
   "source": [
    "sample_submission_df.shape"
   ],
   "metadata": {
    "colab": {
     "base_uri": "https://localhost:8080/"
    },
    "id": "pnVPYVJNUi1f",
    "outputId": "b9233f45-64fc-4795-b7a0-b0eda8ec3609",
    "ExecuteTime": {
     "end_time": "2024-03-12T15:04:55.524615600Z",
     "start_time": "2024-03-12T15:04:55.454351400Z"
    }
   },
   "id": "pnVPYVJNUi1f",
   "execution_count": 18,
   "outputs": [
    {
     "data": {
      "text/plain": "(100000, 18)"
     },
     "execution_count": 18,
     "metadata": {},
     "output_type": "execute_result"
    }
   ]
  },
  {
   "cell_type": "code",
   "execution_count": 19,
   "id": "89face90-d187-4885-a695-12fbf7d87541",
   "metadata": {
    "execution": {
     "iopub.execute_input": "2024-02-14T23:11:52.478508Z",
     "iopub.status.busy": "2024-02-14T23:11:52.478274Z",
     "iopub.status.idle": "2024-02-14T23:11:52.484697Z",
     "shell.execute_reply": "2024-02-14T23:11:52.484245Z",
     "shell.execute_reply.started": "2024-02-14T23:11:52.478490Z"
    },
    "tags": [],
    "colab": {
     "base_uri": "https://localhost:8080/",
     "height": 223
    },
    "id": "89face90-d187-4885-a695-12fbf7d87541",
    "outputId": "0d34c47d-f267-4a48-edc6-3a70577410d3",
    "ExecuteTime": {
     "end_time": "2024-03-12T15:04:55.524615600Z",
     "start_time": "2024-03-12T15:04:55.459484100Z"
    }
   },
   "outputs": [
    {
     "data": {
      "text/plain": "       id  {other}    {}  {α, β}  {α, γ}  {α, δ}  {α, ε, η}  {α, ε, θ}  \\\n0  200000      0.2  0.05    0.05    0.05    0.05       0.05       0.05   \n1  200001      0.2  0.05    0.05    0.05    0.05       0.05       0.05   \n2  200002      0.2  0.05    0.05    0.05    0.05       0.05       0.05   \n3  200003      0.2  0.05    0.05    0.05    0.05       0.05       0.05   \n4  200004      0.2  0.05    0.05    0.05    0.05       0.05       0.05   \n\n   {α, ε, ψ}  {α, ε}  {α, η}  {α, θ}  {α, λ}  {α, μ}  {α, π}  {α, ψ}   {α}  \\\n0       0.05    0.05    0.05    0.05    0.05    0.05    0.05    0.05  0.05   \n1       0.05    0.05    0.05    0.05    0.05    0.05    0.05    0.05  0.05   \n2       0.05    0.05    0.05    0.05    0.05    0.05    0.05    0.05  0.05   \n3       0.05    0.05    0.05    0.05    0.05    0.05    0.05    0.05  0.05   \n4       0.05    0.05    0.05    0.05    0.05    0.05    0.05    0.05  0.05   \n\n    {λ}  \n0  0.05  \n1  0.05  \n2  0.05  \n3  0.05  \n4  0.05  ",
      "text/html": "<div>\n<style scoped>\n    .dataframe tbody tr th:only-of-type {\n        vertical-align: middle;\n    }\n\n    .dataframe tbody tr th {\n        vertical-align: top;\n    }\n\n    .dataframe thead th {\n        text-align: right;\n    }\n</style>\n<table border=\"1\" class=\"dataframe\">\n  <thead>\n    <tr style=\"text-align: right;\">\n      <th></th>\n      <th>id</th>\n      <th>{other}</th>\n      <th>{}</th>\n      <th>{α, β}</th>\n      <th>{α, γ}</th>\n      <th>{α, δ}</th>\n      <th>{α, ε, η}</th>\n      <th>{α, ε, θ}</th>\n      <th>{α, ε, ψ}</th>\n      <th>{α, ε}</th>\n      <th>{α, η}</th>\n      <th>{α, θ}</th>\n      <th>{α, λ}</th>\n      <th>{α, μ}</th>\n      <th>{α, π}</th>\n      <th>{α, ψ}</th>\n      <th>{α}</th>\n      <th>{λ}</th>\n    </tr>\n  </thead>\n  <tbody>\n    <tr>\n      <th>0</th>\n      <td>200000</td>\n      <td>0.2</td>\n      <td>0.05</td>\n      <td>0.05</td>\n      <td>0.05</td>\n      <td>0.05</td>\n      <td>0.05</td>\n      <td>0.05</td>\n      <td>0.05</td>\n      <td>0.05</td>\n      <td>0.05</td>\n      <td>0.05</td>\n      <td>0.05</td>\n      <td>0.05</td>\n      <td>0.05</td>\n      <td>0.05</td>\n      <td>0.05</td>\n      <td>0.05</td>\n    </tr>\n    <tr>\n      <th>1</th>\n      <td>200001</td>\n      <td>0.2</td>\n      <td>0.05</td>\n      <td>0.05</td>\n      <td>0.05</td>\n      <td>0.05</td>\n      <td>0.05</td>\n      <td>0.05</td>\n      <td>0.05</td>\n      <td>0.05</td>\n      <td>0.05</td>\n      <td>0.05</td>\n      <td>0.05</td>\n      <td>0.05</td>\n      <td>0.05</td>\n      <td>0.05</td>\n      <td>0.05</td>\n      <td>0.05</td>\n    </tr>\n    <tr>\n      <th>2</th>\n      <td>200002</td>\n      <td>0.2</td>\n      <td>0.05</td>\n      <td>0.05</td>\n      <td>0.05</td>\n      <td>0.05</td>\n      <td>0.05</td>\n      <td>0.05</td>\n      <td>0.05</td>\n      <td>0.05</td>\n      <td>0.05</td>\n      <td>0.05</td>\n      <td>0.05</td>\n      <td>0.05</td>\n      <td>0.05</td>\n      <td>0.05</td>\n      <td>0.05</td>\n      <td>0.05</td>\n    </tr>\n    <tr>\n      <th>3</th>\n      <td>200003</td>\n      <td>0.2</td>\n      <td>0.05</td>\n      <td>0.05</td>\n      <td>0.05</td>\n      <td>0.05</td>\n      <td>0.05</td>\n      <td>0.05</td>\n      <td>0.05</td>\n      <td>0.05</td>\n      <td>0.05</td>\n      <td>0.05</td>\n      <td>0.05</td>\n      <td>0.05</td>\n      <td>0.05</td>\n      <td>0.05</td>\n      <td>0.05</td>\n      <td>0.05</td>\n    </tr>\n    <tr>\n      <th>4</th>\n      <td>200004</td>\n      <td>0.2</td>\n      <td>0.05</td>\n      <td>0.05</td>\n      <td>0.05</td>\n      <td>0.05</td>\n      <td>0.05</td>\n      <td>0.05</td>\n      <td>0.05</td>\n      <td>0.05</td>\n      <td>0.05</td>\n      <td>0.05</td>\n      <td>0.05</td>\n      <td>0.05</td>\n      <td>0.05</td>\n      <td>0.05</td>\n      <td>0.05</td>\n      <td>0.05</td>\n    </tr>\n  </tbody>\n</table>\n</div>"
     },
     "execution_count": 19,
     "metadata": {},
     "output_type": "execute_result"
    }
   ],
   "source": [
    "sample_submission_df.head()"
   ]
  },
  {
   "cell_type": "markdown",
   "source": [
    "Для тестовой выборки будем использовать только последний месяц"
   ],
   "metadata": {
    "id": "1qVgADkI1MnS"
   },
   "id": "1qVgADkI1MnS"
  },
  {
   "cell_type": "code",
   "execution_count": 20,
   "id": "9bf790af-ed40-40bd-8cd2-196246f8856f",
   "metadata": {
    "execution": {
     "iopub.execute_input": "2024-02-14T23:11:52.698734Z",
     "iopub.status.busy": "2024-02-14T23:11:52.698456Z",
     "iopub.status.idle": "2024-02-14T23:11:52.791541Z",
     "shell.execute_reply": "2024-02-14T23:11:52.790882Z",
     "shell.execute_reply.started": "2024-02-14T23:11:52.698714Z"
    },
    "tags": [],
    "id": "9bf790af-ed40-40bd-8cd2-196246f8856f",
    "ExecuteTime": {
     "end_time": "2024-03-12T15:04:55.570147100Z",
     "start_time": "2024-03-12T15:04:55.477012900Z"
    }
   },
   "outputs": [],
   "source": [
    "last_m_test_df = test_df[test_df[\"date\"] == \"month_6\"]\n",
    "last_m_test_df = last_m_test_df.drop([\"id\", \"date\", \"start_cluster\"], axis=1)"
   ]
  },
  {
   "cell_type": "code",
   "execution_count": 21,
   "outputs": [],
   "source": [
    "test_pred_proba = model.predict_proba(last_m_test_df)"
   ],
   "metadata": {
    "collapsed": false,
    "ExecuteTime": {
     "end_time": "2024-03-12T15:04:56.986876400Z",
     "start_time": "2024-03-12T15:04:55.523619300Z"
    }
   }
  },
  {
   "cell_type": "code",
   "execution_count": 26,
   "outputs": [
    {
     "data": {
      "text/plain": "array([[1.90424343e-01, 1.70508062e-03, 1.31629095e-02, ...,\n        5.48037502e-04, 6.15829285e-01, 0.00000000e+00],\n       [0.00000000e+00, 1.00000000e+00, 0.00000000e+00, ...,\n        0.00000000e+00, 0.00000000e+00, 0.00000000e+00],\n       [6.81189815e-01, 7.25976452e-04, 1.85577267e-03, ...,\n        3.11667519e-02, 1.43050341e-01, 0.00000000e+00],\n       ...,\n       [6.72589329e-02, 1.31929275e-03, 1.86916273e-02, ...,\n        1.27547241e-03, 5.50781426e-01, 0.00000000e+00],\n       [0.00000000e+00, 0.00000000e+00, 0.00000000e+00, ...,\n        0.00000000e+00, 1.00000000e+00, 0.00000000e+00],\n       [5.18281386e-02, 1.01230123e-03, 2.89517005e-03, ...,\n        8.47693081e-04, 5.10035551e-01, 0.00000000e+00]])"
     },
     "execution_count": 26,
     "metadata": {},
     "output_type": "execute_result"
    }
   ],
   "source": [
    "test_pred_proba"
   ],
   "metadata": {
    "collapsed": false,
    "ExecuteTime": {
     "end_time": "2024-03-12T15:05:15.744962500Z",
     "start_time": "2024-03-12T15:05:15.736457100Z"
    }
   }
  },
  {
   "cell_type": "code",
   "execution_count": 22,
   "id": "5585fd22-3b4f-44f5-a673-777fec4fedc5",
   "metadata": {
    "execution": {
     "iopub.execute_input": "2024-02-14T23:11:52.813319Z",
     "iopub.status.busy": "2024-02-14T23:11:52.813067Z",
     "iopub.status.idle": "2024-02-14T23:12:01.288281Z",
     "shell.execute_reply": "2024-02-14T23:12:01.287566Z",
     "shell.execute_reply.started": "2024-02-14T23:11:52.813300Z"
    },
    "tags": [],
    "id": "5585fd22-3b4f-44f5-a673-777fec4fedc5",
    "ExecuteTime": {
     "end_time": "2024-03-12T15:04:56.996264300Z",
     "start_time": "2024-03-12T15:04:56.989869900Z"
    }
   },
   "outputs": [],
   "source": [
    "test_pred_proba_df = pd.DataFrame(test_pred_proba, columns=model.classes_)\n",
    "sorted_classes = sorted(test_pred_proba_df.columns.to_list())\n",
    "test_pred_proba_df = test_pred_proba_df[sorted_classes]"
   ]
  },
  {
   "cell_type": "code",
   "source": [
    "test_pred_proba_df.shape"
   ],
   "metadata": {
    "colab": {
     "base_uri": "https://localhost:8080/"
    },
    "id": "xUa5e3c4UcSe",
    "outputId": "dbfc0bd8-61c2-44c5-f56c-8031950cf2e3",
    "ExecuteTime": {
     "end_time": "2024-03-12T15:04:57.002137100Z",
     "start_time": "2024-03-12T15:04:56.998262900Z"
    }
   },
   "id": "xUa5e3c4UcSe",
   "execution_count": 23,
   "outputs": [
    {
     "data": {
      "text/plain": "(100000, 17)"
     },
     "execution_count": 23,
     "metadata": {},
     "output_type": "execute_result"
    }
   ]
  },
  {
   "cell_type": "code",
   "source": [
    "test_pred_proba_df.head(2)"
   ],
   "metadata": {
    "colab": {
     "base_uri": "https://localhost:8080/",
     "height": 201
    },
    "id": "QqDRm_FB1oWF",
    "outputId": "19fec5f6-7403-48db-c49a-e9b30f481e14",
    "ExecuteTime": {
     "end_time": "2024-03-12T15:04:57.043194100Z",
     "start_time": "2024-03-12T15:04:57.003143800Z"
    }
   },
   "id": "QqDRm_FB1oWF",
   "execution_count": 24,
   "outputs": [
    {
     "data": {
      "text/plain": "    {other}        {}    {α, β}    {α, γ}    {α, δ}  {α, ε, η}  {α, ε, θ}  \\\n0  0.190424  0.001705  0.013163  0.104381  0.032253   0.000004        0.0   \n1  0.000000  1.000000  0.000000  0.000000  0.000000   0.000000        0.0   \n\n      {α, ε, ψ}   {α, ε}    {α, η}    {α, θ}  {α, λ}    {α, μ}  {α, π}  \\\n0  7.875538e-11  0.01577  0.014302  0.011615     0.0  0.000005     0.0   \n1  0.000000e+00  0.00000  0.000000  0.000000     0.0  0.000000     0.0   \n\n     {α, ψ}       {α}  {λ}  \n0  0.000548  0.615829  0.0  \n1  0.000000  0.000000  0.0  ",
      "text/html": "<div>\n<style scoped>\n    .dataframe tbody tr th:only-of-type {\n        vertical-align: middle;\n    }\n\n    .dataframe tbody tr th {\n        vertical-align: top;\n    }\n\n    .dataframe thead th {\n        text-align: right;\n    }\n</style>\n<table border=\"1\" class=\"dataframe\">\n  <thead>\n    <tr style=\"text-align: right;\">\n      <th></th>\n      <th>{other}</th>\n      <th>{}</th>\n      <th>{α, β}</th>\n      <th>{α, γ}</th>\n      <th>{α, δ}</th>\n      <th>{α, ε, η}</th>\n      <th>{α, ε, θ}</th>\n      <th>{α, ε, ψ}</th>\n      <th>{α, ε}</th>\n      <th>{α, η}</th>\n      <th>{α, θ}</th>\n      <th>{α, λ}</th>\n      <th>{α, μ}</th>\n      <th>{α, π}</th>\n      <th>{α, ψ}</th>\n      <th>{α}</th>\n      <th>{λ}</th>\n    </tr>\n  </thead>\n  <tbody>\n    <tr>\n      <th>0</th>\n      <td>0.190424</td>\n      <td>0.001705</td>\n      <td>0.013163</td>\n      <td>0.104381</td>\n      <td>0.032253</td>\n      <td>0.000004</td>\n      <td>0.0</td>\n      <td>7.875538e-11</td>\n      <td>0.01577</td>\n      <td>0.014302</td>\n      <td>0.011615</td>\n      <td>0.0</td>\n      <td>0.000005</td>\n      <td>0.0</td>\n      <td>0.000548</td>\n      <td>0.615829</td>\n      <td>0.0</td>\n    </tr>\n    <tr>\n      <th>1</th>\n      <td>0.000000</td>\n      <td>1.000000</td>\n      <td>0.000000</td>\n      <td>0.000000</td>\n      <td>0.000000</td>\n      <td>0.000000</td>\n      <td>0.0</td>\n      <td>0.000000e+00</td>\n      <td>0.00000</td>\n      <td>0.000000</td>\n      <td>0.000000</td>\n      <td>0.0</td>\n      <td>0.000000</td>\n      <td>0.0</td>\n      <td>0.000000</td>\n      <td>0.000000</td>\n      <td>0.0</td>\n    </tr>\n  </tbody>\n</table>\n</div>"
     },
     "execution_count": 24,
     "metadata": {},
     "output_type": "execute_result"
    }
   ]
  },
  {
   "cell_type": "code",
   "execution_count": 25,
   "id": "a6fbe390-7b56-45a9-8e5b-ab43f9bb7dfc",
   "metadata": {
    "execution": {
     "iopub.execute_input": "2024-02-14T23:12:01.294283Z",
     "iopub.status.busy": "2024-02-14T23:12:01.293888Z",
     "iopub.status.idle": "2024-02-14T23:12:01.382141Z",
     "shell.execute_reply": "2024-02-14T23:12:01.381647Z",
     "shell.execute_reply.started": "2024-02-14T23:12:01.294266Z"
    },
    "tags": [],
    "id": "a6fbe390-7b56-45a9-8e5b-ab43f9bb7dfc",
    "ExecuteTime": {
     "end_time": "2024-03-12T15:04:58.313212600Z",
     "start_time": "2024-03-12T15:04:57.014171600Z"
    }
   },
   "outputs": [],
   "source": [
    "sample_submission_df[sorted_classes] = test_pred_proba_df\n",
    "sample_submission_df.to_csv(\"baseline_submission.csv\", index=False)"
   ]
  }
 ],
 "metadata": {
  "kernelspec": {
   "display_name": "python3",
   "language": "python",
   "name": "python3"
  },
  "language_info": {
   "codemirror_mode": {
    "name": "ipython",
    "version": 3
   },
   "file_extension": ".py",
   "mimetype": "text/x-python",
   "name": "python",
   "nbconvert_exporter": "python",
   "pygments_lexer": "ipython3",
   "version": "3.7.12"
  },
  "colab": {
   "provenance": []
  }
 },
 "nbformat": 4,
 "nbformat_minor": 5
}
