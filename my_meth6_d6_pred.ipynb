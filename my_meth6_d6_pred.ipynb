{
 "cells": [
  {
   "cell_type": "markdown",
   "id": "8b7bef09-9e86-4b19-bbb7-e0ccb7515328",
   "metadata": {
    "execution": {
     "iopub.execute_input": "2024-02-14T22:50:38.627643Z",
     "iopub.status.busy": "2024-02-14T22:50:38.627255Z",
     "iopub.status.idle": "2024-02-14T22:50:39.496067Z",
     "shell.execute_reply": "2024-02-14T22:50:39.495215Z",
     "shell.execute_reply.started": "2024-02-14T22:50:38.627616Z"
    },
    "tags": [],
    "id": "8b7bef09-9e86-4b19-bbb7-e0ccb7515328"
   },
   "source": [
    "# Baseline"
   ]
  },
  {
   "cell_type": "code",
   "execution_count": 280,
   "id": "e0ddb399-18f4-4051-86c0-39f1c623eef5",
   "metadata": {
    "execution": {
     "iopub.execute_input": "2024-02-15T11:34:39.109032Z",
     "iopub.status.busy": "2024-02-15T11:34:39.108624Z",
     "iopub.status.idle": "2024-02-15T11:34:39.955360Z",
     "shell.execute_reply": "2024-02-15T11:34:39.954584Z",
     "shell.execute_reply.started": "2024-02-15T11:34:39.109007Z"
    },
    "tags": [],
    "id": "e0ddb399-18f4-4051-86c0-39f1c623eef5",
    "ExecuteTime": {
     "end_time": "2024-03-13T23:07:16.007965500Z",
     "start_time": "2024-03-13T23:07:15.977930500Z"
    }
   },
   "outputs": [],
   "source": [
    "import numpy as np\n",
    "import pandas as pd\n",
    "from lightgbm import LGBMClassifier\n",
    "from sklearn.metrics import roc_auc_score\n",
    "from sklearn.model_selection import train_test_split, cross_validate, StratifiedGroupKFold, KFold"
   ]
  },
  {
   "cell_type": "markdown",
   "id": "cbcf3aae-5417-42a3-9ed2-818b9aef0f2f",
   "metadata": {
    "id": "cbcf3aae-5417-42a3-9ed2-818b9aef0f2f"
   },
   "source": [
    "## Загрузка данных"
   ]
  },
  {
   "cell_type": "code",
   "execution_count": 281,
   "id": "32c8b1b0-f95e-4cb5-bbc1-c0edb76568c1",
   "metadata": {
    "execution": {
     "iopub.execute_input": "2024-02-15T11:34:44.750723Z",
     "iopub.status.busy": "2024-02-15T11:34:44.750145Z",
     "iopub.status.idle": "2024-02-15T11:34:46.098228Z",
     "shell.execute_reply": "2024-02-15T11:34:46.097494Z",
     "shell.execute_reply.started": "2024-02-15T11:34:44.750694Z"
    },
    "tags": [],
    "id": "32c8b1b0-f95e-4cb5-bbc1-c0edb76568c1",
    "ExecuteTime": {
     "end_time": "2024-03-13T23:07:21.990269200Z",
     "start_time": "2024-03-13T23:07:15.984937500Z"
    }
   },
   "outputs": [],
   "source": [
    "test_df = pd.read_csv(\"test_df_filled_day_ilnaz.csv\")"
   ]
  },
  {
   "cell_type": "code",
   "execution_count": 282,
   "outputs": [
    {
     "data": {
      "text/plain": "            id     date  balance_amt_avg  balance_amt_max  balance_amt_min  \\\n0       200000  month_4        -0.096224         0.335496        -0.125995   \n1       200000  month_5        -0.024255        -0.059806        -0.124295   \n2       200000  month_6         0.045988         0.049418        -0.125995   \n3       200001  month_4        -0.156722        -0.204920        -0.125856   \n4       200001  month_5        -0.156722        -0.204920        -0.125856   \n...        ...      ...              ...              ...              ...   \n290115  299998  month_5              NaN              NaN              NaN   \n290116  299998  month_6        -0.155350        -0.203711        -0.125995   \n290117  299999  month_4        -0.145899        -0.173298        -0.125995   \n290118  299999  month_5        -0.136402        -0.163874        -0.121475   \n290119  299999  month_6        -0.141660        -0.156818        -0.125894   \n\n        balance_amt_day_avg     channel_code     city    city_type  \\\n0                 -0.095578  channel_code_12  city_14  city_type_0   \n1                 -0.023381  channel_code_12  city_14  city_type_0   \n2                  0.047079  channel_code_12  city_14  city_type_0   \n3                 -0.156258   channel_code_9  city_76  city_type_0   \n4                 -0.156258   channel_code_9  city_76  city_type_0   \n...                     ...              ...      ...          ...   \n290115                  NaN              NaN      NaN          NaN   \n290116            -0.155980   channel_code_9  city_25  city_type_0   \n290117            -0.145402   channel_code_9   city_6  city_type_0   \n290118            -0.135876   channel_code_9   city_6  city_type_0   \n290119            -0.141149   channel_code_9   city_6  city_type_0   \n\n           index_city_code  ...  sum_cred_g_oper_3m  cnt_cred_g_oper_3m  \\\n0                      NaN  ...            0.010952            0.946066   \n1                      NaN  ...            0.006812            0.945281   \n2                      NaN  ...            0.006812            0.945281   \n3                      NaN  ...           -0.028584                 NaN   \n4                      NaN  ...           -0.028584                 NaN   \n...                    ...  ...                 ...                 ...   \n290115                 NaN  ...           -0.028584                 NaN   \n290116  index_city_code_30  ...           -0.028584            0.944497   \n290117  index_city_code_34  ...           -0.028584            0.944497   \n290118  index_city_code_34  ...           -0.028584            0.944497   \n290119  index_city_code_34  ...           -0.028584            0.944497   \n\n       cnt_days_cred_g_oper_3m sum_deb_h_oper_3m  cnt_deb_h_oper_3m  \\\n0                     0.407762         -0.153950           0.548895   \n1                     0.396267         -0.150505           0.549468   \n2                     0.396267         -0.152800           0.549468   \n3                          NaN         -0.165588                NaN   \n4                          NaN         -0.165588                NaN   \n...                        ...               ...                ...   \n290115                     NaN         -0.165588                NaN   \n290116                0.384773         -0.165588           0.546889   \n290117                0.384773         -0.097640           0.550901   \n290118                0.384773         -0.047885           0.555057   \n290119                0.384773         -0.028842           0.556919   \n\n        cnt_days_deb_h_oper_3m  sum_cred_h_oper_3m  cnt_cred_h_oper_3m  \\\n0                     0.541020            0.031742            0.257278   \n1                     0.552131            0.237817            0.264211   \n2                     0.541020            0.387566            0.268543   \n3                          NaN           -0.201123                 NaN   \n4                          NaN           -0.201123                 NaN   \n...                        ...                 ...                 ...   \n290115                     NaN           -0.201123                 NaN   \n290116                0.407687           -0.201123            0.250924   \n290117                0.574354           -0.101369            0.252657   \n290118                0.696576           -0.034860            0.253523   \n290119                0.796576           -0.011582            0.254101   \n\n       cnt_days_cred_h_oper_3m start_cluster  \n0                     0.561353           {α}  \n1                     0.715199           {α}  \n2                     0.836079           {α}  \n3                          NaN           {α}  \n4                          NaN           {α}  \n...                        ...           ...  \n290115                     NaN            {}  \n290116                0.374540           {α}  \n290117                0.440474           {α}  \n290118                0.473441           {α}  \n290119                0.495419           {α}  \n\n[290120 rows x 92 columns]",
      "text/html": "<div>\n<style scoped>\n    .dataframe tbody tr th:only-of-type {\n        vertical-align: middle;\n    }\n\n    .dataframe tbody tr th {\n        vertical-align: top;\n    }\n\n    .dataframe thead th {\n        text-align: right;\n    }\n</style>\n<table border=\"1\" class=\"dataframe\">\n  <thead>\n    <tr style=\"text-align: right;\">\n      <th></th>\n      <th>id</th>\n      <th>date</th>\n      <th>balance_amt_avg</th>\n      <th>balance_amt_max</th>\n      <th>balance_amt_min</th>\n      <th>balance_amt_day_avg</th>\n      <th>channel_code</th>\n      <th>city</th>\n      <th>city_type</th>\n      <th>index_city_code</th>\n      <th>...</th>\n      <th>sum_cred_g_oper_3m</th>\n      <th>cnt_cred_g_oper_3m</th>\n      <th>cnt_days_cred_g_oper_3m</th>\n      <th>sum_deb_h_oper_3m</th>\n      <th>cnt_deb_h_oper_3m</th>\n      <th>cnt_days_deb_h_oper_3m</th>\n      <th>sum_cred_h_oper_3m</th>\n      <th>cnt_cred_h_oper_3m</th>\n      <th>cnt_days_cred_h_oper_3m</th>\n      <th>start_cluster</th>\n    </tr>\n  </thead>\n  <tbody>\n    <tr>\n      <th>0</th>\n      <td>200000</td>\n      <td>month_4</td>\n      <td>-0.096224</td>\n      <td>0.335496</td>\n      <td>-0.125995</td>\n      <td>-0.095578</td>\n      <td>channel_code_12</td>\n      <td>city_14</td>\n      <td>city_type_0</td>\n      <td>NaN</td>\n      <td>...</td>\n      <td>0.010952</td>\n      <td>0.946066</td>\n      <td>0.407762</td>\n      <td>-0.153950</td>\n      <td>0.548895</td>\n      <td>0.541020</td>\n      <td>0.031742</td>\n      <td>0.257278</td>\n      <td>0.561353</td>\n      <td>{α}</td>\n    </tr>\n    <tr>\n      <th>1</th>\n      <td>200000</td>\n      <td>month_5</td>\n      <td>-0.024255</td>\n      <td>-0.059806</td>\n      <td>-0.124295</td>\n      <td>-0.023381</td>\n      <td>channel_code_12</td>\n      <td>city_14</td>\n      <td>city_type_0</td>\n      <td>NaN</td>\n      <td>...</td>\n      <td>0.006812</td>\n      <td>0.945281</td>\n      <td>0.396267</td>\n      <td>-0.150505</td>\n      <td>0.549468</td>\n      <td>0.552131</td>\n      <td>0.237817</td>\n      <td>0.264211</td>\n      <td>0.715199</td>\n      <td>{α}</td>\n    </tr>\n    <tr>\n      <th>2</th>\n      <td>200000</td>\n      <td>month_6</td>\n      <td>0.045988</td>\n      <td>0.049418</td>\n      <td>-0.125995</td>\n      <td>0.047079</td>\n      <td>channel_code_12</td>\n      <td>city_14</td>\n      <td>city_type_0</td>\n      <td>NaN</td>\n      <td>...</td>\n      <td>0.006812</td>\n      <td>0.945281</td>\n      <td>0.396267</td>\n      <td>-0.152800</td>\n      <td>0.549468</td>\n      <td>0.541020</td>\n      <td>0.387566</td>\n      <td>0.268543</td>\n      <td>0.836079</td>\n      <td>{α}</td>\n    </tr>\n    <tr>\n      <th>3</th>\n      <td>200001</td>\n      <td>month_4</td>\n      <td>-0.156722</td>\n      <td>-0.204920</td>\n      <td>-0.125856</td>\n      <td>-0.156258</td>\n      <td>channel_code_9</td>\n      <td>city_76</td>\n      <td>city_type_0</td>\n      <td>NaN</td>\n      <td>...</td>\n      <td>-0.028584</td>\n      <td>NaN</td>\n      <td>NaN</td>\n      <td>-0.165588</td>\n      <td>NaN</td>\n      <td>NaN</td>\n      <td>-0.201123</td>\n      <td>NaN</td>\n      <td>NaN</td>\n      <td>{α}</td>\n    </tr>\n    <tr>\n      <th>4</th>\n      <td>200001</td>\n      <td>month_5</td>\n      <td>-0.156722</td>\n      <td>-0.204920</td>\n      <td>-0.125856</td>\n      <td>-0.156258</td>\n      <td>channel_code_9</td>\n      <td>city_76</td>\n      <td>city_type_0</td>\n      <td>NaN</td>\n      <td>...</td>\n      <td>-0.028584</td>\n      <td>NaN</td>\n      <td>NaN</td>\n      <td>-0.165588</td>\n      <td>NaN</td>\n      <td>NaN</td>\n      <td>-0.201123</td>\n      <td>NaN</td>\n      <td>NaN</td>\n      <td>{α}</td>\n    </tr>\n    <tr>\n      <th>...</th>\n      <td>...</td>\n      <td>...</td>\n      <td>...</td>\n      <td>...</td>\n      <td>...</td>\n      <td>...</td>\n      <td>...</td>\n      <td>...</td>\n      <td>...</td>\n      <td>...</td>\n      <td>...</td>\n      <td>...</td>\n      <td>...</td>\n      <td>...</td>\n      <td>...</td>\n      <td>...</td>\n      <td>...</td>\n      <td>...</td>\n      <td>...</td>\n      <td>...</td>\n      <td>...</td>\n    </tr>\n    <tr>\n      <th>290115</th>\n      <td>299998</td>\n      <td>month_5</td>\n      <td>NaN</td>\n      <td>NaN</td>\n      <td>NaN</td>\n      <td>NaN</td>\n      <td>NaN</td>\n      <td>NaN</td>\n      <td>NaN</td>\n      <td>NaN</td>\n      <td>...</td>\n      <td>-0.028584</td>\n      <td>NaN</td>\n      <td>NaN</td>\n      <td>-0.165588</td>\n      <td>NaN</td>\n      <td>NaN</td>\n      <td>-0.201123</td>\n      <td>NaN</td>\n      <td>NaN</td>\n      <td>{}</td>\n    </tr>\n    <tr>\n      <th>290116</th>\n      <td>299998</td>\n      <td>month_6</td>\n      <td>-0.155350</td>\n      <td>-0.203711</td>\n      <td>-0.125995</td>\n      <td>-0.155980</td>\n      <td>channel_code_9</td>\n      <td>city_25</td>\n      <td>city_type_0</td>\n      <td>index_city_code_30</td>\n      <td>...</td>\n      <td>-0.028584</td>\n      <td>0.944497</td>\n      <td>0.384773</td>\n      <td>-0.165588</td>\n      <td>0.546889</td>\n      <td>0.407687</td>\n      <td>-0.201123</td>\n      <td>0.250924</td>\n      <td>0.374540</td>\n      <td>{α}</td>\n    </tr>\n    <tr>\n      <th>290117</th>\n      <td>299999</td>\n      <td>month_4</td>\n      <td>-0.145899</td>\n      <td>-0.173298</td>\n      <td>-0.125995</td>\n      <td>-0.145402</td>\n      <td>channel_code_9</td>\n      <td>city_6</td>\n      <td>city_type_0</td>\n      <td>index_city_code_34</td>\n      <td>...</td>\n      <td>-0.028584</td>\n      <td>0.944497</td>\n      <td>0.384773</td>\n      <td>-0.097640</td>\n      <td>0.550901</td>\n      <td>0.574354</td>\n      <td>-0.101369</td>\n      <td>0.252657</td>\n      <td>0.440474</td>\n      <td>{α}</td>\n    </tr>\n    <tr>\n      <th>290118</th>\n      <td>299999</td>\n      <td>month_5</td>\n      <td>-0.136402</td>\n      <td>-0.163874</td>\n      <td>-0.121475</td>\n      <td>-0.135876</td>\n      <td>channel_code_9</td>\n      <td>city_6</td>\n      <td>city_type_0</td>\n      <td>index_city_code_34</td>\n      <td>...</td>\n      <td>-0.028584</td>\n      <td>0.944497</td>\n      <td>0.384773</td>\n      <td>-0.047885</td>\n      <td>0.555057</td>\n      <td>0.696576</td>\n      <td>-0.034860</td>\n      <td>0.253523</td>\n      <td>0.473441</td>\n      <td>{α}</td>\n    </tr>\n    <tr>\n      <th>290119</th>\n      <td>299999</td>\n      <td>month_6</td>\n      <td>-0.141660</td>\n      <td>-0.156818</td>\n      <td>-0.125894</td>\n      <td>-0.141149</td>\n      <td>channel_code_9</td>\n      <td>city_6</td>\n      <td>city_type_0</td>\n      <td>index_city_code_34</td>\n      <td>...</td>\n      <td>-0.028584</td>\n      <td>0.944497</td>\n      <td>0.384773</td>\n      <td>-0.028842</td>\n      <td>0.556919</td>\n      <td>0.796576</td>\n      <td>-0.011582</td>\n      <td>0.254101</td>\n      <td>0.495419</td>\n      <td>{α}</td>\n    </tr>\n  </tbody>\n</table>\n<p>290120 rows × 92 columns</p>\n</div>"
     },
     "execution_count": 282,
     "metadata": {},
     "output_type": "execute_result"
    }
   ],
   "source": [
    "test_df"
   ],
   "metadata": {
    "collapsed": false,
    "ExecuteTime": {
     "end_time": "2024-03-13T23:07:22.098262200Z",
     "start_time": "2024-03-13T23:07:21.992776Z"
    }
   }
  },
  {
   "cell_type": "code",
   "execution_count": 283,
   "outputs": [],
   "source": [
    "city_counts = test_df['city'].value_counts().to_dict()\n",
    "#city_counts\n",
    "test_df[\"city_other\"] = test_df[\"city\"].apply(lambda x: x  if city_counts.get(x, 0) > 15  else \"other\")\n",
    "test_df.drop(\"city\", axis=1, inplace=True)\n",
    "test_df.city_other.value_counts()\n",
    "\n",
    "city_to_index_mapping = test_df.dropna(subset=['city_other', 'index_city_code']).drop_duplicates('index_city_code').set_index('index_city_code')['city_other'].to_dict()\n",
    "\n",
    "\n",
    "for idx, row in test_df.iterrows():\n",
    "    if pd.isna(row['city_other']):\n",
    "        index_city_code = row['index_city_code']\n",
    "\n",
    "        if index_city_code in city_to_index_mapping:\n",
    "            test_df.at[idx, 'city_other'] = city_to_index_mapping[index_city_code]\n",
    "\n",
    "        elif not pd.isna(index_city_code):\n",
    "            test_df.at[idx, 'city_other'] = index_city_code\n",
    "\n",
    "test_df[\"city\"] = test_df[\"city_other\"]\n",
    "test_df.drop(\"city_other\", axis=1, inplace=True)"
   ],
   "metadata": {
    "collapsed": false,
    "ExecuteTime": {
     "end_time": "2024-03-13T23:07:37.998583700Z",
     "start_time": "2024-03-13T23:07:22.103261700Z"
    }
   }
  },
  {
   "cell_type": "code",
   "execution_count": 284,
   "outputs": [],
   "source": [
    "\n",
    "\n",
    "# city_to_index_mapping = test_df.dropna(subset=['city', 'index_city_code']).drop_duplicates('index_city_code').set_index('index_city_code')['city'].to_dict()\n",
    "#\n",
    "#\n",
    "# for idx, row in test_df.iterrows():\n",
    "#     if pd.isna(row['city']):\n",
    "#         index_city_code = row['index_city_code']\n",
    "#\n",
    "#         if index_city_code in city_to_index_mapping:\n",
    "#             test_df.at[idx, 'city'] = city_to_index_mapping[index_city_code]\n",
    "#\n",
    "#         elif not pd.isna(index_city_code):\n",
    "#             test_df.at[idx, 'city'] = index_city_code\n"
   ],
   "metadata": {
    "collapsed": false,
    "ExecuteTime": {
     "end_time": "2024-03-13T23:07:38.001358Z",
     "start_time": "2024-03-13T23:07:37.998583700Z"
    }
   }
  },
  {
   "cell_type": "code",
   "execution_count": 285,
   "id": "8caad423-0805-4b57-9d02-8ae203be2e65",
   "metadata": {
    "execution": {
     "iopub.execute_input": "2024-02-14T23:09:54.192532Z",
     "iopub.status.busy": "2024-02-14T23:09:54.192285Z",
     "iopub.status.idle": "2024-02-14T23:09:54.214362Z",
     "shell.execute_reply": "2024-02-14T23:09:54.213854Z",
     "shell.execute_reply.started": "2024-02-14T23:09:54.192509Z"
    },
    "tags": [],
    "colab": {
     "base_uri": "https://localhost:8080/",
     "height": 193
    },
    "id": "8caad423-0805-4b57-9d02-8ae203be2e65",
    "outputId": "824bb6af-08be-4561-881b-3c3572e6bcdb",
    "ExecuteTime": {
     "end_time": "2024-03-13T23:07:38.027902700Z",
     "start_time": "2024-03-13T23:07:38.003359300Z"
    }
   },
   "outputs": [
    {
     "data": {
      "text/plain": "        id     date  balance_amt_avg  balance_amt_max  balance_amt_min  \\\n0   200000  month_4        -0.096224         0.335496        -0.125995   \n1   200000  month_5        -0.024255        -0.059806        -0.124295   \n2   200000  month_6         0.045988         0.049418        -0.125995   \n3   200001  month_4        -0.156722        -0.204920        -0.125856   \n4   200001  month_5        -0.156722        -0.204920        -0.125856   \n5   200001  month_6        -0.156722        -0.204920        -0.125856   \n6   200002  month_4        -0.096506         0.185905        -0.125995   \n7   200002  month_5         0.572242         1.502779        -0.125995   \n8   200002  month_6        -0.048015         0.448252        -0.125995   \n9   200003  month_4        -0.156623        -0.204813        -0.125665   \n10  200003  month_5        -0.156579        -0.204813        -0.125501   \n11  200003  month_6        -0.156579        -0.204813        -0.125501   \n12  200004  month_5              NaN              NaN              NaN   \n13  200004  month_6        -0.153379        -0.201932        -0.125995   \n14  200005  month_4        -0.113771         0.098011        -0.125995   \n15  200005  month_5        -0.096582         0.079861        -0.125995   \n16  200005  month_6         0.543302         0.712921        -0.125995   \n17  200006  month_4        -0.154554        -0.203773        -0.124405   \n18  200006  month_5        -0.154522        -0.203773        -0.124405   \n19  200006  month_6        -0.154442        -0.203773        -0.124206   \n20  200007  month_4        -0.125748        -0.180259        -0.064704   \n21  200007  month_5        -0.117949        -0.136387        -0.056818   \n22  200007  month_6        -0.123198        -0.177398        -0.056818   \n23  200008  month_5              NaN              NaN              NaN   \n24  200008  month_6        -0.156516        -0.204687        -0.125866   \n25  200009  month_5              NaN              NaN              NaN   \n26  200009  month_6        -0.156552        -0.204687        -0.125995   \n27  200010  month_4        -0.155099        -0.202485        -0.125995   \n28  200010  month_5        -0.146092        -0.184405        -0.125961   \n29  200010  month_6        -0.148696        -0.186584        -0.125922   \n\n    balance_amt_day_avg     channel_code       city_type     index_city_code  \\\n0             -0.095578  channel_code_12     city_type_0                 NaN   \n1             -0.023381  channel_code_12     city_type_0                 NaN   \n2              0.047079  channel_code_12     city_type_0                 NaN   \n3             -0.156258   channel_code_9     city_type_0                 NaN   \n4             -0.156258   channel_code_9     city_type_0                 NaN   \n5             -0.156258   channel_code_9     city_type_0                 NaN   \n6             -0.095856  channel_code_12     city_type_0  index_city_code_78   \n7              0.574963  channel_code_12     city_type_0  index_city_code_78   \n8             -0.047215  channel_code_12     city_type_0  index_city_code_78   \n9             -0.156159   channel_code_7     city_type_0                 NaN   \n10            -0.156115   channel_code_7     city_type_0                 NaN   \n11            -0.156115   channel_code_7     city_type_0                 NaN   \n12                  NaN              NaN             NaN                 NaN   \n13            -0.154155   channel_code_7             NaN                 NaN   \n14            -0.113174   channel_code_8             NaN   index_city_code_2   \n15            -0.095932   channel_code_8             NaN   index_city_code_2   \n16             0.545933   channel_code_8             NaN   index_city_code_2   \n17            -0.154084  channel_code_12  city_type_7557  index_city_code_82   \n18            -0.154052  channel_code_12  city_type_7557  index_city_code_82   \n19            -0.153972  channel_code_12  city_type_7557  index_city_code_82   \n20            -0.125188   channel_code_5     city_type_0  index_city_code_72   \n21            -0.117366   channel_code_5     city_type_0  index_city_code_72   \n22            -0.122630   channel_code_5     city_type_0  index_city_code_72   \n23                  NaN              NaN             NaN                 NaN   \n24            -0.156262   channel_code_9             NaN                 NaN   \n25                  NaN              NaN             NaN                 NaN   \n26            -0.156216   channel_code_8   city_type_640                 NaN   \n27            -0.154630   channel_code_2     city_type_0                 NaN   \n28            -0.145596   channel_code_2     city_type_0                 NaN   \n29            -0.148207   channel_code_2     city_type_0                 NaN   \n\n    ogrn_days_end_month  ...  cnt_cred_g_oper_3m cnt_days_cred_g_oper_3m  \\\n0             -1.533705  ...            0.946066                0.407762   \n1             -1.533705  ...            0.945281                0.396267   \n2             -1.533705  ...            0.945281                0.396267   \n3              0.092087  ...                 NaN                     NaN   \n4              0.092087  ...                 NaN                     NaN   \n5              0.092087  ...                 NaN                     NaN   \n6             -1.069193  ...            0.950774                0.545693   \n7             -1.069193  ...            0.949989                0.522704   \n8             -1.069193  ...            0.946850                0.453739   \n9             -0.256297  ...                 NaN                     NaN   \n10            -0.256297  ...                 NaN                     NaN   \n11            -0.256297  ...                 NaN                     NaN   \n12                  NaN  ...                 NaN                     NaN   \n13             0.672727  ...            0.944889                0.396267   \n14            -1.533705  ...            0.944497                0.384773   \n15            -1.533705  ...            0.944497                0.384773   \n16            -1.533705  ...            0.944497                0.384773   \n17            -1.417577  ...                 NaN                     NaN   \n18            -1.417577  ...                 NaN                     NaN   \n19            -1.417577  ...                 NaN                     NaN   \n20            -1.417577  ...            0.944497                0.384773   \n21            -1.417577  ...            0.944497                0.384773   \n22            -1.417577  ...            0.944497                0.384773   \n23                  NaN  ...                 NaN                     NaN   \n24             0.092087  ...            0.944497                0.384773   \n25                  NaN  ...                 NaN                     NaN   \n26            -0.720809  ...            0.944497                0.384773   \n27             0.092087  ...            0.944497                0.384773   \n28             0.092087  ...            0.944497                0.384773   \n29             0.092087  ...            0.944497                0.384773   \n\n   sum_deb_h_oper_3m  cnt_deb_h_oper_3m  cnt_days_deb_h_oper_3m  \\\n0          -0.153950           0.548895                0.541020   \n1          -0.150505           0.549468                0.552131   \n2          -0.152800           0.549468                0.541020   \n3          -0.165588                NaN                     NaN   \n4          -0.165588                NaN                     NaN   \n5          -0.165588                NaN                     NaN   \n6           0.715525           0.554913                0.718798   \n7           2.442243           0.563940                0.841020   \n8           2.614870           0.565087                0.818798   \n9          -0.165588                NaN                     NaN   \n10         -0.165588                NaN                     NaN   \n11         -0.165588                NaN                     NaN   \n12         -0.165588                NaN                     NaN   \n13         -0.165324           0.547032                0.418798   \n14         -0.096518           0.550901                0.552131   \n15         -0.100659           0.550615                0.541020   \n16          0.245548           0.555773                0.707687   \n17         -0.165588                NaN                     NaN   \n18         -0.165588                NaN                     NaN   \n19         -0.165588                NaN                     NaN   \n20         -0.162954           0.547319                0.441020   \n21         -0.162765           0.547319                0.441020   \n22         -0.162297           0.547319                0.441020   \n23         -0.165588                NaN                     NaN   \n24         -0.165588           0.546889                0.407687   \n25         -0.165588                NaN                     NaN   \n26         -0.165588           0.546889                0.407687   \n27         -0.162555           0.547319                0.441020   \n28         -0.154578           0.547749                0.474354   \n29         -0.155368           0.547892                0.485465   \n\n    sum_cred_h_oper_3m  cnt_cred_h_oper_3m cnt_days_cred_h_oper_3m  \\\n0             0.031742            0.257278                0.561353   \n1             0.237817            0.264211                0.715199   \n2             0.387566            0.268543                0.836079   \n3            -0.201123                 NaN                     NaN   \n4            -0.201123                 NaN                     NaN   \n5            -0.201123                 NaN                     NaN   \n6             0.445811            0.254968                0.495419   \n7             3.313686            0.256701                0.550364   \n8             4.449125            0.258723                0.627287   \n9            -0.201123                 NaN                     NaN   \n10           -0.201123                 NaN                     NaN   \n11           -0.201123                 NaN                     NaN   \n12           -0.201123                 NaN                     NaN   \n13           -0.201123            0.250924                0.374540   \n14           -0.201123            0.250924                0.374540   \n15           -0.201123            0.250924                0.374540   \n16           -0.196868            0.251212                0.385529   \n17           -0.201123                 NaN                     NaN   \n18           -0.201123                 NaN                     NaN   \n19           -0.201123                 NaN                     NaN   \n20           -0.134623            0.251790                0.407507   \n21           -0.134623            0.251790                0.407507   \n22           -0.156793            0.251501                0.396518   \n23           -0.201123                 NaN                     NaN   \n24           -0.201123            0.250924                0.374540   \n25           -0.201123                 NaN                     NaN   \n26           -0.201123            0.250924                0.374540   \n27           -0.201123            0.250924                0.374540   \n28           -0.201123            0.250924                0.374540   \n29           -0.201123            0.250924                0.374540   \n\n   start_cluster     city  \n0            {α}  city_14  \n1            {α}  city_14  \n2            {α}  city_14  \n3            {α}  city_76  \n4            {α}  city_76  \n5            {α}  city_76  \n6        {other}  city_14  \n7        {other}  city_14  \n8        {other}  city_14  \n9            {α}  city_31  \n10           {α}  city_31  \n11           {α}  city_31  \n12            {}    other  \n13           {α}    other  \n14           {α}    other  \n15           {α}    other  \n16        {α, δ}    other  \n17           {α}  city_53  \n18           {α}  city_53  \n19           {α}  city_53  \n20           {α}  city_14  \n21           {α}  city_14  \n22           {α}  city_14  \n23            {}    other  \n24           {α}    other  \n25            {}    other  \n26           {α}    other  \n27        {α, μ}  city_14  \n28        {α, μ}  city_14  \n29        {α, η}  city_14  \n\n[30 rows x 92 columns]",
      "text/html": "<div>\n<style scoped>\n    .dataframe tbody tr th:only-of-type {\n        vertical-align: middle;\n    }\n\n    .dataframe tbody tr th {\n        vertical-align: top;\n    }\n\n    .dataframe thead th {\n        text-align: right;\n    }\n</style>\n<table border=\"1\" class=\"dataframe\">\n  <thead>\n    <tr style=\"text-align: right;\">\n      <th></th>\n      <th>id</th>\n      <th>date</th>\n      <th>balance_amt_avg</th>\n      <th>balance_amt_max</th>\n      <th>balance_amt_min</th>\n      <th>balance_amt_day_avg</th>\n      <th>channel_code</th>\n      <th>city_type</th>\n      <th>index_city_code</th>\n      <th>ogrn_days_end_month</th>\n      <th>...</th>\n      <th>cnt_cred_g_oper_3m</th>\n      <th>cnt_days_cred_g_oper_3m</th>\n      <th>sum_deb_h_oper_3m</th>\n      <th>cnt_deb_h_oper_3m</th>\n      <th>cnt_days_deb_h_oper_3m</th>\n      <th>sum_cred_h_oper_3m</th>\n      <th>cnt_cred_h_oper_3m</th>\n      <th>cnt_days_cred_h_oper_3m</th>\n      <th>start_cluster</th>\n      <th>city</th>\n    </tr>\n  </thead>\n  <tbody>\n    <tr>\n      <th>0</th>\n      <td>200000</td>\n      <td>month_4</td>\n      <td>-0.096224</td>\n      <td>0.335496</td>\n      <td>-0.125995</td>\n      <td>-0.095578</td>\n      <td>channel_code_12</td>\n      <td>city_type_0</td>\n      <td>NaN</td>\n      <td>-1.533705</td>\n      <td>...</td>\n      <td>0.946066</td>\n      <td>0.407762</td>\n      <td>-0.153950</td>\n      <td>0.548895</td>\n      <td>0.541020</td>\n      <td>0.031742</td>\n      <td>0.257278</td>\n      <td>0.561353</td>\n      <td>{α}</td>\n      <td>city_14</td>\n    </tr>\n    <tr>\n      <th>1</th>\n      <td>200000</td>\n      <td>month_5</td>\n      <td>-0.024255</td>\n      <td>-0.059806</td>\n      <td>-0.124295</td>\n      <td>-0.023381</td>\n      <td>channel_code_12</td>\n      <td>city_type_0</td>\n      <td>NaN</td>\n      <td>-1.533705</td>\n      <td>...</td>\n      <td>0.945281</td>\n      <td>0.396267</td>\n      <td>-0.150505</td>\n      <td>0.549468</td>\n      <td>0.552131</td>\n      <td>0.237817</td>\n      <td>0.264211</td>\n      <td>0.715199</td>\n      <td>{α}</td>\n      <td>city_14</td>\n    </tr>\n    <tr>\n      <th>2</th>\n      <td>200000</td>\n      <td>month_6</td>\n      <td>0.045988</td>\n      <td>0.049418</td>\n      <td>-0.125995</td>\n      <td>0.047079</td>\n      <td>channel_code_12</td>\n      <td>city_type_0</td>\n      <td>NaN</td>\n      <td>-1.533705</td>\n      <td>...</td>\n      <td>0.945281</td>\n      <td>0.396267</td>\n      <td>-0.152800</td>\n      <td>0.549468</td>\n      <td>0.541020</td>\n      <td>0.387566</td>\n      <td>0.268543</td>\n      <td>0.836079</td>\n      <td>{α}</td>\n      <td>city_14</td>\n    </tr>\n    <tr>\n      <th>3</th>\n      <td>200001</td>\n      <td>month_4</td>\n      <td>-0.156722</td>\n      <td>-0.204920</td>\n      <td>-0.125856</td>\n      <td>-0.156258</td>\n      <td>channel_code_9</td>\n      <td>city_type_0</td>\n      <td>NaN</td>\n      <td>0.092087</td>\n      <td>...</td>\n      <td>NaN</td>\n      <td>NaN</td>\n      <td>-0.165588</td>\n      <td>NaN</td>\n      <td>NaN</td>\n      <td>-0.201123</td>\n      <td>NaN</td>\n      <td>NaN</td>\n      <td>{α}</td>\n      <td>city_76</td>\n    </tr>\n    <tr>\n      <th>4</th>\n      <td>200001</td>\n      <td>month_5</td>\n      <td>-0.156722</td>\n      <td>-0.204920</td>\n      <td>-0.125856</td>\n      <td>-0.156258</td>\n      <td>channel_code_9</td>\n      <td>city_type_0</td>\n      <td>NaN</td>\n      <td>0.092087</td>\n      <td>...</td>\n      <td>NaN</td>\n      <td>NaN</td>\n      <td>-0.165588</td>\n      <td>NaN</td>\n      <td>NaN</td>\n      <td>-0.201123</td>\n      <td>NaN</td>\n      <td>NaN</td>\n      <td>{α}</td>\n      <td>city_76</td>\n    </tr>\n    <tr>\n      <th>5</th>\n      <td>200001</td>\n      <td>month_6</td>\n      <td>-0.156722</td>\n      <td>-0.204920</td>\n      <td>-0.125856</td>\n      <td>-0.156258</td>\n      <td>channel_code_9</td>\n      <td>city_type_0</td>\n      <td>NaN</td>\n      <td>0.092087</td>\n      <td>...</td>\n      <td>NaN</td>\n      <td>NaN</td>\n      <td>-0.165588</td>\n      <td>NaN</td>\n      <td>NaN</td>\n      <td>-0.201123</td>\n      <td>NaN</td>\n      <td>NaN</td>\n      <td>{α}</td>\n      <td>city_76</td>\n    </tr>\n    <tr>\n      <th>6</th>\n      <td>200002</td>\n      <td>month_4</td>\n      <td>-0.096506</td>\n      <td>0.185905</td>\n      <td>-0.125995</td>\n      <td>-0.095856</td>\n      <td>channel_code_12</td>\n      <td>city_type_0</td>\n      <td>index_city_code_78</td>\n      <td>-1.069193</td>\n      <td>...</td>\n      <td>0.950774</td>\n      <td>0.545693</td>\n      <td>0.715525</td>\n      <td>0.554913</td>\n      <td>0.718798</td>\n      <td>0.445811</td>\n      <td>0.254968</td>\n      <td>0.495419</td>\n      <td>{other}</td>\n      <td>city_14</td>\n    </tr>\n    <tr>\n      <th>7</th>\n      <td>200002</td>\n      <td>month_5</td>\n      <td>0.572242</td>\n      <td>1.502779</td>\n      <td>-0.125995</td>\n      <td>0.574963</td>\n      <td>channel_code_12</td>\n      <td>city_type_0</td>\n      <td>index_city_code_78</td>\n      <td>-1.069193</td>\n      <td>...</td>\n      <td>0.949989</td>\n      <td>0.522704</td>\n      <td>2.442243</td>\n      <td>0.563940</td>\n      <td>0.841020</td>\n      <td>3.313686</td>\n      <td>0.256701</td>\n      <td>0.550364</td>\n      <td>{other}</td>\n      <td>city_14</td>\n    </tr>\n    <tr>\n      <th>8</th>\n      <td>200002</td>\n      <td>month_6</td>\n      <td>-0.048015</td>\n      <td>0.448252</td>\n      <td>-0.125995</td>\n      <td>-0.047215</td>\n      <td>channel_code_12</td>\n      <td>city_type_0</td>\n      <td>index_city_code_78</td>\n      <td>-1.069193</td>\n      <td>...</td>\n      <td>0.946850</td>\n      <td>0.453739</td>\n      <td>2.614870</td>\n      <td>0.565087</td>\n      <td>0.818798</td>\n      <td>4.449125</td>\n      <td>0.258723</td>\n      <td>0.627287</td>\n      <td>{other}</td>\n      <td>city_14</td>\n    </tr>\n    <tr>\n      <th>9</th>\n      <td>200003</td>\n      <td>month_4</td>\n      <td>-0.156623</td>\n      <td>-0.204813</td>\n      <td>-0.125665</td>\n      <td>-0.156159</td>\n      <td>channel_code_7</td>\n      <td>city_type_0</td>\n      <td>NaN</td>\n      <td>-0.256297</td>\n      <td>...</td>\n      <td>NaN</td>\n      <td>NaN</td>\n      <td>-0.165588</td>\n      <td>NaN</td>\n      <td>NaN</td>\n      <td>-0.201123</td>\n      <td>NaN</td>\n      <td>NaN</td>\n      <td>{α}</td>\n      <td>city_31</td>\n    </tr>\n    <tr>\n      <th>10</th>\n      <td>200003</td>\n      <td>month_5</td>\n      <td>-0.156579</td>\n      <td>-0.204813</td>\n      <td>-0.125501</td>\n      <td>-0.156115</td>\n      <td>channel_code_7</td>\n      <td>city_type_0</td>\n      <td>NaN</td>\n      <td>-0.256297</td>\n      <td>...</td>\n      <td>NaN</td>\n      <td>NaN</td>\n      <td>-0.165588</td>\n      <td>NaN</td>\n      <td>NaN</td>\n      <td>-0.201123</td>\n      <td>NaN</td>\n      <td>NaN</td>\n      <td>{α}</td>\n      <td>city_31</td>\n    </tr>\n    <tr>\n      <th>11</th>\n      <td>200003</td>\n      <td>month_6</td>\n      <td>-0.156579</td>\n      <td>-0.204813</td>\n      <td>-0.125501</td>\n      <td>-0.156115</td>\n      <td>channel_code_7</td>\n      <td>city_type_0</td>\n      <td>NaN</td>\n      <td>-0.256297</td>\n      <td>...</td>\n      <td>NaN</td>\n      <td>NaN</td>\n      <td>-0.165588</td>\n      <td>NaN</td>\n      <td>NaN</td>\n      <td>-0.201123</td>\n      <td>NaN</td>\n      <td>NaN</td>\n      <td>{α}</td>\n      <td>city_31</td>\n    </tr>\n    <tr>\n      <th>12</th>\n      <td>200004</td>\n      <td>month_5</td>\n      <td>NaN</td>\n      <td>NaN</td>\n      <td>NaN</td>\n      <td>NaN</td>\n      <td>NaN</td>\n      <td>NaN</td>\n      <td>NaN</td>\n      <td>NaN</td>\n      <td>...</td>\n      <td>NaN</td>\n      <td>NaN</td>\n      <td>-0.165588</td>\n      <td>NaN</td>\n      <td>NaN</td>\n      <td>-0.201123</td>\n      <td>NaN</td>\n      <td>NaN</td>\n      <td>{}</td>\n      <td>other</td>\n    </tr>\n    <tr>\n      <th>13</th>\n      <td>200004</td>\n      <td>month_6</td>\n      <td>-0.153379</td>\n      <td>-0.201932</td>\n      <td>-0.125995</td>\n      <td>-0.154155</td>\n      <td>channel_code_7</td>\n      <td>NaN</td>\n      <td>NaN</td>\n      <td>0.672727</td>\n      <td>...</td>\n      <td>0.944889</td>\n      <td>0.396267</td>\n      <td>-0.165324</td>\n      <td>0.547032</td>\n      <td>0.418798</td>\n      <td>-0.201123</td>\n      <td>0.250924</td>\n      <td>0.374540</td>\n      <td>{α}</td>\n      <td>other</td>\n    </tr>\n    <tr>\n      <th>14</th>\n      <td>200005</td>\n      <td>month_4</td>\n      <td>-0.113771</td>\n      <td>0.098011</td>\n      <td>-0.125995</td>\n      <td>-0.113174</td>\n      <td>channel_code_8</td>\n      <td>NaN</td>\n      <td>index_city_code_2</td>\n      <td>-1.533705</td>\n      <td>...</td>\n      <td>0.944497</td>\n      <td>0.384773</td>\n      <td>-0.096518</td>\n      <td>0.550901</td>\n      <td>0.552131</td>\n      <td>-0.201123</td>\n      <td>0.250924</td>\n      <td>0.374540</td>\n      <td>{α}</td>\n      <td>other</td>\n    </tr>\n    <tr>\n      <th>15</th>\n      <td>200005</td>\n      <td>month_5</td>\n      <td>-0.096582</td>\n      <td>0.079861</td>\n      <td>-0.125995</td>\n      <td>-0.095932</td>\n      <td>channel_code_8</td>\n      <td>NaN</td>\n      <td>index_city_code_2</td>\n      <td>-1.533705</td>\n      <td>...</td>\n      <td>0.944497</td>\n      <td>0.384773</td>\n      <td>-0.100659</td>\n      <td>0.550615</td>\n      <td>0.541020</td>\n      <td>-0.201123</td>\n      <td>0.250924</td>\n      <td>0.374540</td>\n      <td>{α}</td>\n      <td>other</td>\n    </tr>\n    <tr>\n      <th>16</th>\n      <td>200005</td>\n      <td>month_6</td>\n      <td>0.543302</td>\n      <td>0.712921</td>\n      <td>-0.125995</td>\n      <td>0.545933</td>\n      <td>channel_code_8</td>\n      <td>NaN</td>\n      <td>index_city_code_2</td>\n      <td>-1.533705</td>\n      <td>...</td>\n      <td>0.944497</td>\n      <td>0.384773</td>\n      <td>0.245548</td>\n      <td>0.555773</td>\n      <td>0.707687</td>\n      <td>-0.196868</td>\n      <td>0.251212</td>\n      <td>0.385529</td>\n      <td>{α, δ}</td>\n      <td>other</td>\n    </tr>\n    <tr>\n      <th>17</th>\n      <td>200006</td>\n      <td>month_4</td>\n      <td>-0.154554</td>\n      <td>-0.203773</td>\n      <td>-0.124405</td>\n      <td>-0.154084</td>\n      <td>channel_code_12</td>\n      <td>city_type_7557</td>\n      <td>index_city_code_82</td>\n      <td>-1.417577</td>\n      <td>...</td>\n      <td>NaN</td>\n      <td>NaN</td>\n      <td>-0.165588</td>\n      <td>NaN</td>\n      <td>NaN</td>\n      <td>-0.201123</td>\n      <td>NaN</td>\n      <td>NaN</td>\n      <td>{α}</td>\n      <td>city_53</td>\n    </tr>\n    <tr>\n      <th>18</th>\n      <td>200006</td>\n      <td>month_5</td>\n      <td>-0.154522</td>\n      <td>-0.203773</td>\n      <td>-0.124405</td>\n      <td>-0.154052</td>\n      <td>channel_code_12</td>\n      <td>city_type_7557</td>\n      <td>index_city_code_82</td>\n      <td>-1.417577</td>\n      <td>...</td>\n      <td>NaN</td>\n      <td>NaN</td>\n      <td>-0.165588</td>\n      <td>NaN</td>\n      <td>NaN</td>\n      <td>-0.201123</td>\n      <td>NaN</td>\n      <td>NaN</td>\n      <td>{α}</td>\n      <td>city_53</td>\n    </tr>\n    <tr>\n      <th>19</th>\n      <td>200006</td>\n      <td>month_6</td>\n      <td>-0.154442</td>\n      <td>-0.203773</td>\n      <td>-0.124206</td>\n      <td>-0.153972</td>\n      <td>channel_code_12</td>\n      <td>city_type_7557</td>\n      <td>index_city_code_82</td>\n      <td>-1.417577</td>\n      <td>...</td>\n      <td>NaN</td>\n      <td>NaN</td>\n      <td>-0.165588</td>\n      <td>NaN</td>\n      <td>NaN</td>\n      <td>-0.201123</td>\n      <td>NaN</td>\n      <td>NaN</td>\n      <td>{α}</td>\n      <td>city_53</td>\n    </tr>\n    <tr>\n      <th>20</th>\n      <td>200007</td>\n      <td>month_4</td>\n      <td>-0.125748</td>\n      <td>-0.180259</td>\n      <td>-0.064704</td>\n      <td>-0.125188</td>\n      <td>channel_code_5</td>\n      <td>city_type_0</td>\n      <td>index_city_code_72</td>\n      <td>-1.417577</td>\n      <td>...</td>\n      <td>0.944497</td>\n      <td>0.384773</td>\n      <td>-0.162954</td>\n      <td>0.547319</td>\n      <td>0.441020</td>\n      <td>-0.134623</td>\n      <td>0.251790</td>\n      <td>0.407507</td>\n      <td>{α}</td>\n      <td>city_14</td>\n    </tr>\n    <tr>\n      <th>21</th>\n      <td>200007</td>\n      <td>month_5</td>\n      <td>-0.117949</td>\n      <td>-0.136387</td>\n      <td>-0.056818</td>\n      <td>-0.117366</td>\n      <td>channel_code_5</td>\n      <td>city_type_0</td>\n      <td>index_city_code_72</td>\n      <td>-1.417577</td>\n      <td>...</td>\n      <td>0.944497</td>\n      <td>0.384773</td>\n      <td>-0.162765</td>\n      <td>0.547319</td>\n      <td>0.441020</td>\n      <td>-0.134623</td>\n      <td>0.251790</td>\n      <td>0.407507</td>\n      <td>{α}</td>\n      <td>city_14</td>\n    </tr>\n    <tr>\n      <th>22</th>\n      <td>200007</td>\n      <td>month_6</td>\n      <td>-0.123198</td>\n      <td>-0.177398</td>\n      <td>-0.056818</td>\n      <td>-0.122630</td>\n      <td>channel_code_5</td>\n      <td>city_type_0</td>\n      <td>index_city_code_72</td>\n      <td>-1.417577</td>\n      <td>...</td>\n      <td>0.944497</td>\n      <td>0.384773</td>\n      <td>-0.162297</td>\n      <td>0.547319</td>\n      <td>0.441020</td>\n      <td>-0.156793</td>\n      <td>0.251501</td>\n      <td>0.396518</td>\n      <td>{α}</td>\n      <td>city_14</td>\n    </tr>\n    <tr>\n      <th>23</th>\n      <td>200008</td>\n      <td>month_5</td>\n      <td>NaN</td>\n      <td>NaN</td>\n      <td>NaN</td>\n      <td>NaN</td>\n      <td>NaN</td>\n      <td>NaN</td>\n      <td>NaN</td>\n      <td>NaN</td>\n      <td>...</td>\n      <td>NaN</td>\n      <td>NaN</td>\n      <td>-0.165588</td>\n      <td>NaN</td>\n      <td>NaN</td>\n      <td>-0.201123</td>\n      <td>NaN</td>\n      <td>NaN</td>\n      <td>{}</td>\n      <td>other</td>\n    </tr>\n    <tr>\n      <th>24</th>\n      <td>200008</td>\n      <td>month_6</td>\n      <td>-0.156516</td>\n      <td>-0.204687</td>\n      <td>-0.125866</td>\n      <td>-0.156262</td>\n      <td>channel_code_9</td>\n      <td>NaN</td>\n      <td>NaN</td>\n      <td>0.092087</td>\n      <td>...</td>\n      <td>0.944497</td>\n      <td>0.384773</td>\n      <td>-0.165588</td>\n      <td>0.546889</td>\n      <td>0.407687</td>\n      <td>-0.201123</td>\n      <td>0.250924</td>\n      <td>0.374540</td>\n      <td>{α}</td>\n      <td>other</td>\n    </tr>\n    <tr>\n      <th>25</th>\n      <td>200009</td>\n      <td>month_5</td>\n      <td>NaN</td>\n      <td>NaN</td>\n      <td>NaN</td>\n      <td>NaN</td>\n      <td>NaN</td>\n      <td>NaN</td>\n      <td>NaN</td>\n      <td>NaN</td>\n      <td>...</td>\n      <td>NaN</td>\n      <td>NaN</td>\n      <td>-0.165588</td>\n      <td>NaN</td>\n      <td>NaN</td>\n      <td>-0.201123</td>\n      <td>NaN</td>\n      <td>NaN</td>\n      <td>{}</td>\n      <td>other</td>\n    </tr>\n    <tr>\n      <th>26</th>\n      <td>200009</td>\n      <td>month_6</td>\n      <td>-0.156552</td>\n      <td>-0.204687</td>\n      <td>-0.125995</td>\n      <td>-0.156216</td>\n      <td>channel_code_8</td>\n      <td>city_type_640</td>\n      <td>NaN</td>\n      <td>-0.720809</td>\n      <td>...</td>\n      <td>0.944497</td>\n      <td>0.384773</td>\n      <td>-0.165588</td>\n      <td>0.546889</td>\n      <td>0.407687</td>\n      <td>-0.201123</td>\n      <td>0.250924</td>\n      <td>0.374540</td>\n      <td>{α}</td>\n      <td>other</td>\n    </tr>\n    <tr>\n      <th>27</th>\n      <td>200010</td>\n      <td>month_4</td>\n      <td>-0.155099</td>\n      <td>-0.202485</td>\n      <td>-0.125995</td>\n      <td>-0.154630</td>\n      <td>channel_code_2</td>\n      <td>city_type_0</td>\n      <td>NaN</td>\n      <td>0.092087</td>\n      <td>...</td>\n      <td>0.944497</td>\n      <td>0.384773</td>\n      <td>-0.162555</td>\n      <td>0.547319</td>\n      <td>0.441020</td>\n      <td>-0.201123</td>\n      <td>0.250924</td>\n      <td>0.374540</td>\n      <td>{α, μ}</td>\n      <td>city_14</td>\n    </tr>\n    <tr>\n      <th>28</th>\n      <td>200010</td>\n      <td>month_5</td>\n      <td>-0.146092</td>\n      <td>-0.184405</td>\n      <td>-0.125961</td>\n      <td>-0.145596</td>\n      <td>channel_code_2</td>\n      <td>city_type_0</td>\n      <td>NaN</td>\n      <td>0.092087</td>\n      <td>...</td>\n      <td>0.944497</td>\n      <td>0.384773</td>\n      <td>-0.154578</td>\n      <td>0.547749</td>\n      <td>0.474354</td>\n      <td>-0.201123</td>\n      <td>0.250924</td>\n      <td>0.374540</td>\n      <td>{α, μ}</td>\n      <td>city_14</td>\n    </tr>\n    <tr>\n      <th>29</th>\n      <td>200010</td>\n      <td>month_6</td>\n      <td>-0.148696</td>\n      <td>-0.186584</td>\n      <td>-0.125922</td>\n      <td>-0.148207</td>\n      <td>channel_code_2</td>\n      <td>city_type_0</td>\n      <td>NaN</td>\n      <td>0.092087</td>\n      <td>...</td>\n      <td>0.944497</td>\n      <td>0.384773</td>\n      <td>-0.155368</td>\n      <td>0.547892</td>\n      <td>0.485465</td>\n      <td>-0.201123</td>\n      <td>0.250924</td>\n      <td>0.374540</td>\n      <td>{α, η}</td>\n      <td>city_14</td>\n    </tr>\n  </tbody>\n</table>\n<p>30 rows × 92 columns</p>\n</div>"
     },
     "execution_count": 285,
     "metadata": {},
     "output_type": "execute_result"
    }
   ],
   "source": [
    "test_df.head(30)"
   ]
  },
  {
   "cell_type": "code",
   "execution_count": 286,
   "outputs": [
    {
     "data": {
      "text/plain": "            id     date  balance_amt_avg  balance_amt_max  balance_amt_min  \\\n0       200000  month_4        -0.096224         0.335496        -0.125995   \n1       200000  month_5        -0.024255        -0.059806        -0.124295   \n2       200000  month_6         0.045988         0.049418        -0.125995   \n3       200001  month_4        -0.156722        -0.204920        -0.125856   \n4       200001  month_5        -0.156722        -0.204920        -0.125856   \n...        ...      ...              ...              ...              ...   \n290115  299998  month_5              NaN              NaN              NaN   \n290116  299998  month_6        -0.155350        -0.203711        -0.125995   \n290117  299999  month_4        -0.145899        -0.173298        -0.125995   \n290118  299999  month_5        -0.136402        -0.163874        -0.121475   \n290119  299999  month_6        -0.141660        -0.156818        -0.125894   \n\n        balance_amt_day_avg     channel_code    city_type     index_city_code  \\\n0                 -0.095578  channel_code_12  city_type_0                 NaN   \n1                 -0.023381  channel_code_12  city_type_0                 NaN   \n2                  0.047079  channel_code_12  city_type_0                 NaN   \n3                 -0.156258   channel_code_9  city_type_0                 NaN   \n4                 -0.156258   channel_code_9  city_type_0                 NaN   \n...                     ...              ...          ...                 ...   \n290115                  NaN              NaN          NaN                 NaN   \n290116            -0.155980   channel_code_9  city_type_0  index_city_code_30   \n290117            -0.145402   channel_code_9  city_type_0  index_city_code_34   \n290118            -0.135876   channel_code_9  city_type_0  index_city_code_34   \n290119            -0.141149   channel_code_9  city_type_0  index_city_code_34   \n\n        ogrn_days_end_month  ...  cnt_days_cred_g_oper_3m sum_deb_h_oper_3m  \\\n0                 -1.533705  ...                 0.407762         -0.153950   \n1                 -1.533705  ...                 0.396267         -0.150505   \n2                 -1.533705  ...                 0.396267         -0.152800   \n3                  0.092087  ...                      NaN         -0.165588   \n4                  0.092087  ...                      NaN         -0.165588   \n...                     ...  ...                      ...               ...   \n290115                  NaN  ...                      NaN         -0.165588   \n290116             0.672727  ...                 0.384773         -0.165588   \n290117            -1.185321  ...                 0.384773         -0.097640   \n290118            -1.185321  ...                 0.384773         -0.047885   \n290119            -1.185321  ...                 0.384773         -0.028842   \n\n       cnt_deb_h_oper_3m  cnt_days_deb_h_oper_3m  sum_cred_h_oper_3m  \\\n0               0.548895                0.541020            0.031742   \n1               0.549468                0.552131            0.237817   \n2               0.549468                0.541020            0.387566   \n3                    NaN                     NaN           -0.201123   \n4                    NaN                     NaN           -0.201123   \n...                  ...                     ...                 ...   \n290115               NaN                     NaN           -0.201123   \n290116          0.546889                0.407687           -0.201123   \n290117          0.550901                0.574354           -0.101369   \n290118          0.555057                0.696576           -0.034860   \n290119          0.556919                0.796576           -0.011582   \n\n        cnt_cred_h_oper_3m  cnt_days_cred_h_oper_3m start_cluster     city  \\\n0                 0.257278                 0.561353           {α}  city_14   \n1                 0.264211                 0.715199           {α}  city_14   \n2                 0.268543                 0.836079           {α}  city_14   \n3                      NaN                      NaN           {α}  city_76   \n4                      NaN                      NaN           {α}  city_76   \n...                    ...                      ...           ...      ...   \n290115                 NaN                      NaN            {}    other   \n290116            0.250924                 0.374540           {α}  city_25   \n290117            0.252657                 0.440474           {α}   city_6   \n290118            0.253523                 0.473441           {α}   city_6   \n290119            0.254101                 0.495419           {α}   city_6   \n\n        month_number  \n0                  1  \n1                  2  \n2                  3  \n3                  1  \n4                  2  \n...              ...  \n290115             1  \n290116             2  \n290117             1  \n290118             2  \n290119             3  \n\n[290120 rows x 93 columns]",
      "text/html": "<div>\n<style scoped>\n    .dataframe tbody tr th:only-of-type {\n        vertical-align: middle;\n    }\n\n    .dataframe tbody tr th {\n        vertical-align: top;\n    }\n\n    .dataframe thead th {\n        text-align: right;\n    }\n</style>\n<table border=\"1\" class=\"dataframe\">\n  <thead>\n    <tr style=\"text-align: right;\">\n      <th></th>\n      <th>id</th>\n      <th>date</th>\n      <th>balance_amt_avg</th>\n      <th>balance_amt_max</th>\n      <th>balance_amt_min</th>\n      <th>balance_amt_day_avg</th>\n      <th>channel_code</th>\n      <th>city_type</th>\n      <th>index_city_code</th>\n      <th>ogrn_days_end_month</th>\n      <th>...</th>\n      <th>cnt_days_cred_g_oper_3m</th>\n      <th>sum_deb_h_oper_3m</th>\n      <th>cnt_deb_h_oper_3m</th>\n      <th>cnt_days_deb_h_oper_3m</th>\n      <th>sum_cred_h_oper_3m</th>\n      <th>cnt_cred_h_oper_3m</th>\n      <th>cnt_days_cred_h_oper_3m</th>\n      <th>start_cluster</th>\n      <th>city</th>\n      <th>month_number</th>\n    </tr>\n  </thead>\n  <tbody>\n    <tr>\n      <th>0</th>\n      <td>200000</td>\n      <td>month_4</td>\n      <td>-0.096224</td>\n      <td>0.335496</td>\n      <td>-0.125995</td>\n      <td>-0.095578</td>\n      <td>channel_code_12</td>\n      <td>city_type_0</td>\n      <td>NaN</td>\n      <td>-1.533705</td>\n      <td>...</td>\n      <td>0.407762</td>\n      <td>-0.153950</td>\n      <td>0.548895</td>\n      <td>0.541020</td>\n      <td>0.031742</td>\n      <td>0.257278</td>\n      <td>0.561353</td>\n      <td>{α}</td>\n      <td>city_14</td>\n      <td>1</td>\n    </tr>\n    <tr>\n      <th>1</th>\n      <td>200000</td>\n      <td>month_5</td>\n      <td>-0.024255</td>\n      <td>-0.059806</td>\n      <td>-0.124295</td>\n      <td>-0.023381</td>\n      <td>channel_code_12</td>\n      <td>city_type_0</td>\n      <td>NaN</td>\n      <td>-1.533705</td>\n      <td>...</td>\n      <td>0.396267</td>\n      <td>-0.150505</td>\n      <td>0.549468</td>\n      <td>0.552131</td>\n      <td>0.237817</td>\n      <td>0.264211</td>\n      <td>0.715199</td>\n      <td>{α}</td>\n      <td>city_14</td>\n      <td>2</td>\n    </tr>\n    <tr>\n      <th>2</th>\n      <td>200000</td>\n      <td>month_6</td>\n      <td>0.045988</td>\n      <td>0.049418</td>\n      <td>-0.125995</td>\n      <td>0.047079</td>\n      <td>channel_code_12</td>\n      <td>city_type_0</td>\n      <td>NaN</td>\n      <td>-1.533705</td>\n      <td>...</td>\n      <td>0.396267</td>\n      <td>-0.152800</td>\n      <td>0.549468</td>\n      <td>0.541020</td>\n      <td>0.387566</td>\n      <td>0.268543</td>\n      <td>0.836079</td>\n      <td>{α}</td>\n      <td>city_14</td>\n      <td>3</td>\n    </tr>\n    <tr>\n      <th>3</th>\n      <td>200001</td>\n      <td>month_4</td>\n      <td>-0.156722</td>\n      <td>-0.204920</td>\n      <td>-0.125856</td>\n      <td>-0.156258</td>\n      <td>channel_code_9</td>\n      <td>city_type_0</td>\n      <td>NaN</td>\n      <td>0.092087</td>\n      <td>...</td>\n      <td>NaN</td>\n      <td>-0.165588</td>\n      <td>NaN</td>\n      <td>NaN</td>\n      <td>-0.201123</td>\n      <td>NaN</td>\n      <td>NaN</td>\n      <td>{α}</td>\n      <td>city_76</td>\n      <td>1</td>\n    </tr>\n    <tr>\n      <th>4</th>\n      <td>200001</td>\n      <td>month_5</td>\n      <td>-0.156722</td>\n      <td>-0.204920</td>\n      <td>-0.125856</td>\n      <td>-0.156258</td>\n      <td>channel_code_9</td>\n      <td>city_type_0</td>\n      <td>NaN</td>\n      <td>0.092087</td>\n      <td>...</td>\n      <td>NaN</td>\n      <td>-0.165588</td>\n      <td>NaN</td>\n      <td>NaN</td>\n      <td>-0.201123</td>\n      <td>NaN</td>\n      <td>NaN</td>\n      <td>{α}</td>\n      <td>city_76</td>\n      <td>2</td>\n    </tr>\n    <tr>\n      <th>...</th>\n      <td>...</td>\n      <td>...</td>\n      <td>...</td>\n      <td>...</td>\n      <td>...</td>\n      <td>...</td>\n      <td>...</td>\n      <td>...</td>\n      <td>...</td>\n      <td>...</td>\n      <td>...</td>\n      <td>...</td>\n      <td>...</td>\n      <td>...</td>\n      <td>...</td>\n      <td>...</td>\n      <td>...</td>\n      <td>...</td>\n      <td>...</td>\n      <td>...</td>\n      <td>...</td>\n    </tr>\n    <tr>\n      <th>290115</th>\n      <td>299998</td>\n      <td>month_5</td>\n      <td>NaN</td>\n      <td>NaN</td>\n      <td>NaN</td>\n      <td>NaN</td>\n      <td>NaN</td>\n      <td>NaN</td>\n      <td>NaN</td>\n      <td>NaN</td>\n      <td>...</td>\n      <td>NaN</td>\n      <td>-0.165588</td>\n      <td>NaN</td>\n      <td>NaN</td>\n      <td>-0.201123</td>\n      <td>NaN</td>\n      <td>NaN</td>\n      <td>{}</td>\n      <td>other</td>\n      <td>1</td>\n    </tr>\n    <tr>\n      <th>290116</th>\n      <td>299998</td>\n      <td>month_6</td>\n      <td>-0.155350</td>\n      <td>-0.203711</td>\n      <td>-0.125995</td>\n      <td>-0.155980</td>\n      <td>channel_code_9</td>\n      <td>city_type_0</td>\n      <td>index_city_code_30</td>\n      <td>0.672727</td>\n      <td>...</td>\n      <td>0.384773</td>\n      <td>-0.165588</td>\n      <td>0.546889</td>\n      <td>0.407687</td>\n      <td>-0.201123</td>\n      <td>0.250924</td>\n      <td>0.374540</td>\n      <td>{α}</td>\n      <td>city_25</td>\n      <td>2</td>\n    </tr>\n    <tr>\n      <th>290117</th>\n      <td>299999</td>\n      <td>month_4</td>\n      <td>-0.145899</td>\n      <td>-0.173298</td>\n      <td>-0.125995</td>\n      <td>-0.145402</td>\n      <td>channel_code_9</td>\n      <td>city_type_0</td>\n      <td>index_city_code_34</td>\n      <td>-1.185321</td>\n      <td>...</td>\n      <td>0.384773</td>\n      <td>-0.097640</td>\n      <td>0.550901</td>\n      <td>0.574354</td>\n      <td>-0.101369</td>\n      <td>0.252657</td>\n      <td>0.440474</td>\n      <td>{α}</td>\n      <td>city_6</td>\n      <td>1</td>\n    </tr>\n    <tr>\n      <th>290118</th>\n      <td>299999</td>\n      <td>month_5</td>\n      <td>-0.136402</td>\n      <td>-0.163874</td>\n      <td>-0.121475</td>\n      <td>-0.135876</td>\n      <td>channel_code_9</td>\n      <td>city_type_0</td>\n      <td>index_city_code_34</td>\n      <td>-1.185321</td>\n      <td>...</td>\n      <td>0.384773</td>\n      <td>-0.047885</td>\n      <td>0.555057</td>\n      <td>0.696576</td>\n      <td>-0.034860</td>\n      <td>0.253523</td>\n      <td>0.473441</td>\n      <td>{α}</td>\n      <td>city_6</td>\n      <td>2</td>\n    </tr>\n    <tr>\n      <th>290119</th>\n      <td>299999</td>\n      <td>month_6</td>\n      <td>-0.141660</td>\n      <td>-0.156818</td>\n      <td>-0.125894</td>\n      <td>-0.141149</td>\n      <td>channel_code_9</td>\n      <td>city_type_0</td>\n      <td>index_city_code_34</td>\n      <td>-1.185321</td>\n      <td>...</td>\n      <td>0.384773</td>\n      <td>-0.028842</td>\n      <td>0.556919</td>\n      <td>0.796576</td>\n      <td>-0.011582</td>\n      <td>0.254101</td>\n      <td>0.495419</td>\n      <td>{α}</td>\n      <td>city_6</td>\n      <td>3</td>\n    </tr>\n  </tbody>\n</table>\n<p>290120 rows × 93 columns</p>\n</div>"
     },
     "execution_count": 286,
     "metadata": {},
     "output_type": "execute_result"
    }
   ],
   "source": [
    "\n",
    "test_df['month_number'] = test_df.groupby('id').cumcount() + 1\n",
    "\n",
    "\n",
    "test_df"
   ],
   "metadata": {
    "collapsed": false,
    "ExecuteTime": {
     "end_time": "2024-03-13T23:07:38.175114600Z",
     "start_time": "2024-03-13T23:07:38.029904300Z"
    }
   }
  },
  {
   "cell_type": "code",
   "execution_count": 287,
   "outputs": [
    {
     "name": "stdout",
     "output_type": "stream",
     "text": [
      "<class 'pandas.core.frame.DataFrame'>\n",
      "RangeIndex: 290120 entries, 0 to 290119\n",
      "Data columns (total 93 columns):\n",
      " #   Column                   Non-Null Count   Dtype  \n",
      "---  ------                   --------------   -----  \n",
      " 0   id                       290120 non-null  int64  \n",
      " 1   date                     290120 non-null  object \n",
      " 2   balance_amt_avg          260637 non-null  float64\n",
      " 3   balance_amt_max          260637 non-null  float64\n",
      " 4   balance_amt_min          260637 non-null  float64\n",
      " 5   balance_amt_day_avg      260637 non-null  float64\n",
      " 6   channel_code             270092 non-null  object \n",
      " 7   city_type                229128 non-null  object \n",
      " 8   index_city_code          133659 non-null  object \n",
      " 9   ogrn_days_end_month      275842 non-null  float64\n",
      " 10  ogrn_days_end_quarter    275842 non-null  float64\n",
      " 11  ogrn_month               275842 non-null  object \n",
      " 12  ogrn_year                275842 non-null  object \n",
      " 13  ft_registration_date     275282 non-null  float64\n",
      " 14  max_founderpres          128928 non-null  float64\n",
      " 15  min_founderpres          128928 non-null  float64\n",
      " 16  ogrn_exist_months        275842 non-null  float64\n",
      " 17  okved                    275641 non-null  object \n",
      " 18  segment                  276100 non-null  object \n",
      " 19  sum_of_paym_2m           216659 non-null  float64\n",
      " 20  sum_of_paym_6m           216659 non-null  float64\n",
      " 21  sum_of_paym_1y           216659 non-null  float64\n",
      " 22  sum_a_oper_1m            290120 non-null  float64\n",
      " 23  cnt_a_oper_1m            194910 non-null  float64\n",
      " 24  sum_b_oper_1m            290120 non-null  float64\n",
      " 25  cnt_b_oper_1m            194910 non-null  float64\n",
      " 26  sum_c_oper_1m            290120 non-null  float64\n",
      " 27  cnt_c_oper_1m            194910 non-null  float64\n",
      " 28  sum_deb_d_oper_1m        290120 non-null  float64\n",
      " 29  cnt_deb_d_oper_1m        194910 non-null  float64\n",
      " 30  sum_cred_d_oper_1m       290120 non-null  float64\n",
      " 31  cnt_cred_d_oper_1m       194910 non-null  float64\n",
      " 32  sum_deb_e_oper_1m        290120 non-null  float64\n",
      " 33  cnt_deb_e_oper_1m        194910 non-null  float64\n",
      " 34  cnt_days_deb_e_oper_1m   194910 non-null  float64\n",
      " 35  sum_cred_e_oper_1m       290120 non-null  float64\n",
      " 36  cnt_cred_e_oper_1m       194910 non-null  float64\n",
      " 37  cnt_days_cred_e_oper_1m  194910 non-null  float64\n",
      " 38  sum_deb_f_oper_1m        290120 non-null  float64\n",
      " 39  cnt_deb_f_oper_1m        194910 non-null  float64\n",
      " 40  cnt_days_deb_f_oper_1m   194910 non-null  float64\n",
      " 41  sum_cred_f_oper_1m       290120 non-null  float64\n",
      " 42  cnt_cred_f_oper_1m       194910 non-null  float64\n",
      " 43  cnt_days_cred_f_oper_1m  194910 non-null  float64\n",
      " 44  sum_deb_g_oper_1m        290120 non-null  float64\n",
      " 45  cnt_deb_g_oper_1m        194910 non-null  float64\n",
      " 46  cnt_days_deb_g_oper_1m   194910 non-null  float64\n",
      " 47  sum_cred_g_oper_1m       290120 non-null  float64\n",
      " 48  cnt_cred_g_oper_1m       194910 non-null  float64\n",
      " 49  cnt_days_cred_g_oper_1m  194910 non-null  float64\n",
      " 50  sum_deb_h_oper_1m        290120 non-null  float64\n",
      " 51  cnt_deb_h_oper_1m        194910 non-null  float64\n",
      " 52  cnt_days_deb_h_oper_1m   194910 non-null  float64\n",
      " 53  sum_cred_h_oper_1m       290120 non-null  float64\n",
      " 54  cnt_cred_h_oper_1m       194910 non-null  float64\n",
      " 55  cnt_days_cred_h_oper_1m  194910 non-null  float64\n",
      " 56  sum_a_oper_3m            290120 non-null  float64\n",
      " 57  cnt_a_oper_3m            210553 non-null  float64\n",
      " 58  sum_b_oper_3m            290120 non-null  float64\n",
      " 59  cnt_b_oper_3m            210553 non-null  float64\n",
      " 60  sum_c_oper_3m            290120 non-null  float64\n",
      " 61  cnt_c_oper_3m            210553 non-null  float64\n",
      " 62  sum_deb_d_oper_3m        290120 non-null  float64\n",
      " 63  cnt_deb_d_oper_3m        210553 non-null  float64\n",
      " 64  sum_cred_d_oper_3m       290120 non-null  float64\n",
      " 65  cnt_cred_d_oper_3m       210553 non-null  float64\n",
      " 66  sum_deb_e_oper_3m        290120 non-null  float64\n",
      " 67  cnt_deb_e_oper_3m        210553 non-null  float64\n",
      " 68  cnt_days_deb_e_oper_3m   210553 non-null  float64\n",
      " 69  sum_cred_e_oper_3m       290120 non-null  float64\n",
      " 70  cnt_cred_e_oper_3m       210553 non-null  float64\n",
      " 71  cnt_days_cred_e_oper_3m  210553 non-null  float64\n",
      " 72  sum_deb_f_oper_3m        290120 non-null  float64\n",
      " 73  cnt_deb_f_oper_3m        210553 non-null  float64\n",
      " 74  cnt_days_deb_f_oper_3m   210553 non-null  float64\n",
      " 75  sum_cred_f_oper_3m       290120 non-null  float64\n",
      " 76  cnt_cred_f_oper_3m       210553 non-null  float64\n",
      " 77  cnt_days_cred_f_oper_3m  210553 non-null  float64\n",
      " 78  sum_deb_g_oper_3m        290120 non-null  float64\n",
      " 79  cnt_deb_g_oper_3m        210553 non-null  float64\n",
      " 80  cnt_days_deb_g_oper_3m   210553 non-null  float64\n",
      " 81  sum_cred_g_oper_3m       290120 non-null  float64\n",
      " 82  cnt_cred_g_oper_3m       210553 non-null  float64\n",
      " 83  cnt_days_cred_g_oper_3m  210553 non-null  float64\n",
      " 84  sum_deb_h_oper_3m        290120 non-null  float64\n",
      " 85  cnt_deb_h_oper_3m        210553 non-null  float64\n",
      " 86  cnt_days_deb_h_oper_3m   210553 non-null  float64\n",
      " 87  sum_cred_h_oper_3m       290120 non-null  float64\n",
      " 88  cnt_cred_h_oper_3m       210553 non-null  float64\n",
      " 89  cnt_days_cred_h_oper_3m  210553 non-null  float64\n",
      " 90  start_cluster            290120 non-null  object \n",
      " 91  city                     290120 non-null  object \n",
      " 92  month_number             290120 non-null  int64  \n",
      "dtypes: float64(81), int64(2), object(10)\n",
      "memory usage: 205.9+ MB\n"
     ]
    }
   ],
   "source": [
    "test_df.info()"
   ],
   "metadata": {
    "collapsed": false,
    "ExecuteTime": {
     "end_time": "2024-03-13T23:07:38.301746200Z",
     "start_time": "2024-03-13T23:07:38.167115100Z"
    }
   }
  },
  {
   "cell_type": "code",
   "execution_count": 288,
   "outputs": [
    {
     "data": {
      "text/plain": "       id  balance_amt_avg_1month  balance_amt_avg_2month  \\\n0  200000               -0.096224               -0.024255   \n1  200001               -0.156722               -0.156722   \n2  200002               -0.096506                0.572242   \n3  200003               -0.156623               -0.156579   \n4  200004                     NaN               -0.153379   \n\n   balance_amt_avg_3month  balance_amt_day_avg_1month  \\\n0                0.045988                   -0.095578   \n1               -0.156722                   -0.156258   \n2               -0.048015                   -0.095856   \n3               -0.156579                   -0.156159   \n4                     NaN                         NaN   \n\n   balance_amt_day_avg_2month  balance_amt_day_avg_3month  \\\n0                   -0.023381                    0.047079   \n1                   -0.156258                   -0.156258   \n2                    0.574963                   -0.047215   \n3                   -0.156115                   -0.156115   \n4                   -0.154155                         NaN   \n\n   balance_amt_max_1month  balance_amt_max_2month  balance_amt_max_3month  \\\n0                0.335496               -0.059806                0.049418   \n1               -0.204920               -0.204920               -0.204920   \n2                0.185905                1.502779                0.448252   \n3               -0.204813               -0.204813               -0.204813   \n4                     NaN               -0.201932                     NaN   \n\n   ...  sum_deb_h_oper_3m_3month  sum_of_paym_1y_1month  \\\n0  ...                 -0.152800               0.676573   \n1  ...                 -0.165588                    NaN   \n2  ...                  2.614870               0.365591   \n3  ...                 -0.165588                    NaN   \n4  ...                       NaN                    NaN   \n\n   sum_of_paym_1y_2month sum_of_paym_1y_3month sum_of_paym_2m_1month  \\\n0               0.688449              0.671862              0.416833   \n1                    NaN                   NaN                   NaN   \n2               0.970531              1.211625              1.303965   \n3                    NaN                   NaN                   NaN   \n4              -0.296092                   NaN                   NaN   \n\n  sum_of_paym_2m_2month sum_of_paym_2m_3month sum_of_paym_6m_1month  \\\n0              0.433195              0.223961              0.332409   \n1                   NaN                   NaN                   NaN   \n2              3.870911              4.142519              0.550373   \n3                   NaN                   NaN                   NaN   \n4             -0.273794                   NaN                   NaN   \n\n  sum_of_paym_6m_2month sum_of_paym_6m_3month  \n0              0.284317              0.285376  \n1                   NaN                   NaN  \n2              1.620822              1.969559  \n3                   NaN                   NaN  \n4             -0.294571                   NaN  \n\n[5 rows x 271 columns]",
      "text/html": "<div>\n<style scoped>\n    .dataframe tbody tr th:only-of-type {\n        vertical-align: middle;\n    }\n\n    .dataframe tbody tr th {\n        vertical-align: top;\n    }\n\n    .dataframe thead th {\n        text-align: right;\n    }\n</style>\n<table border=\"1\" class=\"dataframe\">\n  <thead>\n    <tr style=\"text-align: right;\">\n      <th></th>\n      <th>id</th>\n      <th>balance_amt_avg_1month</th>\n      <th>balance_amt_avg_2month</th>\n      <th>balance_amt_avg_3month</th>\n      <th>balance_amt_day_avg_1month</th>\n      <th>balance_amt_day_avg_2month</th>\n      <th>balance_amt_day_avg_3month</th>\n      <th>balance_amt_max_1month</th>\n      <th>balance_amt_max_2month</th>\n      <th>balance_amt_max_3month</th>\n      <th>...</th>\n      <th>sum_deb_h_oper_3m_3month</th>\n      <th>sum_of_paym_1y_1month</th>\n      <th>sum_of_paym_1y_2month</th>\n      <th>sum_of_paym_1y_3month</th>\n      <th>sum_of_paym_2m_1month</th>\n      <th>sum_of_paym_2m_2month</th>\n      <th>sum_of_paym_2m_3month</th>\n      <th>sum_of_paym_6m_1month</th>\n      <th>sum_of_paym_6m_2month</th>\n      <th>sum_of_paym_6m_3month</th>\n    </tr>\n  </thead>\n  <tbody>\n    <tr>\n      <th>0</th>\n      <td>200000</td>\n      <td>-0.096224</td>\n      <td>-0.024255</td>\n      <td>0.045988</td>\n      <td>-0.095578</td>\n      <td>-0.023381</td>\n      <td>0.047079</td>\n      <td>0.335496</td>\n      <td>-0.059806</td>\n      <td>0.049418</td>\n      <td>...</td>\n      <td>-0.152800</td>\n      <td>0.676573</td>\n      <td>0.688449</td>\n      <td>0.671862</td>\n      <td>0.416833</td>\n      <td>0.433195</td>\n      <td>0.223961</td>\n      <td>0.332409</td>\n      <td>0.284317</td>\n      <td>0.285376</td>\n    </tr>\n    <tr>\n      <th>1</th>\n      <td>200001</td>\n      <td>-0.156722</td>\n      <td>-0.156722</td>\n      <td>-0.156722</td>\n      <td>-0.156258</td>\n      <td>-0.156258</td>\n      <td>-0.156258</td>\n      <td>-0.204920</td>\n      <td>-0.204920</td>\n      <td>-0.204920</td>\n      <td>...</td>\n      <td>-0.165588</td>\n      <td>NaN</td>\n      <td>NaN</td>\n      <td>NaN</td>\n      <td>NaN</td>\n      <td>NaN</td>\n      <td>NaN</td>\n      <td>NaN</td>\n      <td>NaN</td>\n      <td>NaN</td>\n    </tr>\n    <tr>\n      <th>2</th>\n      <td>200002</td>\n      <td>-0.096506</td>\n      <td>0.572242</td>\n      <td>-0.048015</td>\n      <td>-0.095856</td>\n      <td>0.574963</td>\n      <td>-0.047215</td>\n      <td>0.185905</td>\n      <td>1.502779</td>\n      <td>0.448252</td>\n      <td>...</td>\n      <td>2.614870</td>\n      <td>0.365591</td>\n      <td>0.970531</td>\n      <td>1.211625</td>\n      <td>1.303965</td>\n      <td>3.870911</td>\n      <td>4.142519</td>\n      <td>0.550373</td>\n      <td>1.620822</td>\n      <td>1.969559</td>\n    </tr>\n    <tr>\n      <th>3</th>\n      <td>200003</td>\n      <td>-0.156623</td>\n      <td>-0.156579</td>\n      <td>-0.156579</td>\n      <td>-0.156159</td>\n      <td>-0.156115</td>\n      <td>-0.156115</td>\n      <td>-0.204813</td>\n      <td>-0.204813</td>\n      <td>-0.204813</td>\n      <td>...</td>\n      <td>-0.165588</td>\n      <td>NaN</td>\n      <td>NaN</td>\n      <td>NaN</td>\n      <td>NaN</td>\n      <td>NaN</td>\n      <td>NaN</td>\n      <td>NaN</td>\n      <td>NaN</td>\n      <td>NaN</td>\n    </tr>\n    <tr>\n      <th>4</th>\n      <td>200004</td>\n      <td>NaN</td>\n      <td>-0.153379</td>\n      <td>NaN</td>\n      <td>NaN</td>\n      <td>-0.154155</td>\n      <td>NaN</td>\n      <td>NaN</td>\n      <td>-0.201932</td>\n      <td>NaN</td>\n      <td>...</td>\n      <td>NaN</td>\n      <td>NaN</td>\n      <td>-0.296092</td>\n      <td>NaN</td>\n      <td>NaN</td>\n      <td>-0.273794</td>\n      <td>NaN</td>\n      <td>NaN</td>\n      <td>-0.294571</td>\n      <td>NaN</td>\n    </tr>\n  </tbody>\n</table>\n<p>5 rows × 271 columns</p>\n</div>"
     },
     "execution_count": 288,
     "metadata": {},
     "output_type": "execute_result"
    }
   ],
   "source": [
    "pivot_columns = [col for col in test_df.columns if col not in ['id', 'date', 'month_number']]\n",
    "\n",
    "df_pivoted = test_df.pivot_table(index='id', columns='month_number', values=pivot_columns, aggfunc='first')\n",
    "\n",
    "# Теперь, когда мы сформировали сводную таблицу, преобразуем MultiIndex столбцы в единый уровень\n",
    "df_pivoted.columns = [f'{col[0]}_{col[1]}month' for col in df_pivoted.columns]\n",
    "\n",
    "# Переименовываем индекс обратно в столбец 'id', если он стал индексом\n",
    "df_pivoted.reset_index(inplace=True)\n",
    "\n",
    "df_pivoted.head()\n",
    "\n"
   ],
   "metadata": {
    "collapsed": false,
    "ExecuteTime": {
     "end_time": "2024-03-13T23:07:40.018457300Z",
     "start_time": "2024-03-13T23:07:38.301746200Z"
    }
   }
  },
  {
   "cell_type": "code",
   "execution_count": 289,
   "outputs": [
    {
     "name": "stdout",
     "output_type": "stream",
     "text": [
      "<class 'pandas.core.frame.DataFrame'>\n",
      "RangeIndex: 100000 entries, 0 to 99999\n",
      "Columns: 271 entries, id to sum_of_paym_6m_3month\n",
      "dtypes: float64(243), int64(1), object(27)\n",
      "memory usage: 206.8+ MB\n"
     ]
    }
   ],
   "source": [
    "df_pivoted.info()"
   ],
   "metadata": {
    "collapsed": false,
    "ExecuteTime": {
     "end_time": "2024-03-13T23:07:40.031176200Z",
     "start_time": "2024-03-13T23:07:40.020459100Z"
    }
   }
  },
  {
   "cell_type": "code",
   "execution_count": 290,
   "id": "2c0edf39-d716-48ca-a66c-936871ee5918",
   "metadata": {
    "execution": {
     "iopub.execute_input": "2024-02-14T23:09:54.944960Z",
     "iopub.status.busy": "2024-02-14T23:09:54.944681Z",
     "iopub.status.idle": "2024-02-14T23:09:55.555948Z",
     "shell.execute_reply": "2024-02-14T23:09:55.554535Z",
     "shell.execute_reply.started": "2024-02-14T23:09:54.944939Z"
    },
    "tags": [],
    "id": "2c0edf39-d716-48ca-a66c-936871ee5918",
    "ExecuteTime": {
     "end_time": "2024-03-13T23:07:40.139829500Z",
     "start_time": "2024-03-13T23:07:40.035680300Z"
    }
   },
   "outputs": [],
   "source": [
    "X = df_pivoted.drop([\n",
    "\"cnt_a_oper_1m_1month\", \"cnt_a_oper_1m_2month\", \"cnt_a_oper_1m_3month\",\n",
    "\"cnt_b_oper_1m_1month\", \"cnt_b_oper_1m_2month\", \"cnt_b_oper_1m_3month\",\n",
    "\"cnt_c_oper_1m_1month\", \"cnt_c_oper_1m_2month\", \"cnt_c_oper_1m_3month\",\n",
    "\"cnt_deb_d_oper_1m_1month\", \"cnt_deb_d_oper_1m_2month\", \"cnt_deb_d_oper_1m_3month\",\n",
    "\"cnt_cred_d_oper_1m_1month\", \"cnt_cred_d_oper_1m_2month\", \"cnt_cred_d_oper_1m_3month\",\n",
    "\"cnt_deb_e_oper_1m_1month\", \"cnt_deb_e_oper_1m_2month\", \"cnt_deb_e_oper_1m_3month\",\n",
    "\"cnt_cred_e_oper_1m_1month\", \"cnt_cred_e_oper_1m_2month\", \"cnt_cred_e_oper_1m_3month\",\n",
    "\"cnt_deb_f_oper_1m_1month\", \"cnt_deb_f_oper_1m_2month\", \"cnt_deb_f_oper_1m_3month\",\n",
    "\"cnt_cred_f_oper_1m_1month\", \"cnt_cred_f_oper_1m_2month\", \"cnt_cred_f_oper_1m_3month\",\n",
    "\"cnt_deb_g_oper_1m_1month\", \"cnt_deb_g_oper_1m_2month\", \"cnt_deb_g_oper_1m_3month\",\n",
    "\"cnt_cred_g_oper_1m_1month\", \"cnt_cred_g_oper_1m_2month\", \"cnt_cred_g_oper_1m_3month\",\n",
    "\"cnt_deb_h_oper_1m_1month\", \"cnt_deb_h_oper_1m_2month\", \"cnt_deb_h_oper_1m_3month\",\n",
    "\"cnt_cred_h_oper_1m_1month\", \"cnt_cred_h_oper_1m_2month\", \"cnt_cred_h_oper_1m_3month\",\n",
    "\"cnt_a_oper_3m_1month\", \"cnt_a_oper_3m_2month\", \"cnt_a_oper_3m_3month\",\n",
    "\"cnt_b_oper_3m_1month\", \"cnt_b_oper_3m_2month\", \"cnt_b_oper_3m_3month\",\n",
    "\"cnt_c_oper_3m_1month\", \"cnt_c_oper_3m_2month\", \"cnt_c_oper_3m_3month\",\n",
    "\"cnt_deb_d_oper_3m_1month\", \"cnt_deb_d_oper_3m_2month\", \"cnt_deb_d_oper_3m_3month\",\n",
    "\"cnt_cred_d_oper_3m_1month\", \"cnt_cred_d_oper_3m_2month\", \"cnt_cred_d_oper_3m_3month\",\n",
    "\"cnt_deb_e_oper_3m_1month\", \"cnt_deb_e_oper_3m_2month\", \"cnt_deb_e_oper_3m_3month\",\n",
    "\"cnt_cred_e_oper_3m_1month\", \"cnt_cred_e_oper_3m_2month\", \"cnt_cred_e_oper_3m_3month\",\n",
    "\"cnt_deb_f_oper_3m_1month\", \"cnt_deb_f_oper_3m_2month\", \"cnt_deb_f_oper_3m_3month\",\n",
    "\"cnt_cred_f_oper_3m_1month\", \"cnt_cred_f_oper_3m_2month\", \"cnt_cred_f_oper_3m_3month\",\n",
    "\"cnt_deb_g_oper_3m_1month\", \"cnt_deb_g_oper_3m_2month\", \"cnt_deb_g_oper_3m_3month\",\n",
    "\"cnt_cred_g_oper_3m_1month\", \"cnt_cred_g_oper_3m_2month\", \"cnt_cred_g_oper_3m_3month\",\n",
    "\"cnt_deb_h_oper_3m_1month\", \"cnt_deb_h_oper_3m_2month\", \"cnt_deb_h_oper_3m_3month\",\n",
    "\"cnt_cred_h_oper_3m_1month\", \"cnt_cred_h_oper_3m_2month\", \"cnt_cred_h_oper_3m_3month\",\n",
    "\n",
    "\"city_type_1month\",\n",
    "\"city_type_2month\",\n",
    "\"city_type_3month\",\n",
    "\"index_city_code_1month\",\n",
    "\"index_city_code_2month\",\n",
    "\"index_city_code_3month\",\n",
    "\n",
    "    \"start_cluster_3month\",\"id\"], axis=1)\n"
   ]
  },
  {
   "cell_type": "code",
   "execution_count": 291,
   "outputs": [
    {
     "data": {
      "text/plain": "       balance_amt_avg_1month  balance_amt_avg_2month  balance_amt_avg_3month  \\\n0                   -0.096224               -0.024255                0.045988   \n1                   -0.156722               -0.156722               -0.156722   \n2                   -0.096506                0.572242               -0.048015   \n3                   -0.156623               -0.156579               -0.156579   \n4                         NaN               -0.153379                     NaN   \n...                       ...                     ...                     ...   \n99995               -0.153707               -0.153707               -0.153707   \n99996               -0.156741               -0.156064               -0.154929   \n99997               -0.125643               -0.121206               -0.105294   \n99998                     NaN               -0.155350                     NaN   \n99999               -0.145899               -0.136402               -0.141660   \n\n       balance_amt_day_avg_1month  balance_amt_day_avg_2month  \\\n0                       -0.095578                   -0.023381   \n1                       -0.156258                   -0.156258   \n2                       -0.095856                    0.574963   \n3                       -0.156159                   -0.156115   \n4                             NaN                   -0.154155   \n...                           ...                         ...   \n99995                   -0.153247                   -0.153234   \n99996                   -0.156277                   -0.155598   \n99997                   -0.125084                   -0.120632   \n99998                         NaN                   -0.155980   \n99999                   -0.145402                   -0.135876   \n\n       balance_amt_day_avg_3month  balance_amt_max_1month  \\\n0                        0.047079                0.335496   \n1                       -0.156258               -0.204920   \n2                       -0.047215                0.185905   \n3                       -0.156115               -0.204813   \n4                             NaN                     NaN   \n...                           ...                     ...   \n99995                   -0.153234               -0.202806   \n99996                   -0.154459               -0.204912   \n99997                   -0.104671               -0.098937   \n99998                         NaN                     NaN   \n99999                   -0.141149               -0.173298   \n\n       balance_amt_max_2month  balance_amt_max_3month  balance_amt_min_1month  \\\n0                   -0.059806                0.049418               -0.125995   \n1                   -0.204920               -0.204920               -0.125856   \n2                    1.502779                0.448252               -0.125995   \n3                   -0.204813               -0.204813               -0.125665   \n4                   -0.201932                     NaN                     NaN   \n...                       ...                     ...                     ...   \n99995               -0.202806               -0.202806               -0.125498   \n99996               -0.203645               -0.197878               -0.125995   \n99997               -0.148644               -0.141429               -0.124644   \n99998               -0.203711                     NaN                     NaN   \n99999               -0.163874               -0.156818               -0.125995   \n\n       ...  sum_deb_h_oper_3m_3month  sum_of_paym_1y_1month  \\\n0      ...                 -0.152800               0.676573   \n1      ...                 -0.165588                    NaN   \n2      ...                  2.614870               0.365591   \n3      ...                 -0.165588                    NaN   \n4      ...                       NaN                    NaN   \n...    ...                       ...                    ...   \n99995  ...                 -0.165588              -0.296115   \n99996  ...                 -0.155776              -0.289371   \n99997  ...                  0.087901              -0.137811   \n99998  ...                       NaN                    NaN   \n99999  ...                 -0.028842               0.349247   \n\n      sum_of_paym_1y_2month sum_of_paym_1y_3month sum_of_paym_2m_1month  \\\n0                  0.688449              0.671862              0.416833   \n1                       NaN                   NaN                   NaN   \n2                  0.970531              1.211625              1.303965   \n3                       NaN                   NaN                   NaN   \n4                 -0.296092                   NaN                   NaN   \n...                     ...                   ...                   ...   \n99995             -0.296115             -0.296115             -0.273969   \n99996             -0.289810             -0.287516             -0.273496   \n99997             -0.111877             -0.084739             -0.070691   \n99998                   NaN                   NaN                   NaN   \n99999              0.235825              0.031807             -0.171045   \n\n      sum_of_paym_2m_2month sum_of_paym_2m_3month sum_of_paym_6m_1month  \\\n0                  0.433195              0.223961              0.332409   \n1                       NaN                   NaN                   NaN   \n2                  3.870911              4.142519              0.550373   \n3                       NaN                   NaN                   NaN   \n4                 -0.273794                   NaN                   NaN   \n...                     ...                   ...                   ...   \n99995             -0.273969             -0.273969             -0.294633   \n99996             -0.272045             -0.259945             -0.284472   \n99997             -0.041622             -0.008728             -0.098975   \n99998                   NaN                   NaN                   NaN   \n99999             -0.093962             -0.183628             -0.202622   \n\n       sum_of_paym_6m_2month  sum_of_paym_6m_3month  \n0                   0.284317               0.285376  \n1                        NaN                    NaN  \n2                   1.620822               1.969559  \n3                        NaN                    NaN  \n4                  -0.294571                    NaN  \n...                      ...                    ...  \n99995              -0.294633              -0.294633  \n99996              -0.283784              -0.284207  \n99997              -0.082558              -0.068838  \n99998                    NaN                    NaN  \n99999              -0.212484              -0.225364  \n\n[100000 rows x 185 columns]",
      "text/html": "<div>\n<style scoped>\n    .dataframe tbody tr th:only-of-type {\n        vertical-align: middle;\n    }\n\n    .dataframe tbody tr th {\n        vertical-align: top;\n    }\n\n    .dataframe thead th {\n        text-align: right;\n    }\n</style>\n<table border=\"1\" class=\"dataframe\">\n  <thead>\n    <tr style=\"text-align: right;\">\n      <th></th>\n      <th>balance_amt_avg_1month</th>\n      <th>balance_amt_avg_2month</th>\n      <th>balance_amt_avg_3month</th>\n      <th>balance_amt_day_avg_1month</th>\n      <th>balance_amt_day_avg_2month</th>\n      <th>balance_amt_day_avg_3month</th>\n      <th>balance_amt_max_1month</th>\n      <th>balance_amt_max_2month</th>\n      <th>balance_amt_max_3month</th>\n      <th>balance_amt_min_1month</th>\n      <th>...</th>\n      <th>sum_deb_h_oper_3m_3month</th>\n      <th>sum_of_paym_1y_1month</th>\n      <th>sum_of_paym_1y_2month</th>\n      <th>sum_of_paym_1y_3month</th>\n      <th>sum_of_paym_2m_1month</th>\n      <th>sum_of_paym_2m_2month</th>\n      <th>sum_of_paym_2m_3month</th>\n      <th>sum_of_paym_6m_1month</th>\n      <th>sum_of_paym_6m_2month</th>\n      <th>sum_of_paym_6m_3month</th>\n    </tr>\n  </thead>\n  <tbody>\n    <tr>\n      <th>0</th>\n      <td>-0.096224</td>\n      <td>-0.024255</td>\n      <td>0.045988</td>\n      <td>-0.095578</td>\n      <td>-0.023381</td>\n      <td>0.047079</td>\n      <td>0.335496</td>\n      <td>-0.059806</td>\n      <td>0.049418</td>\n      <td>-0.125995</td>\n      <td>...</td>\n      <td>-0.152800</td>\n      <td>0.676573</td>\n      <td>0.688449</td>\n      <td>0.671862</td>\n      <td>0.416833</td>\n      <td>0.433195</td>\n      <td>0.223961</td>\n      <td>0.332409</td>\n      <td>0.284317</td>\n      <td>0.285376</td>\n    </tr>\n    <tr>\n      <th>1</th>\n      <td>-0.156722</td>\n      <td>-0.156722</td>\n      <td>-0.156722</td>\n      <td>-0.156258</td>\n      <td>-0.156258</td>\n      <td>-0.156258</td>\n      <td>-0.204920</td>\n      <td>-0.204920</td>\n      <td>-0.204920</td>\n      <td>-0.125856</td>\n      <td>...</td>\n      <td>-0.165588</td>\n      <td>NaN</td>\n      <td>NaN</td>\n      <td>NaN</td>\n      <td>NaN</td>\n      <td>NaN</td>\n      <td>NaN</td>\n      <td>NaN</td>\n      <td>NaN</td>\n      <td>NaN</td>\n    </tr>\n    <tr>\n      <th>2</th>\n      <td>-0.096506</td>\n      <td>0.572242</td>\n      <td>-0.048015</td>\n      <td>-0.095856</td>\n      <td>0.574963</td>\n      <td>-0.047215</td>\n      <td>0.185905</td>\n      <td>1.502779</td>\n      <td>0.448252</td>\n      <td>-0.125995</td>\n      <td>...</td>\n      <td>2.614870</td>\n      <td>0.365591</td>\n      <td>0.970531</td>\n      <td>1.211625</td>\n      <td>1.303965</td>\n      <td>3.870911</td>\n      <td>4.142519</td>\n      <td>0.550373</td>\n      <td>1.620822</td>\n      <td>1.969559</td>\n    </tr>\n    <tr>\n      <th>3</th>\n      <td>-0.156623</td>\n      <td>-0.156579</td>\n      <td>-0.156579</td>\n      <td>-0.156159</td>\n      <td>-0.156115</td>\n      <td>-0.156115</td>\n      <td>-0.204813</td>\n      <td>-0.204813</td>\n      <td>-0.204813</td>\n      <td>-0.125665</td>\n      <td>...</td>\n      <td>-0.165588</td>\n      <td>NaN</td>\n      <td>NaN</td>\n      <td>NaN</td>\n      <td>NaN</td>\n      <td>NaN</td>\n      <td>NaN</td>\n      <td>NaN</td>\n      <td>NaN</td>\n      <td>NaN</td>\n    </tr>\n    <tr>\n      <th>4</th>\n      <td>NaN</td>\n      <td>-0.153379</td>\n      <td>NaN</td>\n      <td>NaN</td>\n      <td>-0.154155</td>\n      <td>NaN</td>\n      <td>NaN</td>\n      <td>-0.201932</td>\n      <td>NaN</td>\n      <td>NaN</td>\n      <td>...</td>\n      <td>NaN</td>\n      <td>NaN</td>\n      <td>-0.296092</td>\n      <td>NaN</td>\n      <td>NaN</td>\n      <td>-0.273794</td>\n      <td>NaN</td>\n      <td>NaN</td>\n      <td>-0.294571</td>\n      <td>NaN</td>\n    </tr>\n    <tr>\n      <th>...</th>\n      <td>...</td>\n      <td>...</td>\n      <td>...</td>\n      <td>...</td>\n      <td>...</td>\n      <td>...</td>\n      <td>...</td>\n      <td>...</td>\n      <td>...</td>\n      <td>...</td>\n      <td>...</td>\n      <td>...</td>\n      <td>...</td>\n      <td>...</td>\n      <td>...</td>\n      <td>...</td>\n      <td>...</td>\n      <td>...</td>\n      <td>...</td>\n      <td>...</td>\n      <td>...</td>\n    </tr>\n    <tr>\n      <th>99995</th>\n      <td>-0.153707</td>\n      <td>-0.153707</td>\n      <td>-0.153707</td>\n      <td>-0.153247</td>\n      <td>-0.153234</td>\n      <td>-0.153234</td>\n      <td>-0.202806</td>\n      <td>-0.202806</td>\n      <td>-0.202806</td>\n      <td>-0.125498</td>\n      <td>...</td>\n      <td>-0.165588</td>\n      <td>-0.296115</td>\n      <td>-0.296115</td>\n      <td>-0.296115</td>\n      <td>-0.273969</td>\n      <td>-0.273969</td>\n      <td>-0.273969</td>\n      <td>-0.294633</td>\n      <td>-0.294633</td>\n      <td>-0.294633</td>\n    </tr>\n    <tr>\n      <th>99996</th>\n      <td>-0.156741</td>\n      <td>-0.156064</td>\n      <td>-0.154929</td>\n      <td>-0.156277</td>\n      <td>-0.155598</td>\n      <td>-0.154459</td>\n      <td>-0.204912</td>\n      <td>-0.203645</td>\n      <td>-0.197878</td>\n      <td>-0.125995</td>\n      <td>...</td>\n      <td>-0.155776</td>\n      <td>-0.289371</td>\n      <td>-0.289810</td>\n      <td>-0.287516</td>\n      <td>-0.273496</td>\n      <td>-0.272045</td>\n      <td>-0.259945</td>\n      <td>-0.284472</td>\n      <td>-0.283784</td>\n      <td>-0.284207</td>\n    </tr>\n    <tr>\n      <th>99997</th>\n      <td>-0.125643</td>\n      <td>-0.121206</td>\n      <td>-0.105294</td>\n      <td>-0.125084</td>\n      <td>-0.120632</td>\n      <td>-0.104671</td>\n      <td>-0.098937</td>\n      <td>-0.148644</td>\n      <td>-0.141429</td>\n      <td>-0.124644</td>\n      <td>...</td>\n      <td>0.087901</td>\n      <td>-0.137811</td>\n      <td>-0.111877</td>\n      <td>-0.084739</td>\n      <td>-0.070691</td>\n      <td>-0.041622</td>\n      <td>-0.008728</td>\n      <td>-0.098975</td>\n      <td>-0.082558</td>\n      <td>-0.068838</td>\n    </tr>\n    <tr>\n      <th>99998</th>\n      <td>NaN</td>\n      <td>-0.155350</td>\n      <td>NaN</td>\n      <td>NaN</td>\n      <td>-0.155980</td>\n      <td>NaN</td>\n      <td>NaN</td>\n      <td>-0.203711</td>\n      <td>NaN</td>\n      <td>NaN</td>\n      <td>...</td>\n      <td>NaN</td>\n      <td>NaN</td>\n      <td>NaN</td>\n      <td>NaN</td>\n      <td>NaN</td>\n      <td>NaN</td>\n      <td>NaN</td>\n      <td>NaN</td>\n      <td>NaN</td>\n      <td>NaN</td>\n    </tr>\n    <tr>\n      <th>99999</th>\n      <td>-0.145899</td>\n      <td>-0.136402</td>\n      <td>-0.141660</td>\n      <td>-0.145402</td>\n      <td>-0.135876</td>\n      <td>-0.141149</td>\n      <td>-0.173298</td>\n      <td>-0.163874</td>\n      <td>-0.156818</td>\n      <td>-0.125995</td>\n      <td>...</td>\n      <td>-0.028842</td>\n      <td>0.349247</td>\n      <td>0.235825</td>\n      <td>0.031807</td>\n      <td>-0.171045</td>\n      <td>-0.093962</td>\n      <td>-0.183628</td>\n      <td>-0.202622</td>\n      <td>-0.212484</td>\n      <td>-0.225364</td>\n    </tr>\n  </tbody>\n</table>\n<p>100000 rows × 185 columns</p>\n</div>"
     },
     "execution_count": 291,
     "metadata": {},
     "output_type": "execute_result"
    }
   ],
   "source": [
    "X"
   ],
   "metadata": {
    "collapsed": false,
    "ExecuteTime": {
     "end_time": "2024-03-13T23:07:40.150620100Z",
     "start_time": "2024-03-13T23:07:40.097392800Z"
    }
   }
  },
  {
   "cell_type": "markdown",
   "source": [
    "## Обучение модели"
   ],
   "metadata": {
    "id": "vkyL_GYgNMCL"
   },
   "id": "vkyL_GYgNMCL"
  },
  {
   "cell_type": "markdown",
   "source": [
    "В качестве базовой модели возьмем LGBM обучим на всех признаках"
   ],
   "metadata": {
    "id": "nsiLHOP3tyLs"
   },
   "id": "nsiLHOP3tyLs"
  },
  {
   "cell_type": "code",
   "execution_count": 292,
   "id": "6badd1b7-0155-4c85-859d-f075800ede6e",
   "metadata": {
    "execution": {
     "iopub.execute_input": "2024-02-14T23:09:55.557916Z",
     "iopub.status.busy": "2024-02-14T23:09:55.557642Z",
     "iopub.status.idle": "2024-02-14T23:09:55.562656Z",
     "shell.execute_reply": "2024-02-14T23:09:55.562029Z",
     "shell.execute_reply.started": "2024-02-14T23:09:55.557878Z"
    },
    "tags": [],
    "id": "6badd1b7-0155-4c85-859d-f075800ede6e",
    "colab": {
     "base_uri": "https://localhost:8080/",
     "height": 74
    },
    "outputId": "9e5fde0f-da28-40a8-984a-f7bf1a94c82d",
    "ExecuteTime": {
     "end_time": "2024-03-13T23:07:40.152625700Z",
     "start_time": "2024-03-13T23:07:40.132828Z"
    }
   },
   "outputs": [],
   "source": [
    "from sklearn.model_selection import StratifiedKFold, LeavePOut, RepeatedStratifiedKFold\n",
    "from catboost import  CatBoostClassifier\n",
    "\n",
    "\n",
    "cat_model = CatBoostClassifier()\n",
    "model = cat_model.load_model(f'my_meth6_d6_slow\\model_12.cbm')\n"
   ]
  },
  {
   "cell_type": "code",
   "execution_count": 293,
   "outputs": [
    {
     "data": {
      "text/plain": "['channel_code_1month',\n 'channel_code_2month',\n 'channel_code_3month',\n 'city_1month',\n 'city_2month',\n 'city_3month',\n 'ogrn_month_1month',\n 'ogrn_month_2month',\n 'ogrn_month_3month',\n 'ogrn_year_1month',\n 'ogrn_year_2month',\n 'ogrn_year_3month',\n 'okved_1month',\n 'okved_2month',\n 'okved_3month',\n 'segment_1month',\n 'segment_2month',\n 'segment_3month',\n 'start_cluster_1month',\n 'start_cluster_2month']"
     },
     "execution_count": 293,
     "metadata": {},
     "output_type": "execute_result"
    }
   ],
   "source": [
    "cluster_weights = pd.read_excel(\"cluster_weights.xlsx\").set_index(\"cluster\")\n",
    "weights_dict = cluster_weights[\"unnorm_weight\"].to_dict()\n",
    "# weights_dict\n",
    "cat_features = [col for col in X.columns if X[col].dtype.name == 'category' or X[col].dtype.name == 'object']\n",
    "for col in cat_features:\n",
    "    X[col] = X[col].astype('category')\n",
    "    #test_df[col] = test_df[col].astype('category')\n",
    "\n",
    "\n",
    "cat_features = [col for col in X.columns if X[col].dtype.name == 'category' or X[col].dtype.name == 'object']\n",
    "for col in cat_features:\n",
    "    X[col] = X[col].cat.add_categories('Missing').fillna('Missing')\n",
    "cat_features\n",
    "\n",
    "cat_features = [col for col in X.columns if X[col].dtype.name == 'category' or X[col].dtype.name == 'object']\n",
    "cat_features"
   ],
   "metadata": {
    "collapsed": false,
    "ExecuteTime": {
     "end_time": "2024-03-13T23:07:40.370158200Z",
     "start_time": "2024-03-13T23:07:40.155625500Z"
    }
   }
  },
  {
   "cell_type": "code",
   "execution_count": 294,
   "outputs": [],
   "source": [
    "ppredictions = model.predict_proba(X)"
   ],
   "metadata": {
    "collapsed": false,
    "ExecuteTime": {
     "end_time": "2024-03-13T23:07:40.572613600Z",
     "start_time": "2024-03-13T23:07:40.371158700Z"
    }
   }
  },
  {
   "cell_type": "code",
   "execution_count": 295,
   "outputs": [],
   "source": [
    "# ppredictions = ppredictions.T"
   ],
   "metadata": {
    "collapsed": false,
    "ExecuteTime": {
     "end_time": "2024-03-13T23:07:40.577215Z",
     "start_time": "2024-03-13T23:07:40.573612100Z"
    }
   }
  },
  {
   "cell_type": "code",
   "execution_count": 296,
   "outputs": [],
   "source": [
    "sample_submission_df = pd.read_csv(\"sample_submission.csv\")"
   ],
   "metadata": {
    "collapsed": false,
    "ExecuteTime": {
     "end_time": "2024-03-13T23:07:40.698195200Z",
     "start_time": "2024-03-13T23:07:40.579216100Z"
    }
   }
  },
  {
   "cell_type": "code",
   "execution_count": 297,
   "outputs": [
    {
     "data": {
      "text/plain": "array([[1.84399202e-02, 3.13123204e-02, 1.32034666e-02, ...,\n        1.52018979e-03, 8.60982642e-01, 7.25861306e-06],\n       [7.40368390e-03, 5.62184621e-01, 3.84422335e-04, ...,\n        2.67351779e-04, 4.16045290e-01, 2.04394888e-05],\n       [5.78845714e-01, 3.33200500e-03, 4.13205516e-03, ...,\n        7.13523304e-02, 1.23364152e-01, 1.12933191e-05],\n       ...,\n       [4.21104002e-02, 2.90238509e-02, 2.79025863e-02, ...,\n        2.30264008e-02, 7.41107300e-01, 5.64583395e-06],\n       [8.34621930e-02, 2.97295078e-01, 2.97215295e-02, ...,\n        2.40464690e-03, 4.23651071e-01, 8.02864605e-04],\n       [3.48011365e-02, 1.03159330e-01, 1.34235415e-02, ...,\n        6.36378737e-03, 7.33523988e-01, 7.67489453e-05]])"
     },
     "execution_count": 297,
     "metadata": {},
     "output_type": "execute_result"
    }
   ],
   "source": [
    "ppredictions"
   ],
   "metadata": {
    "collapsed": false,
    "ExecuteTime": {
     "end_time": "2024-03-13T23:07:40.706357200Z",
     "start_time": "2024-03-13T23:07:40.702195100Z"
    }
   }
  },
  {
   "cell_type": "code",
   "execution_count": 298,
   "outputs": [
    {
     "data": {
      "text/plain": "(100000, 17)"
     },
     "execution_count": 298,
     "metadata": {},
     "output_type": "execute_result"
    }
   ],
   "source": [
    "test_pred_proba_df = pd.DataFrame(ppredictions, columns=model.classes_)\n",
    "sorted_classes = sorted(test_pred_proba_df.columns.to_list())\n",
    "test_pred_proba_df = test_pred_proba_df[sorted_classes]\n",
    "test_pred_proba_df.shape\n"
   ],
   "metadata": {
    "collapsed": false,
    "ExecuteTime": {
     "end_time": "2024-03-13T23:07:40.714845800Z",
     "start_time": "2024-03-13T23:07:40.707357900Z"
    }
   }
  },
  {
   "cell_type": "code",
   "execution_count": 299,
   "outputs": [
    {
     "data": {
      "text/plain": "    {other}        {}    {α, β}    {α, γ}    {α, δ}  {α, ε, η}  {α, ε, θ}  \\\n0  0.018440  0.031312  0.013203  0.023858  0.009223   0.000369   0.005917   \n1  0.007404  0.562185  0.000384  0.002696  0.000564   0.000141   0.000294   \n2  0.578846  0.003332  0.004132  0.108373  0.012536   0.001766   0.007453   \n\n   {α, ε, ψ}    {α, ε}    {α, η}    {α, θ}    {α, λ}    {α, μ}    {α, π}  \\\n0   0.000390  0.013434  0.005368  0.014335  0.000483  0.001151  0.000007   \n1   0.000016  0.001546  0.005867  0.001293  0.000170  0.001105  0.000002   \n2   0.010951  0.048117  0.010137  0.009197  0.009122  0.001301  0.000008   \n\n     {α, ψ}       {α}       {λ}  \n0  0.001520  0.860983  0.000007  \n1  0.000267  0.416045  0.000020  \n2  0.071352  0.123364  0.000011  ",
      "text/html": "<div>\n<style scoped>\n    .dataframe tbody tr th:only-of-type {\n        vertical-align: middle;\n    }\n\n    .dataframe tbody tr th {\n        vertical-align: top;\n    }\n\n    .dataframe thead th {\n        text-align: right;\n    }\n</style>\n<table border=\"1\" class=\"dataframe\">\n  <thead>\n    <tr style=\"text-align: right;\">\n      <th></th>\n      <th>{other}</th>\n      <th>{}</th>\n      <th>{α, β}</th>\n      <th>{α, γ}</th>\n      <th>{α, δ}</th>\n      <th>{α, ε, η}</th>\n      <th>{α, ε, θ}</th>\n      <th>{α, ε, ψ}</th>\n      <th>{α, ε}</th>\n      <th>{α, η}</th>\n      <th>{α, θ}</th>\n      <th>{α, λ}</th>\n      <th>{α, μ}</th>\n      <th>{α, π}</th>\n      <th>{α, ψ}</th>\n      <th>{α}</th>\n      <th>{λ}</th>\n    </tr>\n  </thead>\n  <tbody>\n    <tr>\n      <th>0</th>\n      <td>0.018440</td>\n      <td>0.031312</td>\n      <td>0.013203</td>\n      <td>0.023858</td>\n      <td>0.009223</td>\n      <td>0.000369</td>\n      <td>0.005917</td>\n      <td>0.000390</td>\n      <td>0.013434</td>\n      <td>0.005368</td>\n      <td>0.014335</td>\n      <td>0.000483</td>\n      <td>0.001151</td>\n      <td>0.000007</td>\n      <td>0.001520</td>\n      <td>0.860983</td>\n      <td>0.000007</td>\n    </tr>\n    <tr>\n      <th>1</th>\n      <td>0.007404</td>\n      <td>0.562185</td>\n      <td>0.000384</td>\n      <td>0.002696</td>\n      <td>0.000564</td>\n      <td>0.000141</td>\n      <td>0.000294</td>\n      <td>0.000016</td>\n      <td>0.001546</td>\n      <td>0.005867</td>\n      <td>0.001293</td>\n      <td>0.000170</td>\n      <td>0.001105</td>\n      <td>0.000002</td>\n      <td>0.000267</td>\n      <td>0.416045</td>\n      <td>0.000020</td>\n    </tr>\n    <tr>\n      <th>2</th>\n      <td>0.578846</td>\n      <td>0.003332</td>\n      <td>0.004132</td>\n      <td>0.108373</td>\n      <td>0.012536</td>\n      <td>0.001766</td>\n      <td>0.007453</td>\n      <td>0.010951</td>\n      <td>0.048117</td>\n      <td>0.010137</td>\n      <td>0.009197</td>\n      <td>0.009122</td>\n      <td>0.001301</td>\n      <td>0.000008</td>\n      <td>0.071352</td>\n      <td>0.123364</td>\n      <td>0.000011</td>\n    </tr>\n  </tbody>\n</table>\n</div>"
     },
     "execution_count": 299,
     "metadata": {},
     "output_type": "execute_result"
    }
   ],
   "source": [
    "test_pred_proba_df.head(3)"
   ],
   "metadata": {
    "collapsed": false,
    "ExecuteTime": {
     "end_time": "2024-03-13T23:07:40.747212700Z",
     "start_time": "2024-03-13T23:07:40.716850400Z"
    }
   }
  },
  {
   "cell_type": "code",
   "execution_count": 300,
   "outputs": [],
   "source": [
    "\n",
    "sample_submission_df[sorted_classes] = test_pred_proba_df\n",
    "sample_submission_df.to_csv(\"submissions/meth6_d6/Tima_meth6_12_5_co15.csv\", index=False)"
   ],
   "metadata": {
    "collapsed": false,
    "ExecuteTime": {
     "end_time": "2024-03-13T23:07:43.275174200Z",
     "start_time": "2024-03-13T23:07:40.739206Z"
    }
   }
  }
 ],
 "metadata": {
  "kernelspec": {
   "display_name": "python3",
   "language": "python",
   "name": "python3"
  },
  "language_info": {
   "codemirror_mode": {
    "name": "ipython",
    "version": 3
   },
   "file_extension": ".py",
   "mimetype": "text/x-python",
   "name": "python",
   "nbconvert_exporter": "python",
   "pygments_lexer": "ipython3",
   "version": "3.7.12"
  },
  "colab": {
   "provenance": []
  }
 },
 "nbformat": 4,
 "nbformat_minor": 5
}
