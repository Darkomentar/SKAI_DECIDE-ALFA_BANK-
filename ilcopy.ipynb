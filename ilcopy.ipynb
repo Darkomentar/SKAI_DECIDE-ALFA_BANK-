{
 "cells": [
  {
   "cell_type": "code",
   "execution_count": 99,
   "outputs": [],
   "source": [
    "import numpy as np\n",
    "import pandas as pd\n",
    "from lightgbm import LGBMClassifier\n",
    "from sklearn.metrics import roc_auc_score\n",
    "from sklearn.model_selection import train_test_split, cross_validate, StratifiedGroupKFold\n",
    "from sklearn.metrics import roc_auc_score\n",
    "from catboost import CatBoostClassifier\n",
    "import matplotlib.pyplot as plt\n",
    "import seaborn as sns\n",
    "from tqdm.notebook import tqdm\n",
    "tqdm.pandas()\n",
    "import catboost"
   ],
   "metadata": {
    "collapsed": false,
    "ExecuteTime": {
     "end_time": "2024-03-11T08:28:33.669291300Z",
     "start_time": "2024-03-11T08:28:33.656675800Z"
    }
   }
  },
  {
   "cell_type": "markdown",
   "source": [
    "# Predict start_cluster"
   ],
   "metadata": {
    "collapsed": false
   }
  },
  {
   "cell_type": "code",
   "execution_count": 103,
   "outputs": [
    {
     "data": {
      "text/plain": "<catboost.core.CatBoostClassifier at 0x1f28c65ff70>"
     },
     "execution_count": 103,
     "metadata": {},
     "output_type": "execute_result"
    }
   ],
   "source": [
    "cat_model_start = CatBoostClassifier()\n",
    "cat_model_start.load_model(\"../models/model_1.cbm\")"
   ],
   "metadata": {
    "collapsed": false,
    "ExecuteTime": {
     "end_time": "2024-03-11T08:28:38.171486600Z",
     "start_time": "2024-03-11T08:28:38.138440300Z"
    }
   }
  },
  {
   "cell_type": "markdown",
   "source": [
    "# Predict end_cluster"
   ],
   "metadata": {
    "collapsed": false
   }
  },
  {
   "cell_type": "code",
   "execution_count": 146,
   "outputs": [],
   "source": [
    "test_df_filled = pd.read_csv(\"../data/test_df_filled_day_ilnaz.csv\")"
   ],
   "metadata": {
    "collapsed": false,
    "ExecuteTime": {
     "end_time": "2024-03-11T16:42:02.183532700Z",
     "start_time": "2024-03-11T16:41:56.609361100Z"
    }
   }
  },
  {
   "cell_type": "code",
   "execution_count": 147,
   "outputs": [
    {
     "data": {
      "text/plain": "            id     date  balance_amt_avg  balance_amt_max  balance_amt_min  \\\n0       200000  month_4        -0.096224         0.335496        -0.125995   \n1       200000  month_5        -0.024255        -0.059806        -0.124295   \n2       200000  month_6         0.045988         0.049418        -0.125995   \n3       200001  month_4        -0.156722        -0.204920        -0.125856   \n4       200001  month_5        -0.156722        -0.204920        -0.125856   \n...        ...      ...              ...              ...              ...   \n290115  299998  month_5              NaN              NaN              NaN   \n290116  299998  month_6        -0.155350        -0.203711        -0.125995   \n290117  299999  month_4        -0.145899        -0.173298        -0.125995   \n290118  299999  month_5        -0.136402        -0.163874        -0.121475   \n290119  299999  month_6        -0.141660        -0.156818        -0.125894   \n\n        balance_amt_day_avg     channel_code     city    city_type  \\\n0                 -0.095578  channel_code_12  city_14  city_type_0   \n1                 -0.023381  channel_code_12  city_14  city_type_0   \n2                  0.047079  channel_code_12  city_14  city_type_0   \n3                 -0.156258   channel_code_9  city_76  city_type_0   \n4                 -0.156258   channel_code_9  city_76  city_type_0   \n...                     ...              ...      ...          ...   \n290115                  NaN              NaN      NaN          NaN   \n290116            -0.155980   channel_code_9  city_25  city_type_0   \n290117            -0.145402   channel_code_9   city_6  city_type_0   \n290118            -0.135876   channel_code_9   city_6  city_type_0   \n290119            -0.141149   channel_code_9   city_6  city_type_0   \n\n           index_city_code  ...  sum_cred_g_oper_3m  cnt_cred_g_oper_3m  \\\n0                      NaN  ...            0.010952            0.946066   \n1                      NaN  ...            0.006812            0.945281   \n2                      NaN  ...            0.006812            0.945281   \n3                      NaN  ...           -0.028584                 NaN   \n4                      NaN  ...           -0.028584                 NaN   \n...                    ...  ...                 ...                 ...   \n290115                 NaN  ...           -0.028584                 NaN   \n290116  index_city_code_30  ...           -0.028584            0.944497   \n290117  index_city_code_34  ...           -0.028584            0.944497   \n290118  index_city_code_34  ...           -0.028584            0.944497   \n290119  index_city_code_34  ...           -0.028584            0.944497   \n\n       cnt_days_cred_g_oper_3m sum_deb_h_oper_3m  cnt_deb_h_oper_3m  \\\n0                     0.407762         -0.153950           0.548895   \n1                     0.396267         -0.150505           0.549468   \n2                     0.396267         -0.152800           0.549468   \n3                          NaN         -0.165588                NaN   \n4                          NaN         -0.165588                NaN   \n...                        ...               ...                ...   \n290115                     NaN         -0.165588                NaN   \n290116                0.384773         -0.165588           0.546889   \n290117                0.384773         -0.097640           0.550901   \n290118                0.384773         -0.047885           0.555057   \n290119                0.384773         -0.028842           0.556919   \n\n        cnt_days_deb_h_oper_3m  sum_cred_h_oper_3m  cnt_cred_h_oper_3m  \\\n0                     0.541020            0.031742            0.257278   \n1                     0.552131            0.237817            0.264211   \n2                     0.541020            0.387566            0.268543   \n3                          NaN           -0.201123                 NaN   \n4                          NaN           -0.201123                 NaN   \n...                        ...                 ...                 ...   \n290115                     NaN           -0.201123                 NaN   \n290116                0.407687           -0.201123            0.250924   \n290117                0.574354           -0.101369            0.252657   \n290118                0.696576           -0.034860            0.253523   \n290119                0.796576           -0.011582            0.254101   \n\n       cnt_days_cred_h_oper_3m start_cluster  \n0                     0.561353           {α}  \n1                     0.715199           {α}  \n2                     0.836079           {α}  \n3                          NaN           {α}  \n4                          NaN           {α}  \n...                        ...           ...  \n290115                     NaN            {}  \n290116                0.374540           {α}  \n290117                0.440474           {α}  \n290118                0.473441           {α}  \n290119                0.495419           {α}  \n\n[290120 rows x 92 columns]",
      "text/html": "<div>\n<style scoped>\n    .dataframe tbody tr th:only-of-type {\n        vertical-align: middle;\n    }\n\n    .dataframe tbody tr th {\n        vertical-align: top;\n    }\n\n    .dataframe thead th {\n        text-align: right;\n    }\n</style>\n<table border=\"1\" class=\"dataframe\">\n  <thead>\n    <tr style=\"text-align: right;\">\n      <th></th>\n      <th>id</th>\n      <th>date</th>\n      <th>balance_amt_avg</th>\n      <th>balance_amt_max</th>\n      <th>balance_amt_min</th>\n      <th>balance_amt_day_avg</th>\n      <th>channel_code</th>\n      <th>city</th>\n      <th>city_type</th>\n      <th>index_city_code</th>\n      <th>...</th>\n      <th>sum_cred_g_oper_3m</th>\n      <th>cnt_cred_g_oper_3m</th>\n      <th>cnt_days_cred_g_oper_3m</th>\n      <th>sum_deb_h_oper_3m</th>\n      <th>cnt_deb_h_oper_3m</th>\n      <th>cnt_days_deb_h_oper_3m</th>\n      <th>sum_cred_h_oper_3m</th>\n      <th>cnt_cred_h_oper_3m</th>\n      <th>cnt_days_cred_h_oper_3m</th>\n      <th>start_cluster</th>\n    </tr>\n  </thead>\n  <tbody>\n    <tr>\n      <th>0</th>\n      <td>200000</td>\n      <td>month_4</td>\n      <td>-0.096224</td>\n      <td>0.335496</td>\n      <td>-0.125995</td>\n      <td>-0.095578</td>\n      <td>channel_code_12</td>\n      <td>city_14</td>\n      <td>city_type_0</td>\n      <td>NaN</td>\n      <td>...</td>\n      <td>0.010952</td>\n      <td>0.946066</td>\n      <td>0.407762</td>\n      <td>-0.153950</td>\n      <td>0.548895</td>\n      <td>0.541020</td>\n      <td>0.031742</td>\n      <td>0.257278</td>\n      <td>0.561353</td>\n      <td>{α}</td>\n    </tr>\n    <tr>\n      <th>1</th>\n      <td>200000</td>\n      <td>month_5</td>\n      <td>-0.024255</td>\n      <td>-0.059806</td>\n      <td>-0.124295</td>\n      <td>-0.023381</td>\n      <td>channel_code_12</td>\n      <td>city_14</td>\n      <td>city_type_0</td>\n      <td>NaN</td>\n      <td>...</td>\n      <td>0.006812</td>\n      <td>0.945281</td>\n      <td>0.396267</td>\n      <td>-0.150505</td>\n      <td>0.549468</td>\n      <td>0.552131</td>\n      <td>0.237817</td>\n      <td>0.264211</td>\n      <td>0.715199</td>\n      <td>{α}</td>\n    </tr>\n    <tr>\n      <th>2</th>\n      <td>200000</td>\n      <td>month_6</td>\n      <td>0.045988</td>\n      <td>0.049418</td>\n      <td>-0.125995</td>\n      <td>0.047079</td>\n      <td>channel_code_12</td>\n      <td>city_14</td>\n      <td>city_type_0</td>\n      <td>NaN</td>\n      <td>...</td>\n      <td>0.006812</td>\n      <td>0.945281</td>\n      <td>0.396267</td>\n      <td>-0.152800</td>\n      <td>0.549468</td>\n      <td>0.541020</td>\n      <td>0.387566</td>\n      <td>0.268543</td>\n      <td>0.836079</td>\n      <td>{α}</td>\n    </tr>\n    <tr>\n      <th>3</th>\n      <td>200001</td>\n      <td>month_4</td>\n      <td>-0.156722</td>\n      <td>-0.204920</td>\n      <td>-0.125856</td>\n      <td>-0.156258</td>\n      <td>channel_code_9</td>\n      <td>city_76</td>\n      <td>city_type_0</td>\n      <td>NaN</td>\n      <td>...</td>\n      <td>-0.028584</td>\n      <td>NaN</td>\n      <td>NaN</td>\n      <td>-0.165588</td>\n      <td>NaN</td>\n      <td>NaN</td>\n      <td>-0.201123</td>\n      <td>NaN</td>\n      <td>NaN</td>\n      <td>{α}</td>\n    </tr>\n    <tr>\n      <th>4</th>\n      <td>200001</td>\n      <td>month_5</td>\n      <td>-0.156722</td>\n      <td>-0.204920</td>\n      <td>-0.125856</td>\n      <td>-0.156258</td>\n      <td>channel_code_9</td>\n      <td>city_76</td>\n      <td>city_type_0</td>\n      <td>NaN</td>\n      <td>...</td>\n      <td>-0.028584</td>\n      <td>NaN</td>\n      <td>NaN</td>\n      <td>-0.165588</td>\n      <td>NaN</td>\n      <td>NaN</td>\n      <td>-0.201123</td>\n      <td>NaN</td>\n      <td>NaN</td>\n      <td>{α}</td>\n    </tr>\n    <tr>\n      <th>...</th>\n      <td>...</td>\n      <td>...</td>\n      <td>...</td>\n      <td>...</td>\n      <td>...</td>\n      <td>...</td>\n      <td>...</td>\n      <td>...</td>\n      <td>...</td>\n      <td>...</td>\n      <td>...</td>\n      <td>...</td>\n      <td>...</td>\n      <td>...</td>\n      <td>...</td>\n      <td>...</td>\n      <td>...</td>\n      <td>...</td>\n      <td>...</td>\n      <td>...</td>\n      <td>...</td>\n    </tr>\n    <tr>\n      <th>290115</th>\n      <td>299998</td>\n      <td>month_5</td>\n      <td>NaN</td>\n      <td>NaN</td>\n      <td>NaN</td>\n      <td>NaN</td>\n      <td>NaN</td>\n      <td>NaN</td>\n      <td>NaN</td>\n      <td>NaN</td>\n      <td>...</td>\n      <td>-0.028584</td>\n      <td>NaN</td>\n      <td>NaN</td>\n      <td>-0.165588</td>\n      <td>NaN</td>\n      <td>NaN</td>\n      <td>-0.201123</td>\n      <td>NaN</td>\n      <td>NaN</td>\n      <td>{}</td>\n    </tr>\n    <tr>\n      <th>290116</th>\n      <td>299998</td>\n      <td>month_6</td>\n      <td>-0.155350</td>\n      <td>-0.203711</td>\n      <td>-0.125995</td>\n      <td>-0.155980</td>\n      <td>channel_code_9</td>\n      <td>city_25</td>\n      <td>city_type_0</td>\n      <td>index_city_code_30</td>\n      <td>...</td>\n      <td>-0.028584</td>\n      <td>0.944497</td>\n      <td>0.384773</td>\n      <td>-0.165588</td>\n      <td>0.546889</td>\n      <td>0.407687</td>\n      <td>-0.201123</td>\n      <td>0.250924</td>\n      <td>0.374540</td>\n      <td>{α}</td>\n    </tr>\n    <tr>\n      <th>290117</th>\n      <td>299999</td>\n      <td>month_4</td>\n      <td>-0.145899</td>\n      <td>-0.173298</td>\n      <td>-0.125995</td>\n      <td>-0.145402</td>\n      <td>channel_code_9</td>\n      <td>city_6</td>\n      <td>city_type_0</td>\n      <td>index_city_code_34</td>\n      <td>...</td>\n      <td>-0.028584</td>\n      <td>0.944497</td>\n      <td>0.384773</td>\n      <td>-0.097640</td>\n      <td>0.550901</td>\n      <td>0.574354</td>\n      <td>-0.101369</td>\n      <td>0.252657</td>\n      <td>0.440474</td>\n      <td>{α}</td>\n    </tr>\n    <tr>\n      <th>290118</th>\n      <td>299999</td>\n      <td>month_5</td>\n      <td>-0.136402</td>\n      <td>-0.163874</td>\n      <td>-0.121475</td>\n      <td>-0.135876</td>\n      <td>channel_code_9</td>\n      <td>city_6</td>\n      <td>city_type_0</td>\n      <td>index_city_code_34</td>\n      <td>...</td>\n      <td>-0.028584</td>\n      <td>0.944497</td>\n      <td>0.384773</td>\n      <td>-0.047885</td>\n      <td>0.555057</td>\n      <td>0.696576</td>\n      <td>-0.034860</td>\n      <td>0.253523</td>\n      <td>0.473441</td>\n      <td>{α}</td>\n    </tr>\n    <tr>\n      <th>290119</th>\n      <td>299999</td>\n      <td>month_6</td>\n      <td>-0.141660</td>\n      <td>-0.156818</td>\n      <td>-0.125894</td>\n      <td>-0.141149</td>\n      <td>channel_code_9</td>\n      <td>city_6</td>\n      <td>city_type_0</td>\n      <td>index_city_code_34</td>\n      <td>...</td>\n      <td>-0.028584</td>\n      <td>0.944497</td>\n      <td>0.384773</td>\n      <td>-0.028842</td>\n      <td>0.556919</td>\n      <td>0.796576</td>\n      <td>-0.011582</td>\n      <td>0.254101</td>\n      <td>0.495419</td>\n      <td>{α}</td>\n    </tr>\n  </tbody>\n</table>\n<p>290120 rows × 92 columns</p>\n</div>"
     },
     "execution_count": 147,
     "metadata": {},
     "output_type": "execute_result"
    }
   ],
   "source": [
    "test_df_filled"
   ],
   "metadata": {
    "collapsed": false,
    "ExecuteTime": {
     "end_time": "2024-03-11T16:42:02.242877500Z",
     "start_time": "2024-03-11T16:42:02.183532700Z"
    }
   }
  },
  {
   "cell_type": "code",
   "execution_count": 148,
   "outputs": [
    {
     "data": {
      "text/plain": "            id     date  balance_amt_avg  balance_amt_max  balance_amt_min  \\\n0       200000  month_4        -0.096224         0.335496        -0.125995   \n1       200000  month_5        -0.024255        -0.059806        -0.124295   \n2       200000  month_6         0.045988         0.049418        -0.125995   \n3       200001  month_4        -0.156722        -0.204920        -0.125856   \n4       200001  month_5        -0.156722        -0.204920        -0.125856   \n...        ...      ...              ...              ...              ...   \n290115  299998  month_5              NaN              NaN              NaN   \n290116  299998  month_6        -0.155350        -0.203711        -0.125995   \n290117  299999  month_4        -0.145899        -0.173298        -0.125995   \n290118  299999  month_5        -0.136402        -0.163874        -0.121475   \n290119  299999  month_6        -0.141660        -0.156818        -0.125894   \n\n        balance_amt_day_avg     channel_code     city    city_type  \\\n0                 -0.095578  channel_code_12  city_14  city_type_0   \n1                 -0.023381  channel_code_12  city_14  city_type_0   \n2                  0.047079  channel_code_12  city_14  city_type_0   \n3                 -0.156258   channel_code_9  city_76  city_type_0   \n4                 -0.156258   channel_code_9  city_76  city_type_0   \n...                     ...              ...      ...          ...   \n290115                  NaN          Missing  Missing      Missing   \n290116            -0.155980   channel_code_9  city_25  city_type_0   \n290117            -0.145402   channel_code_9   city_6  city_type_0   \n290118            -0.135876   channel_code_9   city_6  city_type_0   \n290119            -0.141149   channel_code_9   city_6  city_type_0   \n\n           index_city_code  ...  sum_cred_g_oper_3m  cnt_cred_g_oper_3m  \\\n0                  Missing  ...            0.010952            0.946066   \n1                  Missing  ...            0.006812            0.945281   \n2                  Missing  ...            0.006812            0.945281   \n3                  Missing  ...           -0.028584                 NaN   \n4                  Missing  ...           -0.028584                 NaN   \n...                    ...  ...                 ...                 ...   \n290115             Missing  ...           -0.028584                 NaN   \n290116  index_city_code_30  ...           -0.028584            0.944497   \n290117  index_city_code_34  ...           -0.028584            0.944497   \n290118  index_city_code_34  ...           -0.028584            0.944497   \n290119  index_city_code_34  ...           -0.028584            0.944497   \n\n       cnt_days_cred_g_oper_3m sum_deb_h_oper_3m  cnt_deb_h_oper_3m  \\\n0                     0.407762         -0.153950           0.548895   \n1                     0.396267         -0.150505           0.549468   \n2                     0.396267         -0.152800           0.549468   \n3                          NaN         -0.165588                NaN   \n4                          NaN         -0.165588                NaN   \n...                        ...               ...                ...   \n290115                     NaN         -0.165588                NaN   \n290116                0.384773         -0.165588           0.546889   \n290117                0.384773         -0.097640           0.550901   \n290118                0.384773         -0.047885           0.555057   \n290119                0.384773         -0.028842           0.556919   \n\n        cnt_days_deb_h_oper_3m  sum_cred_h_oper_3m  cnt_cred_h_oper_3m  \\\n0                     0.541020            0.031742            0.257278   \n1                     0.552131            0.237817            0.264211   \n2                     0.541020            0.387566            0.268543   \n3                          NaN           -0.201123                 NaN   \n4                          NaN           -0.201123                 NaN   \n...                        ...                 ...                 ...   \n290115                     NaN           -0.201123                 NaN   \n290116                0.407687           -0.201123            0.250924   \n290117                0.574354           -0.101369            0.252657   \n290118                0.696576           -0.034860            0.253523   \n290119                0.796576           -0.011582            0.254101   \n\n       cnt_days_cred_h_oper_3m start_cluster  \n0                     0.561353           {α}  \n1                     0.715199           {α}  \n2                     0.836079           {α}  \n3                          NaN           {α}  \n4                          NaN           {α}  \n...                        ...           ...  \n290115                     NaN            {}  \n290116                0.374540           {α}  \n290117                0.440474           {α}  \n290118                0.473441           {α}  \n290119                0.495419           {α}  \n\n[290120 rows x 92 columns]",
      "text/html": "<div>\n<style scoped>\n    .dataframe tbody tr th:only-of-type {\n        vertical-align: middle;\n    }\n\n    .dataframe tbody tr th {\n        vertical-align: top;\n    }\n\n    .dataframe thead th {\n        text-align: right;\n    }\n</style>\n<table border=\"1\" class=\"dataframe\">\n  <thead>\n    <tr style=\"text-align: right;\">\n      <th></th>\n      <th>id</th>\n      <th>date</th>\n      <th>balance_amt_avg</th>\n      <th>balance_amt_max</th>\n      <th>balance_amt_min</th>\n      <th>balance_amt_day_avg</th>\n      <th>channel_code</th>\n      <th>city</th>\n      <th>city_type</th>\n      <th>index_city_code</th>\n      <th>...</th>\n      <th>sum_cred_g_oper_3m</th>\n      <th>cnt_cred_g_oper_3m</th>\n      <th>cnt_days_cred_g_oper_3m</th>\n      <th>sum_deb_h_oper_3m</th>\n      <th>cnt_deb_h_oper_3m</th>\n      <th>cnt_days_deb_h_oper_3m</th>\n      <th>sum_cred_h_oper_3m</th>\n      <th>cnt_cred_h_oper_3m</th>\n      <th>cnt_days_cred_h_oper_3m</th>\n      <th>start_cluster</th>\n    </tr>\n  </thead>\n  <tbody>\n    <tr>\n      <th>0</th>\n      <td>200000</td>\n      <td>month_4</td>\n      <td>-0.096224</td>\n      <td>0.335496</td>\n      <td>-0.125995</td>\n      <td>-0.095578</td>\n      <td>channel_code_12</td>\n      <td>city_14</td>\n      <td>city_type_0</td>\n      <td>Missing</td>\n      <td>...</td>\n      <td>0.010952</td>\n      <td>0.946066</td>\n      <td>0.407762</td>\n      <td>-0.153950</td>\n      <td>0.548895</td>\n      <td>0.541020</td>\n      <td>0.031742</td>\n      <td>0.257278</td>\n      <td>0.561353</td>\n      <td>{α}</td>\n    </tr>\n    <tr>\n      <th>1</th>\n      <td>200000</td>\n      <td>month_5</td>\n      <td>-0.024255</td>\n      <td>-0.059806</td>\n      <td>-0.124295</td>\n      <td>-0.023381</td>\n      <td>channel_code_12</td>\n      <td>city_14</td>\n      <td>city_type_0</td>\n      <td>Missing</td>\n      <td>...</td>\n      <td>0.006812</td>\n      <td>0.945281</td>\n      <td>0.396267</td>\n      <td>-0.150505</td>\n      <td>0.549468</td>\n      <td>0.552131</td>\n      <td>0.237817</td>\n      <td>0.264211</td>\n      <td>0.715199</td>\n      <td>{α}</td>\n    </tr>\n    <tr>\n      <th>2</th>\n      <td>200000</td>\n      <td>month_6</td>\n      <td>0.045988</td>\n      <td>0.049418</td>\n      <td>-0.125995</td>\n      <td>0.047079</td>\n      <td>channel_code_12</td>\n      <td>city_14</td>\n      <td>city_type_0</td>\n      <td>Missing</td>\n      <td>...</td>\n      <td>0.006812</td>\n      <td>0.945281</td>\n      <td>0.396267</td>\n      <td>-0.152800</td>\n      <td>0.549468</td>\n      <td>0.541020</td>\n      <td>0.387566</td>\n      <td>0.268543</td>\n      <td>0.836079</td>\n      <td>{α}</td>\n    </tr>\n    <tr>\n      <th>3</th>\n      <td>200001</td>\n      <td>month_4</td>\n      <td>-0.156722</td>\n      <td>-0.204920</td>\n      <td>-0.125856</td>\n      <td>-0.156258</td>\n      <td>channel_code_9</td>\n      <td>city_76</td>\n      <td>city_type_0</td>\n      <td>Missing</td>\n      <td>...</td>\n      <td>-0.028584</td>\n      <td>NaN</td>\n      <td>NaN</td>\n      <td>-0.165588</td>\n      <td>NaN</td>\n      <td>NaN</td>\n      <td>-0.201123</td>\n      <td>NaN</td>\n      <td>NaN</td>\n      <td>{α}</td>\n    </tr>\n    <tr>\n      <th>4</th>\n      <td>200001</td>\n      <td>month_5</td>\n      <td>-0.156722</td>\n      <td>-0.204920</td>\n      <td>-0.125856</td>\n      <td>-0.156258</td>\n      <td>channel_code_9</td>\n      <td>city_76</td>\n      <td>city_type_0</td>\n      <td>Missing</td>\n      <td>...</td>\n      <td>-0.028584</td>\n      <td>NaN</td>\n      <td>NaN</td>\n      <td>-0.165588</td>\n      <td>NaN</td>\n      <td>NaN</td>\n      <td>-0.201123</td>\n      <td>NaN</td>\n      <td>NaN</td>\n      <td>{α}</td>\n    </tr>\n    <tr>\n      <th>...</th>\n      <td>...</td>\n      <td>...</td>\n      <td>...</td>\n      <td>...</td>\n      <td>...</td>\n      <td>...</td>\n      <td>...</td>\n      <td>...</td>\n      <td>...</td>\n      <td>...</td>\n      <td>...</td>\n      <td>...</td>\n      <td>...</td>\n      <td>...</td>\n      <td>...</td>\n      <td>...</td>\n      <td>...</td>\n      <td>...</td>\n      <td>...</td>\n      <td>...</td>\n      <td>...</td>\n    </tr>\n    <tr>\n      <th>290115</th>\n      <td>299998</td>\n      <td>month_5</td>\n      <td>NaN</td>\n      <td>NaN</td>\n      <td>NaN</td>\n      <td>NaN</td>\n      <td>Missing</td>\n      <td>Missing</td>\n      <td>Missing</td>\n      <td>Missing</td>\n      <td>...</td>\n      <td>-0.028584</td>\n      <td>NaN</td>\n      <td>NaN</td>\n      <td>-0.165588</td>\n      <td>NaN</td>\n      <td>NaN</td>\n      <td>-0.201123</td>\n      <td>NaN</td>\n      <td>NaN</td>\n      <td>{}</td>\n    </tr>\n    <tr>\n      <th>290116</th>\n      <td>299998</td>\n      <td>month_6</td>\n      <td>-0.155350</td>\n      <td>-0.203711</td>\n      <td>-0.125995</td>\n      <td>-0.155980</td>\n      <td>channel_code_9</td>\n      <td>city_25</td>\n      <td>city_type_0</td>\n      <td>index_city_code_30</td>\n      <td>...</td>\n      <td>-0.028584</td>\n      <td>0.944497</td>\n      <td>0.384773</td>\n      <td>-0.165588</td>\n      <td>0.546889</td>\n      <td>0.407687</td>\n      <td>-0.201123</td>\n      <td>0.250924</td>\n      <td>0.374540</td>\n      <td>{α}</td>\n    </tr>\n    <tr>\n      <th>290117</th>\n      <td>299999</td>\n      <td>month_4</td>\n      <td>-0.145899</td>\n      <td>-0.173298</td>\n      <td>-0.125995</td>\n      <td>-0.145402</td>\n      <td>channel_code_9</td>\n      <td>city_6</td>\n      <td>city_type_0</td>\n      <td>index_city_code_34</td>\n      <td>...</td>\n      <td>-0.028584</td>\n      <td>0.944497</td>\n      <td>0.384773</td>\n      <td>-0.097640</td>\n      <td>0.550901</td>\n      <td>0.574354</td>\n      <td>-0.101369</td>\n      <td>0.252657</td>\n      <td>0.440474</td>\n      <td>{α}</td>\n    </tr>\n    <tr>\n      <th>290118</th>\n      <td>299999</td>\n      <td>month_5</td>\n      <td>-0.136402</td>\n      <td>-0.163874</td>\n      <td>-0.121475</td>\n      <td>-0.135876</td>\n      <td>channel_code_9</td>\n      <td>city_6</td>\n      <td>city_type_0</td>\n      <td>index_city_code_34</td>\n      <td>...</td>\n      <td>-0.028584</td>\n      <td>0.944497</td>\n      <td>0.384773</td>\n      <td>-0.047885</td>\n      <td>0.555057</td>\n      <td>0.696576</td>\n      <td>-0.034860</td>\n      <td>0.253523</td>\n      <td>0.473441</td>\n      <td>{α}</td>\n    </tr>\n    <tr>\n      <th>290119</th>\n      <td>299999</td>\n      <td>month_6</td>\n      <td>-0.141660</td>\n      <td>-0.156818</td>\n      <td>-0.125894</td>\n      <td>-0.141149</td>\n      <td>channel_code_9</td>\n      <td>city_6</td>\n      <td>city_type_0</td>\n      <td>index_city_code_34</td>\n      <td>...</td>\n      <td>-0.028584</td>\n      <td>0.944497</td>\n      <td>0.384773</td>\n      <td>-0.028842</td>\n      <td>0.556919</td>\n      <td>0.796576</td>\n      <td>-0.011582</td>\n      <td>0.254101</td>\n      <td>0.495419</td>\n      <td>{α}</td>\n    </tr>\n  </tbody>\n</table>\n<p>290120 rows × 92 columns</p>\n</div>"
     },
     "execution_count": 148,
     "metadata": {},
     "output_type": "execute_result"
    }
   ],
   "source": [
    "cat_features = [col for col in test_df_filled.columns if test_df_filled[col].dtype.name == 'category' or test_df_filled[col].dtype.name == 'object']\n",
    "for col in cat_features:\n",
    "    test_df_filled[col] = test_df_filled[col].astype('category')\n",
    "cat_features = [col for col in test_df_filled.columns if test_df_filled[col].dtype.name == 'category' or test_df_filled[col].dtype.name == 'object']\n",
    "for col in cat_features:\n",
    "    #if col==\"start_cluster\":\n",
    "    #    continue\n",
    "    test_df_filled[col] = test_df_filled[col].cat.add_categories('Missing').fillna('Missing')\n",
    "last_m_test_df = test_df_filled[test_df_filled[\"date\"] == \"month_6\"]\n",
    "X_start = last_m_test_df.drop([\"id\", \"date\"], axis=1)\n",
    "test_df_filled\n"
   ],
   "metadata": {
    "collapsed": false,
    "ExecuteTime": {
     "end_time": "2024-03-11T16:42:04.229991Z",
     "start_time": "2024-03-11T16:42:03.986743200Z"
    }
   }
  },
  {
   "cell_type": "code",
   "execution_count": 149,
   "outputs": [
    {
     "data": {
      "text/plain": "        balance_amt_avg  balance_amt_max  balance_amt_min  \\\n2              0.045988         0.049418        -0.125995   \n5             -0.156722        -0.204920        -0.125856   \n8             -0.048015         0.448252        -0.125995   \n11            -0.156579        -0.204813        -0.125501   \n13            -0.153379        -0.201932        -0.125995   \n...                 ...              ...              ...   \n290108        -0.153707        -0.202806        -0.125498   \n290111        -0.154929        -0.197878        -0.125873   \n290114        -0.105294        -0.141429        -0.104590   \n290116        -0.155350        -0.203711        -0.125995   \n290119        -0.141660        -0.156818        -0.125894   \n\n        balance_amt_day_avg     channel_code     city    city_type  \\\n2                  0.047079  channel_code_12  city_14  city_type_0   \n5                 -0.156258   channel_code_9  city_76  city_type_0   \n8                 -0.047215  channel_code_12  city_14  city_type_0   \n11                -0.156115   channel_code_7  city_31  city_type_0   \n13                -0.154155   channel_code_7  Missing      Missing   \n...                     ...              ...      ...          ...   \n290108            -0.153234  channel_code_14  city_22  city_type_0   \n290111            -0.154459   channel_code_1  city_96  city_type_0   \n290114            -0.104671  channel_code_17  city_85  city_type_0   \n290116            -0.155980   channel_code_9  city_25  city_type_0   \n290119            -0.141149   channel_code_9   city_6  city_type_0   \n\n            index_city_code  ogrn_days_end_month  ogrn_days_end_quarter  ...  \\\n2                   Missing            -1.533705              -1.683741  ...   \n5                   Missing             0.092087               1.220030  ...   \n8        index_city_code_78            -1.069193              -1.528873  ...   \n11                  Missing            -0.256297              -1.257854  ...   \n13                  Missing             0.672727               1.413615  ...   \n...                     ...                  ...                    ...  ...   \n290108   index_city_code_29             1.601751              -0.638383  ...   \n290111   index_city_code_66            -0.604681               0.987728  ...   \n290114  index_city_code_103             0.440471               1.336181  ...   \n290116   index_city_code_30             0.672727              -0.948119  ...   \n290119   index_city_code_34            -1.185321              -0.406082  ...   \n\n       sum_cred_g_oper_3m cnt_cred_g_oper_3m  cnt_days_cred_g_oper_3m  \\\n2                0.006812           0.945281                 0.396267   \n5               -0.028584                NaN                      NaN   \n8                0.123154           0.946850                 0.453739   \n11              -0.028584                NaN                      NaN   \n13              -0.027573           0.944889                 0.396267   \n...                   ...                ...                      ...   \n290108          -0.028584                NaN                      NaN   \n290111          -0.028584           0.944497                 0.384773   \n290114          -0.028584           0.944497                 0.384773   \n290116          -0.028584           0.944497                 0.384773   \n290119          -0.028584           0.944497                 0.384773   \n\n        sum_deb_h_oper_3m  cnt_deb_h_oper_3m  cnt_days_deb_h_oper_3m  \\\n2               -0.152800           0.549468                0.541020   \n5               -0.165588                NaN                     NaN   \n8                2.614870           0.565087                0.818798   \n11              -0.165588                NaN                     NaN   \n13              -0.165324           0.547032                0.418798   \n...                   ...                ...                     ...   \n290108          -0.165588                NaN                     NaN   \n290111          -0.155776           0.549755                0.507687   \n290114           0.087901           0.551904                0.685465   \n290116          -0.165588           0.546889                0.407687   \n290119          -0.028842           0.556919                0.796576   \n\n       sum_cred_h_oper_3m cnt_cred_h_oper_3m  cnt_days_cred_h_oper_3m  \\\n2                0.387566           0.268543                 0.836079   \n5               -0.201123                NaN                      NaN   \n8                4.449125           0.258723                 0.627287   \n11              -0.201123                NaN                      NaN   \n13              -0.201123           0.250924                 0.374540   \n...                   ...                ...                      ...   \n290108          -0.201123                NaN                      NaN   \n290111          -0.191186           0.252657                 0.440474   \n290114           0.090620           0.258723                 0.594320   \n290116          -0.201123           0.250924                 0.374540   \n290119          -0.011582           0.254101                 0.495419   \n\n        start_cluster  \n2                 {α}  \n5                 {α}  \n8             {other}  \n11                {α}  \n13                {α}  \n...               ...  \n290108            {α}  \n290111            {α}  \n290114            {α}  \n290116            {α}  \n290119            {α}  \n\n[100000 rows x 90 columns]",
      "text/html": "<div>\n<style scoped>\n    .dataframe tbody tr th:only-of-type {\n        vertical-align: middle;\n    }\n\n    .dataframe tbody tr th {\n        vertical-align: top;\n    }\n\n    .dataframe thead th {\n        text-align: right;\n    }\n</style>\n<table border=\"1\" class=\"dataframe\">\n  <thead>\n    <tr style=\"text-align: right;\">\n      <th></th>\n      <th>balance_amt_avg</th>\n      <th>balance_amt_max</th>\n      <th>balance_amt_min</th>\n      <th>balance_amt_day_avg</th>\n      <th>channel_code</th>\n      <th>city</th>\n      <th>city_type</th>\n      <th>index_city_code</th>\n      <th>ogrn_days_end_month</th>\n      <th>ogrn_days_end_quarter</th>\n      <th>...</th>\n      <th>sum_cred_g_oper_3m</th>\n      <th>cnt_cred_g_oper_3m</th>\n      <th>cnt_days_cred_g_oper_3m</th>\n      <th>sum_deb_h_oper_3m</th>\n      <th>cnt_deb_h_oper_3m</th>\n      <th>cnt_days_deb_h_oper_3m</th>\n      <th>sum_cred_h_oper_3m</th>\n      <th>cnt_cred_h_oper_3m</th>\n      <th>cnt_days_cred_h_oper_3m</th>\n      <th>start_cluster</th>\n    </tr>\n  </thead>\n  <tbody>\n    <tr>\n      <th>2</th>\n      <td>0.045988</td>\n      <td>0.049418</td>\n      <td>-0.125995</td>\n      <td>0.047079</td>\n      <td>channel_code_12</td>\n      <td>city_14</td>\n      <td>city_type_0</td>\n      <td>Missing</td>\n      <td>-1.533705</td>\n      <td>-1.683741</td>\n      <td>...</td>\n      <td>0.006812</td>\n      <td>0.945281</td>\n      <td>0.396267</td>\n      <td>-0.152800</td>\n      <td>0.549468</td>\n      <td>0.541020</td>\n      <td>0.387566</td>\n      <td>0.268543</td>\n      <td>0.836079</td>\n      <td>{α}</td>\n    </tr>\n    <tr>\n      <th>5</th>\n      <td>-0.156722</td>\n      <td>-0.204920</td>\n      <td>-0.125856</td>\n      <td>-0.156258</td>\n      <td>channel_code_9</td>\n      <td>city_76</td>\n      <td>city_type_0</td>\n      <td>Missing</td>\n      <td>0.092087</td>\n      <td>1.220030</td>\n      <td>...</td>\n      <td>-0.028584</td>\n      <td>NaN</td>\n      <td>NaN</td>\n      <td>-0.165588</td>\n      <td>NaN</td>\n      <td>NaN</td>\n      <td>-0.201123</td>\n      <td>NaN</td>\n      <td>NaN</td>\n      <td>{α}</td>\n    </tr>\n    <tr>\n      <th>8</th>\n      <td>-0.048015</td>\n      <td>0.448252</td>\n      <td>-0.125995</td>\n      <td>-0.047215</td>\n      <td>channel_code_12</td>\n      <td>city_14</td>\n      <td>city_type_0</td>\n      <td>index_city_code_78</td>\n      <td>-1.069193</td>\n      <td>-1.528873</td>\n      <td>...</td>\n      <td>0.123154</td>\n      <td>0.946850</td>\n      <td>0.453739</td>\n      <td>2.614870</td>\n      <td>0.565087</td>\n      <td>0.818798</td>\n      <td>4.449125</td>\n      <td>0.258723</td>\n      <td>0.627287</td>\n      <td>{other}</td>\n    </tr>\n    <tr>\n      <th>11</th>\n      <td>-0.156579</td>\n      <td>-0.204813</td>\n      <td>-0.125501</td>\n      <td>-0.156115</td>\n      <td>channel_code_7</td>\n      <td>city_31</td>\n      <td>city_type_0</td>\n      <td>Missing</td>\n      <td>-0.256297</td>\n      <td>-1.257854</td>\n      <td>...</td>\n      <td>-0.028584</td>\n      <td>NaN</td>\n      <td>NaN</td>\n      <td>-0.165588</td>\n      <td>NaN</td>\n      <td>NaN</td>\n      <td>-0.201123</td>\n      <td>NaN</td>\n      <td>NaN</td>\n      <td>{α}</td>\n    </tr>\n    <tr>\n      <th>13</th>\n      <td>-0.153379</td>\n      <td>-0.201932</td>\n      <td>-0.125995</td>\n      <td>-0.154155</td>\n      <td>channel_code_7</td>\n      <td>Missing</td>\n      <td>Missing</td>\n      <td>Missing</td>\n      <td>0.672727</td>\n      <td>1.413615</td>\n      <td>...</td>\n      <td>-0.027573</td>\n      <td>0.944889</td>\n      <td>0.396267</td>\n      <td>-0.165324</td>\n      <td>0.547032</td>\n      <td>0.418798</td>\n      <td>-0.201123</td>\n      <td>0.250924</td>\n      <td>0.374540</td>\n      <td>{α}</td>\n    </tr>\n    <tr>\n      <th>...</th>\n      <td>...</td>\n      <td>...</td>\n      <td>...</td>\n      <td>...</td>\n      <td>...</td>\n      <td>...</td>\n      <td>...</td>\n      <td>...</td>\n      <td>...</td>\n      <td>...</td>\n      <td>...</td>\n      <td>...</td>\n      <td>...</td>\n      <td>...</td>\n      <td>...</td>\n      <td>...</td>\n      <td>...</td>\n      <td>...</td>\n      <td>...</td>\n      <td>...</td>\n      <td>...</td>\n    </tr>\n    <tr>\n      <th>290108</th>\n      <td>-0.153707</td>\n      <td>-0.202806</td>\n      <td>-0.125498</td>\n      <td>-0.153234</td>\n      <td>channel_code_14</td>\n      <td>city_22</td>\n      <td>city_type_0</td>\n      <td>index_city_code_29</td>\n      <td>1.601751</td>\n      <td>-0.638383</td>\n      <td>...</td>\n      <td>-0.028584</td>\n      <td>NaN</td>\n      <td>NaN</td>\n      <td>-0.165588</td>\n      <td>NaN</td>\n      <td>NaN</td>\n      <td>-0.201123</td>\n      <td>NaN</td>\n      <td>NaN</td>\n      <td>{α}</td>\n    </tr>\n    <tr>\n      <th>290111</th>\n      <td>-0.154929</td>\n      <td>-0.197878</td>\n      <td>-0.125873</td>\n      <td>-0.154459</td>\n      <td>channel_code_1</td>\n      <td>city_96</td>\n      <td>city_type_0</td>\n      <td>index_city_code_66</td>\n      <td>-0.604681</td>\n      <td>0.987728</td>\n      <td>...</td>\n      <td>-0.028584</td>\n      <td>0.944497</td>\n      <td>0.384773</td>\n      <td>-0.155776</td>\n      <td>0.549755</td>\n      <td>0.507687</td>\n      <td>-0.191186</td>\n      <td>0.252657</td>\n      <td>0.440474</td>\n      <td>{α}</td>\n    </tr>\n    <tr>\n      <th>290114</th>\n      <td>-0.105294</td>\n      <td>-0.141429</td>\n      <td>-0.104590</td>\n      <td>-0.104671</td>\n      <td>channel_code_17</td>\n      <td>city_85</td>\n      <td>city_type_0</td>\n      <td>index_city_code_103</td>\n      <td>0.440471</td>\n      <td>1.336181</td>\n      <td>...</td>\n      <td>-0.028584</td>\n      <td>0.944497</td>\n      <td>0.384773</td>\n      <td>0.087901</td>\n      <td>0.551904</td>\n      <td>0.685465</td>\n      <td>0.090620</td>\n      <td>0.258723</td>\n      <td>0.594320</td>\n      <td>{α}</td>\n    </tr>\n    <tr>\n      <th>290116</th>\n      <td>-0.155350</td>\n      <td>-0.203711</td>\n      <td>-0.125995</td>\n      <td>-0.155980</td>\n      <td>channel_code_9</td>\n      <td>city_25</td>\n      <td>city_type_0</td>\n      <td>index_city_code_30</td>\n      <td>0.672727</td>\n      <td>-0.948119</td>\n      <td>...</td>\n      <td>-0.028584</td>\n      <td>0.944497</td>\n      <td>0.384773</td>\n      <td>-0.165588</td>\n      <td>0.546889</td>\n      <td>0.407687</td>\n      <td>-0.201123</td>\n      <td>0.250924</td>\n      <td>0.374540</td>\n      <td>{α}</td>\n    </tr>\n    <tr>\n      <th>290119</th>\n      <td>-0.141660</td>\n      <td>-0.156818</td>\n      <td>-0.125894</td>\n      <td>-0.141149</td>\n      <td>channel_code_9</td>\n      <td>city_6</td>\n      <td>city_type_0</td>\n      <td>index_city_code_34</td>\n      <td>-1.185321</td>\n      <td>-0.406082</td>\n      <td>...</td>\n      <td>-0.028584</td>\n      <td>0.944497</td>\n      <td>0.384773</td>\n      <td>-0.028842</td>\n      <td>0.556919</td>\n      <td>0.796576</td>\n      <td>-0.011582</td>\n      <td>0.254101</td>\n      <td>0.495419</td>\n      <td>{α}</td>\n    </tr>\n  </tbody>\n</table>\n<p>100000 rows × 90 columns</p>\n</div>"
     },
     "execution_count": 149,
     "metadata": {},
     "output_type": "execute_result"
    }
   ],
   "source": [
    "X_start"
   ],
   "metadata": {
    "collapsed": false,
    "ExecuteTime": {
     "end_time": "2024-03-11T16:42:07.395185Z",
     "start_time": "2024-03-11T16:42:07.346448300Z"
    }
   }
  },
  {
   "cell_type": "code",
   "execution_count": 123,
   "outputs": [
    {
     "data": {
      "text/plain": "<catboost.core.CatBoostClassifier at 0x1f299ecf910>"
     },
     "execution_count": 123,
     "metadata": {},
     "output_type": "execute_result"
    }
   ],
   "source": [
    "cat_model_end = CatBoostClassifier()\n",
    "cat_model_end.load_model(\"../models/catboost_end_0.9882.cbm\")"
   ],
   "metadata": {
    "collapsed": false,
    "ExecuteTime": {
     "end_time": "2024-03-11T16:04:22.621655800Z",
     "start_time": "2024-03-11T16:04:22.616288700Z"
    }
   }
  },
  {
   "cell_type": "markdown",
   "source": [
    "# Submission files"
   ],
   "metadata": {
    "collapsed": false
   }
  },
  {
   "cell_type": "code",
   "execution_count": 150,
   "outputs": [],
   "source": [
    "sample_submission_df = pd.read_csv(\"../data/sample_submission.csv\")"
   ],
   "metadata": {
    "collapsed": false,
    "ExecuteTime": {
     "end_time": "2024-03-11T16:42:19.822615400Z",
     "start_time": "2024-03-11T16:42:19.731681100Z"
    }
   }
  },
  {
   "cell_type": "code",
   "execution_count": 87,
   "outputs": [
    {
     "data": {
      "text/plain": "        balance_amt_avg  balance_amt_max  balance_amt_min  \\\n2              0.045988         0.049418        -0.125995   \n5             -0.156722        -0.204920        -0.125856   \n8             -0.048015         0.448252        -0.125995   \n11            -0.156579        -0.204813        -0.125501   \n13            -0.153379        -0.201932        -0.125995   \n...                 ...              ...              ...   \n290108        -0.153707        -0.202806        -0.125498   \n290111        -0.154929        -0.197878        -0.125873   \n290114        -0.105294        -0.141429        -0.104590   \n290116        -0.155350        -0.203711        -0.125995   \n290119        -0.141660        -0.156818        -0.125894   \n\n        balance_amt_day_avg     channel_code     city    city_type  \\\n2                  0.047079  channel_code_12  city_14  city_type_0   \n5                 -0.156258   channel_code_9  city_76  city_type_0   \n8                 -0.047215  channel_code_12  city_14  city_type_0   \n11                -0.156115   channel_code_7  city_31  city_type_0   \n13                -0.154155   channel_code_7  Missing      Missing   \n...                     ...              ...      ...          ...   \n290108            -0.153234  channel_code_14  city_22  city_type_0   \n290111            -0.154459   channel_code_1  city_96  city_type_0   \n290114            -0.104671  channel_code_17  city_85  city_type_0   \n290116            -0.155980   channel_code_9  city_25  city_type_0   \n290119            -0.141149   channel_code_9   city_6  city_type_0   \n\n            index_city_code  ogrn_days_end_month  ogrn_days_end_quarter  ...  \\\n2                   Missing            -1.533705              -1.683741  ...   \n5                   Missing             0.092087               1.220030  ...   \n8        index_city_code_78            -1.069193              -1.528873  ...   \n11                  Missing            -0.256297              -1.257854  ...   \n13                  Missing             0.672727               1.413615  ...   \n...                     ...                  ...                    ...  ...   \n290108   index_city_code_29             1.601751              -0.638383  ...   \n290111   index_city_code_66            -0.604681               0.987728  ...   \n290114  index_city_code_103             0.440471               1.336181  ...   \n290116   index_city_code_30             0.672727              -0.948119  ...   \n290119   index_city_code_34            -1.185321              -0.406082  ...   \n\n       sum_cred_g_oper_3m cnt_cred_g_oper_3m  cnt_days_cred_g_oper_3m  \\\n2                0.006812           0.945281                 0.396267   \n5               -0.028584                NaN                      NaN   \n8                0.123154           0.946850                 0.453739   \n11              -0.028584                NaN                      NaN   \n13              -0.027573           0.944889                 0.396267   \n...                   ...                ...                      ...   \n290108          -0.028584                NaN                      NaN   \n290111          -0.028584           0.944497                 0.384773   \n290114          -0.028584           0.944497                 0.384773   \n290116          -0.028584           0.944497                 0.384773   \n290119          -0.028584           0.944497                 0.384773   \n\n        sum_deb_h_oper_3m  cnt_deb_h_oper_3m  cnt_days_deb_h_oper_3m  \\\n2               -0.152800           0.549468                0.541020   \n5               -0.165588                NaN                     NaN   \n8                2.614870           0.565087                0.818798   \n11              -0.165588                NaN                     NaN   \n13              -0.165324           0.547032                0.418798   \n...                   ...                ...                     ...   \n290108          -0.165588                NaN                     NaN   \n290111          -0.155776           0.549755                0.507687   \n290114           0.087901           0.551904                0.685465   \n290116          -0.165588           0.546889                0.407687   \n290119          -0.028842           0.556919                0.796576   \n\n       sum_cred_h_oper_3m cnt_cred_h_oper_3m  cnt_days_cred_h_oper_3m  \\\n2                0.387566           0.268543                 0.836079   \n5               -0.201123                NaN                      NaN   \n8                4.449125           0.258723                 0.627287   \n11              -0.201123                NaN                      NaN   \n13              -0.201123           0.250924                 0.374540   \n...                   ...                ...                      ...   \n290108          -0.201123                NaN                      NaN   \n290111          -0.191186           0.252657                 0.440474   \n290114           0.090620           0.258723                 0.594320   \n290116          -0.201123           0.250924                 0.374540   \n290119          -0.011582           0.254101                 0.495419   \n\n        start_cluster  \n2                 {α}  \n5                 {α}  \n8             {other}  \n11                {α}  \n13                {α}  \n...               ...  \n290108            {α}  \n290111            {α}  \n290114            {α}  \n290116            {α}  \n290119            {α}  \n\n[100000 rows x 90 columns]",
      "text/html": "<div>\n<style scoped>\n    .dataframe tbody tr th:only-of-type {\n        vertical-align: middle;\n    }\n\n    .dataframe tbody tr th {\n        vertical-align: top;\n    }\n\n    .dataframe thead th {\n        text-align: right;\n    }\n</style>\n<table border=\"1\" class=\"dataframe\">\n  <thead>\n    <tr style=\"text-align: right;\">\n      <th></th>\n      <th>balance_amt_avg</th>\n      <th>balance_amt_max</th>\n      <th>balance_amt_min</th>\n      <th>balance_amt_day_avg</th>\n      <th>channel_code</th>\n      <th>city</th>\n      <th>city_type</th>\n      <th>index_city_code</th>\n      <th>ogrn_days_end_month</th>\n      <th>ogrn_days_end_quarter</th>\n      <th>...</th>\n      <th>sum_cred_g_oper_3m</th>\n      <th>cnt_cred_g_oper_3m</th>\n      <th>cnt_days_cred_g_oper_3m</th>\n      <th>sum_deb_h_oper_3m</th>\n      <th>cnt_deb_h_oper_3m</th>\n      <th>cnt_days_deb_h_oper_3m</th>\n      <th>sum_cred_h_oper_3m</th>\n      <th>cnt_cred_h_oper_3m</th>\n      <th>cnt_days_cred_h_oper_3m</th>\n      <th>start_cluster</th>\n    </tr>\n  </thead>\n  <tbody>\n    <tr>\n      <th>2</th>\n      <td>0.045988</td>\n      <td>0.049418</td>\n      <td>-0.125995</td>\n      <td>0.047079</td>\n      <td>channel_code_12</td>\n      <td>city_14</td>\n      <td>city_type_0</td>\n      <td>Missing</td>\n      <td>-1.533705</td>\n      <td>-1.683741</td>\n      <td>...</td>\n      <td>0.006812</td>\n      <td>0.945281</td>\n      <td>0.396267</td>\n      <td>-0.152800</td>\n      <td>0.549468</td>\n      <td>0.541020</td>\n      <td>0.387566</td>\n      <td>0.268543</td>\n      <td>0.836079</td>\n      <td>{α}</td>\n    </tr>\n    <tr>\n      <th>5</th>\n      <td>-0.156722</td>\n      <td>-0.204920</td>\n      <td>-0.125856</td>\n      <td>-0.156258</td>\n      <td>channel_code_9</td>\n      <td>city_76</td>\n      <td>city_type_0</td>\n      <td>Missing</td>\n      <td>0.092087</td>\n      <td>1.220030</td>\n      <td>...</td>\n      <td>-0.028584</td>\n      <td>NaN</td>\n      <td>NaN</td>\n      <td>-0.165588</td>\n      <td>NaN</td>\n      <td>NaN</td>\n      <td>-0.201123</td>\n      <td>NaN</td>\n      <td>NaN</td>\n      <td>{α}</td>\n    </tr>\n    <tr>\n      <th>8</th>\n      <td>-0.048015</td>\n      <td>0.448252</td>\n      <td>-0.125995</td>\n      <td>-0.047215</td>\n      <td>channel_code_12</td>\n      <td>city_14</td>\n      <td>city_type_0</td>\n      <td>index_city_code_78</td>\n      <td>-1.069193</td>\n      <td>-1.528873</td>\n      <td>...</td>\n      <td>0.123154</td>\n      <td>0.946850</td>\n      <td>0.453739</td>\n      <td>2.614870</td>\n      <td>0.565087</td>\n      <td>0.818798</td>\n      <td>4.449125</td>\n      <td>0.258723</td>\n      <td>0.627287</td>\n      <td>{other}</td>\n    </tr>\n    <tr>\n      <th>11</th>\n      <td>-0.156579</td>\n      <td>-0.204813</td>\n      <td>-0.125501</td>\n      <td>-0.156115</td>\n      <td>channel_code_7</td>\n      <td>city_31</td>\n      <td>city_type_0</td>\n      <td>Missing</td>\n      <td>-0.256297</td>\n      <td>-1.257854</td>\n      <td>...</td>\n      <td>-0.028584</td>\n      <td>NaN</td>\n      <td>NaN</td>\n      <td>-0.165588</td>\n      <td>NaN</td>\n      <td>NaN</td>\n      <td>-0.201123</td>\n      <td>NaN</td>\n      <td>NaN</td>\n      <td>{α}</td>\n    </tr>\n    <tr>\n      <th>13</th>\n      <td>-0.153379</td>\n      <td>-0.201932</td>\n      <td>-0.125995</td>\n      <td>-0.154155</td>\n      <td>channel_code_7</td>\n      <td>Missing</td>\n      <td>Missing</td>\n      <td>Missing</td>\n      <td>0.672727</td>\n      <td>1.413615</td>\n      <td>...</td>\n      <td>-0.027573</td>\n      <td>0.944889</td>\n      <td>0.396267</td>\n      <td>-0.165324</td>\n      <td>0.547032</td>\n      <td>0.418798</td>\n      <td>-0.201123</td>\n      <td>0.250924</td>\n      <td>0.374540</td>\n      <td>{α}</td>\n    </tr>\n    <tr>\n      <th>...</th>\n      <td>...</td>\n      <td>...</td>\n      <td>...</td>\n      <td>...</td>\n      <td>...</td>\n      <td>...</td>\n      <td>...</td>\n      <td>...</td>\n      <td>...</td>\n      <td>...</td>\n      <td>...</td>\n      <td>...</td>\n      <td>...</td>\n      <td>...</td>\n      <td>...</td>\n      <td>...</td>\n      <td>...</td>\n      <td>...</td>\n      <td>...</td>\n      <td>...</td>\n      <td>...</td>\n    </tr>\n    <tr>\n      <th>290108</th>\n      <td>-0.153707</td>\n      <td>-0.202806</td>\n      <td>-0.125498</td>\n      <td>-0.153234</td>\n      <td>channel_code_14</td>\n      <td>city_22</td>\n      <td>city_type_0</td>\n      <td>index_city_code_29</td>\n      <td>1.601751</td>\n      <td>-0.638383</td>\n      <td>...</td>\n      <td>-0.028584</td>\n      <td>NaN</td>\n      <td>NaN</td>\n      <td>-0.165588</td>\n      <td>NaN</td>\n      <td>NaN</td>\n      <td>-0.201123</td>\n      <td>NaN</td>\n      <td>NaN</td>\n      <td>{α}</td>\n    </tr>\n    <tr>\n      <th>290111</th>\n      <td>-0.154929</td>\n      <td>-0.197878</td>\n      <td>-0.125873</td>\n      <td>-0.154459</td>\n      <td>channel_code_1</td>\n      <td>city_96</td>\n      <td>city_type_0</td>\n      <td>index_city_code_66</td>\n      <td>-0.604681</td>\n      <td>0.987728</td>\n      <td>...</td>\n      <td>-0.028584</td>\n      <td>0.944497</td>\n      <td>0.384773</td>\n      <td>-0.155776</td>\n      <td>0.549755</td>\n      <td>0.507687</td>\n      <td>-0.191186</td>\n      <td>0.252657</td>\n      <td>0.440474</td>\n      <td>{α}</td>\n    </tr>\n    <tr>\n      <th>290114</th>\n      <td>-0.105294</td>\n      <td>-0.141429</td>\n      <td>-0.104590</td>\n      <td>-0.104671</td>\n      <td>channel_code_17</td>\n      <td>city_85</td>\n      <td>city_type_0</td>\n      <td>index_city_code_103</td>\n      <td>0.440471</td>\n      <td>1.336181</td>\n      <td>...</td>\n      <td>-0.028584</td>\n      <td>0.944497</td>\n      <td>0.384773</td>\n      <td>0.087901</td>\n      <td>0.551904</td>\n      <td>0.685465</td>\n      <td>0.090620</td>\n      <td>0.258723</td>\n      <td>0.594320</td>\n      <td>{α}</td>\n    </tr>\n    <tr>\n      <th>290116</th>\n      <td>-0.155350</td>\n      <td>-0.203711</td>\n      <td>-0.125995</td>\n      <td>-0.155980</td>\n      <td>channel_code_9</td>\n      <td>city_25</td>\n      <td>city_type_0</td>\n      <td>index_city_code_30</td>\n      <td>0.672727</td>\n      <td>-0.948119</td>\n      <td>...</td>\n      <td>-0.028584</td>\n      <td>0.944497</td>\n      <td>0.384773</td>\n      <td>-0.165588</td>\n      <td>0.546889</td>\n      <td>0.407687</td>\n      <td>-0.201123</td>\n      <td>0.250924</td>\n      <td>0.374540</td>\n      <td>{α}</td>\n    </tr>\n    <tr>\n      <th>290119</th>\n      <td>-0.141660</td>\n      <td>-0.156818</td>\n      <td>-0.125894</td>\n      <td>-0.141149</td>\n      <td>channel_code_9</td>\n      <td>city_6</td>\n      <td>city_type_0</td>\n      <td>index_city_code_34</td>\n      <td>-1.185321</td>\n      <td>-0.406082</td>\n      <td>...</td>\n      <td>-0.028584</td>\n      <td>0.944497</td>\n      <td>0.384773</td>\n      <td>-0.028842</td>\n      <td>0.556919</td>\n      <td>0.796576</td>\n      <td>-0.011582</td>\n      <td>0.254101</td>\n      <td>0.495419</td>\n      <td>{α}</td>\n    </tr>\n  </tbody>\n</table>\n<p>100000 rows × 90 columns</p>\n</div>"
     },
     "execution_count": 87,
     "metadata": {},
     "output_type": "execute_result"
    }
   ],
   "source": [
    "X_start"
   ],
   "metadata": {
    "collapsed": false,
    "ExecuteTime": {
     "end_time": "2024-03-11T08:26:55.599368300Z",
     "start_time": "2024-03-11T08:26:55.543073900Z"
    }
   }
  },
  {
   "cell_type": "code",
   "execution_count": 151,
   "outputs": [],
   "source": [
    "test_pred_proba = cat_model_end.predict_proba(X_start)\n",
    "test_pred_proba_df = pd.DataFrame(test_pred_proba, columns=cat_model_end.classes_)\n",
    "sorted_classes = sorted(test_pred_proba_df.columns.to_list())\n",
    "test_pred_proba_df = test_pred_proba_df[sorted_classes]"
   ],
   "metadata": {
    "collapsed": false,
    "ExecuteTime": {
     "end_time": "2024-03-11T16:42:23.082098200Z",
     "start_time": "2024-03-11T16:42:22.796552700Z"
    }
   }
  },
  {
   "cell_type": "code",
   "execution_count": 152,
   "outputs": [
    {
     "data": {
      "text/plain": "(100000, 17)"
     },
     "execution_count": 152,
     "metadata": {},
     "output_type": "execute_result"
    }
   ],
   "source": [
    "test_pred_proba_df.shape"
   ],
   "metadata": {
    "collapsed": false,
    "ExecuteTime": {
     "end_time": "2024-03-11T16:42:24.503204800Z",
     "start_time": "2024-03-11T16:42:24.482144500Z"
    }
   }
  },
  {
   "cell_type": "code",
   "execution_count": 153,
   "outputs": [
    {
     "data": {
      "text/plain": "    {other}        {}    {α, β}    {α, γ}    {α, δ}  {α, ε, η}  {α, ε, θ}  \\\n0  0.000299  0.000519  0.000310  0.002178  0.000085   0.000024   0.000016   \n1  0.000221  0.633015  0.000104  0.000475  0.000018   0.000003   0.000009   \n2  0.798937  0.000763  0.000930  0.032744  0.000747   0.001122   0.000268   \n\n      {α, ε, ψ}    {α, ε}    {α, η}    {α, θ}    {α, λ}    {α, μ}  \\\n0  1.777243e-05  0.000793  0.000196  0.000181  0.000015  0.000075   \n1  6.062138e-07  0.000005  0.002444  0.000020  0.000007  0.000073   \n2  7.502498e-04  0.024940  0.014185  0.011460  0.001358  0.000229   \n\n         {α, π}    {α, ψ}       {α}       {λ}  \n0  2.187320e-06  0.000492  0.994793  0.000004  \n1  1.286191e-07  0.000033  0.363571  0.000001  \n2  3.689307e-05  0.008196  0.103255  0.000076  ",
      "text/html": "<div>\n<style scoped>\n    .dataframe tbody tr th:only-of-type {\n        vertical-align: middle;\n    }\n\n    .dataframe tbody tr th {\n        vertical-align: top;\n    }\n\n    .dataframe thead th {\n        text-align: right;\n    }\n</style>\n<table border=\"1\" class=\"dataframe\">\n  <thead>\n    <tr style=\"text-align: right;\">\n      <th></th>\n      <th>{other}</th>\n      <th>{}</th>\n      <th>{α, β}</th>\n      <th>{α, γ}</th>\n      <th>{α, δ}</th>\n      <th>{α, ε, η}</th>\n      <th>{α, ε, θ}</th>\n      <th>{α, ε, ψ}</th>\n      <th>{α, ε}</th>\n      <th>{α, η}</th>\n      <th>{α, θ}</th>\n      <th>{α, λ}</th>\n      <th>{α, μ}</th>\n      <th>{α, π}</th>\n      <th>{α, ψ}</th>\n      <th>{α}</th>\n      <th>{λ}</th>\n    </tr>\n  </thead>\n  <tbody>\n    <tr>\n      <th>0</th>\n      <td>0.000299</td>\n      <td>0.000519</td>\n      <td>0.000310</td>\n      <td>0.002178</td>\n      <td>0.000085</td>\n      <td>0.000024</td>\n      <td>0.000016</td>\n      <td>1.777243e-05</td>\n      <td>0.000793</td>\n      <td>0.000196</td>\n      <td>0.000181</td>\n      <td>0.000015</td>\n      <td>0.000075</td>\n      <td>2.187320e-06</td>\n      <td>0.000492</td>\n      <td>0.994793</td>\n      <td>0.000004</td>\n    </tr>\n    <tr>\n      <th>1</th>\n      <td>0.000221</td>\n      <td>0.633015</td>\n      <td>0.000104</td>\n      <td>0.000475</td>\n      <td>0.000018</td>\n      <td>0.000003</td>\n      <td>0.000009</td>\n      <td>6.062138e-07</td>\n      <td>0.000005</td>\n      <td>0.002444</td>\n      <td>0.000020</td>\n      <td>0.000007</td>\n      <td>0.000073</td>\n      <td>1.286191e-07</td>\n      <td>0.000033</td>\n      <td>0.363571</td>\n      <td>0.000001</td>\n    </tr>\n    <tr>\n      <th>2</th>\n      <td>0.798937</td>\n      <td>0.000763</td>\n      <td>0.000930</td>\n      <td>0.032744</td>\n      <td>0.000747</td>\n      <td>0.001122</td>\n      <td>0.000268</td>\n      <td>7.502498e-04</td>\n      <td>0.024940</td>\n      <td>0.014185</td>\n      <td>0.011460</td>\n      <td>0.001358</td>\n      <td>0.000229</td>\n      <td>3.689307e-05</td>\n      <td>0.008196</td>\n      <td>0.103255</td>\n      <td>0.000076</td>\n    </tr>\n  </tbody>\n</table>\n</div>"
     },
     "execution_count": 153,
     "metadata": {},
     "output_type": "execute_result"
    }
   ],
   "source": [
    "test_pred_proba_df.head(3)"
   ],
   "metadata": {
    "collapsed": false,
    "ExecuteTime": {
     "end_time": "2024-03-11T16:42:26.710959800Z",
     "start_time": "2024-03-11T16:42:26.684862300Z"
    }
   }
  },
  {
   "cell_type": "code",
   "execution_count": 154,
   "outputs": [],
   "source": [
    "sample_submission_df[sorted_classes] = test_pred_proba_df\n",
    "sample_submission_df.to_csv(\"../submissions/submission6_Timur_model_sup.csv\", index=False)"
   ],
   "metadata": {
    "collapsed": false,
    "ExecuteTime": {
     "end_time": "2024-03-11T16:42:45.196510200Z",
     "start_time": "2024-03-11T16:42:42.751513Z"
    }
   }
  }
 ],
 "metadata": {
  "kernelspec": {
   "display_name": "Python 3",
   "language": "python",
   "name": "python3"
  },
  "language_info": {
   "codemirror_mode": {
    "name": "ipython",
    "version": 2
   },
   "file_extension": ".py",
   "mimetype": "text/x-python",
   "name": "python",
   "nbconvert_exporter": "python",
   "pygments_lexer": "ipython2",
   "version": "2.7.6"
  }
 },
 "nbformat": 4,
 "nbformat_minor": 0
}
